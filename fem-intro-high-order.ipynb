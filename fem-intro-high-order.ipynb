{
 "cells": [
  {
   "cell_type": "markdown",
   "metadata": {
    "slideshow": {
     "slide_type": "slide"
    }
   },
   "source": [
    "# High-Order Example"
   ]
  },
  {
   "cell_type": "markdown",
   "metadata": {},
   "source": [
    "[![Binder](https://mybinder.org/badge_logo.svg)](https://mybinder.org/v2/gh/teseoch/fem-intro/master?filepath=fem-intro-high-order.ipynb)\n",
    "![](QR-ho.png)\n",
    "Run it with binder!"
   ]
  },
  {
   "cell_type": "code",
   "execution_count": 1,
   "metadata": {
    "slideshow": {
     "slide_type": "slide"
    }
   },
   "outputs": [
    {
     "data": {
      "text/html": [
       "        <script type=\"text/javascript\">\n",
       "        window.PlotlyConfig = {MathJaxConfig: 'local'};\n",
       "        if (window.MathJax) {MathJax.Hub.Config({SVG: {font: \"STIX-Web\"}});}\n",
       "        if (typeof require !== 'undefined') {\n",
       "        require.undef(\"plotly\");\n",
       "        requirejs.config({\n",
       "            paths: {\n",
       "                'plotly': ['https://cdn.plot.ly/plotly-latest.min']\n",
       "            }\n",
       "        });\n",
       "        require(['plotly'], function(Plotly) {\n",
       "            window._Plotly = Plotly;\n",
       "        });\n",
       "        }\n",
       "        </script>\n",
       "        "
      ]
     },
     "metadata": {},
     "output_type": "display_data"
    }
   ],
   "source": [
    "import numpy as np\n",
    "import scipy.sparse as spr\n",
    "from scipy.sparse.linalg import spsolve\n",
    "\n",
    "import plotly.offline as plotly\n",
    "import plotly.graph_objs as go\n",
    "import plotly.figure_factory as ff\n",
    "\n",
    "#Necessary for the notebook\n",
    "plotly.init_notebook_mode(connected=True)"
   ]
  },
  {
   "cell_type": "markdown",
   "metadata": {
    "slideshow": {
     "slide_type": "slide"
    }
   },
   "source": [
    "As in the linear case, the domain is $\\Omega = [0, 1]$, which we discretize with $n_{el}$ segments (or elements) $s_i$."
   ]
  },
  {
   "cell_type": "markdown",
   "metadata": {
    "slideshow": {
     "slide_type": "fragment"
    }
   },
   "source": [
    "Now we also create the high-order nodes.\n",
    "\n",
    "Note that we append them at the end."
   ]
  },
  {
   "cell_type": "code",
   "execution_count": 2,
   "metadata": {
    "slideshow": {
     "slide_type": "slide"
    }
   },
   "outputs": [],
   "source": [
    "#domain\n",
    "omega = np.array([0, 1])\n",
    "\n",
    "# we now pick the order\n",
    "order = 3\n",
    "\n",
    "#number of bases and elements\n",
    "n_elements = 10\n",
    "n_bases = n_elements + 1 + n_elements*(order-1)\n",
    "\n",
    "#Regular nodes, as before\n",
    "s = np.linspace(omega[0], omega[1], num=n_elements+1)\n",
    "# s = np.cumsum(np.random.rand(n_elements+1))\n",
    "# s = (s-s[0])/(s[-1]-s[0])\n",
    "\n",
    "\n",
    "nodes = s\n",
    "\n",
    "for e in range(n_elements):\n",
    "    #For every segment, we create order + 1 new high-order nodes\n",
    "    tmp = np.linspace(s[e], s[e+1], num=order+1)\n",
    "    #exclude the first and last since they already exists\n",
    "    tmp = tmp[1:-1]\n",
    "    \n",
    "    #and append at the end of nodes\n",
    "    nodes = np.append(nodes, tmp)"
   ]
  },
  {
   "cell_type": "markdown",
   "metadata": {
    "slideshow": {
     "slide_type": "slide"
    }
   },
   "source": [
    "Plot, in orange the high-order nodes, in blue the linear nodes."
   ]
  },
  {
   "cell_type": "code",
   "execution_count": 3,
   "metadata": {
    "slideshow": {
     "slide_type": "-"
    }
   },
   "outputs": [
    {
     "data": {
      "application/vnd.plotly.v1+json": {
       "config": {
        "linkText": "Export to plot.ly",
        "plotlyServerURL": "https://plot.ly",
        "showLink": false
       },
       "data": [
        {
         "mode": "lines+markers",
         "type": "scatter",
         "x": [
          0,
          0.1,
          0.2,
          0.30000000000000004,
          0.4,
          0.5,
          0.6000000000000001,
          0.7000000000000001,
          0.8,
          0.9,
          1
         ],
         "y": [
          0,
          0,
          0,
          0,
          0,
          0,
          0,
          0,
          0,
          0,
          0
         ]
        },
        {
         "mode": "markers",
         "type": "scatter",
         "x": [
          1,
          0.03333333333333333,
          0.06666666666666667,
          0.13333333333333333,
          0.16666666666666669,
          0.23333333333333336,
          0.2666666666666667,
          0.33333333333333337,
          0.3666666666666667,
          0.43333333333333335,
          0.4666666666666667,
          0.5333333333333333,
          0.5666666666666668,
          0.6333333333333334,
          0.6666666666666667,
          0.7333333333333334,
          0.7666666666666667,
          0.8333333333333334,
          0.8666666666666667,
          0.9333333333333333,
          0.9666666666666667
         ],
         "y": [
          0,
          0,
          0,
          0,
          0,
          0,
          0,
          0,
          0,
          0,
          0,
          0,
          0,
          0,
          0,
          0,
          0,
          0,
          0,
          0,
          0,
          0,
          0,
          0,
          0,
          0,
          0,
          0,
          0,
          0,
          0
         ]
        }
       ],
       "layout": {
        "template": {
         "data": {
          "bar": [
           {
            "error_x": {
             "color": "#2a3f5f"
            },
            "error_y": {
             "color": "#2a3f5f"
            },
            "marker": {
             "line": {
              "color": "#E5ECF6",
              "width": 0.5
             }
            },
            "type": "bar"
           }
          ],
          "barpolar": [
           {
            "marker": {
             "line": {
              "color": "#E5ECF6",
              "width": 0.5
             }
            },
            "type": "barpolar"
           }
          ],
          "carpet": [
           {
            "aaxis": {
             "endlinecolor": "#2a3f5f",
             "gridcolor": "white",
             "linecolor": "white",
             "minorgridcolor": "white",
             "startlinecolor": "#2a3f5f"
            },
            "baxis": {
             "endlinecolor": "#2a3f5f",
             "gridcolor": "white",
             "linecolor": "white",
             "minorgridcolor": "white",
             "startlinecolor": "#2a3f5f"
            },
            "type": "carpet"
           }
          ],
          "choropleth": [
           {
            "colorbar": {
             "outlinewidth": 0,
             "ticks": ""
            },
            "type": "choropleth"
           }
          ],
          "contour": [
           {
            "colorbar": {
             "outlinewidth": 0,
             "ticks": ""
            },
            "colorscale": [
             [
              0,
              "#0d0887"
             ],
             [
              0.1111111111111111,
              "#46039f"
             ],
             [
              0.2222222222222222,
              "#7201a8"
             ],
             [
              0.3333333333333333,
              "#9c179e"
             ],
             [
              0.4444444444444444,
              "#bd3786"
             ],
             [
              0.5555555555555556,
              "#d8576b"
             ],
             [
              0.6666666666666666,
              "#ed7953"
             ],
             [
              0.7777777777777778,
              "#fb9f3a"
             ],
             [
              0.8888888888888888,
              "#fdca26"
             ],
             [
              1,
              "#f0f921"
             ]
            ],
            "type": "contour"
           }
          ],
          "contourcarpet": [
           {
            "colorbar": {
             "outlinewidth": 0,
             "ticks": ""
            },
            "type": "contourcarpet"
           }
          ],
          "heatmap": [
           {
            "colorbar": {
             "outlinewidth": 0,
             "ticks": ""
            },
            "colorscale": [
             [
              0,
              "#0d0887"
             ],
             [
              0.1111111111111111,
              "#46039f"
             ],
             [
              0.2222222222222222,
              "#7201a8"
             ],
             [
              0.3333333333333333,
              "#9c179e"
             ],
             [
              0.4444444444444444,
              "#bd3786"
             ],
             [
              0.5555555555555556,
              "#d8576b"
             ],
             [
              0.6666666666666666,
              "#ed7953"
             ],
             [
              0.7777777777777778,
              "#fb9f3a"
             ],
             [
              0.8888888888888888,
              "#fdca26"
             ],
             [
              1,
              "#f0f921"
             ]
            ],
            "type": "heatmap"
           }
          ],
          "heatmapgl": [
           {
            "colorbar": {
             "outlinewidth": 0,
             "ticks": ""
            },
            "colorscale": [
             [
              0,
              "#0d0887"
             ],
             [
              0.1111111111111111,
              "#46039f"
             ],
             [
              0.2222222222222222,
              "#7201a8"
             ],
             [
              0.3333333333333333,
              "#9c179e"
             ],
             [
              0.4444444444444444,
              "#bd3786"
             ],
             [
              0.5555555555555556,
              "#d8576b"
             ],
             [
              0.6666666666666666,
              "#ed7953"
             ],
             [
              0.7777777777777778,
              "#fb9f3a"
             ],
             [
              0.8888888888888888,
              "#fdca26"
             ],
             [
              1,
              "#f0f921"
             ]
            ],
            "type": "heatmapgl"
           }
          ],
          "histogram": [
           {
            "marker": {
             "colorbar": {
              "outlinewidth": 0,
              "ticks": ""
             }
            },
            "type": "histogram"
           }
          ],
          "histogram2d": [
           {
            "colorbar": {
             "outlinewidth": 0,
             "ticks": ""
            },
            "colorscale": [
             [
              0,
              "#0d0887"
             ],
             [
              0.1111111111111111,
              "#46039f"
             ],
             [
              0.2222222222222222,
              "#7201a8"
             ],
             [
              0.3333333333333333,
              "#9c179e"
             ],
             [
              0.4444444444444444,
              "#bd3786"
             ],
             [
              0.5555555555555556,
              "#d8576b"
             ],
             [
              0.6666666666666666,
              "#ed7953"
             ],
             [
              0.7777777777777778,
              "#fb9f3a"
             ],
             [
              0.8888888888888888,
              "#fdca26"
             ],
             [
              1,
              "#f0f921"
             ]
            ],
            "type": "histogram2d"
           }
          ],
          "histogram2dcontour": [
           {
            "colorbar": {
             "outlinewidth": 0,
             "ticks": ""
            },
            "colorscale": [
             [
              0,
              "#0d0887"
             ],
             [
              0.1111111111111111,
              "#46039f"
             ],
             [
              0.2222222222222222,
              "#7201a8"
             ],
             [
              0.3333333333333333,
              "#9c179e"
             ],
             [
              0.4444444444444444,
              "#bd3786"
             ],
             [
              0.5555555555555556,
              "#d8576b"
             ],
             [
              0.6666666666666666,
              "#ed7953"
             ],
             [
              0.7777777777777778,
              "#fb9f3a"
             ],
             [
              0.8888888888888888,
              "#fdca26"
             ],
             [
              1,
              "#f0f921"
             ]
            ],
            "type": "histogram2dcontour"
           }
          ],
          "mesh3d": [
           {
            "colorbar": {
             "outlinewidth": 0,
             "ticks": ""
            },
            "type": "mesh3d"
           }
          ],
          "parcoords": [
           {
            "line": {
             "colorbar": {
              "outlinewidth": 0,
              "ticks": ""
             }
            },
            "type": "parcoords"
           }
          ],
          "scatter": [
           {
            "marker": {
             "colorbar": {
              "outlinewidth": 0,
              "ticks": ""
             }
            },
            "type": "scatter"
           }
          ],
          "scatter3d": [
           {
            "line": {
             "colorbar": {
              "outlinewidth": 0,
              "ticks": ""
             }
            },
            "marker": {
             "colorbar": {
              "outlinewidth": 0,
              "ticks": ""
             }
            },
            "type": "scatter3d"
           }
          ],
          "scattercarpet": [
           {
            "marker": {
             "colorbar": {
              "outlinewidth": 0,
              "ticks": ""
             }
            },
            "type": "scattercarpet"
           }
          ],
          "scattergeo": [
           {
            "marker": {
             "colorbar": {
              "outlinewidth": 0,
              "ticks": ""
             }
            },
            "type": "scattergeo"
           }
          ],
          "scattergl": [
           {
            "marker": {
             "colorbar": {
              "outlinewidth": 0,
              "ticks": ""
             }
            },
            "type": "scattergl"
           }
          ],
          "scattermapbox": [
           {
            "marker": {
             "colorbar": {
              "outlinewidth": 0,
              "ticks": ""
             }
            },
            "type": "scattermapbox"
           }
          ],
          "scatterpolar": [
           {
            "marker": {
             "colorbar": {
              "outlinewidth": 0,
              "ticks": ""
             }
            },
            "type": "scatterpolar"
           }
          ],
          "scatterpolargl": [
           {
            "marker": {
             "colorbar": {
              "outlinewidth": 0,
              "ticks": ""
             }
            },
            "type": "scatterpolargl"
           }
          ],
          "scatterternary": [
           {
            "marker": {
             "colorbar": {
              "outlinewidth": 0,
              "ticks": ""
             }
            },
            "type": "scatterternary"
           }
          ],
          "surface": [
           {
            "colorbar": {
             "outlinewidth": 0,
             "ticks": ""
            },
            "colorscale": [
             [
              0,
              "#0d0887"
             ],
             [
              0.1111111111111111,
              "#46039f"
             ],
             [
              0.2222222222222222,
              "#7201a8"
             ],
             [
              0.3333333333333333,
              "#9c179e"
             ],
             [
              0.4444444444444444,
              "#bd3786"
             ],
             [
              0.5555555555555556,
              "#d8576b"
             ],
             [
              0.6666666666666666,
              "#ed7953"
             ],
             [
              0.7777777777777778,
              "#fb9f3a"
             ],
             [
              0.8888888888888888,
              "#fdca26"
             ],
             [
              1,
              "#f0f921"
             ]
            ],
            "type": "surface"
           }
          ],
          "table": [
           {
            "cells": {
             "fill": {
              "color": "#EBF0F8"
             },
             "line": {
              "color": "white"
             }
            },
            "header": {
             "fill": {
              "color": "#C8D4E3"
             },
             "line": {
              "color": "white"
             }
            },
            "type": "table"
           }
          ]
         },
         "layout": {
          "annotationdefaults": {
           "arrowcolor": "#2a3f5f",
           "arrowhead": 0,
           "arrowwidth": 1
          },
          "colorscale": {
           "diverging": [
            [
             0,
             "#8e0152"
            ],
            [
             0.1,
             "#c51b7d"
            ],
            [
             0.2,
             "#de77ae"
            ],
            [
             0.3,
             "#f1b6da"
            ],
            [
             0.4,
             "#fde0ef"
            ],
            [
             0.5,
             "#f7f7f7"
            ],
            [
             0.6,
             "#e6f5d0"
            ],
            [
             0.7,
             "#b8e186"
            ],
            [
             0.8,
             "#7fbc41"
            ],
            [
             0.9,
             "#4d9221"
            ],
            [
             1,
             "#276419"
            ]
           ],
           "sequential": [
            [
             0,
             "#0d0887"
            ],
            [
             0.1111111111111111,
             "#46039f"
            ],
            [
             0.2222222222222222,
             "#7201a8"
            ],
            [
             0.3333333333333333,
             "#9c179e"
            ],
            [
             0.4444444444444444,
             "#bd3786"
            ],
            [
             0.5555555555555556,
             "#d8576b"
            ],
            [
             0.6666666666666666,
             "#ed7953"
            ],
            [
             0.7777777777777778,
             "#fb9f3a"
            ],
            [
             0.8888888888888888,
             "#fdca26"
            ],
            [
             1,
             "#f0f921"
            ]
           ],
           "sequentialminus": [
            [
             0,
             "#0d0887"
            ],
            [
             0.1111111111111111,
             "#46039f"
            ],
            [
             0.2222222222222222,
             "#7201a8"
            ],
            [
             0.3333333333333333,
             "#9c179e"
            ],
            [
             0.4444444444444444,
             "#bd3786"
            ],
            [
             0.5555555555555556,
             "#d8576b"
            ],
            [
             0.6666666666666666,
             "#ed7953"
            ],
            [
             0.7777777777777778,
             "#fb9f3a"
            ],
            [
             0.8888888888888888,
             "#fdca26"
            ],
            [
             1,
             "#f0f921"
            ]
           ]
          },
          "colorway": [
           "#636efa",
           "#EF553B",
           "#00cc96",
           "#ab63fa",
           "#FFA15A",
           "#19d3f3",
           "#FF6692",
           "#B6E880",
           "#FF97FF",
           "#FECB52"
          ],
          "font": {
           "color": "#2a3f5f"
          },
          "geo": {
           "bgcolor": "white",
           "lakecolor": "white",
           "landcolor": "#E5ECF6",
           "showlakes": true,
           "showland": true,
           "subunitcolor": "white"
          },
          "hoverlabel": {
           "align": "left"
          },
          "hovermode": "closest",
          "mapbox": {
           "style": "light"
          },
          "paper_bgcolor": "white",
          "plot_bgcolor": "#E5ECF6",
          "polar": {
           "angularaxis": {
            "gridcolor": "white",
            "linecolor": "white",
            "ticks": ""
           },
           "bgcolor": "#E5ECF6",
           "radialaxis": {
            "gridcolor": "white",
            "linecolor": "white",
            "ticks": ""
           }
          },
          "scene": {
           "xaxis": {
            "backgroundcolor": "#E5ECF6",
            "gridcolor": "white",
            "gridwidth": 2,
            "linecolor": "white",
            "showbackground": true,
            "ticks": "",
            "zerolinecolor": "white"
           },
           "yaxis": {
            "backgroundcolor": "#E5ECF6",
            "gridcolor": "white",
            "gridwidth": 2,
            "linecolor": "white",
            "showbackground": true,
            "ticks": "",
            "zerolinecolor": "white"
           },
           "zaxis": {
            "backgroundcolor": "#E5ECF6",
            "gridcolor": "white",
            "gridwidth": 2,
            "linecolor": "white",
            "showbackground": true,
            "ticks": "",
            "zerolinecolor": "white"
           }
          },
          "shapedefaults": {
           "line": {
            "color": "#2a3f5f"
           }
          },
          "ternary": {
           "aaxis": {
            "gridcolor": "white",
            "linecolor": "white",
            "ticks": ""
           },
           "baxis": {
            "gridcolor": "white",
            "linecolor": "white",
            "ticks": ""
           },
           "bgcolor": "#E5ECF6",
           "caxis": {
            "gridcolor": "white",
            "linecolor": "white",
            "ticks": ""
           }
          },
          "title": {
           "x": 0.05
          },
          "xaxis": {
           "automargin": true,
           "gridcolor": "white",
           "linecolor": "white",
           "ticks": "",
           "zerolinecolor": "white",
           "zerolinewidth": 2
          },
          "yaxis": {
           "automargin": true,
           "gridcolor": "white",
           "linecolor": "white",
           "ticks": "",
           "zerolinecolor": "white",
           "zerolinewidth": 2
          }
         }
        }
       }
      },
      "text/html": [
       "<div>\n",
       "        \n",
       "        \n",
       "            <div id=\"e057604e-5efc-4308-bd96-b098872b1135\" class=\"plotly-graph-div\" style=\"height:525px; width:100%;\"></div>\n",
       "            <script type=\"text/javascript\">\n",
       "                require([\"plotly\"], function(Plotly) {\n",
       "                    window.PLOTLYENV=window.PLOTLYENV || {};\n",
       "                    \n",
       "                if (document.getElementById(\"e057604e-5efc-4308-bd96-b098872b1135\")) {\n",
       "                    Plotly.newPlot(\n",
       "                        'e057604e-5efc-4308-bd96-b098872b1135',\n",
       "                        [{\"mode\": \"lines+markers\", \"type\": \"scatter\", \"x\": [0.0, 0.1, 0.2, 0.30000000000000004, 0.4, 0.5, 0.6000000000000001, 0.7000000000000001, 0.8, 0.9, 1.0], \"y\": [0.0, 0.0, 0.0, 0.0, 0.0, 0.0, 0.0, 0.0, 0.0, 0.0, 0.0]}, {\"mode\": \"markers\", \"type\": \"scatter\", \"x\": [1.0, 0.03333333333333333, 0.06666666666666667, 0.13333333333333333, 0.16666666666666669, 0.23333333333333336, 0.2666666666666667, 0.33333333333333337, 0.3666666666666667, 0.43333333333333335, 0.4666666666666667, 0.5333333333333333, 0.5666666666666668, 0.6333333333333334, 0.6666666666666667, 0.7333333333333334, 0.7666666666666667, 0.8333333333333334, 0.8666666666666667, 0.9333333333333333, 0.9666666666666667], \"y\": [0.0, 0.0, 0.0, 0.0, 0.0, 0.0, 0.0, 0.0, 0.0, 0.0, 0.0, 0.0, 0.0, 0.0, 0.0, 0.0, 0.0, 0.0, 0.0, 0.0, 0.0, 0.0, 0.0, 0.0, 0.0, 0.0, 0.0, 0.0, 0.0, 0.0, 0.0]}],\n",
       "                        {\"template\": {\"data\": {\"bar\": [{\"error_x\": {\"color\": \"#2a3f5f\"}, \"error_y\": {\"color\": \"#2a3f5f\"}, \"marker\": {\"line\": {\"color\": \"#E5ECF6\", \"width\": 0.5}}, \"type\": \"bar\"}], \"barpolar\": [{\"marker\": {\"line\": {\"color\": \"#E5ECF6\", \"width\": 0.5}}, \"type\": \"barpolar\"}], \"carpet\": [{\"aaxis\": {\"endlinecolor\": \"#2a3f5f\", \"gridcolor\": \"white\", \"linecolor\": \"white\", \"minorgridcolor\": \"white\", \"startlinecolor\": \"#2a3f5f\"}, \"baxis\": {\"endlinecolor\": \"#2a3f5f\", \"gridcolor\": \"white\", \"linecolor\": \"white\", \"minorgridcolor\": \"white\", \"startlinecolor\": \"#2a3f5f\"}, \"type\": \"carpet\"}], \"choropleth\": [{\"colorbar\": {\"outlinewidth\": 0, \"ticks\": \"\"}, \"type\": \"choropleth\"}], \"contour\": [{\"colorbar\": {\"outlinewidth\": 0, \"ticks\": \"\"}, \"colorscale\": [[0.0, \"#0d0887\"], [0.1111111111111111, \"#46039f\"], [0.2222222222222222, \"#7201a8\"], [0.3333333333333333, \"#9c179e\"], [0.4444444444444444, \"#bd3786\"], [0.5555555555555556, \"#d8576b\"], [0.6666666666666666, \"#ed7953\"], [0.7777777777777778, \"#fb9f3a\"], [0.8888888888888888, \"#fdca26\"], [1.0, \"#f0f921\"]], \"type\": \"contour\"}], \"contourcarpet\": [{\"colorbar\": {\"outlinewidth\": 0, \"ticks\": \"\"}, \"type\": \"contourcarpet\"}], \"heatmap\": [{\"colorbar\": {\"outlinewidth\": 0, \"ticks\": \"\"}, \"colorscale\": [[0.0, \"#0d0887\"], [0.1111111111111111, \"#46039f\"], [0.2222222222222222, \"#7201a8\"], [0.3333333333333333, \"#9c179e\"], [0.4444444444444444, \"#bd3786\"], [0.5555555555555556, \"#d8576b\"], [0.6666666666666666, \"#ed7953\"], [0.7777777777777778, \"#fb9f3a\"], [0.8888888888888888, \"#fdca26\"], [1.0, \"#f0f921\"]], \"type\": \"heatmap\"}], \"heatmapgl\": [{\"colorbar\": {\"outlinewidth\": 0, \"ticks\": \"\"}, \"colorscale\": [[0.0, \"#0d0887\"], [0.1111111111111111, \"#46039f\"], [0.2222222222222222, \"#7201a8\"], [0.3333333333333333, \"#9c179e\"], [0.4444444444444444, \"#bd3786\"], [0.5555555555555556, \"#d8576b\"], [0.6666666666666666, \"#ed7953\"], [0.7777777777777778, \"#fb9f3a\"], [0.8888888888888888, \"#fdca26\"], [1.0, \"#f0f921\"]], \"type\": \"heatmapgl\"}], \"histogram\": [{\"marker\": {\"colorbar\": {\"outlinewidth\": 0, \"ticks\": \"\"}}, \"type\": \"histogram\"}], \"histogram2d\": [{\"colorbar\": {\"outlinewidth\": 0, \"ticks\": \"\"}, \"colorscale\": [[0.0, \"#0d0887\"], [0.1111111111111111, \"#46039f\"], [0.2222222222222222, \"#7201a8\"], [0.3333333333333333, \"#9c179e\"], [0.4444444444444444, \"#bd3786\"], [0.5555555555555556, \"#d8576b\"], [0.6666666666666666, \"#ed7953\"], [0.7777777777777778, \"#fb9f3a\"], [0.8888888888888888, \"#fdca26\"], [1.0, \"#f0f921\"]], \"type\": \"histogram2d\"}], \"histogram2dcontour\": [{\"colorbar\": {\"outlinewidth\": 0, \"ticks\": \"\"}, \"colorscale\": [[0.0, \"#0d0887\"], [0.1111111111111111, \"#46039f\"], [0.2222222222222222, \"#7201a8\"], [0.3333333333333333, \"#9c179e\"], [0.4444444444444444, \"#bd3786\"], [0.5555555555555556, \"#d8576b\"], [0.6666666666666666, \"#ed7953\"], [0.7777777777777778, \"#fb9f3a\"], [0.8888888888888888, \"#fdca26\"], [1.0, \"#f0f921\"]], \"type\": \"histogram2dcontour\"}], \"mesh3d\": [{\"colorbar\": {\"outlinewidth\": 0, \"ticks\": \"\"}, \"type\": \"mesh3d\"}], \"parcoords\": [{\"line\": {\"colorbar\": {\"outlinewidth\": 0, \"ticks\": \"\"}}, \"type\": \"parcoords\"}], \"scatter\": [{\"marker\": {\"colorbar\": {\"outlinewidth\": 0, \"ticks\": \"\"}}, \"type\": \"scatter\"}], \"scatter3d\": [{\"line\": {\"colorbar\": {\"outlinewidth\": 0, \"ticks\": \"\"}}, \"marker\": {\"colorbar\": {\"outlinewidth\": 0, \"ticks\": \"\"}}, \"type\": \"scatter3d\"}], \"scattercarpet\": [{\"marker\": {\"colorbar\": {\"outlinewidth\": 0, \"ticks\": \"\"}}, \"type\": \"scattercarpet\"}], \"scattergeo\": [{\"marker\": {\"colorbar\": {\"outlinewidth\": 0, \"ticks\": \"\"}}, \"type\": \"scattergeo\"}], \"scattergl\": [{\"marker\": {\"colorbar\": {\"outlinewidth\": 0, \"ticks\": \"\"}}, \"type\": \"scattergl\"}], \"scattermapbox\": [{\"marker\": {\"colorbar\": {\"outlinewidth\": 0, \"ticks\": \"\"}}, \"type\": \"scattermapbox\"}], \"scatterpolar\": [{\"marker\": {\"colorbar\": {\"outlinewidth\": 0, \"ticks\": \"\"}}, \"type\": \"scatterpolar\"}], \"scatterpolargl\": [{\"marker\": {\"colorbar\": {\"outlinewidth\": 0, \"ticks\": \"\"}}, \"type\": \"scatterpolargl\"}], \"scatterternary\": [{\"marker\": {\"colorbar\": {\"outlinewidth\": 0, \"ticks\": \"\"}}, \"type\": \"scatterternary\"}], \"surface\": [{\"colorbar\": {\"outlinewidth\": 0, \"ticks\": \"\"}, \"colorscale\": [[0.0, \"#0d0887\"], [0.1111111111111111, \"#46039f\"], [0.2222222222222222, \"#7201a8\"], [0.3333333333333333, \"#9c179e\"], [0.4444444444444444, \"#bd3786\"], [0.5555555555555556, \"#d8576b\"], [0.6666666666666666, \"#ed7953\"], [0.7777777777777778, \"#fb9f3a\"], [0.8888888888888888, \"#fdca26\"], [1.0, \"#f0f921\"]], \"type\": \"surface\"}], \"table\": [{\"cells\": {\"fill\": {\"color\": \"#EBF0F8\"}, \"line\": {\"color\": \"white\"}}, \"header\": {\"fill\": {\"color\": \"#C8D4E3\"}, \"line\": {\"color\": \"white\"}}, \"type\": \"table\"}]}, \"layout\": {\"annotationdefaults\": {\"arrowcolor\": \"#2a3f5f\", \"arrowhead\": 0, \"arrowwidth\": 1}, \"colorscale\": {\"diverging\": [[0, \"#8e0152\"], [0.1, \"#c51b7d\"], [0.2, \"#de77ae\"], [0.3, \"#f1b6da\"], [0.4, \"#fde0ef\"], [0.5, \"#f7f7f7\"], [0.6, \"#e6f5d0\"], [0.7, \"#b8e186\"], [0.8, \"#7fbc41\"], [0.9, \"#4d9221\"], [1, \"#276419\"]], \"sequential\": [[0.0, \"#0d0887\"], [0.1111111111111111, \"#46039f\"], [0.2222222222222222, \"#7201a8\"], [0.3333333333333333, \"#9c179e\"], [0.4444444444444444, \"#bd3786\"], [0.5555555555555556, \"#d8576b\"], [0.6666666666666666, \"#ed7953\"], [0.7777777777777778, \"#fb9f3a\"], [0.8888888888888888, \"#fdca26\"], [1.0, \"#f0f921\"]], \"sequentialminus\": [[0.0, \"#0d0887\"], [0.1111111111111111, \"#46039f\"], [0.2222222222222222, \"#7201a8\"], [0.3333333333333333, \"#9c179e\"], [0.4444444444444444, \"#bd3786\"], [0.5555555555555556, \"#d8576b\"], [0.6666666666666666, \"#ed7953\"], [0.7777777777777778, \"#fb9f3a\"], [0.8888888888888888, \"#fdca26\"], [1.0, \"#f0f921\"]]}, \"colorway\": [\"#636efa\", \"#EF553B\", \"#00cc96\", \"#ab63fa\", \"#FFA15A\", \"#19d3f3\", \"#FF6692\", \"#B6E880\", \"#FF97FF\", \"#FECB52\"], \"font\": {\"color\": \"#2a3f5f\"}, \"geo\": {\"bgcolor\": \"white\", \"lakecolor\": \"white\", \"landcolor\": \"#E5ECF6\", \"showlakes\": true, \"showland\": true, \"subunitcolor\": \"white\"}, \"hoverlabel\": {\"align\": \"left\"}, \"hovermode\": \"closest\", \"mapbox\": {\"style\": \"light\"}, \"paper_bgcolor\": \"white\", \"plot_bgcolor\": \"#E5ECF6\", \"polar\": {\"angularaxis\": {\"gridcolor\": \"white\", \"linecolor\": \"white\", \"ticks\": \"\"}, \"bgcolor\": \"#E5ECF6\", \"radialaxis\": {\"gridcolor\": \"white\", \"linecolor\": \"white\", \"ticks\": \"\"}}, \"scene\": {\"xaxis\": {\"backgroundcolor\": \"#E5ECF6\", \"gridcolor\": \"white\", \"gridwidth\": 2, \"linecolor\": \"white\", \"showbackground\": true, \"ticks\": \"\", \"zerolinecolor\": \"white\"}, \"yaxis\": {\"backgroundcolor\": \"#E5ECF6\", \"gridcolor\": \"white\", \"gridwidth\": 2, \"linecolor\": \"white\", \"showbackground\": true, \"ticks\": \"\", \"zerolinecolor\": \"white\"}, \"zaxis\": {\"backgroundcolor\": \"#E5ECF6\", \"gridcolor\": \"white\", \"gridwidth\": 2, \"linecolor\": \"white\", \"showbackground\": true, \"ticks\": \"\", \"zerolinecolor\": \"white\"}}, \"shapedefaults\": {\"line\": {\"color\": \"#2a3f5f\"}}, \"ternary\": {\"aaxis\": {\"gridcolor\": \"white\", \"linecolor\": \"white\", \"ticks\": \"\"}, \"baxis\": {\"gridcolor\": \"white\", \"linecolor\": \"white\", \"ticks\": \"\"}, \"bgcolor\": \"#E5ECF6\", \"caxis\": {\"gridcolor\": \"white\", \"linecolor\": \"white\", \"ticks\": \"\"}}, \"title\": {\"x\": 0.05}, \"xaxis\": {\"automargin\": true, \"gridcolor\": \"white\", \"linecolor\": \"white\", \"ticks\": \"\", \"zerolinecolor\": \"white\", \"zerolinewidth\": 2}, \"yaxis\": {\"automargin\": true, \"gridcolor\": \"white\", \"linecolor\": \"white\", \"ticks\": \"\", \"zerolinecolor\": \"white\", \"zerolinewidth\": 2}}}},\n",
       "                        {\"responsive\": true}\n",
       "                    ).then(function(){\n",
       "                            \n",
       "var gd = document.getElementById('e057604e-5efc-4308-bd96-b098872b1135');\n",
       "var x = new MutationObserver(function (mutations, observer) {{\n",
       "        var display = window.getComputedStyle(gd).display;\n",
       "        if (!display || display === 'none') {{\n",
       "            console.log([gd, 'removed!']);\n",
       "            Plotly.purge(gd);\n",
       "            observer.disconnect();\n",
       "        }}\n",
       "}});\n",
       "\n",
       "// Listen for the removal of the full notebook cells\n",
       "var notebookContainer = gd.closest('#notebook-container');\n",
       "if (notebookContainer) {{\n",
       "    x.observe(notebookContainer, {childList: true});\n",
       "}}\n",
       "\n",
       "// Listen for the clearing of the current output cell\n",
       "var outputEl = gd.closest('.output');\n",
       "if (outputEl) {{\n",
       "    x.observe(outputEl, {childList: true});\n",
       "}}\n",
       "\n",
       "                        })\n",
       "                };\n",
       "                });\n",
       "            </script>\n",
       "        </div>"
      ]
     },
     "metadata": {},
     "output_type": "display_data"
    }
   ],
   "source": [
    "fig = go.Figure(data=[\n",
    "    go.Scatter(x=s, y=np.zeros(s.shape), mode='lines+markers'),\n",
    "    go.Scatter(x=nodes[n_elements:], y=np.zeros(nodes.shape), mode='markers')\n",
    "])\n",
    "plotly.iplot(fig)"
   ]
  },
  {
   "cell_type": "markdown",
   "metadata": {
    "slideshow": {
     "slide_type": "slide"
    }
   },
   "source": [
    "# Local bases"
   ]
  },
  {
   "cell_type": "markdown",
   "metadata": {},
   "source": [
    "As in the linear case, we define the **reference element** $\\hat s= [0, 1]$, a segment of unit length."
   ]
  },
  {
   "cell_type": "markdown",
   "metadata": {
    "slideshow": {
     "slide_type": "fragment"
    }
   },
   "source": [
    "On each element we now have `order+1` (e.g., 2 for linear, 3 for quadratic) **non-zero** local bases.\n",
    "\n",
    "We define their \"piece\" on $\\hat s$."
   ]
  },
  {
   "cell_type": "markdown",
   "metadata": {
    "slideshow": {
     "slide_type": "fragment"
    }
   },
   "source": [
    "It is important to respect the order of the nodes: the first 2 bases are always for the endpoints, and the others are ordered left to right."
   ]
  },
  {
   "cell_type": "code",
   "execution_count": 4,
   "metadata": {
    "slideshow": {
     "slide_type": "slide"
    }
   },
   "outputs": [],
   "source": [
    "#definition of linear bases, same as before\n",
    "def hat_phi_1_0(x):\n",
    "    return 1-x\n",
    "def hat_phi_1_1(x):\n",
    "    return x\n",
    "\n",
    "#definition of quadratic bases\n",
    "def hat_phi_2_0(x):\n",
    "    return 2*(x-0.5)*(x-1)\n",
    "def hat_phi_2_1(x):\n",
    "    return 2*(x-0)*(x-0.5)\n",
    "def hat_phi_2_2(x):\n",
    "    return -4*(x-0.5)**2+1\n",
    "\n",
    "#definition of cubic bases\n",
    "def hat_phi_3_0(x):\n",
    "    return -9/2*(x-1/3)*(x-2/3)*(x-1)\n",
    "def hat_phi_3_1(x):\n",
    "    return 9/2*(x-0)*(x-1/3)*(x-2/3)\n",
    "def hat_phi_3_2(x):\n",
    "    return 27/2*(x-0)*(x-2/3)*(x-1)\n",
    "def hat_phi_3_3(x):\n",
    "    return -27/2*(x-0)*(x-1/3)*(x-1)\n",
    "\n",
    "#utility function to return the list of functions\n",
    "def hat_phis(order):\n",
    "    if order == 1:\n",
    "        return [hat_phi_1_0, hat_phi_1_1]\n",
    "    elif order == 2:\n",
    "        return [hat_phi_2_0, hat_phi_2_1, hat_phi_2_2]\n",
    "    elif order == 3:\n",
    "        return [hat_phi_3_0, hat_phi_3_1, hat_phi_3_2, hat_phi_3_3]"
   ]
  },
  {
   "cell_type": "markdown",
   "metadata": {
    "slideshow": {
     "slide_type": "slide"
    }
   },
   "source": [
    "We can now plot the `order+1` local bases, same code as before.\n",
    "\n",
    "Note that the first two bases correspond to the end-points, and the others are ordered."
   ]
  },
  {
   "cell_type": "code",
   "execution_count": 5,
   "metadata": {},
   "outputs": [
    {
     "data": {
      "application/vnd.plotly.v1+json": {
       "config": {
        "linkText": "Export to plot.ly",
        "plotlyServerURL": "https://plot.ly",
        "showLink": false
       },
       "data": [
        {
         "mode": "lines",
         "name": "$\\hat\\phi_0$",
         "type": "scatter",
         "x": [
          0,
          0.02040816326530612,
          0.04081632653061224,
          0.061224489795918366,
          0.08163265306122448,
          0.1020408163265306,
          0.12244897959183673,
          0.14285714285714285,
          0.16326530612244897,
          0.18367346938775508,
          0.2040816326530612,
          0.22448979591836732,
          0.24489795918367346,
          0.26530612244897955,
          0.2857142857142857,
          0.3061224489795918,
          0.32653061224489793,
          0.3469387755102041,
          0.36734693877551017,
          0.3877551020408163,
          0.4081632653061224,
          0.42857142857142855,
          0.44897959183673464,
          0.4693877551020408,
          0.4897959183673469,
          0.5102040816326531,
          0.5306122448979591,
          0.5510204081632653,
          0.5714285714285714,
          0.5918367346938775,
          0.6122448979591836,
          0.6326530612244897,
          0.6530612244897959,
          0.673469387755102,
          0.6938775510204082,
          0.7142857142857142,
          0.7346938775510203,
          0.7551020408163265,
          0.7755102040816326,
          0.7959183673469387,
          0.8163265306122448,
          0.836734693877551,
          0.8571428571428571,
          0.8775510204081632,
          0.8979591836734693,
          0.9183673469387754,
          0.9387755102040816,
          0.9591836734693877,
          0.9795918367346939,
          1
         ],
         "y": [
          1,
          0.8914652908227011,
          0.7901979617336313,
          0.6959685165194774,
          0.6085474589669271,
          0.5277052928626677,
          0.453212521993387,
          0.38483965014577254,
          0.32235718110651174,
          0.2655356186622921,
          0.21414546659980108,
          0.16795722870572635,
          0.12674140876675533,
          0.09026851056957565,
          0.05830903790087463,
          0.03063349454734001,
          0.00701238429565913,
          -0.0127837890674804,
          -0.028984521755391023,
          -0.04181930998138531,
          -0.05151764995877566,
          -0.058309037900874626,
          -0.06242297002099464,
          -0.0640889425324482,
          -0.06353645164854779,
          -0.06099499358260588,
          -0.05669406454793497,
          -0.050863160757847505,
          -0.043731778425655975,
          -0.03552941376467287,
          -0.026485562988210722,
          -0.01682972230958191,
          -0.006791387942098964,
          0.0033999439009256387,
          0.013514777006179415,
          0.02332361516034983,
          0.03259696215012451,
          0.04110532176219093,
          0.04861919778323658,
          0.05490909399994899,
          0.05974551419901571,
          0.06289896216712425,
          0.0641399416909621,
          0.06323895655721681,
          0.05996651055257592,
          0.05409310746372689,
          0.04538925107735727,
          0.03362544518015456,
          0.018572193558806304,
          0
         ]
        },
        {
         "mode": "lines",
         "name": "$\\hat\\phi_1$",
         "type": "scatter",
         "x": [
          0,
          0.02040816326530612,
          0.04081632653061224,
          0.061224489795918366,
          0.08163265306122448,
          0.1020408163265306,
          0.12244897959183673,
          0.14285714285714285,
          0.16326530612244897,
          0.18367346938775508,
          0.2040816326530612,
          0.22448979591836732,
          0.24489795918367346,
          0.26530612244897955,
          0.2857142857142857,
          0.3061224489795918,
          0.32653061224489793,
          0.3469387755102041,
          0.36734693877551017,
          0.3877551020408163,
          0.4081632653061224,
          0.42857142857142855,
          0.44897959183673464,
          0.4693877551020408,
          0.4897959183673469,
          0.5102040816326531,
          0.5306122448979591,
          0.5510204081632653,
          0.5714285714285714,
          0.5918367346938775,
          0.6122448979591836,
          0.6326530612244897,
          0.6530612244897959,
          0.673469387755102,
          0.6938775510204082,
          0.7142857142857142,
          0.7346938775510203,
          0.7551020408163265,
          0.7755102040816326,
          0.7959183673469387,
          0.8163265306122448,
          0.836734693877551,
          0.8571428571428571,
          0.8775510204081632,
          0.8979591836734693,
          0.9183673469387754,
          0.9387755102040816,
          0.9591836734693877,
          0.9795918367346939,
          1
         ],
         "y": [
          0,
          0.018572193558806276,
          0.03362544518015452,
          0.045389251077357216,
          0.05409310746372684,
          0.05996651055257587,
          0.06323895655721679,
          0.06413994169096209,
          0.06289896216712423,
          0.059745514199015706,
          0.05490909399994899,
          0.048619197783236576,
          0.04110532176219091,
          0.03259696215012453,
          0.02332361516034985,
          0.013514777006179412,
          0.003399943900925638,
          -0.006791387942098962,
          -0.01682972230958188,
          -0.02648556298821069,
          -0.03552941376467287,
          -0.04373177842565597,
          -0.05086316075784748,
          -0.05669406454793494,
          -0.06099499358260588,
          -0.06353645164854779,
          -0.0640889425324482,
          -0.06242297002099465,
          -0.058309037900874626,
          -0.05151764995877566,
          -0.04181930998138534,
          -0.02898452175539106,
          -0.012783789067480398,
          0.007012384295659129,
          0.030633494547340004,
          0.05830903790087454,
          0.09026851056957554,
          0.1267414087667553,
          0.16795722870572635,
          0.2141454665998009,
          0.2655356186622919,
          0.32235718110651157,
          0.3848396501457724,
          0.4532125219933871,
          0.5277052928626675,
          0.6085474589669269,
          0.6959685165194772,
          0.7901979617336314,
          0.8914652908227014,
          1.0000000000000002
         ]
        },
        {
         "mode": "lines",
         "name": "$\\hat\\phi_2$",
         "type": "scatter",
         "x": [
          0,
          0.02040816326530612,
          0.04081632653061224,
          0.061224489795918366,
          0.08163265306122448,
          0.1020408163265306,
          0.12244897959183673,
          0.14285714285714285,
          0.16326530612244897,
          0.18367346938775508,
          0.2040816326530612,
          0.22448979591836732,
          0.24489795918367346,
          0.26530612244897955,
          0.2857142857142857,
          0.3061224489795918,
          0.32653061224489793,
          0.3469387755102041,
          0.36734693877551017,
          0.3877551020408163,
          0.4081632653061224,
          0.42857142857142855,
          0.44897959183673464,
          0.4693877551020408,
          0.4897959183673469,
          0.5102040816326531,
          0.5306122448979591,
          0.5510204081632653,
          0.5714285714285714,
          0.5918367346938775,
          0.6122448979591836,
          0.6326530612244897,
          0.6530612244897959,
          0.673469387755102,
          0.6938775510204082,
          0.7142857142857142,
          0.7346938775510203,
          0.7551020408163265,
          0.7755102040816326,
          0.7959183673469387,
          0.8163265306122448,
          0.836734693877551,
          0.8571428571428571,
          0.8775510204081632,
          0.8979591836734693,
          0.9183673469387754,
          0.9387755102040816,
          0.9591836734693877,
          0.9795918367346939,
          1
         ],
         "y": [
          0,
          0.17441712211748503,
          0.3307805421210549,
          0.4697787486506473,
          0.5921002303461992,
          0.6984334758476484,
          0.7894669737949324,
          0.8658892128279881,
          0.9283886815867538,
          0.9776538687111661,
          1.0143732628411628,
          1.0392353526166818,
          1.0529286266776599,
          1.0561415736640345,
          1.0495626822157433,
          1.0338804409727238,
          1.0097833385749135,
          0.9779598636622496,
          0.9390985048746696,
          0.8938877508521108,
          0.8430160902345111,
          0.7871720116618075,
          0.7270440037739377,
          0.6633205552108391,
          0.5966901546124489,
          0.5278412906187047,
          0.4574624518695443,
          0.3862421270049045,
          0.314868804664723,
          0.24403097348893735,
          0.17441712211748528,
          0.1067157391903035,
          0.04161531334732982,
          -0.020195666771498293,
          -0.07802871252624341,
          -0.1311953352769678,
          -0.1790070463837346,
          -0.22077535720660607,
          -0.2558117791056448,
          -0.28342782344091316,
          -0.30293500157247405,
          -0.3136448248603898,
          -0.3148688046647231,
          -0.30591845234553633,
          -0.28610527926289236,
          -0.25474079677685335,
          -0.21113651624748211,
          -0.15460394903484106,
          -0.08445460649899286,
          0
         ]
        },
        {
         "mode": "lines",
         "name": "$\\hat\\phi_3$",
         "type": "scatter",
         "x": [
          0,
          0.02040816326530612,
          0.04081632653061224,
          0.061224489795918366,
          0.08163265306122448,
          0.1020408163265306,
          0.12244897959183673,
          0.14285714285714285,
          0.16326530612244897,
          0.18367346938775508,
          0.2040816326530612,
          0.22448979591836732,
          0.24489795918367346,
          0.26530612244897955,
          0.2857142857142857,
          0.3061224489795918,
          0.32653061224489793,
          0.3469387755102041,
          0.36734693877551017,
          0.3877551020408163,
          0.4081632653061224,
          0.42857142857142855,
          0.44897959183673464,
          0.4693877551020408,
          0.4897959183673469,
          0.5102040816326531,
          0.5306122448979591,
          0.5510204081632653,
          0.5714285714285714,
          0.5918367346938775,
          0.6122448979591836,
          0.6326530612244897,
          0.6530612244897959,
          0.673469387755102,
          0.6938775510204082,
          0.7142857142857142,
          0.7346938775510203,
          0.7551020408163265,
          0.7755102040816326,
          0.7959183673469387,
          0.8163265306122448,
          0.836734693877551,
          0.8571428571428571,
          0.8775510204081632,
          0.8979591836734693,
          0.9183673469387754,
          0.9387755102040816,
          0.9591836734693877,
          0.9795918367346939,
          1
         ],
         "y": [
          0,
          -0.08445460649899275,
          -0.1546039490348409,
          -0.21113651624748192,
          -0.2547407967768532,
          -0.2861052792628921,
          -0.3059184523455363,
          -0.314868804664723,
          -0.31364482486038975,
          -0.30293500157247405,
          -0.2834278234409132,
          -0.25581177910564473,
          -0.22077535720660607,
          -0.1790070463837347,
          -0.13119533527696792,
          -0.0780287125262434,
          -0.020195666771498293,
          0.04161531334732982,
          0.1067157391903033,
          0.17441712211748508,
          0.24403097348893732,
          0.314868804664723,
          0.3862421270049043,
          0.45746245186954415,
          0.5278412906187049,
          0.596690154612449,
          0.6633205552108389,
          0.7270440037739376,
          0.7871720116618076,
          0.8430160902345112,
          0.8938877508521107,
          0.9390985048746695,
          0.9779598636622494,
          1.0097833385749135,
          1.033880440972724,
          1.0495626822157436,
          1.0561415736640345,
          1.0529286266776599,
          1.039235352616682,
          1.0143732628411632,
          0.9776538687111664,
          0.9283886815867539,
          0.8658892128279884,
          0.7894669737949325,
          0.6984334758476493,
          0.5921002303461999,
          0.4697787486506478,
          0.33078054212105534,
          0.17441712211748528,
          0
         ]
        }
       ],
       "layout": {
        "template": {
         "data": {
          "bar": [
           {
            "error_x": {
             "color": "#2a3f5f"
            },
            "error_y": {
             "color": "#2a3f5f"
            },
            "marker": {
             "line": {
              "color": "#E5ECF6",
              "width": 0.5
             }
            },
            "type": "bar"
           }
          ],
          "barpolar": [
           {
            "marker": {
             "line": {
              "color": "#E5ECF6",
              "width": 0.5
             }
            },
            "type": "barpolar"
           }
          ],
          "carpet": [
           {
            "aaxis": {
             "endlinecolor": "#2a3f5f",
             "gridcolor": "white",
             "linecolor": "white",
             "minorgridcolor": "white",
             "startlinecolor": "#2a3f5f"
            },
            "baxis": {
             "endlinecolor": "#2a3f5f",
             "gridcolor": "white",
             "linecolor": "white",
             "minorgridcolor": "white",
             "startlinecolor": "#2a3f5f"
            },
            "type": "carpet"
           }
          ],
          "choropleth": [
           {
            "colorbar": {
             "outlinewidth": 0,
             "ticks": ""
            },
            "type": "choropleth"
           }
          ],
          "contour": [
           {
            "colorbar": {
             "outlinewidth": 0,
             "ticks": ""
            },
            "colorscale": [
             [
              0,
              "#0d0887"
             ],
             [
              0.1111111111111111,
              "#46039f"
             ],
             [
              0.2222222222222222,
              "#7201a8"
             ],
             [
              0.3333333333333333,
              "#9c179e"
             ],
             [
              0.4444444444444444,
              "#bd3786"
             ],
             [
              0.5555555555555556,
              "#d8576b"
             ],
             [
              0.6666666666666666,
              "#ed7953"
             ],
             [
              0.7777777777777778,
              "#fb9f3a"
             ],
             [
              0.8888888888888888,
              "#fdca26"
             ],
             [
              1,
              "#f0f921"
             ]
            ],
            "type": "contour"
           }
          ],
          "contourcarpet": [
           {
            "colorbar": {
             "outlinewidth": 0,
             "ticks": ""
            },
            "type": "contourcarpet"
           }
          ],
          "heatmap": [
           {
            "colorbar": {
             "outlinewidth": 0,
             "ticks": ""
            },
            "colorscale": [
             [
              0,
              "#0d0887"
             ],
             [
              0.1111111111111111,
              "#46039f"
             ],
             [
              0.2222222222222222,
              "#7201a8"
             ],
             [
              0.3333333333333333,
              "#9c179e"
             ],
             [
              0.4444444444444444,
              "#bd3786"
             ],
             [
              0.5555555555555556,
              "#d8576b"
             ],
             [
              0.6666666666666666,
              "#ed7953"
             ],
             [
              0.7777777777777778,
              "#fb9f3a"
             ],
             [
              0.8888888888888888,
              "#fdca26"
             ],
             [
              1,
              "#f0f921"
             ]
            ],
            "type": "heatmap"
           }
          ],
          "heatmapgl": [
           {
            "colorbar": {
             "outlinewidth": 0,
             "ticks": ""
            },
            "colorscale": [
             [
              0,
              "#0d0887"
             ],
             [
              0.1111111111111111,
              "#46039f"
             ],
             [
              0.2222222222222222,
              "#7201a8"
             ],
             [
              0.3333333333333333,
              "#9c179e"
             ],
             [
              0.4444444444444444,
              "#bd3786"
             ],
             [
              0.5555555555555556,
              "#d8576b"
             ],
             [
              0.6666666666666666,
              "#ed7953"
             ],
             [
              0.7777777777777778,
              "#fb9f3a"
             ],
             [
              0.8888888888888888,
              "#fdca26"
             ],
             [
              1,
              "#f0f921"
             ]
            ],
            "type": "heatmapgl"
           }
          ],
          "histogram": [
           {
            "marker": {
             "colorbar": {
              "outlinewidth": 0,
              "ticks": ""
             }
            },
            "type": "histogram"
           }
          ],
          "histogram2d": [
           {
            "colorbar": {
             "outlinewidth": 0,
             "ticks": ""
            },
            "colorscale": [
             [
              0,
              "#0d0887"
             ],
             [
              0.1111111111111111,
              "#46039f"
             ],
             [
              0.2222222222222222,
              "#7201a8"
             ],
             [
              0.3333333333333333,
              "#9c179e"
             ],
             [
              0.4444444444444444,
              "#bd3786"
             ],
             [
              0.5555555555555556,
              "#d8576b"
             ],
             [
              0.6666666666666666,
              "#ed7953"
             ],
             [
              0.7777777777777778,
              "#fb9f3a"
             ],
             [
              0.8888888888888888,
              "#fdca26"
             ],
             [
              1,
              "#f0f921"
             ]
            ],
            "type": "histogram2d"
           }
          ],
          "histogram2dcontour": [
           {
            "colorbar": {
             "outlinewidth": 0,
             "ticks": ""
            },
            "colorscale": [
             [
              0,
              "#0d0887"
             ],
             [
              0.1111111111111111,
              "#46039f"
             ],
             [
              0.2222222222222222,
              "#7201a8"
             ],
             [
              0.3333333333333333,
              "#9c179e"
             ],
             [
              0.4444444444444444,
              "#bd3786"
             ],
             [
              0.5555555555555556,
              "#d8576b"
             ],
             [
              0.6666666666666666,
              "#ed7953"
             ],
             [
              0.7777777777777778,
              "#fb9f3a"
             ],
             [
              0.8888888888888888,
              "#fdca26"
             ],
             [
              1,
              "#f0f921"
             ]
            ],
            "type": "histogram2dcontour"
           }
          ],
          "mesh3d": [
           {
            "colorbar": {
             "outlinewidth": 0,
             "ticks": ""
            },
            "type": "mesh3d"
           }
          ],
          "parcoords": [
           {
            "line": {
             "colorbar": {
              "outlinewidth": 0,
              "ticks": ""
             }
            },
            "type": "parcoords"
           }
          ],
          "scatter": [
           {
            "marker": {
             "colorbar": {
              "outlinewidth": 0,
              "ticks": ""
             }
            },
            "type": "scatter"
           }
          ],
          "scatter3d": [
           {
            "line": {
             "colorbar": {
              "outlinewidth": 0,
              "ticks": ""
             }
            },
            "marker": {
             "colorbar": {
              "outlinewidth": 0,
              "ticks": ""
             }
            },
            "type": "scatter3d"
           }
          ],
          "scattercarpet": [
           {
            "marker": {
             "colorbar": {
              "outlinewidth": 0,
              "ticks": ""
             }
            },
            "type": "scattercarpet"
           }
          ],
          "scattergeo": [
           {
            "marker": {
             "colorbar": {
              "outlinewidth": 0,
              "ticks": ""
             }
            },
            "type": "scattergeo"
           }
          ],
          "scattergl": [
           {
            "marker": {
             "colorbar": {
              "outlinewidth": 0,
              "ticks": ""
             }
            },
            "type": "scattergl"
           }
          ],
          "scattermapbox": [
           {
            "marker": {
             "colorbar": {
              "outlinewidth": 0,
              "ticks": ""
             }
            },
            "type": "scattermapbox"
           }
          ],
          "scatterpolar": [
           {
            "marker": {
             "colorbar": {
              "outlinewidth": 0,
              "ticks": ""
             }
            },
            "type": "scatterpolar"
           }
          ],
          "scatterpolargl": [
           {
            "marker": {
             "colorbar": {
              "outlinewidth": 0,
              "ticks": ""
             }
            },
            "type": "scatterpolargl"
           }
          ],
          "scatterternary": [
           {
            "marker": {
             "colorbar": {
              "outlinewidth": 0,
              "ticks": ""
             }
            },
            "type": "scatterternary"
           }
          ],
          "surface": [
           {
            "colorbar": {
             "outlinewidth": 0,
             "ticks": ""
            },
            "colorscale": [
             [
              0,
              "#0d0887"
             ],
             [
              0.1111111111111111,
              "#46039f"
             ],
             [
              0.2222222222222222,
              "#7201a8"
             ],
             [
              0.3333333333333333,
              "#9c179e"
             ],
             [
              0.4444444444444444,
              "#bd3786"
             ],
             [
              0.5555555555555556,
              "#d8576b"
             ],
             [
              0.6666666666666666,
              "#ed7953"
             ],
             [
              0.7777777777777778,
              "#fb9f3a"
             ],
             [
              0.8888888888888888,
              "#fdca26"
             ],
             [
              1,
              "#f0f921"
             ]
            ],
            "type": "surface"
           }
          ],
          "table": [
           {
            "cells": {
             "fill": {
              "color": "#EBF0F8"
             },
             "line": {
              "color": "white"
             }
            },
            "header": {
             "fill": {
              "color": "#C8D4E3"
             },
             "line": {
              "color": "white"
             }
            },
            "type": "table"
           }
          ]
         },
         "layout": {
          "annotationdefaults": {
           "arrowcolor": "#2a3f5f",
           "arrowhead": 0,
           "arrowwidth": 1
          },
          "colorscale": {
           "diverging": [
            [
             0,
             "#8e0152"
            ],
            [
             0.1,
             "#c51b7d"
            ],
            [
             0.2,
             "#de77ae"
            ],
            [
             0.3,
             "#f1b6da"
            ],
            [
             0.4,
             "#fde0ef"
            ],
            [
             0.5,
             "#f7f7f7"
            ],
            [
             0.6,
             "#e6f5d0"
            ],
            [
             0.7,
             "#b8e186"
            ],
            [
             0.8,
             "#7fbc41"
            ],
            [
             0.9,
             "#4d9221"
            ],
            [
             1,
             "#276419"
            ]
           ],
           "sequential": [
            [
             0,
             "#0d0887"
            ],
            [
             0.1111111111111111,
             "#46039f"
            ],
            [
             0.2222222222222222,
             "#7201a8"
            ],
            [
             0.3333333333333333,
             "#9c179e"
            ],
            [
             0.4444444444444444,
             "#bd3786"
            ],
            [
             0.5555555555555556,
             "#d8576b"
            ],
            [
             0.6666666666666666,
             "#ed7953"
            ],
            [
             0.7777777777777778,
             "#fb9f3a"
            ],
            [
             0.8888888888888888,
             "#fdca26"
            ],
            [
             1,
             "#f0f921"
            ]
           ],
           "sequentialminus": [
            [
             0,
             "#0d0887"
            ],
            [
             0.1111111111111111,
             "#46039f"
            ],
            [
             0.2222222222222222,
             "#7201a8"
            ],
            [
             0.3333333333333333,
             "#9c179e"
            ],
            [
             0.4444444444444444,
             "#bd3786"
            ],
            [
             0.5555555555555556,
             "#d8576b"
            ],
            [
             0.6666666666666666,
             "#ed7953"
            ],
            [
             0.7777777777777778,
             "#fb9f3a"
            ],
            [
             0.8888888888888888,
             "#fdca26"
            ],
            [
             1,
             "#f0f921"
            ]
           ]
          },
          "colorway": [
           "#636efa",
           "#EF553B",
           "#00cc96",
           "#ab63fa",
           "#FFA15A",
           "#19d3f3",
           "#FF6692",
           "#B6E880",
           "#FF97FF",
           "#FECB52"
          ],
          "font": {
           "color": "#2a3f5f"
          },
          "geo": {
           "bgcolor": "white",
           "lakecolor": "white",
           "landcolor": "#E5ECF6",
           "showlakes": true,
           "showland": true,
           "subunitcolor": "white"
          },
          "hoverlabel": {
           "align": "left"
          },
          "hovermode": "closest",
          "mapbox": {
           "style": "light"
          },
          "paper_bgcolor": "white",
          "plot_bgcolor": "#E5ECF6",
          "polar": {
           "angularaxis": {
            "gridcolor": "white",
            "linecolor": "white",
            "ticks": ""
           },
           "bgcolor": "#E5ECF6",
           "radialaxis": {
            "gridcolor": "white",
            "linecolor": "white",
            "ticks": ""
           }
          },
          "scene": {
           "xaxis": {
            "backgroundcolor": "#E5ECF6",
            "gridcolor": "white",
            "gridwidth": 2,
            "linecolor": "white",
            "showbackground": true,
            "ticks": "",
            "zerolinecolor": "white"
           },
           "yaxis": {
            "backgroundcolor": "#E5ECF6",
            "gridcolor": "white",
            "gridwidth": 2,
            "linecolor": "white",
            "showbackground": true,
            "ticks": "",
            "zerolinecolor": "white"
           },
           "zaxis": {
            "backgroundcolor": "#E5ECF6",
            "gridcolor": "white",
            "gridwidth": 2,
            "linecolor": "white",
            "showbackground": true,
            "ticks": "",
            "zerolinecolor": "white"
           }
          },
          "shapedefaults": {
           "line": {
            "color": "#2a3f5f"
           }
          },
          "ternary": {
           "aaxis": {
            "gridcolor": "white",
            "linecolor": "white",
            "ticks": ""
           },
           "baxis": {
            "gridcolor": "white",
            "linecolor": "white",
            "ticks": ""
           },
           "bgcolor": "#E5ECF6",
           "caxis": {
            "gridcolor": "white",
            "linecolor": "white",
            "ticks": ""
           }
          },
          "title": {
           "x": 0.05
          },
          "xaxis": {
           "automargin": true,
           "gridcolor": "white",
           "linecolor": "white",
           "ticks": "",
           "zerolinecolor": "white",
           "zerolinewidth": 2
          },
          "yaxis": {
           "automargin": true,
           "gridcolor": "white",
           "linecolor": "white",
           "ticks": "",
           "zerolinecolor": "white",
           "zerolinewidth": 2
          }
         }
        }
       }
      },
      "text/html": [
       "<div>\n",
       "        \n",
       "        \n",
       "            <div id=\"a7721a5b-f2ab-47ae-8834-33623b8ac63c\" class=\"plotly-graph-div\" style=\"height:525px; width:100%;\"></div>\n",
       "            <script type=\"text/javascript\">\n",
       "                require([\"plotly\"], function(Plotly) {\n",
       "                    window.PLOTLYENV=window.PLOTLYENV || {};\n",
       "                    \n",
       "                if (document.getElementById(\"a7721a5b-f2ab-47ae-8834-33623b8ac63c\")) {\n",
       "                    Plotly.newPlot(\n",
       "                        'a7721a5b-f2ab-47ae-8834-33623b8ac63c',\n",
       "                        [{\"mode\": \"lines\", \"name\": \"$\\\\hat\\\\phi_0$\", \"type\": \"scatter\", \"x\": [0.0, 0.02040816326530612, 0.04081632653061224, 0.061224489795918366, 0.08163265306122448, 0.1020408163265306, 0.12244897959183673, 0.14285714285714285, 0.16326530612244897, 0.18367346938775508, 0.2040816326530612, 0.22448979591836732, 0.24489795918367346, 0.26530612244897955, 0.2857142857142857, 0.3061224489795918, 0.32653061224489793, 0.3469387755102041, 0.36734693877551017, 0.3877551020408163, 0.4081632653061224, 0.42857142857142855, 0.44897959183673464, 0.4693877551020408, 0.4897959183673469, 0.5102040816326531, 0.5306122448979591, 0.5510204081632653, 0.5714285714285714, 0.5918367346938775, 0.6122448979591836, 0.6326530612244897, 0.6530612244897959, 0.673469387755102, 0.6938775510204082, 0.7142857142857142, 0.7346938775510203, 0.7551020408163265, 0.7755102040816326, 0.7959183673469387, 0.8163265306122448, 0.836734693877551, 0.8571428571428571, 0.8775510204081632, 0.8979591836734693, 0.9183673469387754, 0.9387755102040816, 0.9591836734693877, 0.9795918367346939, 1.0], \"y\": [1.0, 0.8914652908227011, 0.7901979617336313, 0.6959685165194774, 0.6085474589669271, 0.5277052928626677, 0.453212521993387, 0.38483965014577254, 0.32235718110651174, 0.2655356186622921, 0.21414546659980108, 0.16795722870572635, 0.12674140876675533, 0.09026851056957565, 0.05830903790087463, 0.03063349454734001, 0.00701238429565913, -0.0127837890674804, -0.028984521755391023, -0.04181930998138531, -0.05151764995877566, -0.058309037900874626, -0.06242297002099464, -0.0640889425324482, -0.06353645164854779, -0.06099499358260588, -0.05669406454793497, -0.050863160757847505, -0.043731778425655975, -0.03552941376467287, -0.026485562988210722, -0.01682972230958191, -0.006791387942098964, 0.0033999439009256387, 0.013514777006179415, 0.02332361516034983, 0.03259696215012451, 0.04110532176219093, 0.04861919778323658, 0.05490909399994899, 0.05974551419901571, 0.06289896216712425, 0.0641399416909621, 0.06323895655721681, 0.05996651055257592, 0.05409310746372689, 0.04538925107735727, 0.03362544518015456, 0.018572193558806304, -0.0]}, {\"mode\": \"lines\", \"name\": \"$\\\\hat\\\\phi_1$\", \"type\": \"scatter\", \"x\": [0.0, 0.02040816326530612, 0.04081632653061224, 0.061224489795918366, 0.08163265306122448, 0.1020408163265306, 0.12244897959183673, 0.14285714285714285, 0.16326530612244897, 0.18367346938775508, 0.2040816326530612, 0.22448979591836732, 0.24489795918367346, 0.26530612244897955, 0.2857142857142857, 0.3061224489795918, 0.32653061224489793, 0.3469387755102041, 0.36734693877551017, 0.3877551020408163, 0.4081632653061224, 0.42857142857142855, 0.44897959183673464, 0.4693877551020408, 0.4897959183673469, 0.5102040816326531, 0.5306122448979591, 0.5510204081632653, 0.5714285714285714, 0.5918367346938775, 0.6122448979591836, 0.6326530612244897, 0.6530612244897959, 0.673469387755102, 0.6938775510204082, 0.7142857142857142, 0.7346938775510203, 0.7551020408163265, 0.7755102040816326, 0.7959183673469387, 0.8163265306122448, 0.836734693877551, 0.8571428571428571, 0.8775510204081632, 0.8979591836734693, 0.9183673469387754, 0.9387755102040816, 0.9591836734693877, 0.9795918367346939, 1.0], \"y\": [0.0, 0.018572193558806276, 0.03362544518015452, 0.045389251077357216, 0.05409310746372684, 0.05996651055257587, 0.06323895655721679, 0.06413994169096209, 0.06289896216712423, 0.059745514199015706, 0.05490909399994899, 0.048619197783236576, 0.04110532176219091, 0.03259696215012453, 0.02332361516034985, 0.013514777006179412, 0.003399943900925638, -0.006791387942098962, -0.01682972230958188, -0.02648556298821069, -0.03552941376467287, -0.04373177842565597, -0.05086316075784748, -0.05669406454793494, -0.06099499358260588, -0.06353645164854779, -0.0640889425324482, -0.06242297002099465, -0.058309037900874626, -0.05151764995877566, -0.04181930998138534, -0.02898452175539106, -0.012783789067480398, 0.007012384295659129, 0.030633494547340004, 0.05830903790087454, 0.09026851056957554, 0.1267414087667553, 0.16795722870572635, 0.2141454665998009, 0.2655356186622919, 0.32235718110651157, 0.3848396501457724, 0.4532125219933871, 0.5277052928626675, 0.6085474589669269, 0.6959685165194772, 0.7901979617336314, 0.8914652908227014, 1.0000000000000002]}, {\"mode\": \"lines\", \"name\": \"$\\\\hat\\\\phi_2$\", \"type\": \"scatter\", \"x\": [0.0, 0.02040816326530612, 0.04081632653061224, 0.061224489795918366, 0.08163265306122448, 0.1020408163265306, 0.12244897959183673, 0.14285714285714285, 0.16326530612244897, 0.18367346938775508, 0.2040816326530612, 0.22448979591836732, 0.24489795918367346, 0.26530612244897955, 0.2857142857142857, 0.3061224489795918, 0.32653061224489793, 0.3469387755102041, 0.36734693877551017, 0.3877551020408163, 0.4081632653061224, 0.42857142857142855, 0.44897959183673464, 0.4693877551020408, 0.4897959183673469, 0.5102040816326531, 0.5306122448979591, 0.5510204081632653, 0.5714285714285714, 0.5918367346938775, 0.6122448979591836, 0.6326530612244897, 0.6530612244897959, 0.673469387755102, 0.6938775510204082, 0.7142857142857142, 0.7346938775510203, 0.7551020408163265, 0.7755102040816326, 0.7959183673469387, 0.8163265306122448, 0.836734693877551, 0.8571428571428571, 0.8775510204081632, 0.8979591836734693, 0.9183673469387754, 0.9387755102040816, 0.9591836734693877, 0.9795918367346939, 1.0], \"y\": [0.0, 0.17441712211748503, 0.3307805421210549, 0.4697787486506473, 0.5921002303461992, 0.6984334758476484, 0.7894669737949324, 0.8658892128279881, 0.9283886815867538, 0.9776538687111661, 1.0143732628411628, 1.0392353526166818, 1.0529286266776599, 1.0561415736640345, 1.0495626822157433, 1.0338804409727238, 1.0097833385749135, 0.9779598636622496, 0.9390985048746696, 0.8938877508521108, 0.8430160902345111, 0.7871720116618075, 0.7270440037739377, 0.6633205552108391, 0.5966901546124489, 0.5278412906187047, 0.4574624518695443, 0.3862421270049045, 0.314868804664723, 0.24403097348893735, 0.17441712211748528, 0.1067157391903035, 0.04161531334732982, -0.020195666771498293, -0.07802871252624341, -0.1311953352769678, -0.1790070463837346, -0.22077535720660607, -0.2558117791056448, -0.28342782344091316, -0.30293500157247405, -0.3136448248603898, -0.3148688046647231, -0.30591845234553633, -0.28610527926289236, -0.25474079677685335, -0.21113651624748211, -0.15460394903484106, -0.08445460649899286, 0.0]}, {\"mode\": \"lines\", \"name\": \"$\\\\hat\\\\phi_3$\", \"type\": \"scatter\", \"x\": [0.0, 0.02040816326530612, 0.04081632653061224, 0.061224489795918366, 0.08163265306122448, 0.1020408163265306, 0.12244897959183673, 0.14285714285714285, 0.16326530612244897, 0.18367346938775508, 0.2040816326530612, 0.22448979591836732, 0.24489795918367346, 0.26530612244897955, 0.2857142857142857, 0.3061224489795918, 0.32653061224489793, 0.3469387755102041, 0.36734693877551017, 0.3877551020408163, 0.4081632653061224, 0.42857142857142855, 0.44897959183673464, 0.4693877551020408, 0.4897959183673469, 0.5102040816326531, 0.5306122448979591, 0.5510204081632653, 0.5714285714285714, 0.5918367346938775, 0.6122448979591836, 0.6326530612244897, 0.6530612244897959, 0.673469387755102, 0.6938775510204082, 0.7142857142857142, 0.7346938775510203, 0.7551020408163265, 0.7755102040816326, 0.7959183673469387, 0.8163265306122448, 0.836734693877551, 0.8571428571428571, 0.8775510204081632, 0.8979591836734693, 0.9183673469387754, 0.9387755102040816, 0.9591836734693877, 0.9795918367346939, 1.0], \"y\": [-0.0, -0.08445460649899275, -0.1546039490348409, -0.21113651624748192, -0.2547407967768532, -0.2861052792628921, -0.3059184523455363, -0.314868804664723, -0.31364482486038975, -0.30293500157247405, -0.2834278234409132, -0.25581177910564473, -0.22077535720660607, -0.1790070463837347, -0.13119533527696792, -0.0780287125262434, -0.020195666771498293, 0.04161531334732982, 0.1067157391903033, 0.17441712211748508, 0.24403097348893732, 0.314868804664723, 0.3862421270049043, 0.45746245186954415, 0.5278412906187049, 0.596690154612449, 0.6633205552108389, 0.7270440037739376, 0.7871720116618076, 0.8430160902345112, 0.8938877508521107, 0.9390985048746695, 0.9779598636622494, 1.0097833385749135, 1.033880440972724, 1.0495626822157436, 1.0561415736640345, 1.0529286266776599, 1.039235352616682, 1.0143732628411632, 0.9776538687111664, 0.9283886815867539, 0.8658892128279884, 0.7894669737949325, 0.6984334758476493, 0.5921002303461999, 0.4697787486506478, 0.33078054212105534, 0.17441712211748528, -0.0]}],\n",
       "                        {\"template\": {\"data\": {\"bar\": [{\"error_x\": {\"color\": \"#2a3f5f\"}, \"error_y\": {\"color\": \"#2a3f5f\"}, \"marker\": {\"line\": {\"color\": \"#E5ECF6\", \"width\": 0.5}}, \"type\": \"bar\"}], \"barpolar\": [{\"marker\": {\"line\": {\"color\": \"#E5ECF6\", \"width\": 0.5}}, \"type\": \"barpolar\"}], \"carpet\": [{\"aaxis\": {\"endlinecolor\": \"#2a3f5f\", \"gridcolor\": \"white\", \"linecolor\": \"white\", \"minorgridcolor\": \"white\", \"startlinecolor\": \"#2a3f5f\"}, \"baxis\": {\"endlinecolor\": \"#2a3f5f\", \"gridcolor\": \"white\", \"linecolor\": \"white\", \"minorgridcolor\": \"white\", \"startlinecolor\": \"#2a3f5f\"}, \"type\": \"carpet\"}], \"choropleth\": [{\"colorbar\": {\"outlinewidth\": 0, \"ticks\": \"\"}, \"type\": \"choropleth\"}], \"contour\": [{\"colorbar\": {\"outlinewidth\": 0, \"ticks\": \"\"}, \"colorscale\": [[0.0, \"#0d0887\"], [0.1111111111111111, \"#46039f\"], [0.2222222222222222, \"#7201a8\"], [0.3333333333333333, \"#9c179e\"], [0.4444444444444444, \"#bd3786\"], [0.5555555555555556, \"#d8576b\"], [0.6666666666666666, \"#ed7953\"], [0.7777777777777778, \"#fb9f3a\"], [0.8888888888888888, \"#fdca26\"], [1.0, \"#f0f921\"]], \"type\": \"contour\"}], \"contourcarpet\": [{\"colorbar\": {\"outlinewidth\": 0, \"ticks\": \"\"}, \"type\": \"contourcarpet\"}], \"heatmap\": [{\"colorbar\": {\"outlinewidth\": 0, \"ticks\": \"\"}, \"colorscale\": [[0.0, \"#0d0887\"], [0.1111111111111111, \"#46039f\"], [0.2222222222222222, \"#7201a8\"], [0.3333333333333333, \"#9c179e\"], [0.4444444444444444, \"#bd3786\"], [0.5555555555555556, \"#d8576b\"], [0.6666666666666666, \"#ed7953\"], [0.7777777777777778, \"#fb9f3a\"], [0.8888888888888888, \"#fdca26\"], [1.0, \"#f0f921\"]], \"type\": \"heatmap\"}], \"heatmapgl\": [{\"colorbar\": {\"outlinewidth\": 0, \"ticks\": \"\"}, \"colorscale\": [[0.0, \"#0d0887\"], [0.1111111111111111, \"#46039f\"], [0.2222222222222222, \"#7201a8\"], [0.3333333333333333, \"#9c179e\"], [0.4444444444444444, \"#bd3786\"], [0.5555555555555556, \"#d8576b\"], [0.6666666666666666, \"#ed7953\"], [0.7777777777777778, \"#fb9f3a\"], [0.8888888888888888, \"#fdca26\"], [1.0, \"#f0f921\"]], \"type\": \"heatmapgl\"}], \"histogram\": [{\"marker\": {\"colorbar\": {\"outlinewidth\": 0, \"ticks\": \"\"}}, \"type\": \"histogram\"}], \"histogram2d\": [{\"colorbar\": {\"outlinewidth\": 0, \"ticks\": \"\"}, \"colorscale\": [[0.0, \"#0d0887\"], [0.1111111111111111, \"#46039f\"], [0.2222222222222222, \"#7201a8\"], [0.3333333333333333, \"#9c179e\"], [0.4444444444444444, \"#bd3786\"], [0.5555555555555556, \"#d8576b\"], [0.6666666666666666, \"#ed7953\"], [0.7777777777777778, \"#fb9f3a\"], [0.8888888888888888, \"#fdca26\"], [1.0, \"#f0f921\"]], \"type\": \"histogram2d\"}], \"histogram2dcontour\": [{\"colorbar\": {\"outlinewidth\": 0, \"ticks\": \"\"}, \"colorscale\": [[0.0, \"#0d0887\"], [0.1111111111111111, \"#46039f\"], [0.2222222222222222, \"#7201a8\"], [0.3333333333333333, \"#9c179e\"], [0.4444444444444444, \"#bd3786\"], [0.5555555555555556, \"#d8576b\"], [0.6666666666666666, \"#ed7953\"], [0.7777777777777778, \"#fb9f3a\"], [0.8888888888888888, \"#fdca26\"], [1.0, \"#f0f921\"]], \"type\": \"histogram2dcontour\"}], \"mesh3d\": [{\"colorbar\": {\"outlinewidth\": 0, \"ticks\": \"\"}, \"type\": \"mesh3d\"}], \"parcoords\": [{\"line\": {\"colorbar\": {\"outlinewidth\": 0, \"ticks\": \"\"}}, \"type\": \"parcoords\"}], \"scatter\": [{\"marker\": {\"colorbar\": {\"outlinewidth\": 0, \"ticks\": \"\"}}, \"type\": \"scatter\"}], \"scatter3d\": [{\"line\": {\"colorbar\": {\"outlinewidth\": 0, \"ticks\": \"\"}}, \"marker\": {\"colorbar\": {\"outlinewidth\": 0, \"ticks\": \"\"}}, \"type\": \"scatter3d\"}], \"scattercarpet\": [{\"marker\": {\"colorbar\": {\"outlinewidth\": 0, \"ticks\": \"\"}}, \"type\": \"scattercarpet\"}], \"scattergeo\": [{\"marker\": {\"colorbar\": {\"outlinewidth\": 0, \"ticks\": \"\"}}, \"type\": \"scattergeo\"}], \"scattergl\": [{\"marker\": {\"colorbar\": {\"outlinewidth\": 0, \"ticks\": \"\"}}, \"type\": \"scattergl\"}], \"scattermapbox\": [{\"marker\": {\"colorbar\": {\"outlinewidth\": 0, \"ticks\": \"\"}}, \"type\": \"scattermapbox\"}], \"scatterpolar\": [{\"marker\": {\"colorbar\": {\"outlinewidth\": 0, \"ticks\": \"\"}}, \"type\": \"scatterpolar\"}], \"scatterpolargl\": [{\"marker\": {\"colorbar\": {\"outlinewidth\": 0, \"ticks\": \"\"}}, \"type\": \"scatterpolargl\"}], \"scatterternary\": [{\"marker\": {\"colorbar\": {\"outlinewidth\": 0, \"ticks\": \"\"}}, \"type\": \"scatterternary\"}], \"surface\": [{\"colorbar\": {\"outlinewidth\": 0, \"ticks\": \"\"}, \"colorscale\": [[0.0, \"#0d0887\"], [0.1111111111111111, \"#46039f\"], [0.2222222222222222, \"#7201a8\"], [0.3333333333333333, \"#9c179e\"], [0.4444444444444444, \"#bd3786\"], [0.5555555555555556, \"#d8576b\"], [0.6666666666666666, \"#ed7953\"], [0.7777777777777778, \"#fb9f3a\"], [0.8888888888888888, \"#fdca26\"], [1.0, \"#f0f921\"]], \"type\": \"surface\"}], \"table\": [{\"cells\": {\"fill\": {\"color\": \"#EBF0F8\"}, \"line\": {\"color\": \"white\"}}, \"header\": {\"fill\": {\"color\": \"#C8D4E3\"}, \"line\": {\"color\": \"white\"}}, \"type\": \"table\"}]}, \"layout\": {\"annotationdefaults\": {\"arrowcolor\": \"#2a3f5f\", \"arrowhead\": 0, \"arrowwidth\": 1}, \"colorscale\": {\"diverging\": [[0, \"#8e0152\"], [0.1, \"#c51b7d\"], [0.2, \"#de77ae\"], [0.3, \"#f1b6da\"], [0.4, \"#fde0ef\"], [0.5, \"#f7f7f7\"], [0.6, \"#e6f5d0\"], [0.7, \"#b8e186\"], [0.8, \"#7fbc41\"], [0.9, \"#4d9221\"], [1, \"#276419\"]], \"sequential\": [[0.0, \"#0d0887\"], [0.1111111111111111, \"#46039f\"], [0.2222222222222222, \"#7201a8\"], [0.3333333333333333, \"#9c179e\"], [0.4444444444444444, \"#bd3786\"], [0.5555555555555556, \"#d8576b\"], [0.6666666666666666, \"#ed7953\"], [0.7777777777777778, \"#fb9f3a\"], [0.8888888888888888, \"#fdca26\"], [1.0, \"#f0f921\"]], \"sequentialminus\": [[0.0, \"#0d0887\"], [0.1111111111111111, \"#46039f\"], [0.2222222222222222, \"#7201a8\"], [0.3333333333333333, \"#9c179e\"], [0.4444444444444444, \"#bd3786\"], [0.5555555555555556, \"#d8576b\"], [0.6666666666666666, \"#ed7953\"], [0.7777777777777778, \"#fb9f3a\"], [0.8888888888888888, \"#fdca26\"], [1.0, \"#f0f921\"]]}, \"colorway\": [\"#636efa\", \"#EF553B\", \"#00cc96\", \"#ab63fa\", \"#FFA15A\", \"#19d3f3\", \"#FF6692\", \"#B6E880\", \"#FF97FF\", \"#FECB52\"], \"font\": {\"color\": \"#2a3f5f\"}, \"geo\": {\"bgcolor\": \"white\", \"lakecolor\": \"white\", \"landcolor\": \"#E5ECF6\", \"showlakes\": true, \"showland\": true, \"subunitcolor\": \"white\"}, \"hoverlabel\": {\"align\": \"left\"}, \"hovermode\": \"closest\", \"mapbox\": {\"style\": \"light\"}, \"paper_bgcolor\": \"white\", \"plot_bgcolor\": \"#E5ECF6\", \"polar\": {\"angularaxis\": {\"gridcolor\": \"white\", \"linecolor\": \"white\", \"ticks\": \"\"}, \"bgcolor\": \"#E5ECF6\", \"radialaxis\": {\"gridcolor\": \"white\", \"linecolor\": \"white\", \"ticks\": \"\"}}, \"scene\": {\"xaxis\": {\"backgroundcolor\": \"#E5ECF6\", \"gridcolor\": \"white\", \"gridwidth\": 2, \"linecolor\": \"white\", \"showbackground\": true, \"ticks\": \"\", \"zerolinecolor\": \"white\"}, \"yaxis\": {\"backgroundcolor\": \"#E5ECF6\", \"gridcolor\": \"white\", \"gridwidth\": 2, \"linecolor\": \"white\", \"showbackground\": true, \"ticks\": \"\", \"zerolinecolor\": \"white\"}, \"zaxis\": {\"backgroundcolor\": \"#E5ECF6\", \"gridcolor\": \"white\", \"gridwidth\": 2, \"linecolor\": \"white\", \"showbackground\": true, \"ticks\": \"\", \"zerolinecolor\": \"white\"}}, \"shapedefaults\": {\"line\": {\"color\": \"#2a3f5f\"}}, \"ternary\": {\"aaxis\": {\"gridcolor\": \"white\", \"linecolor\": \"white\", \"ticks\": \"\"}, \"baxis\": {\"gridcolor\": \"white\", \"linecolor\": \"white\", \"ticks\": \"\"}, \"bgcolor\": \"#E5ECF6\", \"caxis\": {\"gridcolor\": \"white\", \"linecolor\": \"white\", \"ticks\": \"\"}}, \"title\": {\"x\": 0.05}, \"xaxis\": {\"automargin\": true, \"gridcolor\": \"white\", \"linecolor\": \"white\", \"ticks\": \"\", \"zerolinecolor\": \"white\", \"zerolinewidth\": 2}, \"yaxis\": {\"automargin\": true, \"gridcolor\": \"white\", \"linecolor\": \"white\", \"ticks\": \"\", \"zerolinecolor\": \"white\", \"zerolinewidth\": 2}}}},\n",
       "                        {\"responsive\": true}\n",
       "                    ).then(function(){\n",
       "                            \n",
       "var gd = document.getElementById('a7721a5b-f2ab-47ae-8834-33623b8ac63c');\n",
       "var x = new MutationObserver(function (mutations, observer) {{\n",
       "        var display = window.getComputedStyle(gd).display;\n",
       "        if (!display || display === 'none') {{\n",
       "            console.log([gd, 'removed!']);\n",
       "            Plotly.purge(gd);\n",
       "            observer.disconnect();\n",
       "        }}\n",
       "}});\n",
       "\n",
       "// Listen for the removal of the full notebook cells\n",
       "var notebookContainer = gd.closest('#notebook-container');\n",
       "if (notebookContainer) {{\n",
       "    x.observe(notebookContainer, {childList: true});\n",
       "}}\n",
       "\n",
       "// Listen for the clearing of the current output cell\n",
       "var outputEl = gd.closest('.output');\n",
       "if (outputEl) {{\n",
       "    x.observe(outputEl, {childList: true});\n",
       "}}\n",
       "\n",
       "                        })\n",
       "                };\n",
       "                });\n",
       "            </script>\n",
       "        </div>"
      ]
     },
     "metadata": {},
     "output_type": "display_data"
    }
   ],
   "source": [
    "x = np.linspace(0, 1)\n",
    "\n",
    "data = []\n",
    "\n",
    "tmp = hat_phis(order)\n",
    "\n",
    "for o in range(order+1):\n",
    "    data.append(go.Scatter(x=x, y=tmp[o](x), mode='lines', name=\"$\\hat\\phi_{}$\".format(o)))\n",
    "\n",
    "fig = go.Figure(data=data)\n",
    "plotly.iplot(fig)"
   ]
  },
  {
   "cell_type": "markdown",
   "metadata": {
    "slideshow": {
     "slide_type": "slide"
    }
   },
   "source": [
    "We use `sympy` to compute the gradients of the local bases."
   ]
  },
  {
   "cell_type": "code",
   "execution_count": 6,
   "metadata": {
    "slideshow": {
     "slide_type": "fragment"
    }
   },
   "outputs": [],
   "source": [
    "import sympy as sp\n",
    "\n",
    "xsym = sp.Symbol('x')\n",
    "\n",
    "def grad_hat_phis(order):\n",
    "    #For linear we need to get the correct size\n",
    "    if order == 1:\n",
    "        return [lambda x : -np.ones(x.shape), lambda x : np.ones(x.shape)]\n",
    "    \n",
    "    res = []\n",
    "    tmp = hat_phis(order)\n",
    "    \n",
    "    for fun in tmp:\n",
    "        res.append(sp.lambdify(xsym, fun(xsym).diff(xsym)))\n",
    "    return res"
   ]
  },
  {
   "cell_type": "markdown",
   "metadata": {
    "slideshow": {
     "slide_type": "slide"
    }
   },
   "source": [
    "Plotting gradients"
   ]
  },
  {
   "cell_type": "code",
   "execution_count": 7,
   "metadata": {},
   "outputs": [
    {
     "data": {
      "application/vnd.plotly.v1+json": {
       "config": {
        "linkText": "Export to plot.ly",
        "plotlyServerURL": "https://plot.ly",
        "showLink": false
       },
       "data": [
        {
         "mode": "lines",
         "name": "$\\hat\\phi_0$",
         "type": "scatter",
         "x": [
          0,
          0.02040816326530612,
          0.04081632653061224,
          0.061224489795918366,
          0.08163265306122448,
          0.1020408163265306,
          0.12244897959183673,
          0.14285714285714285,
          0.16326530612244897,
          0.18367346938775508,
          0.2040816326530612,
          0.22448979591836732,
          0.24489795918367346,
          0.26530612244897955,
          0.2857142857142857,
          0.3061224489795918,
          0.32653061224489793,
          0.3469387755102041,
          0.36734693877551017,
          0.3877551020408163,
          0.4081632653061224,
          0.42857142857142855,
          0.44897959183673464,
          0.4693877551020408,
          0.4897959183673469,
          0.5102040816326531,
          0.5306122448979591,
          0.5510204081632653,
          0.5714285714285714,
          0.5918367346938775,
          0.6122448979591836,
          0.6326530612244897,
          0.6530612244897959,
          0.673469387755102,
          0.6938775510204082,
          0.7142857142857142,
          0.7346938775510203,
          0.7551020408163265,
          0.7755102040816326,
          0.7959183673469387,
          0.8163265306122448,
          0.836734693877551,
          0.8571428571428571,
          0.8775510204081632,
          0.8979591836734693,
          0.9183673469387754,
          0.9387755102040816,
          0.9591836734693877,
          0.9795918367346939,
          1
         ],
         "y": [
          -5.500000000000002,
          -5.138275718450647,
          -4.7877967513536035,
          -4.448563098708874,
          -4.120574760516453,
          -3.8038317367763446,
          -3.4983340274885477,
          -3.2040816326530632,
          -2.9210745522698893,
          -2.649312786339027,
          -2.3887963348604764,
          -2.1395251978342373,
          -1.9014993752603095,
          -1.6747188671386934,
          -1.459183673469389,
          -1.254893794252396,
          -1.0618492294877147,
          -0.8800499791753442,
          -0.7094960433152864,
          -0.5501874219075396,
          -0.40212411495210426,
          -0.26530612244898055,
          -0.13973344439816826,
          -0.025406080799667607,
          0.07767596834652163,
          0.16951270304039961,
          0.2501041232819653,
          0.31945022907121984,
          0.3775510204081628,
          0.42440649729279456,
          0.46001665972511435,
          0.4843815077051227,
          0.49750104123281963,
          0.49937526030820484,
          0.4900041649312788,
          0.4693877551020411,
          0.43752603082049174,
          0.3944189920866309,
          0.3400666389004585,
          0.27446897126197495,
          0.19762598917117946,
          0.1095376926280724,
          0.01020408163265385,
          -0.10037484381507639,
          -0.22219908371511737,
          -0.3552686380674707,
          -0.4995835068721353,
          -0.6551436901291119,
          -0.8219491878383995,
          -0.9999999999999991
         ]
        },
        {
         "mode": "lines",
         "name": "$\\hat\\phi_1$",
         "type": "scatter",
         "x": [
          0,
          0.02040816326530612,
          0.04081632653061224,
          0.061224489795918366,
          0.08163265306122448,
          0.1020408163265306,
          0.12244897959183673,
          0.14285714285714285,
          0.16326530612244897,
          0.18367346938775508,
          0.2040816326530612,
          0.22448979591836732,
          0.24489795918367346,
          0.26530612244897955,
          0.2857142857142857,
          0.3061224489795918,
          0.32653061224489793,
          0.3469387755102041,
          0.36734693877551017,
          0.3877551020408163,
          0.4081632653061224,
          0.42857142857142855,
          0.44897959183673464,
          0.4693877551020408,
          0.4897959183673469,
          0.5102040816326531,
          0.5306122448979591,
          0.5510204081632653,
          0.5714285714285714,
          0.5918367346938775,
          0.6122448979591836,
          0.6326530612244897,
          0.6530612244897959,
          0.673469387755102,
          0.6938775510204082,
          0.7142857142857142,
          0.7346938775510203,
          0.7551020408163265,
          0.7755102040816326,
          0.7959183673469387,
          0.8163265306122448,
          0.836734693877551,
          0.8571428571428571,
          0.8775510204081632,
          0.8979591836734693,
          0.9183673469387754,
          0.9387755102040816,
          0.9591836734693877,
          0.9795918367346939,
          1
         ],
         "y": [
          1.0000000000000004,
          0.8219491878384011,
          0.6551436901291132,
          0.49958350687213715,
          0.35526863806747233,
          0.2221990837151191,
          0.10037484381507744,
          -0.010204081632652684,
          -0.10953769262807128,
          -0.1976259891711783,
          -0.2744689712619739,
          -0.34006663890045785,
          -0.3944189920866303,
          -0.43752603082049124,
          -0.46938775510204067,
          -0.4900041649312786,
          -0.49937526030820484,
          -0.49750104123281963,
          -0.48438150770512284,
          -0.46001665972511446,
          -0.4244064972927948,
          -0.37755102040816335,
          -0.31945022907122056,
          -0.25010412328196596,
          -0.16951270304039992,
          -0.07767596834652235,
          0.025406080799666275,
          0.13973344439816693,
          0.2653061224489792,
          0.402124114952103,
          0.5501874219075376,
          0.7094960433152844,
          0.8800499791753428,
          1.0618492294877127,
          1.2548937942523946,
          1.4591836734693864,
          1.674718867138691,
          1.901499375260307,
          2.139525197834235,
          2.388796334860473,
          2.649312786339024,
          2.921074552269886,
          3.20408163265306,
          3.498334027488546,
          3.803831736776341,
          4.12057476051645,
          4.44856309870887,
          4.787796751353602,
          5.138275718450644,
          5.499999999999999
         ]
        },
        {
         "mode": "lines",
         "name": "$\\hat\\phi_2$",
         "type": "scatter",
         "x": [
          0,
          0.02040816326530612,
          0.04081632653061224,
          0.061224489795918366,
          0.08163265306122448,
          0.1020408163265306,
          0.12244897959183673,
          0.14285714285714285,
          0.16326530612244897,
          0.18367346938775508,
          0.2040816326530612,
          0.22448979591836732,
          0.24489795918367346,
          0.26530612244897955,
          0.2857142857142857,
          0.3061224489795918,
          0.32653061224489793,
          0.3469387755102041,
          0.36734693877551017,
          0.3877551020408163,
          0.4081632653061224,
          0.42857142857142855,
          0.44897959183673464,
          0.4693877551020408,
          0.4897959183673469,
          0.5102040816326531,
          0.5306122448979591,
          0.5510204081632653,
          0.5714285714285714,
          0.5918367346938775,
          0.6122448979591836,
          0.6326530612244897,
          0.6530612244897959,
          0.673469387755102,
          0.6938775510204082,
          0.7142857142857142,
          0.7346938775510203,
          0.7551020408163265,
          0.7755102040816326,
          0.7959183673469387,
          0.8163265306122448,
          0.836734693877551,
          0.8571428571428571,
          0.8775510204081632,
          0.8979591836734693,
          0.9183673469387754,
          0.9387755102040816,
          0.9591836734693877,
          0.9795918367346939,
          1
         ],
         "y": [
          9.000000000000004,
          8.098500624739696,
          7.2307371928363215,
          6.396709704289883,
          5.596418159100379,
          4.829862557267809,
          4.097042898792171,
          3.3979591836734726,
          2.732611411911707,
          2.1009995835068755,
          1.5031236984589782,
          0.9389837567680162,
          0.4085797584339881,
          -0.08808829654310468,
          -0.551020408163263,
          -0.9802165764264865,
          -1.3756768013327765,
          -1.737401082882132,
          -2.0653894210745505,
          -2.359641815910036,
          -2.620158267388586,
          -2.8469387755102034,
          -3.0399833402748846,
          -3.199291961682632,
          -3.3248646397334447,
          -3.416701374427322,
          -3.474802165764265,
          -3.499167013744274,
          -3.4897959183673475,
          -3.446688879633487,
          -3.369845897542692,
          -3.2592669720949625,
          -3.1149521032902974,
          -2.936901291128698,
          -2.7251145356101643,
          -2.479591836734697,
          -2.200333194502294,
          -1.887338608912956,
          -1.5406080799666833,
          -1.160141607663478,
          -0.7459391920033365,
          -0.2980008329862601,
          0.18367346938775098,
          0.6990837151186968,
          1.2482299042065743,
          1.831112036651389,
          2.447730112453139,
          3.0980841316118233,
          3.7821740941274427,
          4.4999999999999964
         ]
        },
        {
         "mode": "lines",
         "name": "$\\hat\\phi_3$",
         "type": "scatter",
         "x": [
          0,
          0.02040816326530612,
          0.04081632653061224,
          0.061224489795918366,
          0.08163265306122448,
          0.1020408163265306,
          0.12244897959183673,
          0.14285714285714285,
          0.16326530612244897,
          0.18367346938775508,
          0.2040816326530612,
          0.22448979591836732,
          0.24489795918367346,
          0.26530612244897955,
          0.2857142857142857,
          0.3061224489795918,
          0.32653061224489793,
          0.3469387755102041,
          0.36734693877551017,
          0.3877551020408163,
          0.4081632653061224,
          0.42857142857142855,
          0.44897959183673464,
          0.4693877551020408,
          0.4897959183673469,
          0.5102040816326531,
          0.5306122448979591,
          0.5510204081632653,
          0.5714285714285714,
          0.5918367346938775,
          0.6122448979591836,
          0.6326530612244897,
          0.6530612244897959,
          0.673469387755102,
          0.6938775510204082,
          0.7142857142857142,
          0.7346938775510203,
          0.7551020408163265,
          0.7755102040816326,
          0.7959183673469387,
          0.8163265306122448,
          0.836734693877551,
          0.8571428571428571,
          0.8775510204081632,
          0.8979591836734693,
          0.9183673469387754,
          0.9387755102040816,
          0.9591836734693877,
          0.9795918367346939,
          1
         ],
         "y": [
          -4.499999999999996,
          -3.782174094127442,
          -3.0980841316118246,
          -2.44773011245314,
          -1.8311120366513918,
          -1.2482299042065774,
          -0.6990837151186966,
          -0.18367346938775153,
          0.29800083298625846,
          0.7459391920033347,
          1.1601416076634758,
          1.540608079966683,
          1.8873386089129551,
          2.2003331945022926,
          2.4795918367346954,
          2.7251145356101643,
          2.936901291128698,
          3.1149521032902974,
          3.259266972094961,
          3.3698458975426915,
          3.4466888796334865,
          3.4897959183673475,
          3.499167013744274,
          3.4748021657642654,
          3.4167013744273227,
          3.324864639733444,
          3.1992919616826327,
          3.0399833402748855,
          2.8469387755102042,
          2.6201582673885873,
          2.359641815910038,
          2.065389421074552,
          1.737401082882132,
          1.3756768013327765,
          0.980216576426487,
          0.5510204081632648,
          0.08808829654310646,
          -0.4085797584339861,
          -0.9389837567680155,
          -1.5031236984589746,
          -2.100999583506872,
          -2.732611411911704,
          -3.3979591836734717,
          -4.097042898792173,
          -4.829862557267806,
          -5.596418159100374,
          -6.396709704289881,
          -7.230737192836321,
          -8.098500624739696,
          -9.000000000000004
         ]
        }
       ],
       "layout": {
        "template": {
         "data": {
          "bar": [
           {
            "error_x": {
             "color": "#2a3f5f"
            },
            "error_y": {
             "color": "#2a3f5f"
            },
            "marker": {
             "line": {
              "color": "#E5ECF6",
              "width": 0.5
             }
            },
            "type": "bar"
           }
          ],
          "barpolar": [
           {
            "marker": {
             "line": {
              "color": "#E5ECF6",
              "width": 0.5
             }
            },
            "type": "barpolar"
           }
          ],
          "carpet": [
           {
            "aaxis": {
             "endlinecolor": "#2a3f5f",
             "gridcolor": "white",
             "linecolor": "white",
             "minorgridcolor": "white",
             "startlinecolor": "#2a3f5f"
            },
            "baxis": {
             "endlinecolor": "#2a3f5f",
             "gridcolor": "white",
             "linecolor": "white",
             "minorgridcolor": "white",
             "startlinecolor": "#2a3f5f"
            },
            "type": "carpet"
           }
          ],
          "choropleth": [
           {
            "colorbar": {
             "outlinewidth": 0,
             "ticks": ""
            },
            "type": "choropleth"
           }
          ],
          "contour": [
           {
            "colorbar": {
             "outlinewidth": 0,
             "ticks": ""
            },
            "colorscale": [
             [
              0,
              "#0d0887"
             ],
             [
              0.1111111111111111,
              "#46039f"
             ],
             [
              0.2222222222222222,
              "#7201a8"
             ],
             [
              0.3333333333333333,
              "#9c179e"
             ],
             [
              0.4444444444444444,
              "#bd3786"
             ],
             [
              0.5555555555555556,
              "#d8576b"
             ],
             [
              0.6666666666666666,
              "#ed7953"
             ],
             [
              0.7777777777777778,
              "#fb9f3a"
             ],
             [
              0.8888888888888888,
              "#fdca26"
             ],
             [
              1,
              "#f0f921"
             ]
            ],
            "type": "contour"
           }
          ],
          "contourcarpet": [
           {
            "colorbar": {
             "outlinewidth": 0,
             "ticks": ""
            },
            "type": "contourcarpet"
           }
          ],
          "heatmap": [
           {
            "colorbar": {
             "outlinewidth": 0,
             "ticks": ""
            },
            "colorscale": [
             [
              0,
              "#0d0887"
             ],
             [
              0.1111111111111111,
              "#46039f"
             ],
             [
              0.2222222222222222,
              "#7201a8"
             ],
             [
              0.3333333333333333,
              "#9c179e"
             ],
             [
              0.4444444444444444,
              "#bd3786"
             ],
             [
              0.5555555555555556,
              "#d8576b"
             ],
             [
              0.6666666666666666,
              "#ed7953"
             ],
             [
              0.7777777777777778,
              "#fb9f3a"
             ],
             [
              0.8888888888888888,
              "#fdca26"
             ],
             [
              1,
              "#f0f921"
             ]
            ],
            "type": "heatmap"
           }
          ],
          "heatmapgl": [
           {
            "colorbar": {
             "outlinewidth": 0,
             "ticks": ""
            },
            "colorscale": [
             [
              0,
              "#0d0887"
             ],
             [
              0.1111111111111111,
              "#46039f"
             ],
             [
              0.2222222222222222,
              "#7201a8"
             ],
             [
              0.3333333333333333,
              "#9c179e"
             ],
             [
              0.4444444444444444,
              "#bd3786"
             ],
             [
              0.5555555555555556,
              "#d8576b"
             ],
             [
              0.6666666666666666,
              "#ed7953"
             ],
             [
              0.7777777777777778,
              "#fb9f3a"
             ],
             [
              0.8888888888888888,
              "#fdca26"
             ],
             [
              1,
              "#f0f921"
             ]
            ],
            "type": "heatmapgl"
           }
          ],
          "histogram": [
           {
            "marker": {
             "colorbar": {
              "outlinewidth": 0,
              "ticks": ""
             }
            },
            "type": "histogram"
           }
          ],
          "histogram2d": [
           {
            "colorbar": {
             "outlinewidth": 0,
             "ticks": ""
            },
            "colorscale": [
             [
              0,
              "#0d0887"
             ],
             [
              0.1111111111111111,
              "#46039f"
             ],
             [
              0.2222222222222222,
              "#7201a8"
             ],
             [
              0.3333333333333333,
              "#9c179e"
             ],
             [
              0.4444444444444444,
              "#bd3786"
             ],
             [
              0.5555555555555556,
              "#d8576b"
             ],
             [
              0.6666666666666666,
              "#ed7953"
             ],
             [
              0.7777777777777778,
              "#fb9f3a"
             ],
             [
              0.8888888888888888,
              "#fdca26"
             ],
             [
              1,
              "#f0f921"
             ]
            ],
            "type": "histogram2d"
           }
          ],
          "histogram2dcontour": [
           {
            "colorbar": {
             "outlinewidth": 0,
             "ticks": ""
            },
            "colorscale": [
             [
              0,
              "#0d0887"
             ],
             [
              0.1111111111111111,
              "#46039f"
             ],
             [
              0.2222222222222222,
              "#7201a8"
             ],
             [
              0.3333333333333333,
              "#9c179e"
             ],
             [
              0.4444444444444444,
              "#bd3786"
             ],
             [
              0.5555555555555556,
              "#d8576b"
             ],
             [
              0.6666666666666666,
              "#ed7953"
             ],
             [
              0.7777777777777778,
              "#fb9f3a"
             ],
             [
              0.8888888888888888,
              "#fdca26"
             ],
             [
              1,
              "#f0f921"
             ]
            ],
            "type": "histogram2dcontour"
           }
          ],
          "mesh3d": [
           {
            "colorbar": {
             "outlinewidth": 0,
             "ticks": ""
            },
            "type": "mesh3d"
           }
          ],
          "parcoords": [
           {
            "line": {
             "colorbar": {
              "outlinewidth": 0,
              "ticks": ""
             }
            },
            "type": "parcoords"
           }
          ],
          "scatter": [
           {
            "marker": {
             "colorbar": {
              "outlinewidth": 0,
              "ticks": ""
             }
            },
            "type": "scatter"
           }
          ],
          "scatter3d": [
           {
            "line": {
             "colorbar": {
              "outlinewidth": 0,
              "ticks": ""
             }
            },
            "marker": {
             "colorbar": {
              "outlinewidth": 0,
              "ticks": ""
             }
            },
            "type": "scatter3d"
           }
          ],
          "scattercarpet": [
           {
            "marker": {
             "colorbar": {
              "outlinewidth": 0,
              "ticks": ""
             }
            },
            "type": "scattercarpet"
           }
          ],
          "scattergeo": [
           {
            "marker": {
             "colorbar": {
              "outlinewidth": 0,
              "ticks": ""
             }
            },
            "type": "scattergeo"
           }
          ],
          "scattergl": [
           {
            "marker": {
             "colorbar": {
              "outlinewidth": 0,
              "ticks": ""
             }
            },
            "type": "scattergl"
           }
          ],
          "scattermapbox": [
           {
            "marker": {
             "colorbar": {
              "outlinewidth": 0,
              "ticks": ""
             }
            },
            "type": "scattermapbox"
           }
          ],
          "scatterpolar": [
           {
            "marker": {
             "colorbar": {
              "outlinewidth": 0,
              "ticks": ""
             }
            },
            "type": "scatterpolar"
           }
          ],
          "scatterpolargl": [
           {
            "marker": {
             "colorbar": {
              "outlinewidth": 0,
              "ticks": ""
             }
            },
            "type": "scatterpolargl"
           }
          ],
          "scatterternary": [
           {
            "marker": {
             "colorbar": {
              "outlinewidth": 0,
              "ticks": ""
             }
            },
            "type": "scatterternary"
           }
          ],
          "surface": [
           {
            "colorbar": {
             "outlinewidth": 0,
             "ticks": ""
            },
            "colorscale": [
             [
              0,
              "#0d0887"
             ],
             [
              0.1111111111111111,
              "#46039f"
             ],
             [
              0.2222222222222222,
              "#7201a8"
             ],
             [
              0.3333333333333333,
              "#9c179e"
             ],
             [
              0.4444444444444444,
              "#bd3786"
             ],
             [
              0.5555555555555556,
              "#d8576b"
             ],
             [
              0.6666666666666666,
              "#ed7953"
             ],
             [
              0.7777777777777778,
              "#fb9f3a"
             ],
             [
              0.8888888888888888,
              "#fdca26"
             ],
             [
              1,
              "#f0f921"
             ]
            ],
            "type": "surface"
           }
          ],
          "table": [
           {
            "cells": {
             "fill": {
              "color": "#EBF0F8"
             },
             "line": {
              "color": "white"
             }
            },
            "header": {
             "fill": {
              "color": "#C8D4E3"
             },
             "line": {
              "color": "white"
             }
            },
            "type": "table"
           }
          ]
         },
         "layout": {
          "annotationdefaults": {
           "arrowcolor": "#2a3f5f",
           "arrowhead": 0,
           "arrowwidth": 1
          },
          "colorscale": {
           "diverging": [
            [
             0,
             "#8e0152"
            ],
            [
             0.1,
             "#c51b7d"
            ],
            [
             0.2,
             "#de77ae"
            ],
            [
             0.3,
             "#f1b6da"
            ],
            [
             0.4,
             "#fde0ef"
            ],
            [
             0.5,
             "#f7f7f7"
            ],
            [
             0.6,
             "#e6f5d0"
            ],
            [
             0.7,
             "#b8e186"
            ],
            [
             0.8,
             "#7fbc41"
            ],
            [
             0.9,
             "#4d9221"
            ],
            [
             1,
             "#276419"
            ]
           ],
           "sequential": [
            [
             0,
             "#0d0887"
            ],
            [
             0.1111111111111111,
             "#46039f"
            ],
            [
             0.2222222222222222,
             "#7201a8"
            ],
            [
             0.3333333333333333,
             "#9c179e"
            ],
            [
             0.4444444444444444,
             "#bd3786"
            ],
            [
             0.5555555555555556,
             "#d8576b"
            ],
            [
             0.6666666666666666,
             "#ed7953"
            ],
            [
             0.7777777777777778,
             "#fb9f3a"
            ],
            [
             0.8888888888888888,
             "#fdca26"
            ],
            [
             1,
             "#f0f921"
            ]
           ],
           "sequentialminus": [
            [
             0,
             "#0d0887"
            ],
            [
             0.1111111111111111,
             "#46039f"
            ],
            [
             0.2222222222222222,
             "#7201a8"
            ],
            [
             0.3333333333333333,
             "#9c179e"
            ],
            [
             0.4444444444444444,
             "#bd3786"
            ],
            [
             0.5555555555555556,
             "#d8576b"
            ],
            [
             0.6666666666666666,
             "#ed7953"
            ],
            [
             0.7777777777777778,
             "#fb9f3a"
            ],
            [
             0.8888888888888888,
             "#fdca26"
            ],
            [
             1,
             "#f0f921"
            ]
           ]
          },
          "colorway": [
           "#636efa",
           "#EF553B",
           "#00cc96",
           "#ab63fa",
           "#FFA15A",
           "#19d3f3",
           "#FF6692",
           "#B6E880",
           "#FF97FF",
           "#FECB52"
          ],
          "font": {
           "color": "#2a3f5f"
          },
          "geo": {
           "bgcolor": "white",
           "lakecolor": "white",
           "landcolor": "#E5ECF6",
           "showlakes": true,
           "showland": true,
           "subunitcolor": "white"
          },
          "hoverlabel": {
           "align": "left"
          },
          "hovermode": "closest",
          "mapbox": {
           "style": "light"
          },
          "paper_bgcolor": "white",
          "plot_bgcolor": "#E5ECF6",
          "polar": {
           "angularaxis": {
            "gridcolor": "white",
            "linecolor": "white",
            "ticks": ""
           },
           "bgcolor": "#E5ECF6",
           "radialaxis": {
            "gridcolor": "white",
            "linecolor": "white",
            "ticks": ""
           }
          },
          "scene": {
           "xaxis": {
            "backgroundcolor": "#E5ECF6",
            "gridcolor": "white",
            "gridwidth": 2,
            "linecolor": "white",
            "showbackground": true,
            "ticks": "",
            "zerolinecolor": "white"
           },
           "yaxis": {
            "backgroundcolor": "#E5ECF6",
            "gridcolor": "white",
            "gridwidth": 2,
            "linecolor": "white",
            "showbackground": true,
            "ticks": "",
            "zerolinecolor": "white"
           },
           "zaxis": {
            "backgroundcolor": "#E5ECF6",
            "gridcolor": "white",
            "gridwidth": 2,
            "linecolor": "white",
            "showbackground": true,
            "ticks": "",
            "zerolinecolor": "white"
           }
          },
          "shapedefaults": {
           "line": {
            "color": "#2a3f5f"
           }
          },
          "ternary": {
           "aaxis": {
            "gridcolor": "white",
            "linecolor": "white",
            "ticks": ""
           },
           "baxis": {
            "gridcolor": "white",
            "linecolor": "white",
            "ticks": ""
           },
           "bgcolor": "#E5ECF6",
           "caxis": {
            "gridcolor": "white",
            "linecolor": "white",
            "ticks": ""
           }
          },
          "title": {
           "x": 0.05
          },
          "xaxis": {
           "automargin": true,
           "gridcolor": "white",
           "linecolor": "white",
           "ticks": "",
           "zerolinecolor": "white",
           "zerolinewidth": 2
          },
          "yaxis": {
           "automargin": true,
           "gridcolor": "white",
           "linecolor": "white",
           "ticks": "",
           "zerolinecolor": "white",
           "zerolinewidth": 2
          }
         }
        }
       }
      },
      "text/html": [
       "<div>\n",
       "        \n",
       "        \n",
       "            <div id=\"7b963eca-96d8-4a4d-9dd7-611af29bbbcc\" class=\"plotly-graph-div\" style=\"height:525px; width:100%;\"></div>\n",
       "            <script type=\"text/javascript\">\n",
       "                require([\"plotly\"], function(Plotly) {\n",
       "                    window.PLOTLYENV=window.PLOTLYENV || {};\n",
       "                    \n",
       "                if (document.getElementById(\"7b963eca-96d8-4a4d-9dd7-611af29bbbcc\")) {\n",
       "                    Plotly.newPlot(\n",
       "                        '7b963eca-96d8-4a4d-9dd7-611af29bbbcc',\n",
       "                        [{\"mode\": \"lines\", \"name\": \"$\\\\hat\\\\phi_0$\", \"type\": \"scatter\", \"x\": [0.0, 0.02040816326530612, 0.04081632653061224, 0.061224489795918366, 0.08163265306122448, 0.1020408163265306, 0.12244897959183673, 0.14285714285714285, 0.16326530612244897, 0.18367346938775508, 0.2040816326530612, 0.22448979591836732, 0.24489795918367346, 0.26530612244897955, 0.2857142857142857, 0.3061224489795918, 0.32653061224489793, 0.3469387755102041, 0.36734693877551017, 0.3877551020408163, 0.4081632653061224, 0.42857142857142855, 0.44897959183673464, 0.4693877551020408, 0.4897959183673469, 0.5102040816326531, 0.5306122448979591, 0.5510204081632653, 0.5714285714285714, 0.5918367346938775, 0.6122448979591836, 0.6326530612244897, 0.6530612244897959, 0.673469387755102, 0.6938775510204082, 0.7142857142857142, 0.7346938775510203, 0.7551020408163265, 0.7755102040816326, 0.7959183673469387, 0.8163265306122448, 0.836734693877551, 0.8571428571428571, 0.8775510204081632, 0.8979591836734693, 0.9183673469387754, 0.9387755102040816, 0.9591836734693877, 0.9795918367346939, 1.0], \"y\": [-5.500000000000002, -5.138275718450647, -4.7877967513536035, -4.448563098708874, -4.120574760516453, -3.8038317367763446, -3.4983340274885477, -3.2040816326530632, -2.9210745522698893, -2.649312786339027, -2.3887963348604764, -2.1395251978342373, -1.9014993752603095, -1.6747188671386934, -1.459183673469389, -1.254893794252396, -1.0618492294877147, -0.8800499791753442, -0.7094960433152864, -0.5501874219075396, -0.40212411495210426, -0.26530612244898055, -0.13973344439816826, -0.025406080799667607, 0.07767596834652163, 0.16951270304039961, 0.2501041232819653, 0.31945022907121984, 0.3775510204081628, 0.42440649729279456, 0.46001665972511435, 0.4843815077051227, 0.49750104123281963, 0.49937526030820484, 0.4900041649312788, 0.4693877551020411, 0.43752603082049174, 0.3944189920866309, 0.3400666389004585, 0.27446897126197495, 0.19762598917117946, 0.1095376926280724, 0.01020408163265385, -0.10037484381507639, -0.22219908371511737, -0.3552686380674707, -0.4995835068721353, -0.6551436901291119, -0.8219491878383995, -0.9999999999999991]}, {\"mode\": \"lines\", \"name\": \"$\\\\hat\\\\phi_1$\", \"type\": \"scatter\", \"x\": [0.0, 0.02040816326530612, 0.04081632653061224, 0.061224489795918366, 0.08163265306122448, 0.1020408163265306, 0.12244897959183673, 0.14285714285714285, 0.16326530612244897, 0.18367346938775508, 0.2040816326530612, 0.22448979591836732, 0.24489795918367346, 0.26530612244897955, 0.2857142857142857, 0.3061224489795918, 0.32653061224489793, 0.3469387755102041, 0.36734693877551017, 0.3877551020408163, 0.4081632653061224, 0.42857142857142855, 0.44897959183673464, 0.4693877551020408, 0.4897959183673469, 0.5102040816326531, 0.5306122448979591, 0.5510204081632653, 0.5714285714285714, 0.5918367346938775, 0.6122448979591836, 0.6326530612244897, 0.6530612244897959, 0.673469387755102, 0.6938775510204082, 0.7142857142857142, 0.7346938775510203, 0.7551020408163265, 0.7755102040816326, 0.7959183673469387, 0.8163265306122448, 0.836734693877551, 0.8571428571428571, 0.8775510204081632, 0.8979591836734693, 0.9183673469387754, 0.9387755102040816, 0.9591836734693877, 0.9795918367346939, 1.0], \"y\": [1.0000000000000004, 0.8219491878384011, 0.6551436901291132, 0.49958350687213715, 0.35526863806747233, 0.2221990837151191, 0.10037484381507744, -0.010204081632652684, -0.10953769262807128, -0.1976259891711783, -0.2744689712619739, -0.34006663890045785, -0.3944189920866303, -0.43752603082049124, -0.46938775510204067, -0.4900041649312786, -0.49937526030820484, -0.49750104123281963, -0.48438150770512284, -0.46001665972511446, -0.4244064972927948, -0.37755102040816335, -0.31945022907122056, -0.25010412328196596, -0.16951270304039992, -0.07767596834652235, 0.025406080799666275, 0.13973344439816693, 0.2653061224489792, 0.402124114952103, 0.5501874219075376, 0.7094960433152844, 0.8800499791753428, 1.0618492294877127, 1.2548937942523946, 1.4591836734693864, 1.674718867138691, 1.901499375260307, 2.139525197834235, 2.388796334860473, 2.649312786339024, 2.921074552269886, 3.20408163265306, 3.498334027488546, 3.803831736776341, 4.12057476051645, 4.44856309870887, 4.787796751353602, 5.138275718450644, 5.499999999999999]}, {\"mode\": \"lines\", \"name\": \"$\\\\hat\\\\phi_2$\", \"type\": \"scatter\", \"x\": [0.0, 0.02040816326530612, 0.04081632653061224, 0.061224489795918366, 0.08163265306122448, 0.1020408163265306, 0.12244897959183673, 0.14285714285714285, 0.16326530612244897, 0.18367346938775508, 0.2040816326530612, 0.22448979591836732, 0.24489795918367346, 0.26530612244897955, 0.2857142857142857, 0.3061224489795918, 0.32653061224489793, 0.3469387755102041, 0.36734693877551017, 0.3877551020408163, 0.4081632653061224, 0.42857142857142855, 0.44897959183673464, 0.4693877551020408, 0.4897959183673469, 0.5102040816326531, 0.5306122448979591, 0.5510204081632653, 0.5714285714285714, 0.5918367346938775, 0.6122448979591836, 0.6326530612244897, 0.6530612244897959, 0.673469387755102, 0.6938775510204082, 0.7142857142857142, 0.7346938775510203, 0.7551020408163265, 0.7755102040816326, 0.7959183673469387, 0.8163265306122448, 0.836734693877551, 0.8571428571428571, 0.8775510204081632, 0.8979591836734693, 0.9183673469387754, 0.9387755102040816, 0.9591836734693877, 0.9795918367346939, 1.0], \"y\": [9.000000000000004, 8.098500624739696, 7.2307371928363215, 6.396709704289883, 5.596418159100379, 4.829862557267809, 4.097042898792171, 3.3979591836734726, 2.732611411911707, 2.1009995835068755, 1.5031236984589782, 0.9389837567680162, 0.4085797584339881, -0.08808829654310468, -0.551020408163263, -0.9802165764264865, -1.3756768013327765, -1.737401082882132, -2.0653894210745505, -2.359641815910036, -2.620158267388586, -2.8469387755102034, -3.0399833402748846, -3.199291961682632, -3.3248646397334447, -3.416701374427322, -3.474802165764265, -3.499167013744274, -3.4897959183673475, -3.446688879633487, -3.369845897542692, -3.2592669720949625, -3.1149521032902974, -2.936901291128698, -2.7251145356101643, -2.479591836734697, -2.200333194502294, -1.887338608912956, -1.5406080799666833, -1.160141607663478, -0.7459391920033365, -0.2980008329862601, 0.18367346938775098, 0.6990837151186968, 1.2482299042065743, 1.831112036651389, 2.447730112453139, 3.0980841316118233, 3.7821740941274427, 4.4999999999999964]}, {\"mode\": \"lines\", \"name\": \"$\\\\hat\\\\phi_3$\", \"type\": \"scatter\", \"x\": [0.0, 0.02040816326530612, 0.04081632653061224, 0.061224489795918366, 0.08163265306122448, 0.1020408163265306, 0.12244897959183673, 0.14285714285714285, 0.16326530612244897, 0.18367346938775508, 0.2040816326530612, 0.22448979591836732, 0.24489795918367346, 0.26530612244897955, 0.2857142857142857, 0.3061224489795918, 0.32653061224489793, 0.3469387755102041, 0.36734693877551017, 0.3877551020408163, 0.4081632653061224, 0.42857142857142855, 0.44897959183673464, 0.4693877551020408, 0.4897959183673469, 0.5102040816326531, 0.5306122448979591, 0.5510204081632653, 0.5714285714285714, 0.5918367346938775, 0.6122448979591836, 0.6326530612244897, 0.6530612244897959, 0.673469387755102, 0.6938775510204082, 0.7142857142857142, 0.7346938775510203, 0.7551020408163265, 0.7755102040816326, 0.7959183673469387, 0.8163265306122448, 0.836734693877551, 0.8571428571428571, 0.8775510204081632, 0.8979591836734693, 0.9183673469387754, 0.9387755102040816, 0.9591836734693877, 0.9795918367346939, 1.0], \"y\": [-4.499999999999996, -3.782174094127442, -3.0980841316118246, -2.44773011245314, -1.8311120366513918, -1.2482299042065774, -0.6990837151186966, -0.18367346938775153, 0.29800083298625846, 0.7459391920033347, 1.1601416076634758, 1.540608079966683, 1.8873386089129551, 2.2003331945022926, 2.4795918367346954, 2.7251145356101643, 2.936901291128698, 3.1149521032902974, 3.259266972094961, 3.3698458975426915, 3.4466888796334865, 3.4897959183673475, 3.499167013744274, 3.4748021657642654, 3.4167013744273227, 3.324864639733444, 3.1992919616826327, 3.0399833402748855, 2.8469387755102042, 2.6201582673885873, 2.359641815910038, 2.065389421074552, 1.737401082882132, 1.3756768013327765, 0.980216576426487, 0.5510204081632648, 0.08808829654310646, -0.4085797584339861, -0.9389837567680155, -1.5031236984589746, -2.100999583506872, -2.732611411911704, -3.3979591836734717, -4.097042898792173, -4.829862557267806, -5.596418159100374, -6.396709704289881, -7.230737192836321, -8.098500624739696, -9.000000000000004]}],\n",
       "                        {\"template\": {\"data\": {\"bar\": [{\"error_x\": {\"color\": \"#2a3f5f\"}, \"error_y\": {\"color\": \"#2a3f5f\"}, \"marker\": {\"line\": {\"color\": \"#E5ECF6\", \"width\": 0.5}}, \"type\": \"bar\"}], \"barpolar\": [{\"marker\": {\"line\": {\"color\": \"#E5ECF6\", \"width\": 0.5}}, \"type\": \"barpolar\"}], \"carpet\": [{\"aaxis\": {\"endlinecolor\": \"#2a3f5f\", \"gridcolor\": \"white\", \"linecolor\": \"white\", \"minorgridcolor\": \"white\", \"startlinecolor\": \"#2a3f5f\"}, \"baxis\": {\"endlinecolor\": \"#2a3f5f\", \"gridcolor\": \"white\", \"linecolor\": \"white\", \"minorgridcolor\": \"white\", \"startlinecolor\": \"#2a3f5f\"}, \"type\": \"carpet\"}], \"choropleth\": [{\"colorbar\": {\"outlinewidth\": 0, \"ticks\": \"\"}, \"type\": \"choropleth\"}], \"contour\": [{\"colorbar\": {\"outlinewidth\": 0, \"ticks\": \"\"}, \"colorscale\": [[0.0, \"#0d0887\"], [0.1111111111111111, \"#46039f\"], [0.2222222222222222, \"#7201a8\"], [0.3333333333333333, \"#9c179e\"], [0.4444444444444444, \"#bd3786\"], [0.5555555555555556, \"#d8576b\"], [0.6666666666666666, \"#ed7953\"], [0.7777777777777778, \"#fb9f3a\"], [0.8888888888888888, \"#fdca26\"], [1.0, \"#f0f921\"]], \"type\": \"contour\"}], \"contourcarpet\": [{\"colorbar\": {\"outlinewidth\": 0, \"ticks\": \"\"}, \"type\": \"contourcarpet\"}], \"heatmap\": [{\"colorbar\": {\"outlinewidth\": 0, \"ticks\": \"\"}, \"colorscale\": [[0.0, \"#0d0887\"], [0.1111111111111111, \"#46039f\"], [0.2222222222222222, \"#7201a8\"], [0.3333333333333333, \"#9c179e\"], [0.4444444444444444, \"#bd3786\"], [0.5555555555555556, \"#d8576b\"], [0.6666666666666666, \"#ed7953\"], [0.7777777777777778, \"#fb9f3a\"], [0.8888888888888888, \"#fdca26\"], [1.0, \"#f0f921\"]], \"type\": \"heatmap\"}], \"heatmapgl\": [{\"colorbar\": {\"outlinewidth\": 0, \"ticks\": \"\"}, \"colorscale\": [[0.0, \"#0d0887\"], [0.1111111111111111, \"#46039f\"], [0.2222222222222222, \"#7201a8\"], [0.3333333333333333, \"#9c179e\"], [0.4444444444444444, \"#bd3786\"], [0.5555555555555556, \"#d8576b\"], [0.6666666666666666, \"#ed7953\"], [0.7777777777777778, \"#fb9f3a\"], [0.8888888888888888, \"#fdca26\"], [1.0, \"#f0f921\"]], \"type\": \"heatmapgl\"}], \"histogram\": [{\"marker\": {\"colorbar\": {\"outlinewidth\": 0, \"ticks\": \"\"}}, \"type\": \"histogram\"}], \"histogram2d\": [{\"colorbar\": {\"outlinewidth\": 0, \"ticks\": \"\"}, \"colorscale\": [[0.0, \"#0d0887\"], [0.1111111111111111, \"#46039f\"], [0.2222222222222222, \"#7201a8\"], [0.3333333333333333, \"#9c179e\"], [0.4444444444444444, \"#bd3786\"], [0.5555555555555556, \"#d8576b\"], [0.6666666666666666, \"#ed7953\"], [0.7777777777777778, \"#fb9f3a\"], [0.8888888888888888, \"#fdca26\"], [1.0, \"#f0f921\"]], \"type\": \"histogram2d\"}], \"histogram2dcontour\": [{\"colorbar\": {\"outlinewidth\": 0, \"ticks\": \"\"}, \"colorscale\": [[0.0, \"#0d0887\"], [0.1111111111111111, \"#46039f\"], [0.2222222222222222, \"#7201a8\"], [0.3333333333333333, \"#9c179e\"], [0.4444444444444444, \"#bd3786\"], [0.5555555555555556, \"#d8576b\"], [0.6666666666666666, \"#ed7953\"], [0.7777777777777778, \"#fb9f3a\"], [0.8888888888888888, \"#fdca26\"], [1.0, \"#f0f921\"]], \"type\": \"histogram2dcontour\"}], \"mesh3d\": [{\"colorbar\": {\"outlinewidth\": 0, \"ticks\": \"\"}, \"type\": \"mesh3d\"}], \"parcoords\": [{\"line\": {\"colorbar\": {\"outlinewidth\": 0, \"ticks\": \"\"}}, \"type\": \"parcoords\"}], \"scatter\": [{\"marker\": {\"colorbar\": {\"outlinewidth\": 0, \"ticks\": \"\"}}, \"type\": \"scatter\"}], \"scatter3d\": [{\"line\": {\"colorbar\": {\"outlinewidth\": 0, \"ticks\": \"\"}}, \"marker\": {\"colorbar\": {\"outlinewidth\": 0, \"ticks\": \"\"}}, \"type\": \"scatter3d\"}], \"scattercarpet\": [{\"marker\": {\"colorbar\": {\"outlinewidth\": 0, \"ticks\": \"\"}}, \"type\": \"scattercarpet\"}], \"scattergeo\": [{\"marker\": {\"colorbar\": {\"outlinewidth\": 0, \"ticks\": \"\"}}, \"type\": \"scattergeo\"}], \"scattergl\": [{\"marker\": {\"colorbar\": {\"outlinewidth\": 0, \"ticks\": \"\"}}, \"type\": \"scattergl\"}], \"scattermapbox\": [{\"marker\": {\"colorbar\": {\"outlinewidth\": 0, \"ticks\": \"\"}}, \"type\": \"scattermapbox\"}], \"scatterpolar\": [{\"marker\": {\"colorbar\": {\"outlinewidth\": 0, \"ticks\": \"\"}}, \"type\": \"scatterpolar\"}], \"scatterpolargl\": [{\"marker\": {\"colorbar\": {\"outlinewidth\": 0, \"ticks\": \"\"}}, \"type\": \"scatterpolargl\"}], \"scatterternary\": [{\"marker\": {\"colorbar\": {\"outlinewidth\": 0, \"ticks\": \"\"}}, \"type\": \"scatterternary\"}], \"surface\": [{\"colorbar\": {\"outlinewidth\": 0, \"ticks\": \"\"}, \"colorscale\": [[0.0, \"#0d0887\"], [0.1111111111111111, \"#46039f\"], [0.2222222222222222, \"#7201a8\"], [0.3333333333333333, \"#9c179e\"], [0.4444444444444444, \"#bd3786\"], [0.5555555555555556, \"#d8576b\"], [0.6666666666666666, \"#ed7953\"], [0.7777777777777778, \"#fb9f3a\"], [0.8888888888888888, \"#fdca26\"], [1.0, \"#f0f921\"]], \"type\": \"surface\"}], \"table\": [{\"cells\": {\"fill\": {\"color\": \"#EBF0F8\"}, \"line\": {\"color\": \"white\"}}, \"header\": {\"fill\": {\"color\": \"#C8D4E3\"}, \"line\": {\"color\": \"white\"}}, \"type\": \"table\"}]}, \"layout\": {\"annotationdefaults\": {\"arrowcolor\": \"#2a3f5f\", \"arrowhead\": 0, \"arrowwidth\": 1}, \"colorscale\": {\"diverging\": [[0, \"#8e0152\"], [0.1, \"#c51b7d\"], [0.2, \"#de77ae\"], [0.3, \"#f1b6da\"], [0.4, \"#fde0ef\"], [0.5, \"#f7f7f7\"], [0.6, \"#e6f5d0\"], [0.7, \"#b8e186\"], [0.8, \"#7fbc41\"], [0.9, \"#4d9221\"], [1, \"#276419\"]], \"sequential\": [[0.0, \"#0d0887\"], [0.1111111111111111, \"#46039f\"], [0.2222222222222222, \"#7201a8\"], [0.3333333333333333, \"#9c179e\"], [0.4444444444444444, \"#bd3786\"], [0.5555555555555556, \"#d8576b\"], [0.6666666666666666, \"#ed7953\"], [0.7777777777777778, \"#fb9f3a\"], [0.8888888888888888, \"#fdca26\"], [1.0, \"#f0f921\"]], \"sequentialminus\": [[0.0, \"#0d0887\"], [0.1111111111111111, \"#46039f\"], [0.2222222222222222, \"#7201a8\"], [0.3333333333333333, \"#9c179e\"], [0.4444444444444444, \"#bd3786\"], [0.5555555555555556, \"#d8576b\"], [0.6666666666666666, \"#ed7953\"], [0.7777777777777778, \"#fb9f3a\"], [0.8888888888888888, \"#fdca26\"], [1.0, \"#f0f921\"]]}, \"colorway\": [\"#636efa\", \"#EF553B\", \"#00cc96\", \"#ab63fa\", \"#FFA15A\", \"#19d3f3\", \"#FF6692\", \"#B6E880\", \"#FF97FF\", \"#FECB52\"], \"font\": {\"color\": \"#2a3f5f\"}, \"geo\": {\"bgcolor\": \"white\", \"lakecolor\": \"white\", \"landcolor\": \"#E5ECF6\", \"showlakes\": true, \"showland\": true, \"subunitcolor\": \"white\"}, \"hoverlabel\": {\"align\": \"left\"}, \"hovermode\": \"closest\", \"mapbox\": {\"style\": \"light\"}, \"paper_bgcolor\": \"white\", \"plot_bgcolor\": \"#E5ECF6\", \"polar\": {\"angularaxis\": {\"gridcolor\": \"white\", \"linecolor\": \"white\", \"ticks\": \"\"}, \"bgcolor\": \"#E5ECF6\", \"radialaxis\": {\"gridcolor\": \"white\", \"linecolor\": \"white\", \"ticks\": \"\"}}, \"scene\": {\"xaxis\": {\"backgroundcolor\": \"#E5ECF6\", \"gridcolor\": \"white\", \"gridwidth\": 2, \"linecolor\": \"white\", \"showbackground\": true, \"ticks\": \"\", \"zerolinecolor\": \"white\"}, \"yaxis\": {\"backgroundcolor\": \"#E5ECF6\", \"gridcolor\": \"white\", \"gridwidth\": 2, \"linecolor\": \"white\", \"showbackground\": true, \"ticks\": \"\", \"zerolinecolor\": \"white\"}, \"zaxis\": {\"backgroundcolor\": \"#E5ECF6\", \"gridcolor\": \"white\", \"gridwidth\": 2, \"linecolor\": \"white\", \"showbackground\": true, \"ticks\": \"\", \"zerolinecolor\": \"white\"}}, \"shapedefaults\": {\"line\": {\"color\": \"#2a3f5f\"}}, \"ternary\": {\"aaxis\": {\"gridcolor\": \"white\", \"linecolor\": \"white\", \"ticks\": \"\"}, \"baxis\": {\"gridcolor\": \"white\", \"linecolor\": \"white\", \"ticks\": \"\"}, \"bgcolor\": \"#E5ECF6\", \"caxis\": {\"gridcolor\": \"white\", \"linecolor\": \"white\", \"ticks\": \"\"}}, \"title\": {\"x\": 0.05}, \"xaxis\": {\"automargin\": true, \"gridcolor\": \"white\", \"linecolor\": \"white\", \"ticks\": \"\", \"zerolinecolor\": \"white\", \"zerolinewidth\": 2}, \"yaxis\": {\"automargin\": true, \"gridcolor\": \"white\", \"linecolor\": \"white\", \"ticks\": \"\", \"zerolinecolor\": \"white\", \"zerolinewidth\": 2}}}},\n",
       "                        {\"responsive\": true}\n",
       "                    ).then(function(){\n",
       "                            \n",
       "var gd = document.getElementById('7b963eca-96d8-4a4d-9dd7-611af29bbbcc');\n",
       "var x = new MutationObserver(function (mutations, observer) {{\n",
       "        var display = window.getComputedStyle(gd).display;\n",
       "        if (!display || display === 'none') {{\n",
       "            console.log([gd, 'removed!']);\n",
       "            Plotly.purge(gd);\n",
       "            observer.disconnect();\n",
       "        }}\n",
       "}});\n",
       "\n",
       "// Listen for the removal of the full notebook cells\n",
       "var notebookContainer = gd.closest('#notebook-container');\n",
       "if (notebookContainer) {{\n",
       "    x.observe(notebookContainer, {childList: true});\n",
       "}}\n",
       "\n",
       "// Listen for the clearing of the current output cell\n",
       "var outputEl = gd.closest('.output');\n",
       "if (outputEl) {{\n",
       "    x.observe(outputEl, {childList: true});\n",
       "}}\n",
       "\n",
       "                        })\n",
       "                };\n",
       "                });\n",
       "            </script>\n",
       "        </div>"
      ]
     },
     "metadata": {},
     "output_type": "display_data"
    }
   ],
   "source": [
    "x = np.linspace(0, 1)\n",
    "\n",
    "data = []\n",
    "\n",
    "tmp = grad_hat_phis(order)\n",
    "\n",
    "for o in range(order+1):\n",
    "    data.append(go.Scatter(x=x, y=tmp[o](x), mode='lines', name=\"$\\hat\\phi_{}$\".format(o)))\n",
    "\n",
    "fig = go.Figure(data=data)\n",
    "plotly.iplot(fig)"
   ]
  },
  {
   "cell_type": "markdown",
   "metadata": {
    "slideshow": {
     "slide_type": "slide"
    }
   },
   "source": [
    "# Basis construction"
   ]
  },
  {
   "cell_type": "markdown",
   "metadata": {},
   "source": [
    "This code is exacly as before."
   ]
  },
  {
   "cell_type": "markdown",
   "metadata": {
    "slideshow": {
     "slide_type": "fragment"
    }
   },
   "source": [
    "The only difficulty is the local to global mapping: \n",
    "- the first 2 nodes are always the same\n",
    "\n",
    "$$g_e^0 = e \\qquad\\mathrm{and}\\qquad g_e^1=g+1$$ \n",
    "- the others are \n",
    "\n",
    "$$g_e^i = n_{el} + e (\\mathrm{order}-1) + i.$$"
   ]
  },
  {
   "cell_type": "code",
   "execution_count": 8,
   "metadata": {
    "slideshow": {
     "slide_type": "slide"
    }
   },
   "outputs": [],
   "source": [
    "elements = []\n",
    "for e in range(n_elements):\n",
    "    el = {}\n",
    "    \n",
    "    el[\"n_bases\"] = order+1\n",
    "    \n",
    "    #2 bases\n",
    "    el[\"phi\"] = hat_phis(order)\n",
    "    el[\"grad_phi\"] = grad_hat_phis(order)\n",
    "    \n",
    "    #local to global mapping\n",
    "    high_order_nodes = list(range(n_elements + 1 + e*(order-1), n_elements + e*(order-1) + order))\n",
    "    el[\"loc_2_glob\"] = [e, e+1] + high_order_nodes\n",
    "    \n",
    "    #geometric mapping\n",
    "    el[\"gmapping\"] = lambda x, e=e : s[e] + x*(s[e+1]-s[e])\n",
    "    el[\"grad_gmapping\"] = lambda x : (s[e+1]-s[e])\n",
    "    \n",
    "    elements.append(el)"
   ]
  },
  {
   "cell_type": "markdown",
   "metadata": {
    "slideshow": {
     "slide_type": "slide"
    }
   },
   "source": [
    "We define a function to interpolate the $u_i$ using the local to global, geometric mapping, and local bases to interpolate the data, as before."
   ]
  },
  {
   "cell_type": "code",
   "execution_count": 9,
   "metadata": {
    "slideshow": {
     "slide_type": "fragment"
    }
   },
   "outputs": [],
   "source": [
    "def interpolate(ui):\n",
    "    u = np.array([])\n",
    "    x = np.array([])\n",
    "\n",
    "    xhat = np.linspace(0, 1)\n",
    "\n",
    "\n",
    "    for e in range(n_elements):\n",
    "        el = elements[e]\n",
    "    \n",
    "        uloc = np.zeros(xhat.shape)\n",
    "\n",
    "        for i in range(el[\"n_bases\"]):\n",
    "            glob_node = el[\"loc_2_glob\"][i]\n",
    "            loc_base = el[\"phi\"][i]\n",
    "        \n",
    "            uloc += ui[glob_node] * loc_base(xhat)\n",
    "    \n",
    "        u = np.append(u, uloc)\n",
    "        x = np.append(x, el[\"gmapping\"](xhat))\n",
    "    \n",
    "    return x, u"
   ]
  },
  {
   "cell_type": "markdown",
   "metadata": {
    "slideshow": {
     "slide_type": "slide"
    }
   },
   "source": [
    "We can generate a random vector $ui$ and use the previous function. This will interpolate all nodes."
   ]
  },
  {
   "cell_type": "code",
   "execution_count": 10,
   "metadata": {},
   "outputs": [
    {
     "data": {
      "application/vnd.plotly.v1+json": {
       "config": {
        "linkText": "Export to plot.ly",
        "plotlyServerURL": "https://plot.ly",
        "showLink": false
       },
       "data": [
        {
         "mode": "lines",
         "type": "scatter",
         "x": [
          0,
          0.002040816326530612,
          0.004081632653061224,
          0.006122448979591837,
          0.008163265306122448,
          0.01020408163265306,
          0.012244897959183675,
          0.014285714285714285,
          0.016326530612244896,
          0.01836734693877551,
          0.02040816326530612,
          0.022448979591836733,
          0.02448979591836735,
          0.026530612244897958,
          0.02857142857142857,
          0.03061224489795918,
          0.03265306122448979,
          0.03469387755102041,
          0.03673469387755102,
          0.03877551020408163,
          0.04081632653061224,
          0.04285714285714286,
          0.044897959183673466,
          0.04693877551020408,
          0.0489795918367347,
          0.05102040816326531,
          0.053061224489795916,
          0.055102040816326525,
          0.05714285714285714,
          0.05918367346938776,
          0.06122448979591836,
          0.06326530612244897,
          0.06530612244897958,
          0.0673469387755102,
          0.06938775510204082,
          0.07142857142857142,
          0.07346938775510203,
          0.07551020408163266,
          0.07755102040816327,
          0.07959183673469387,
          0.08163265306122448,
          0.0836734693877551,
          0.08571428571428572,
          0.08775510204081632,
          0.08979591836734693,
          0.09183673469387754,
          0.09387755102040816,
          0.09591836734693877,
          0.0979591836734694,
          0.1,
          0.1,
          0.10204081632653061,
          0.10408163265306122,
          0.10612244897959185,
          0.10816326530612246,
          0.11020408163265306,
          0.11224489795918369,
          0.1142857142857143,
          0.1163265306122449,
          0.11836734693877551,
          0.12040816326530612,
          0.12244897959183673,
          0.12448979591836735,
          0.12653061224489798,
          0.1285714285714286,
          0.1306122448979592,
          0.1326530612244898,
          0.1346938775510204,
          0.13673469387755102,
          0.13877551020408163,
          0.14081632653061224,
          0.14285714285714285,
          0.14489795918367349,
          0.1469387755102041,
          0.1489795918367347,
          0.1510204081632653,
          0.15306122448979592,
          0.15510204081632653,
          0.15714285714285714,
          0.15918367346938778,
          0.16122448979591836,
          0.163265306122449,
          0.16530612244897958,
          0.1673469387755102,
          0.16938775510204082,
          0.17142857142857143,
          0.17346938775510204,
          0.17551020408163265,
          0.17755102040816328,
          0.17959183673469387,
          0.1816326530612245,
          0.1836734693877551,
          0.18571428571428572,
          0.18775510204081633,
          0.18979591836734694,
          0.19183673469387755,
          0.19387755102040816,
          0.1959183673469388,
          0.1979591836734694,
          0.2,
          0.2,
          0.20204081632653062,
          0.20408163265306123,
          0.20612244897959184,
          0.20816326530612247,
          0.21020408163265308,
          0.2122448979591837,
          0.2142857142857143,
          0.2163265306122449,
          0.21836734693877552,
          0.22040816326530613,
          0.22244897959183674,
          0.22448979591836737,
          0.22653061224489798,
          0.2285714285714286,
          0.2306122448979592,
          0.2326530612244898,
          0.23469387755102045,
          0.23673469387755103,
          0.23877551020408166,
          0.24081632653061227,
          0.24285714285714288,
          0.2448979591836735,
          0.2469387755102041,
          0.24897959183673474,
          0.2510204081632653,
          0.25306122448979596,
          0.25510204081632654,
          0.2571428571428572,
          0.25918367346938775,
          0.2612244897959184,
          0.263265306122449,
          0.2653061224489796,
          0.26734693877551025,
          0.2693877551020408,
          0.27142857142857146,
          0.2734693877551021,
          0.2755102040816327,
          0.2775510204081633,
          0.2795918367346939,
          0.28163265306122454,
          0.2836734693877551,
          0.28571428571428575,
          0.28775510204081634,
          0.28979591836734697,
          0.2918367346938776,
          0.2938775510204082,
          0.2959183673469388,
          0.2979591836734694,
          0.30000000000000004,
          0.30000000000000004,
          0.3020408163265307,
          0.30408163265306126,
          0.3061224489795919,
          0.3081632653061225,
          0.3102040816326531,
          0.3122448979591837,
          0.31428571428571433,
          0.3163265306122449,
          0.31836734693877555,
          0.32040816326530613,
          0.32244897959183677,
          0.3244897959183674,
          0.326530612244898,
          0.3285714285714286,
          0.3306122448979592,
          0.33265306122448984,
          0.3346938775510204,
          0.33673469387755106,
          0.3387755102040817,
          0.3408163265306123,
          0.34285714285714286,
          0.3448979591836735,
          0.34693877551020413,
          0.3489795918367347,
          0.35102040816326535,
          0.35306122448979593,
          0.35510204081632657,
          0.35714285714285715,
          0.3591836734693878,
          0.36122448979591837,
          0.363265306122449,
          0.36530612244897964,
          0.3673469387755102,
          0.36938775510204086,
          0.37142857142857144,
          0.3734693877551021,
          0.37551020408163266,
          0.3775510204081633,
          0.3795918367346939,
          0.3816326530612245,
          0.38367346938775515,
          0.38571428571428573,
          0.38775510204081637,
          0.38979591836734695,
          0.3918367346938776,
          0.39387755102040817,
          0.3959183673469388,
          0.3979591836734694,
          0.4,
          0.4,
          0.40204081632653066,
          0.40408163265306124,
          0.4061224489795919,
          0.40816326530612246,
          0.4102040816326531,
          0.4122448979591837,
          0.4142857142857143,
          0.4163265306122449,
          0.41836734693877553,
          0.4204081632653061,
          0.42244897959183675,
          0.4244897959183674,
          0.42653061224489797,
          0.4285714285714286,
          0.4306122448979592,
          0.4326530612244898,
          0.4346938775510204,
          0.43673469387755104,
          0.4387755102040817,
          0.44081632653061226,
          0.44285714285714284,
          0.4448979591836735,
          0.4469387755102041,
          0.4489795918367347,
          0.45102040816326533,
          0.4530612244897959,
          0.45510204081632655,
          0.45714285714285713,
          0.45918367346938777,
          0.46122448979591835,
          0.463265306122449,
          0.4653061224489796,
          0.4673469387755102,
          0.46938775510204084,
          0.4714285714285714,
          0.47346938775510206,
          0.47551020408163264,
          0.4775510204081633,
          0.47959183673469385,
          0.4816326530612245,
          0.48367346938775513,
          0.4857142857142857,
          0.48775510204081635,
          0.4897959183673469,
          0.49183673469387756,
          0.49387755102040815,
          0.4959183673469388,
          0.49795918367346936,
          0.5,
          0.5,
          0.5020408163265306,
          0.5040816326530613,
          0.5061224489795918,
          0.5081632653061224,
          0.5102040816326531,
          0.5122448979591837,
          0.5142857142857143,
          0.5163265306122449,
          0.5183673469387755,
          0.5204081632653061,
          0.5224489795918368,
          0.5244897959183674,
          0.5265306122448979,
          0.5285714285714286,
          0.5306122448979592,
          0.5326530612244899,
          0.5346938775510204,
          0.536734693877551,
          0.5387755102040817,
          0.5408163265306123,
          0.5428571428571429,
          0.5448979591836735,
          0.5469387755102041,
          0.5489795918367347,
          0.5510204081632654,
          0.553061224489796,
          0.5551020408163265,
          0.5571428571428572,
          0.5591836734693878,
          0.5612244897959184,
          0.5632653061224491,
          0.5653061224489796,
          0.5673469387755102,
          0.5693877551020409,
          0.5714285714285715,
          0.5734693877551021,
          0.5755102040816327,
          0.5775510204081633,
          0.5795918367346939,
          0.5816326530612246,
          0.5836734693877552,
          0.5857142857142857,
          0.5877551020408164,
          0.589795918367347,
          0.5918367346938777,
          0.5938775510204082,
          0.5959183673469388,
          0.5979591836734695,
          0.6000000000000001,
          0.6000000000000001,
          0.6020408163265307,
          0.6040816326530614,
          0.6061224489795919,
          0.6081632653061225,
          0.6102040816326532,
          0.6122448979591838,
          0.6142857142857143,
          0.616326530612245,
          0.6183673469387756,
          0.6204081632653062,
          0.6224489795918369,
          0.6244897959183674,
          0.626530612244898,
          0.6285714285714287,
          0.6306122448979593,
          0.6326530612244898,
          0.6346938775510205,
          0.6367346938775511,
          0.6387755102040817,
          0.6408163265306123,
          0.6428571428571429,
          0.6448979591836735,
          0.6469387755102042,
          0.6489795918367348,
          0.6510204081632653,
          0.653061224489796,
          0.6551020408163266,
          0.6571428571428573,
          0.6591836734693879,
          0.6612244897959184,
          0.663265306122449,
          0.6653061224489797,
          0.6673469387755103,
          0.6693877551020408,
          0.6714285714285715,
          0.6734693877551021,
          0.6755102040816328,
          0.6775510204081634,
          0.6795918367346939,
          0.6816326530612246,
          0.6836734693877552,
          0.6857142857142857,
          0.6877551020408164,
          0.689795918367347,
          0.6918367346938776,
          0.6938775510204083,
          0.6959183673469388,
          0.6979591836734694,
          0.7000000000000001,
          0.7000000000000001,
          0.7020408163265307,
          0.7040816326530613,
          0.7061224489795919,
          0.7081632653061225,
          0.7102040816326531,
          0.7122448979591838,
          0.7142857142857143,
          0.7163265306122449,
          0.7183673469387756,
          0.7204081632653062,
          0.7224489795918367,
          0.7244897959183674,
          0.726530612244898,
          0.7285714285714286,
          0.7306122448979593,
          0.7326530612244898,
          0.7346938775510204,
          0.7367346938775511,
          0.7387755102040817,
          0.7408163265306122,
          0.7428571428571429,
          0.7448979591836735,
          0.7469387755102042,
          0.7489795918367348,
          0.7510204081632653,
          0.753061224489796,
          0.7551020408163266,
          0.7571428571428572,
          0.7591836734693878,
          0.7612244897959184,
          0.763265306122449,
          0.7653061224489797,
          0.7673469387755103,
          0.7693877551020408,
          0.7714285714285715,
          0.7734693877551021,
          0.7755102040816327,
          0.7775510204081633,
          0.7795918367346939,
          0.7816326530612245,
          0.7836734693877552,
          0.7857142857142858,
          0.7877551020408163,
          0.789795918367347,
          0.7918367346938776,
          0.7938775510204082,
          0.7959183673469388,
          0.7979591836734694,
          0.8,
          0.8,
          0.8020408163265307,
          0.8040816326530613,
          0.8061224489795918,
          0.8081632653061225,
          0.8102040816326531,
          0.8122448979591838,
          0.8142857142857143,
          0.8163265306122449,
          0.8183673469387756,
          0.8204081632653062,
          0.8224489795918368,
          0.8244897959183674,
          0.826530612244898,
          0.8285714285714286,
          0.8306122448979593,
          0.8326530612244898,
          0.8346938775510204,
          0.8367346938775511,
          0.8387755102040817,
          0.8408163265306122,
          0.8428571428571429,
          0.8448979591836735,
          0.8469387755102041,
          0.8489795918367348,
          0.8510204081632653,
          0.8530612244897959,
          0.8551020408163266,
          0.8571428571428572,
          0.8591836734693878,
          0.8612244897959184,
          0.863265306122449,
          0.8653061224489796,
          0.8673469387755103,
          0.8693877551020408,
          0.8714285714285714,
          0.8734693877551021,
          0.8755102040816327,
          0.8775510204081634,
          0.8795918367346939,
          0.8816326530612245,
          0.8836734693877552,
          0.8857142857142857,
          0.8877551020408163,
          0.889795918367347,
          0.8918367346938776,
          0.8938775510204082,
          0.8959183673469387,
          0.8979591836734694,
          0.9,
          0.9,
          0.9020408163265307,
          0.9040816326530613,
          0.9061224489795918,
          0.9081632653061225,
          0.9102040816326531,
          0.9122448979591837,
          0.9142857142857143,
          0.9163265306122449,
          0.9183673469387755,
          0.9204081632653062,
          0.9224489795918367,
          0.9244897959183673,
          0.926530612244898,
          0.9285714285714286,
          0.9306122448979592,
          0.9326530612244898,
          0.9346938775510204,
          0.936734693877551,
          0.9387755102040817,
          0.9408163265306122,
          0.9428571428571428,
          0.9448979591836735,
          0.9469387755102041,
          0.9489795918367347,
          0.9510204081632653,
          0.9530612244897959,
          0.9551020408163265,
          0.9571428571428572,
          0.9591836734693877,
          0.9612244897959183,
          0.963265306122449,
          0.9653061224489796,
          0.9673469387755103,
          0.9693877551020408,
          0.9714285714285714,
          0.9734693877551021,
          0.9755102040816327,
          0.9775510204081632,
          0.9795918367346939,
          0.9816326530612245,
          0.9836734693877551,
          0.9857142857142858,
          0.9877551020408163,
          0.9897959183673469,
          0.9918367346938776,
          0.9938775510204082,
          0.9959183673469387,
          0.9979591836734694,
          1
         ],
         "y": [
          0.3814263289862607,
          0.47994511378755755,
          0.5682693791878979,
          0.6467960461562027,
          0.7159220356613929,
          0.7760442686723894,
          0.8275596661581138,
          0.8708651490874867,
          0.9063576384294294,
          0.9344340551528627,
          0.9554913202267077,
          0.9699263546198861,
          0.9781360793013181,
          0.980517415239925,
          0.9774672834046281,
          0.9693826047643481,
          0.9566603002880066,
          0.9396972909445241,
          0.9188904977028219,
          0.8946368415318209,
          0.8673332434004427,
          0.8373766242776076,
          0.8051639051322372,
          0.7710920069332525,
          0.7355578506495741,
          0.6989583572501237,
          0.6616904477038221,
          0.62415104297959,
          0.5867370640463488,
          0.5498454318730197,
          0.5138730674285237,
          0.47921689168178155,
          0.4462738256017144,
          0.4154407901572436,
          0.38711470631729006,
          0.36169249505077483,
          0.33957107732661873,
          0.3211473741137432,
          0.30681830638106916,
          0.2969807950975175,
          0.2920317612320096,
          0.2923681257534661,
          0.2983868096308083,
          0.3104847338329576,
          0.3290588193288345,
          0.35450598708736025,
          0.387223158077456,
          0.42760725326804283,
          0.47605519362804155,
          0.5329639001263735,
          0.5329639001263734,
          0.5082286391337357,
          0.48341309863539955,
          0.4586093255154011,
          0.4339093666577772,
          0.4094052689465647,
          0.38518907926580065,
          0.36135284449952165,
          0.3379886115317646,
          0.3151884272465664,
          0.29304433852796363,
          0.2716483922599934,
          0.2510926353266923,
          0.23146911461209724,
          0.21286987700024498,
          0.19538696937517244,
          0.1791124386209164,
          0.16413833162151362,
          0.15055669526100096,
          0.13845957642341525,
          0.12793902199279328,
          0.11908707885317192,
          0.11199579388858798,
          0.10675721398307823,
          0.1034633860206795,
          0.1022063568854286,
          0.10307817346136239,
          0.10617088263251764,
          0.11157653128293124,
          0.11938716629663997,
          0.12969483455768055,
          0.14259158295008997,
          0.15816945835790494,
          0.17652050766516236,
          0.19773677775589898,
          0.22191031551415152,
          0.249133167823957,
          0.2794973815693522,
          0.3130950036343739,
          0.35001808090305864,
          0.39035866025944377,
          0.4342087885875658,
          0.48166051277146155,
          0.532805879695168,
          0.5877369362427218,
          0.6465457292981597,
          0.7093243057455189,
          0.7761647124688359,
          0.8471589963521473,
          0.9223992042794905,
          0.9223992042794903,
          0.9548741106400612,
          0.9825120252593144,
          1.0054989392157858,
          1.0240208435880116,
          1.0382637294545285,
          1.0484135878938727,
          1.0546564099845805,
          1.0571781868051888,
          1.0561649094342327,
          1.05180256895025,
          1.0442771564317765,
          1.0337746629573488,
          1.0204810796055024,
          1.0045823974547747,
          0.986264607583701,
          0.9657137010708191,
          0.9431156689946643,
          0.9186565024337732,
          0.8925221924666821,
          0.8648987301719275,
          0.8359721066280459,
          0.8059283129135736,
          0.7749533401070469,
          0.743233179287002,
          0.7109538215319754,
          0.6783012579205037,
          0.6454614795311229,
          0.6126204774423696,
          0.5799642427327799,
          0.5476787664808906,
          0.5159500397652379,
          0.48496405366435785,
          0.45490679925678723,
          0.4259642676210622,
          0.3983224498357193,
          0.3721673369792946,
          0.3476849201303247,
          0.325061190367346,
          0.30448213876889474,
          0.2861337564135073,
          0.27020203437972,
          0.25687296374606927,
          0.24633253559109172,
          0.2387667409933235,
          0.23436157103130076,
          0.23330301678356014,
          0.23577706932863796,
          0.24196971974507053,
          0.2520669591113944,
          0.2520669591113943,
          0.22490499961515503,
          0.203086798999795,
          0.18636144364612087,
          0.17447801993493944,
          0.1671856142470577,
          0.16423331296328242,
          0.16537020246442036,
          0.17034536913127857,
          0.17890789934466356,
          0.19080687948538244,
          0.20579139593424214,
          0.2236105350720492,
          0.2440133832796106,
          0.26674902693773317,
          0.2915665524272237,
          0.31821504612888923,
          0.34644359442353645,
          0.37600128369197205,
          0.40663720031500306,
          0.4381004306734363,
          0.4701400611480786,
          0.5025051781197367,
          0.5349448679692178,
          0.5672082170773283,
          0.5990443118248752,
          0.6302022385926652,
          0.6604310837615054,
          0.6894799337122027,
          0.7170978748255636,
          0.743033993482395,
          0.7670373760635041,
          0.7888571089496972,
          0.8082422785217818,
          0.8249419711605641,
          0.8387052732468513,
          0.84928127116145,
          0.8564190512851674,
          0.8598676999988101,
          0.8593763036831847,
          0.8546939487190985,
          0.845569721487358,
          0.8317527083687704,
          0.8129919957441423,
          0.7890366699942807,
          0.759635817499992,
          0.7245385246420833,
          0.6834938778013615,
          0.6362509633586335,
          0.582558867694706,
          0.5825588676947059,
          0.5692763934514258,
          0.5567742508613273,
          0.5450116792668371,
          0.5339479180103827,
          0.5235422064343911,
          0.5137537838812899,
          0.504541889693506,
          0.4958657632134668,
          0.4876846437835995,
          0.4799577707463311,
          0.4726443834440893,
          0.46570372121930115,
          0.4590950234143937,
          0.4527775293717943,
          0.44671047843393014,
          0.4408531099432287,
          0.43516466324211683,
          0.42960437767302195,
          0.4241314925783713,
          0.4187052473005922,
          0.41328488118211165,
          0.4078296335653572,
          0.4022987437927559,
          0.3966514512067349,
          0.39084699514972143,
          0.384844614964143,
          0.37860354999242657,
          0.3720830395769995,
          0.36524232306028903,
          0.3580406397847223,
          0.3504372290927266,
          0.34239133032672914,
          0.33386218282915725,
          0.3248090259424381,
          0.3151910990089989,
          0.3049676413712668,
          0.2940978923716692,
          0.2825410913526333,
          0.27025647765658634,
          0.25720329062595537,
          0.24334076960316783,
          0.22862815393065083,
          0.21302468295083182,
          0.1964895960061379,
          0.17898213243899613,
          0.16046153159183393,
          0.14088703280707848,
          0.12021787542715702,
          0.09841329879449681,
          0.09841329879449678,
          0.16250814194560503,
          0.21999133332156073,
          0.27115880581949947,
          0.316306492336557,
          0.35573032576986896,
          0.38972623901657105,
          0.4185901649737988,
          0.4426180365386882,
          0.46210578660837454,
          0.4773493480799936,
          0.48864465385068145,
          0.49628763681757315,
          0.5005742298778046,
          0.5018003659285117,
          0.5002619778668299,
          0.496254998589895,
          0.4900753609948425,
          0.48201899797880815,
          0.47238184243892756,
          0.4614598272723366,
          0.4495488853761707,
          0.4369449496475657,
          0.4239439529836574,
          0.410841828281581,
          0.39793450843847256,
          0.38551792635146775,
          0.373888014917702,
          0.3633407070343112,
          0.35417193559843096,
          0.3466776335071969,
          0.34115373365774476,
          0.33789616894721014,
          0.3372008722727288,
          0.33936377653143635,
          0.3446808146204685,
          0.35344791943696086,
          0.3659610238780492,
          0.3825160608408692,
          0.40340896322255615,
          0.42893566392024635,
          0.459392095831075,
          0.49507419185217794,
          0.5362778848806911,
          0.5832991078137495,
          0.6364337935484894,
          0.6959778749820462,
          0.7622272850115559,
          0.8354779565341536,
          0.9160258224469756,
          0.9160258224469754,
          0.8535673467877722,
          0.7976926801415615,
          0.7481318536635742,
          0.7046148985090427,
          0.6668718458331985,
          0.6346327267912745,
          0.6076275725385021,
          0.5855864142301135,
          0.5682392830213406,
          0.5553162100674155,
          0.5465472265235707,
          0.5416623635450374,
          0.540391652287048,
          0.5424651239048345,
          0.5476128095536289,
          0.5555647403886633,
          0.5660509475651696,
          0.5788014622383799,
          0.5935463155635261,
          0.6100155386958402,
          0.6279391627905546,
          0.6470472190029009,
          0.6670697384881112,
          0.6877367524014177,
          0.7087782918980522,
          0.7299243881332467,
          0.7509050722622334,
          0.7714503754402443,
          0.7912903288225113,
          0.8101549635642664,
          0.8277743108207419,
          0.8438784017471693,
          0.8581972674987813,
          0.8704609392308094,
          0.8803994480984858,
          0.8877428252570423,
          0.8922211018617112,
          0.8935643090677245,
          0.891502478030314,
          0.8857656399047119,
          0.8760838258461501,
          0.8621870670098607,
          0.843805394551076,
          0.8206688396250277,
          0.7925074333869475,
          0.7590512069920679,
          0.7200301915956206,
          0.675174418352838,
          0.6242139184189518,
          0.6242139184189517,
          0.5178445468369821,
          0.4232594048422085,
          0.3399921859567804,
          0.2675765837028481,
          0.20554629160256171,
          0.1534350031780715,
          0.11077641195152765,
          0.07710421144508028,
          0.05195209518087948,
          0.03485375668107543,
          0.02534288946781832,
          0.0229531870632583,
          0.02721834298954548,
          0.03767205076883007,
          0.05384800392326218,
          0.07527989597499204,
          0.10150142044616978,
          0.13204627085894544,
          0.16644814073546932,
          0.20424072359789142,
          0.24495771296836213,
          0.2881328023690313,
          0.3332996853220495,
          0.3799920553495666,
          0.4277436059737327,
          0.47608803071669786,
          0.5245590231006126,
          0.5726902766476272,
          0.6200154848798911,
          0.6660683413195547,
          0.7103825394887688,
          0.7524917729096829,
          0.7919297351044475,
          0.8282301195952125,
          0.860926619904128,
          0.8895529295533443,
          0.9136427420650117,
          0.9327297509612803,
          0.9463476497643,
          0.9540301319962211,
          0.9553108911791938,
          0.9497236208353683,
          0.9368020144868947,
          0.9160797656559234,
          0.8870905678646039,
          0.8493681146350869,
          0.8024460994895223,
          0.7458582159500603,
          0.6791381575388512,
          0.6791381575388511,
          0.6685205711903529,
          0.6572458848203981,
          0.6453623602479793,
          0.6329182592920892,
          0.6199618437717206,
          0.6065413755058666,
          0.5927051163135197,
          0.5785013280136729,
          0.5639782724253188,
          0.5491842113674503,
          0.5341674066590605,
          0.5189761201191418,
          0.5036586135666871,
          0.4882631488206893,
          0.47283798770014107,
          0.4574313920240355,
          0.44209162361136506,
          0.4268669442811227,
          0.41180561585230113,
          0.3969559001438933,
          0.38236605897489206,
          0.3680843541642901,
          0.35415904753108024,
          0.34063840089425523,
          0.3275706760728079,
          0.3150041348857312,
          0.30298703915201775,
          0.2915676506906605,
          0.28079423132065207,
          0.2707150428609855,
          0.2613783471306535,
          0.25283240594864875,
          0.24512548113396423,
          0.23830583450559265,
          0.23242172788252688,
          0.2275214230837596,
          0.22365318192828382,
          0.22086526623509223,
          0.21920593782317757,
          0.2187234585115327,
          0.21946609011915044,
          0.2214820944650236,
          0.22481973336814506,
          0.22952726864750755,
          0.2356529621221038,
          0.24324507561092662,
          0.25235187093296907,
          0.2630216099072236,
          0.2753025543526833,
          0.27530255435268325,
          0.2453072772881844,
          0.21843108840743425,
          0.1945695492106584,
          0.17361822119808307,
          0.1554726658699344,
          0.14002844472643833,
          0.12718111926782097,
          0.11682625099430849,
          0.1088594014061268,
          0.10317613200350198,
          0.09967200428666025,
          0.0982425797558275,
          0.09878341991122985,
          0.10119008625309335,
          0.10535814028164409,
          0.11118314349710814,
          0.11856065739971157,
          0.12738624348968036,
          0.13755546326724064,
          0.14896387823261845,
          0.16150704988603992,
          0.175080539727731,
          0.1895799092579179,
          0.20490071997682655,
          0.22093853338468306,
          0.23758891098171336,
          0.2547474142681438,
          0.27230960474420024,
          0.29017104391010884,
          0.30822729326609544,
          0.3263739143123865,
          0.34450646854920774,
          0.36252051747678543,
          0.3803116225953455,
          0.397775345405114,
          0.414807247406317,
          0.43130289009918077,
          0.44715783498393125,
          0.4622676435607942,
          0.47652787732999613,
          0.4898340977917629,
          0.5020818664463206,
          0.5131667447938955,
          0.5229842943347133,
          0.5314300765690001,
          0.5383996529969821,
          0.5437885851188855,
          0.5474924344349361,
          0.5494067624453601
         ]
        },
        {
         "mode": "markers",
         "type": "scatter",
         "x": [
          0,
          0.1,
          0.2,
          0.30000000000000004,
          0.4,
          0.5,
          0.6000000000000001,
          0.7000000000000001,
          0.8,
          0.9,
          1,
          0.03333333333333333,
          0.06666666666666667,
          0.13333333333333333,
          0.16666666666666669,
          0.23333333333333336,
          0.2666666666666667,
          0.33333333333333337,
          0.3666666666666667,
          0.43333333333333335,
          0.4666666666666667,
          0.5333333333333333,
          0.5666666666666668,
          0.6333333333333334,
          0.6666666666666667,
          0.7333333333333334,
          0.7666666666666667,
          0.8333333333333334,
          0.8666666666666667,
          0.9333333333333333,
          0.9666666666666667
         ],
         "y": [
          0.3814263289862607,
          0.5329639001263734,
          0.9223992042794903,
          0.2520669591113943,
          0.5825588676947059,
          0.09841329879449678,
          0.9160258224469754,
          0.6242139184189517,
          0.6791381575388511,
          0.27530255435268325,
          0.54940676244536,
          0.9514575522343591,
          0.4254595194959565,
          0.1739720325676608,
          0.1700896788897165,
          0.9583992973634009,
          0.4648112107181692,
          0.3274613914016721,
          0.8020665508609999,
          0.4389402048271047,
          0.3367614423884965,
          0.49442191190110607,
          0.33712967391965276,
          0.5587918883154719,
          0.8536393353445055,
          0.08351125023250028,
          0.7791093399706939,
          0.4523083273352825,
          0.24759825290674986,
          0.11347497106729498,
          0.3565354485784825
         ]
        }
       ],
       "layout": {
        "template": {
         "data": {
          "bar": [
           {
            "error_x": {
             "color": "#2a3f5f"
            },
            "error_y": {
             "color": "#2a3f5f"
            },
            "marker": {
             "line": {
              "color": "#E5ECF6",
              "width": 0.5
             }
            },
            "type": "bar"
           }
          ],
          "barpolar": [
           {
            "marker": {
             "line": {
              "color": "#E5ECF6",
              "width": 0.5
             }
            },
            "type": "barpolar"
           }
          ],
          "carpet": [
           {
            "aaxis": {
             "endlinecolor": "#2a3f5f",
             "gridcolor": "white",
             "linecolor": "white",
             "minorgridcolor": "white",
             "startlinecolor": "#2a3f5f"
            },
            "baxis": {
             "endlinecolor": "#2a3f5f",
             "gridcolor": "white",
             "linecolor": "white",
             "minorgridcolor": "white",
             "startlinecolor": "#2a3f5f"
            },
            "type": "carpet"
           }
          ],
          "choropleth": [
           {
            "colorbar": {
             "outlinewidth": 0,
             "ticks": ""
            },
            "type": "choropleth"
           }
          ],
          "contour": [
           {
            "colorbar": {
             "outlinewidth": 0,
             "ticks": ""
            },
            "colorscale": [
             [
              0,
              "#0d0887"
             ],
             [
              0.1111111111111111,
              "#46039f"
             ],
             [
              0.2222222222222222,
              "#7201a8"
             ],
             [
              0.3333333333333333,
              "#9c179e"
             ],
             [
              0.4444444444444444,
              "#bd3786"
             ],
             [
              0.5555555555555556,
              "#d8576b"
             ],
             [
              0.6666666666666666,
              "#ed7953"
             ],
             [
              0.7777777777777778,
              "#fb9f3a"
             ],
             [
              0.8888888888888888,
              "#fdca26"
             ],
             [
              1,
              "#f0f921"
             ]
            ],
            "type": "contour"
           }
          ],
          "contourcarpet": [
           {
            "colorbar": {
             "outlinewidth": 0,
             "ticks": ""
            },
            "type": "contourcarpet"
           }
          ],
          "heatmap": [
           {
            "colorbar": {
             "outlinewidth": 0,
             "ticks": ""
            },
            "colorscale": [
             [
              0,
              "#0d0887"
             ],
             [
              0.1111111111111111,
              "#46039f"
             ],
             [
              0.2222222222222222,
              "#7201a8"
             ],
             [
              0.3333333333333333,
              "#9c179e"
             ],
             [
              0.4444444444444444,
              "#bd3786"
             ],
             [
              0.5555555555555556,
              "#d8576b"
             ],
             [
              0.6666666666666666,
              "#ed7953"
             ],
             [
              0.7777777777777778,
              "#fb9f3a"
             ],
             [
              0.8888888888888888,
              "#fdca26"
             ],
             [
              1,
              "#f0f921"
             ]
            ],
            "type": "heatmap"
           }
          ],
          "heatmapgl": [
           {
            "colorbar": {
             "outlinewidth": 0,
             "ticks": ""
            },
            "colorscale": [
             [
              0,
              "#0d0887"
             ],
             [
              0.1111111111111111,
              "#46039f"
             ],
             [
              0.2222222222222222,
              "#7201a8"
             ],
             [
              0.3333333333333333,
              "#9c179e"
             ],
             [
              0.4444444444444444,
              "#bd3786"
             ],
             [
              0.5555555555555556,
              "#d8576b"
             ],
             [
              0.6666666666666666,
              "#ed7953"
             ],
             [
              0.7777777777777778,
              "#fb9f3a"
             ],
             [
              0.8888888888888888,
              "#fdca26"
             ],
             [
              1,
              "#f0f921"
             ]
            ],
            "type": "heatmapgl"
           }
          ],
          "histogram": [
           {
            "marker": {
             "colorbar": {
              "outlinewidth": 0,
              "ticks": ""
             }
            },
            "type": "histogram"
           }
          ],
          "histogram2d": [
           {
            "colorbar": {
             "outlinewidth": 0,
             "ticks": ""
            },
            "colorscale": [
             [
              0,
              "#0d0887"
             ],
             [
              0.1111111111111111,
              "#46039f"
             ],
             [
              0.2222222222222222,
              "#7201a8"
             ],
             [
              0.3333333333333333,
              "#9c179e"
             ],
             [
              0.4444444444444444,
              "#bd3786"
             ],
             [
              0.5555555555555556,
              "#d8576b"
             ],
             [
              0.6666666666666666,
              "#ed7953"
             ],
             [
              0.7777777777777778,
              "#fb9f3a"
             ],
             [
              0.8888888888888888,
              "#fdca26"
             ],
             [
              1,
              "#f0f921"
             ]
            ],
            "type": "histogram2d"
           }
          ],
          "histogram2dcontour": [
           {
            "colorbar": {
             "outlinewidth": 0,
             "ticks": ""
            },
            "colorscale": [
             [
              0,
              "#0d0887"
             ],
             [
              0.1111111111111111,
              "#46039f"
             ],
             [
              0.2222222222222222,
              "#7201a8"
             ],
             [
              0.3333333333333333,
              "#9c179e"
             ],
             [
              0.4444444444444444,
              "#bd3786"
             ],
             [
              0.5555555555555556,
              "#d8576b"
             ],
             [
              0.6666666666666666,
              "#ed7953"
             ],
             [
              0.7777777777777778,
              "#fb9f3a"
             ],
             [
              0.8888888888888888,
              "#fdca26"
             ],
             [
              1,
              "#f0f921"
             ]
            ],
            "type": "histogram2dcontour"
           }
          ],
          "mesh3d": [
           {
            "colorbar": {
             "outlinewidth": 0,
             "ticks": ""
            },
            "type": "mesh3d"
           }
          ],
          "parcoords": [
           {
            "line": {
             "colorbar": {
              "outlinewidth": 0,
              "ticks": ""
             }
            },
            "type": "parcoords"
           }
          ],
          "scatter": [
           {
            "marker": {
             "colorbar": {
              "outlinewidth": 0,
              "ticks": ""
             }
            },
            "type": "scatter"
           }
          ],
          "scatter3d": [
           {
            "line": {
             "colorbar": {
              "outlinewidth": 0,
              "ticks": ""
             }
            },
            "marker": {
             "colorbar": {
              "outlinewidth": 0,
              "ticks": ""
             }
            },
            "type": "scatter3d"
           }
          ],
          "scattercarpet": [
           {
            "marker": {
             "colorbar": {
              "outlinewidth": 0,
              "ticks": ""
             }
            },
            "type": "scattercarpet"
           }
          ],
          "scattergeo": [
           {
            "marker": {
             "colorbar": {
              "outlinewidth": 0,
              "ticks": ""
             }
            },
            "type": "scattergeo"
           }
          ],
          "scattergl": [
           {
            "marker": {
             "colorbar": {
              "outlinewidth": 0,
              "ticks": ""
             }
            },
            "type": "scattergl"
           }
          ],
          "scattermapbox": [
           {
            "marker": {
             "colorbar": {
              "outlinewidth": 0,
              "ticks": ""
             }
            },
            "type": "scattermapbox"
           }
          ],
          "scatterpolar": [
           {
            "marker": {
             "colorbar": {
              "outlinewidth": 0,
              "ticks": ""
             }
            },
            "type": "scatterpolar"
           }
          ],
          "scatterpolargl": [
           {
            "marker": {
             "colorbar": {
              "outlinewidth": 0,
              "ticks": ""
             }
            },
            "type": "scatterpolargl"
           }
          ],
          "scatterternary": [
           {
            "marker": {
             "colorbar": {
              "outlinewidth": 0,
              "ticks": ""
             }
            },
            "type": "scatterternary"
           }
          ],
          "surface": [
           {
            "colorbar": {
             "outlinewidth": 0,
             "ticks": ""
            },
            "colorscale": [
             [
              0,
              "#0d0887"
             ],
             [
              0.1111111111111111,
              "#46039f"
             ],
             [
              0.2222222222222222,
              "#7201a8"
             ],
             [
              0.3333333333333333,
              "#9c179e"
             ],
             [
              0.4444444444444444,
              "#bd3786"
             ],
             [
              0.5555555555555556,
              "#d8576b"
             ],
             [
              0.6666666666666666,
              "#ed7953"
             ],
             [
              0.7777777777777778,
              "#fb9f3a"
             ],
             [
              0.8888888888888888,
              "#fdca26"
             ],
             [
              1,
              "#f0f921"
             ]
            ],
            "type": "surface"
           }
          ],
          "table": [
           {
            "cells": {
             "fill": {
              "color": "#EBF0F8"
             },
             "line": {
              "color": "white"
             }
            },
            "header": {
             "fill": {
              "color": "#C8D4E3"
             },
             "line": {
              "color": "white"
             }
            },
            "type": "table"
           }
          ]
         },
         "layout": {
          "annotationdefaults": {
           "arrowcolor": "#2a3f5f",
           "arrowhead": 0,
           "arrowwidth": 1
          },
          "colorscale": {
           "diverging": [
            [
             0,
             "#8e0152"
            ],
            [
             0.1,
             "#c51b7d"
            ],
            [
             0.2,
             "#de77ae"
            ],
            [
             0.3,
             "#f1b6da"
            ],
            [
             0.4,
             "#fde0ef"
            ],
            [
             0.5,
             "#f7f7f7"
            ],
            [
             0.6,
             "#e6f5d0"
            ],
            [
             0.7,
             "#b8e186"
            ],
            [
             0.8,
             "#7fbc41"
            ],
            [
             0.9,
             "#4d9221"
            ],
            [
             1,
             "#276419"
            ]
           ],
           "sequential": [
            [
             0,
             "#0d0887"
            ],
            [
             0.1111111111111111,
             "#46039f"
            ],
            [
             0.2222222222222222,
             "#7201a8"
            ],
            [
             0.3333333333333333,
             "#9c179e"
            ],
            [
             0.4444444444444444,
             "#bd3786"
            ],
            [
             0.5555555555555556,
             "#d8576b"
            ],
            [
             0.6666666666666666,
             "#ed7953"
            ],
            [
             0.7777777777777778,
             "#fb9f3a"
            ],
            [
             0.8888888888888888,
             "#fdca26"
            ],
            [
             1,
             "#f0f921"
            ]
           ],
           "sequentialminus": [
            [
             0,
             "#0d0887"
            ],
            [
             0.1111111111111111,
             "#46039f"
            ],
            [
             0.2222222222222222,
             "#7201a8"
            ],
            [
             0.3333333333333333,
             "#9c179e"
            ],
            [
             0.4444444444444444,
             "#bd3786"
            ],
            [
             0.5555555555555556,
             "#d8576b"
            ],
            [
             0.6666666666666666,
             "#ed7953"
            ],
            [
             0.7777777777777778,
             "#fb9f3a"
            ],
            [
             0.8888888888888888,
             "#fdca26"
            ],
            [
             1,
             "#f0f921"
            ]
           ]
          },
          "colorway": [
           "#636efa",
           "#EF553B",
           "#00cc96",
           "#ab63fa",
           "#FFA15A",
           "#19d3f3",
           "#FF6692",
           "#B6E880",
           "#FF97FF",
           "#FECB52"
          ],
          "font": {
           "color": "#2a3f5f"
          },
          "geo": {
           "bgcolor": "white",
           "lakecolor": "white",
           "landcolor": "#E5ECF6",
           "showlakes": true,
           "showland": true,
           "subunitcolor": "white"
          },
          "hoverlabel": {
           "align": "left"
          },
          "hovermode": "closest",
          "mapbox": {
           "style": "light"
          },
          "paper_bgcolor": "white",
          "plot_bgcolor": "#E5ECF6",
          "polar": {
           "angularaxis": {
            "gridcolor": "white",
            "linecolor": "white",
            "ticks": ""
           },
           "bgcolor": "#E5ECF6",
           "radialaxis": {
            "gridcolor": "white",
            "linecolor": "white",
            "ticks": ""
           }
          },
          "scene": {
           "xaxis": {
            "backgroundcolor": "#E5ECF6",
            "gridcolor": "white",
            "gridwidth": 2,
            "linecolor": "white",
            "showbackground": true,
            "ticks": "",
            "zerolinecolor": "white"
           },
           "yaxis": {
            "backgroundcolor": "#E5ECF6",
            "gridcolor": "white",
            "gridwidth": 2,
            "linecolor": "white",
            "showbackground": true,
            "ticks": "",
            "zerolinecolor": "white"
           },
           "zaxis": {
            "backgroundcolor": "#E5ECF6",
            "gridcolor": "white",
            "gridwidth": 2,
            "linecolor": "white",
            "showbackground": true,
            "ticks": "",
            "zerolinecolor": "white"
           }
          },
          "shapedefaults": {
           "line": {
            "color": "#2a3f5f"
           }
          },
          "ternary": {
           "aaxis": {
            "gridcolor": "white",
            "linecolor": "white",
            "ticks": ""
           },
           "baxis": {
            "gridcolor": "white",
            "linecolor": "white",
            "ticks": ""
           },
           "bgcolor": "#E5ECF6",
           "caxis": {
            "gridcolor": "white",
            "linecolor": "white",
            "ticks": ""
           }
          },
          "title": {
           "x": 0.05
          },
          "xaxis": {
           "automargin": true,
           "gridcolor": "white",
           "linecolor": "white",
           "ticks": "",
           "zerolinecolor": "white",
           "zerolinewidth": 2
          },
          "yaxis": {
           "automargin": true,
           "gridcolor": "white",
           "linecolor": "white",
           "ticks": "",
           "zerolinecolor": "white",
           "zerolinewidth": 2
          }
         }
        }
       }
      },
      "text/html": [
       "<div>\n",
       "        \n",
       "        \n",
       "            <div id=\"2915fb75-7cb4-4a98-9997-dee6ca8a3489\" class=\"plotly-graph-div\" style=\"height:525px; width:100%;\"></div>\n",
       "            <script type=\"text/javascript\">\n",
       "                require([\"plotly\"], function(Plotly) {\n",
       "                    window.PLOTLYENV=window.PLOTLYENV || {};\n",
       "                    \n",
       "                if (document.getElementById(\"2915fb75-7cb4-4a98-9997-dee6ca8a3489\")) {\n",
       "                    Plotly.newPlot(\n",
       "                        '2915fb75-7cb4-4a98-9997-dee6ca8a3489',\n",
       "                        [{\"mode\": \"lines\", \"type\": \"scatter\", \"x\": [0.0, 0.002040816326530612, 0.004081632653061224, 0.006122448979591837, 0.008163265306122448, 0.01020408163265306, 0.012244897959183675, 0.014285714285714285, 0.016326530612244896, 0.01836734693877551, 0.02040816326530612, 0.022448979591836733, 0.02448979591836735, 0.026530612244897958, 0.02857142857142857, 0.03061224489795918, 0.03265306122448979, 0.03469387755102041, 0.03673469387755102, 0.03877551020408163, 0.04081632653061224, 0.04285714285714286, 0.044897959183673466, 0.04693877551020408, 0.0489795918367347, 0.05102040816326531, 0.053061224489795916, 0.055102040816326525, 0.05714285714285714, 0.05918367346938776, 0.06122448979591836, 0.06326530612244897, 0.06530612244897958, 0.0673469387755102, 0.06938775510204082, 0.07142857142857142, 0.07346938775510203, 0.07551020408163266, 0.07755102040816327, 0.07959183673469387, 0.08163265306122448, 0.0836734693877551, 0.08571428571428572, 0.08775510204081632, 0.08979591836734693, 0.09183673469387754, 0.09387755102040816, 0.09591836734693877, 0.0979591836734694, 0.1, 0.1, 0.10204081632653061, 0.10408163265306122, 0.10612244897959185, 0.10816326530612246, 0.11020408163265306, 0.11224489795918369, 0.1142857142857143, 0.1163265306122449, 0.11836734693877551, 0.12040816326530612, 0.12244897959183673, 0.12448979591836735, 0.12653061224489798, 0.1285714285714286, 0.1306122448979592, 0.1326530612244898, 0.1346938775510204, 0.13673469387755102, 0.13877551020408163, 0.14081632653061224, 0.14285714285714285, 0.14489795918367349, 0.1469387755102041, 0.1489795918367347, 0.1510204081632653, 0.15306122448979592, 0.15510204081632653, 0.15714285714285714, 0.15918367346938778, 0.16122448979591836, 0.163265306122449, 0.16530612244897958, 0.1673469387755102, 0.16938775510204082, 0.17142857142857143, 0.17346938775510204, 0.17551020408163265, 0.17755102040816328, 0.17959183673469387, 0.1816326530612245, 0.1836734693877551, 0.18571428571428572, 0.18775510204081633, 0.18979591836734694, 0.19183673469387755, 0.19387755102040816, 0.1959183673469388, 0.1979591836734694, 0.2, 0.2, 0.20204081632653062, 0.20408163265306123, 0.20612244897959184, 0.20816326530612247, 0.21020408163265308, 0.2122448979591837, 0.2142857142857143, 0.2163265306122449, 0.21836734693877552, 0.22040816326530613, 0.22244897959183674, 0.22448979591836737, 0.22653061224489798, 0.2285714285714286, 0.2306122448979592, 0.2326530612244898, 0.23469387755102045, 0.23673469387755103, 0.23877551020408166, 0.24081632653061227, 0.24285714285714288, 0.2448979591836735, 0.2469387755102041, 0.24897959183673474, 0.2510204081632653, 0.25306122448979596, 0.25510204081632654, 0.2571428571428572, 0.25918367346938775, 0.2612244897959184, 0.263265306122449, 0.2653061224489796, 0.26734693877551025, 0.2693877551020408, 0.27142857142857146, 0.2734693877551021, 0.2755102040816327, 0.2775510204081633, 0.2795918367346939, 0.28163265306122454, 0.2836734693877551, 0.28571428571428575, 0.28775510204081634, 0.28979591836734697, 0.2918367346938776, 0.2938775510204082, 0.2959183673469388, 0.2979591836734694, 0.30000000000000004, 0.30000000000000004, 0.3020408163265307, 0.30408163265306126, 0.3061224489795919, 0.3081632653061225, 0.3102040816326531, 0.3122448979591837, 0.31428571428571433, 0.3163265306122449, 0.31836734693877555, 0.32040816326530613, 0.32244897959183677, 0.3244897959183674, 0.326530612244898, 0.3285714285714286, 0.3306122448979592, 0.33265306122448984, 0.3346938775510204, 0.33673469387755106, 0.3387755102040817, 0.3408163265306123, 0.34285714285714286, 0.3448979591836735, 0.34693877551020413, 0.3489795918367347, 0.35102040816326535, 0.35306122448979593, 0.35510204081632657, 0.35714285714285715, 0.3591836734693878, 0.36122448979591837, 0.363265306122449, 0.36530612244897964, 0.3673469387755102, 0.36938775510204086, 0.37142857142857144, 0.3734693877551021, 0.37551020408163266, 0.3775510204081633, 0.3795918367346939, 0.3816326530612245, 0.38367346938775515, 0.38571428571428573, 0.38775510204081637, 0.38979591836734695, 0.3918367346938776, 0.39387755102040817, 0.3959183673469388, 0.3979591836734694, 0.4, 0.4, 0.40204081632653066, 0.40408163265306124, 0.4061224489795919, 0.40816326530612246, 0.4102040816326531, 0.4122448979591837, 0.4142857142857143, 0.4163265306122449, 0.41836734693877553, 0.4204081632653061, 0.42244897959183675, 0.4244897959183674, 0.42653061224489797, 0.4285714285714286, 0.4306122448979592, 0.4326530612244898, 0.4346938775510204, 0.43673469387755104, 0.4387755102040817, 0.44081632653061226, 0.44285714285714284, 0.4448979591836735, 0.4469387755102041, 0.4489795918367347, 0.45102040816326533, 0.4530612244897959, 0.45510204081632655, 0.45714285714285713, 0.45918367346938777, 0.46122448979591835, 0.463265306122449, 0.4653061224489796, 0.4673469387755102, 0.46938775510204084, 0.4714285714285714, 0.47346938775510206, 0.47551020408163264, 0.4775510204081633, 0.47959183673469385, 0.4816326530612245, 0.48367346938775513, 0.4857142857142857, 0.48775510204081635, 0.4897959183673469, 0.49183673469387756, 0.49387755102040815, 0.4959183673469388, 0.49795918367346936, 0.5, 0.5, 0.5020408163265306, 0.5040816326530613, 0.5061224489795918, 0.5081632653061224, 0.5102040816326531, 0.5122448979591837, 0.5142857142857143, 0.5163265306122449, 0.5183673469387755, 0.5204081632653061, 0.5224489795918368, 0.5244897959183674, 0.5265306122448979, 0.5285714285714286, 0.5306122448979592, 0.5326530612244899, 0.5346938775510204, 0.536734693877551, 0.5387755102040817, 0.5408163265306123, 0.5428571428571429, 0.5448979591836735, 0.5469387755102041, 0.5489795918367347, 0.5510204081632654, 0.553061224489796, 0.5551020408163265, 0.5571428571428572, 0.5591836734693878, 0.5612244897959184, 0.5632653061224491, 0.5653061224489796, 0.5673469387755102, 0.5693877551020409, 0.5714285714285715, 0.5734693877551021, 0.5755102040816327, 0.5775510204081633, 0.5795918367346939, 0.5816326530612246, 0.5836734693877552, 0.5857142857142857, 0.5877551020408164, 0.589795918367347, 0.5918367346938777, 0.5938775510204082, 0.5959183673469388, 0.5979591836734695, 0.6000000000000001, 0.6000000000000001, 0.6020408163265307, 0.6040816326530614, 0.6061224489795919, 0.6081632653061225, 0.6102040816326532, 0.6122448979591838, 0.6142857142857143, 0.616326530612245, 0.6183673469387756, 0.6204081632653062, 0.6224489795918369, 0.6244897959183674, 0.626530612244898, 0.6285714285714287, 0.6306122448979593, 0.6326530612244898, 0.6346938775510205, 0.6367346938775511, 0.6387755102040817, 0.6408163265306123, 0.6428571428571429, 0.6448979591836735, 0.6469387755102042, 0.6489795918367348, 0.6510204081632653, 0.653061224489796, 0.6551020408163266, 0.6571428571428573, 0.6591836734693879, 0.6612244897959184, 0.663265306122449, 0.6653061224489797, 0.6673469387755103, 0.6693877551020408, 0.6714285714285715, 0.6734693877551021, 0.6755102040816328, 0.6775510204081634, 0.6795918367346939, 0.6816326530612246, 0.6836734693877552, 0.6857142857142857, 0.6877551020408164, 0.689795918367347, 0.6918367346938776, 0.6938775510204083, 0.6959183673469388, 0.6979591836734694, 0.7000000000000001, 0.7000000000000001, 0.7020408163265307, 0.7040816326530613, 0.7061224489795919, 0.7081632653061225, 0.7102040816326531, 0.7122448979591838, 0.7142857142857143, 0.7163265306122449, 0.7183673469387756, 0.7204081632653062, 0.7224489795918367, 0.7244897959183674, 0.726530612244898, 0.7285714285714286, 0.7306122448979593, 0.7326530612244898, 0.7346938775510204, 0.7367346938775511, 0.7387755102040817, 0.7408163265306122, 0.7428571428571429, 0.7448979591836735, 0.7469387755102042, 0.7489795918367348, 0.7510204081632653, 0.753061224489796, 0.7551020408163266, 0.7571428571428572, 0.7591836734693878, 0.7612244897959184, 0.763265306122449, 0.7653061224489797, 0.7673469387755103, 0.7693877551020408, 0.7714285714285715, 0.7734693877551021, 0.7755102040816327, 0.7775510204081633, 0.7795918367346939, 0.7816326530612245, 0.7836734693877552, 0.7857142857142858, 0.7877551020408163, 0.789795918367347, 0.7918367346938776, 0.7938775510204082, 0.7959183673469388, 0.7979591836734694, 0.8, 0.8, 0.8020408163265307, 0.8040816326530613, 0.8061224489795918, 0.8081632653061225, 0.8102040816326531, 0.8122448979591838, 0.8142857142857143, 0.8163265306122449, 0.8183673469387756, 0.8204081632653062, 0.8224489795918368, 0.8244897959183674, 0.826530612244898, 0.8285714285714286, 0.8306122448979593, 0.8326530612244898, 0.8346938775510204, 0.8367346938775511, 0.8387755102040817, 0.8408163265306122, 0.8428571428571429, 0.8448979591836735, 0.8469387755102041, 0.8489795918367348, 0.8510204081632653, 0.8530612244897959, 0.8551020408163266, 0.8571428571428572, 0.8591836734693878, 0.8612244897959184, 0.863265306122449, 0.8653061224489796, 0.8673469387755103, 0.8693877551020408, 0.8714285714285714, 0.8734693877551021, 0.8755102040816327, 0.8775510204081634, 0.8795918367346939, 0.8816326530612245, 0.8836734693877552, 0.8857142857142857, 0.8877551020408163, 0.889795918367347, 0.8918367346938776, 0.8938775510204082, 0.8959183673469387, 0.8979591836734694, 0.9, 0.9, 0.9020408163265307, 0.9040816326530613, 0.9061224489795918, 0.9081632653061225, 0.9102040816326531, 0.9122448979591837, 0.9142857142857143, 0.9163265306122449, 0.9183673469387755, 0.9204081632653062, 0.9224489795918367, 0.9244897959183673, 0.926530612244898, 0.9285714285714286, 0.9306122448979592, 0.9326530612244898, 0.9346938775510204, 0.936734693877551, 0.9387755102040817, 0.9408163265306122, 0.9428571428571428, 0.9448979591836735, 0.9469387755102041, 0.9489795918367347, 0.9510204081632653, 0.9530612244897959, 0.9551020408163265, 0.9571428571428572, 0.9591836734693877, 0.9612244897959183, 0.963265306122449, 0.9653061224489796, 0.9673469387755103, 0.9693877551020408, 0.9714285714285714, 0.9734693877551021, 0.9755102040816327, 0.9775510204081632, 0.9795918367346939, 0.9816326530612245, 0.9836734693877551, 0.9857142857142858, 0.9877551020408163, 0.9897959183673469, 0.9918367346938776, 0.9938775510204082, 0.9959183673469387, 0.9979591836734694, 1.0], \"y\": [0.3814263289862607, 0.47994511378755755, 0.5682693791878979, 0.6467960461562027, 0.7159220356613929, 0.7760442686723894, 0.8275596661581138, 0.8708651490874867, 0.9063576384294294, 0.9344340551528627, 0.9554913202267077, 0.9699263546198861, 0.9781360793013181, 0.980517415239925, 0.9774672834046281, 0.9693826047643481, 0.9566603002880066, 0.9396972909445241, 0.9188904977028219, 0.8946368415318209, 0.8673332434004427, 0.8373766242776076, 0.8051639051322372, 0.7710920069332525, 0.7355578506495741, 0.6989583572501237, 0.6616904477038221, 0.62415104297959, 0.5867370640463488, 0.5498454318730197, 0.5138730674285237, 0.47921689168178155, 0.4462738256017144, 0.4154407901572436, 0.38711470631729006, 0.36169249505077483, 0.33957107732661873, 0.3211473741137432, 0.30681830638106916, 0.2969807950975175, 0.2920317612320096, 0.2923681257534661, 0.2983868096308083, 0.3104847338329576, 0.3290588193288345, 0.35450598708736025, 0.387223158077456, 0.42760725326804283, 0.47605519362804155, 0.5329639001263735, 0.5329639001263734, 0.5082286391337357, 0.48341309863539955, 0.4586093255154011, 0.4339093666577772, 0.4094052689465647, 0.38518907926580065, 0.36135284449952165, 0.3379886115317646, 0.3151884272465664, 0.29304433852796363, 0.2716483922599934, 0.2510926353266923, 0.23146911461209724, 0.21286987700024498, 0.19538696937517244, 0.1791124386209164, 0.16413833162151362, 0.15055669526100096, 0.13845957642341525, 0.12793902199279328, 0.11908707885317192, 0.11199579388858798, 0.10675721398307823, 0.1034633860206795, 0.1022063568854286, 0.10307817346136239, 0.10617088263251764, 0.11157653128293124, 0.11938716629663997, 0.12969483455768055, 0.14259158295008997, 0.15816945835790494, 0.17652050766516236, 0.19773677775589898, 0.22191031551415152, 0.249133167823957, 0.2794973815693522, 0.3130950036343739, 0.35001808090305864, 0.39035866025944377, 0.4342087885875658, 0.48166051277146155, 0.532805879695168, 0.5877369362427218, 0.6465457292981597, 0.7093243057455189, 0.7761647124688359, 0.8471589963521473, 0.9223992042794905, 0.9223992042794903, 0.9548741106400612, 0.9825120252593144, 1.0054989392157858, 1.0240208435880116, 1.0382637294545285, 1.0484135878938727, 1.0546564099845805, 1.0571781868051888, 1.0561649094342327, 1.05180256895025, 1.0442771564317765, 1.0337746629573488, 1.0204810796055024, 1.0045823974547747, 0.986264607583701, 0.9657137010708191, 0.9431156689946643, 0.9186565024337732, 0.8925221924666821, 0.8648987301719275, 0.8359721066280459, 0.8059283129135736, 0.7749533401070469, 0.743233179287002, 0.7109538215319754, 0.6783012579205037, 0.6454614795311229, 0.6126204774423696, 0.5799642427327799, 0.5476787664808906, 0.5159500397652379, 0.48496405366435785, 0.45490679925678723, 0.4259642676210622, 0.3983224498357193, 0.3721673369792946, 0.3476849201303247, 0.325061190367346, 0.30448213876889474, 0.2861337564135073, 0.27020203437972, 0.25687296374606927, 0.24633253559109172, 0.2387667409933235, 0.23436157103130076, 0.23330301678356014, 0.23577706932863796, 0.24196971974507053, 0.2520669591113944, 0.2520669591113943, 0.22490499961515503, 0.203086798999795, 0.18636144364612087, 0.17447801993493944, 0.1671856142470577, 0.16423331296328242, 0.16537020246442036, 0.17034536913127857, 0.17890789934466356, 0.19080687948538244, 0.20579139593424214, 0.2236105350720492, 0.2440133832796106, 0.26674902693773317, 0.2915665524272237, 0.31821504612888923, 0.34644359442353645, 0.37600128369197205, 0.40663720031500306, 0.4381004306734363, 0.4701400611480786, 0.5025051781197367, 0.5349448679692178, 0.5672082170773283, 0.5990443118248752, 0.6302022385926652, 0.6604310837615054, 0.6894799337122027, 0.7170978748255636, 0.743033993482395, 0.7670373760635041, 0.7888571089496972, 0.8082422785217818, 0.8249419711605641, 0.8387052732468513, 0.84928127116145, 0.8564190512851674, 0.8598676999988101, 0.8593763036831847, 0.8546939487190985, 0.845569721487358, 0.8317527083687704, 0.8129919957441423, 0.7890366699942807, 0.759635817499992, 0.7245385246420833, 0.6834938778013615, 0.6362509633586335, 0.582558867694706, 0.5825588676947059, 0.5692763934514258, 0.5567742508613273, 0.5450116792668371, 0.5339479180103827, 0.5235422064343911, 0.5137537838812899, 0.504541889693506, 0.4958657632134668, 0.4876846437835995, 0.4799577707463311, 0.4726443834440893, 0.46570372121930115, 0.4590950234143937, 0.4527775293717943, 0.44671047843393014, 0.4408531099432287, 0.43516466324211683, 0.42960437767302195, 0.4241314925783713, 0.4187052473005922, 0.41328488118211165, 0.4078296335653572, 0.4022987437927559, 0.3966514512067349, 0.39084699514972143, 0.384844614964143, 0.37860354999242657, 0.3720830395769995, 0.36524232306028903, 0.3580406397847223, 0.3504372290927266, 0.34239133032672914, 0.33386218282915725, 0.3248090259424381, 0.3151910990089989, 0.3049676413712668, 0.2940978923716692, 0.2825410913526333, 0.27025647765658634, 0.25720329062595537, 0.24334076960316783, 0.22862815393065083, 0.21302468295083182, 0.1964895960061379, 0.17898213243899613, 0.16046153159183393, 0.14088703280707848, 0.12021787542715702, 0.09841329879449681, 0.09841329879449678, 0.16250814194560503, 0.21999133332156073, 0.27115880581949947, 0.316306492336557, 0.35573032576986896, 0.38972623901657105, 0.4185901649737988, 0.4426180365386882, 0.46210578660837454, 0.4773493480799936, 0.48864465385068145, 0.49628763681757315, 0.5005742298778046, 0.5018003659285117, 0.5002619778668299, 0.496254998589895, 0.4900753609948425, 0.48201899797880815, 0.47238184243892756, 0.4614598272723366, 0.4495488853761707, 0.4369449496475657, 0.4239439529836574, 0.410841828281581, 0.39793450843847256, 0.38551792635146775, 0.373888014917702, 0.3633407070343112, 0.35417193559843096, 0.3466776335071969, 0.34115373365774476, 0.33789616894721014, 0.3372008722727288, 0.33936377653143635, 0.3446808146204685, 0.35344791943696086, 0.3659610238780492, 0.3825160608408692, 0.40340896322255615, 0.42893566392024635, 0.459392095831075, 0.49507419185217794, 0.5362778848806911, 0.5832991078137495, 0.6364337935484894, 0.6959778749820462, 0.7622272850115559, 0.8354779565341536, 0.9160258224469756, 0.9160258224469754, 0.8535673467877722, 0.7976926801415615, 0.7481318536635742, 0.7046148985090427, 0.6668718458331985, 0.6346327267912745, 0.6076275725385021, 0.5855864142301135, 0.5682392830213406, 0.5553162100674155, 0.5465472265235707, 0.5416623635450374, 0.540391652287048, 0.5424651239048345, 0.5476128095536289, 0.5555647403886633, 0.5660509475651696, 0.5788014622383799, 0.5935463155635261, 0.6100155386958402, 0.6279391627905546, 0.6470472190029009, 0.6670697384881112, 0.6877367524014177, 0.7087782918980522, 0.7299243881332467, 0.7509050722622334, 0.7714503754402443, 0.7912903288225113, 0.8101549635642664, 0.8277743108207419, 0.8438784017471693, 0.8581972674987813, 0.8704609392308094, 0.8803994480984858, 0.8877428252570423, 0.8922211018617112, 0.8935643090677245, 0.891502478030314, 0.8857656399047119, 0.8760838258461501, 0.8621870670098607, 0.843805394551076, 0.8206688396250277, 0.7925074333869475, 0.7590512069920679, 0.7200301915956206, 0.675174418352838, 0.6242139184189518, 0.6242139184189517, 0.5178445468369821, 0.4232594048422085, 0.3399921859567804, 0.2675765837028481, 0.20554629160256171, 0.1534350031780715, 0.11077641195152765, 0.07710421144508028, 0.05195209518087948, 0.03485375668107543, 0.02534288946781832, 0.0229531870632583, 0.02721834298954548, 0.03767205076883007, 0.05384800392326218, 0.07527989597499204, 0.10150142044616978, 0.13204627085894544, 0.16644814073546932, 0.20424072359789142, 0.24495771296836213, 0.2881328023690313, 0.3332996853220495, 0.3799920553495666, 0.4277436059737327, 0.47608803071669786, 0.5245590231006126, 0.5726902766476272, 0.6200154848798911, 0.6660683413195547, 0.7103825394887688, 0.7524917729096829, 0.7919297351044475, 0.8282301195952125, 0.860926619904128, 0.8895529295533443, 0.9136427420650117, 0.9327297509612803, 0.9463476497643, 0.9540301319962211, 0.9553108911791938, 0.9497236208353683, 0.9368020144868947, 0.9160797656559234, 0.8870905678646039, 0.8493681146350869, 0.8024460994895223, 0.7458582159500603, 0.6791381575388512, 0.6791381575388511, 0.6685205711903529, 0.6572458848203981, 0.6453623602479793, 0.6329182592920892, 0.6199618437717206, 0.6065413755058666, 0.5927051163135197, 0.5785013280136729, 0.5639782724253188, 0.5491842113674503, 0.5341674066590605, 0.5189761201191418, 0.5036586135666871, 0.4882631488206893, 0.47283798770014107, 0.4574313920240355, 0.44209162361136506, 0.4268669442811227, 0.41180561585230113, 0.3969559001438933, 0.38236605897489206, 0.3680843541642901, 0.35415904753108024, 0.34063840089425523, 0.3275706760728079, 0.3150041348857312, 0.30298703915201775, 0.2915676506906605, 0.28079423132065207, 0.2707150428609855, 0.2613783471306535, 0.25283240594864875, 0.24512548113396423, 0.23830583450559265, 0.23242172788252688, 0.2275214230837596, 0.22365318192828382, 0.22086526623509223, 0.21920593782317757, 0.2187234585115327, 0.21946609011915044, 0.2214820944650236, 0.22481973336814506, 0.22952726864750755, 0.2356529621221038, 0.24324507561092662, 0.25235187093296907, 0.2630216099072236, 0.2753025543526833, 0.27530255435268325, 0.2453072772881844, 0.21843108840743425, 0.1945695492106584, 0.17361822119808307, 0.1554726658699344, 0.14002844472643833, 0.12718111926782097, 0.11682625099430849, 0.1088594014061268, 0.10317613200350198, 0.09967200428666025, 0.0982425797558275, 0.09878341991122985, 0.10119008625309335, 0.10535814028164409, 0.11118314349710814, 0.11856065739971157, 0.12738624348968036, 0.13755546326724064, 0.14896387823261845, 0.16150704988603992, 0.175080539727731, 0.1895799092579179, 0.20490071997682655, 0.22093853338468306, 0.23758891098171336, 0.2547474142681438, 0.27230960474420024, 0.29017104391010884, 0.30822729326609544, 0.3263739143123865, 0.34450646854920774, 0.36252051747678543, 0.3803116225953455, 0.397775345405114, 0.414807247406317, 0.43130289009918077, 0.44715783498393125, 0.4622676435607942, 0.47652787732999613, 0.4898340977917629, 0.5020818664463206, 0.5131667447938955, 0.5229842943347133, 0.5314300765690001, 0.5383996529969821, 0.5437885851188855, 0.5474924344349361, 0.5494067624453601]}, {\"mode\": \"markers\", \"type\": \"scatter\", \"x\": [0.0, 0.1, 0.2, 0.30000000000000004, 0.4, 0.5, 0.6000000000000001, 0.7000000000000001, 0.8, 0.9, 1.0, 0.03333333333333333, 0.06666666666666667, 0.13333333333333333, 0.16666666666666669, 0.23333333333333336, 0.2666666666666667, 0.33333333333333337, 0.3666666666666667, 0.43333333333333335, 0.4666666666666667, 0.5333333333333333, 0.5666666666666668, 0.6333333333333334, 0.6666666666666667, 0.7333333333333334, 0.7666666666666667, 0.8333333333333334, 0.8666666666666667, 0.9333333333333333, 0.9666666666666667], \"y\": [0.3814263289862607, 0.5329639001263734, 0.9223992042794903, 0.2520669591113943, 0.5825588676947059, 0.09841329879449678, 0.9160258224469754, 0.6242139184189517, 0.6791381575388511, 0.27530255435268325, 0.54940676244536, 0.9514575522343591, 0.4254595194959565, 0.1739720325676608, 0.1700896788897165, 0.9583992973634009, 0.4648112107181692, 0.3274613914016721, 0.8020665508609999, 0.4389402048271047, 0.3367614423884965, 0.49442191190110607, 0.33712967391965276, 0.5587918883154719, 0.8536393353445055, 0.08351125023250028, 0.7791093399706939, 0.4523083273352825, 0.24759825290674986, 0.11347497106729498, 0.3565354485784825]}],\n",
       "                        {\"template\": {\"data\": {\"bar\": [{\"error_x\": {\"color\": \"#2a3f5f\"}, \"error_y\": {\"color\": \"#2a3f5f\"}, \"marker\": {\"line\": {\"color\": \"#E5ECF6\", \"width\": 0.5}}, \"type\": \"bar\"}], \"barpolar\": [{\"marker\": {\"line\": {\"color\": \"#E5ECF6\", \"width\": 0.5}}, \"type\": \"barpolar\"}], \"carpet\": [{\"aaxis\": {\"endlinecolor\": \"#2a3f5f\", \"gridcolor\": \"white\", \"linecolor\": \"white\", \"minorgridcolor\": \"white\", \"startlinecolor\": \"#2a3f5f\"}, \"baxis\": {\"endlinecolor\": \"#2a3f5f\", \"gridcolor\": \"white\", \"linecolor\": \"white\", \"minorgridcolor\": \"white\", \"startlinecolor\": \"#2a3f5f\"}, \"type\": \"carpet\"}], \"choropleth\": [{\"colorbar\": {\"outlinewidth\": 0, \"ticks\": \"\"}, \"type\": \"choropleth\"}], \"contour\": [{\"colorbar\": {\"outlinewidth\": 0, \"ticks\": \"\"}, \"colorscale\": [[0.0, \"#0d0887\"], [0.1111111111111111, \"#46039f\"], [0.2222222222222222, \"#7201a8\"], [0.3333333333333333, \"#9c179e\"], [0.4444444444444444, \"#bd3786\"], [0.5555555555555556, \"#d8576b\"], [0.6666666666666666, \"#ed7953\"], [0.7777777777777778, \"#fb9f3a\"], [0.8888888888888888, \"#fdca26\"], [1.0, \"#f0f921\"]], \"type\": \"contour\"}], \"contourcarpet\": [{\"colorbar\": {\"outlinewidth\": 0, \"ticks\": \"\"}, \"type\": \"contourcarpet\"}], \"heatmap\": [{\"colorbar\": {\"outlinewidth\": 0, \"ticks\": \"\"}, \"colorscale\": [[0.0, \"#0d0887\"], [0.1111111111111111, \"#46039f\"], [0.2222222222222222, \"#7201a8\"], [0.3333333333333333, \"#9c179e\"], [0.4444444444444444, \"#bd3786\"], [0.5555555555555556, \"#d8576b\"], [0.6666666666666666, \"#ed7953\"], [0.7777777777777778, \"#fb9f3a\"], [0.8888888888888888, \"#fdca26\"], [1.0, \"#f0f921\"]], \"type\": \"heatmap\"}], \"heatmapgl\": [{\"colorbar\": {\"outlinewidth\": 0, \"ticks\": \"\"}, \"colorscale\": [[0.0, \"#0d0887\"], [0.1111111111111111, \"#46039f\"], [0.2222222222222222, \"#7201a8\"], [0.3333333333333333, \"#9c179e\"], [0.4444444444444444, \"#bd3786\"], [0.5555555555555556, \"#d8576b\"], [0.6666666666666666, \"#ed7953\"], [0.7777777777777778, \"#fb9f3a\"], [0.8888888888888888, \"#fdca26\"], [1.0, \"#f0f921\"]], \"type\": \"heatmapgl\"}], \"histogram\": [{\"marker\": {\"colorbar\": {\"outlinewidth\": 0, \"ticks\": \"\"}}, \"type\": \"histogram\"}], \"histogram2d\": [{\"colorbar\": {\"outlinewidth\": 0, \"ticks\": \"\"}, \"colorscale\": [[0.0, \"#0d0887\"], [0.1111111111111111, \"#46039f\"], [0.2222222222222222, \"#7201a8\"], [0.3333333333333333, \"#9c179e\"], [0.4444444444444444, \"#bd3786\"], [0.5555555555555556, \"#d8576b\"], [0.6666666666666666, \"#ed7953\"], [0.7777777777777778, \"#fb9f3a\"], [0.8888888888888888, \"#fdca26\"], [1.0, \"#f0f921\"]], \"type\": \"histogram2d\"}], \"histogram2dcontour\": [{\"colorbar\": {\"outlinewidth\": 0, \"ticks\": \"\"}, \"colorscale\": [[0.0, \"#0d0887\"], [0.1111111111111111, \"#46039f\"], [0.2222222222222222, \"#7201a8\"], [0.3333333333333333, \"#9c179e\"], [0.4444444444444444, \"#bd3786\"], [0.5555555555555556, \"#d8576b\"], [0.6666666666666666, \"#ed7953\"], [0.7777777777777778, \"#fb9f3a\"], [0.8888888888888888, \"#fdca26\"], [1.0, \"#f0f921\"]], \"type\": \"histogram2dcontour\"}], \"mesh3d\": [{\"colorbar\": {\"outlinewidth\": 0, \"ticks\": \"\"}, \"type\": \"mesh3d\"}], \"parcoords\": [{\"line\": {\"colorbar\": {\"outlinewidth\": 0, \"ticks\": \"\"}}, \"type\": \"parcoords\"}], \"scatter\": [{\"marker\": {\"colorbar\": {\"outlinewidth\": 0, \"ticks\": \"\"}}, \"type\": \"scatter\"}], \"scatter3d\": [{\"line\": {\"colorbar\": {\"outlinewidth\": 0, \"ticks\": \"\"}}, \"marker\": {\"colorbar\": {\"outlinewidth\": 0, \"ticks\": \"\"}}, \"type\": \"scatter3d\"}], \"scattercarpet\": [{\"marker\": {\"colorbar\": {\"outlinewidth\": 0, \"ticks\": \"\"}}, \"type\": \"scattercarpet\"}], \"scattergeo\": [{\"marker\": {\"colorbar\": {\"outlinewidth\": 0, \"ticks\": \"\"}}, \"type\": \"scattergeo\"}], \"scattergl\": [{\"marker\": {\"colorbar\": {\"outlinewidth\": 0, \"ticks\": \"\"}}, \"type\": \"scattergl\"}], \"scattermapbox\": [{\"marker\": {\"colorbar\": {\"outlinewidth\": 0, \"ticks\": \"\"}}, \"type\": \"scattermapbox\"}], \"scatterpolar\": [{\"marker\": {\"colorbar\": {\"outlinewidth\": 0, \"ticks\": \"\"}}, \"type\": \"scatterpolar\"}], \"scatterpolargl\": [{\"marker\": {\"colorbar\": {\"outlinewidth\": 0, \"ticks\": \"\"}}, \"type\": \"scatterpolargl\"}], \"scatterternary\": [{\"marker\": {\"colorbar\": {\"outlinewidth\": 0, \"ticks\": \"\"}}, \"type\": \"scatterternary\"}], \"surface\": [{\"colorbar\": {\"outlinewidth\": 0, \"ticks\": \"\"}, \"colorscale\": [[0.0, \"#0d0887\"], [0.1111111111111111, \"#46039f\"], [0.2222222222222222, \"#7201a8\"], [0.3333333333333333, \"#9c179e\"], [0.4444444444444444, \"#bd3786\"], [0.5555555555555556, \"#d8576b\"], [0.6666666666666666, \"#ed7953\"], [0.7777777777777778, \"#fb9f3a\"], [0.8888888888888888, \"#fdca26\"], [1.0, \"#f0f921\"]], \"type\": \"surface\"}], \"table\": [{\"cells\": {\"fill\": {\"color\": \"#EBF0F8\"}, \"line\": {\"color\": \"white\"}}, \"header\": {\"fill\": {\"color\": \"#C8D4E3\"}, \"line\": {\"color\": \"white\"}}, \"type\": \"table\"}]}, \"layout\": {\"annotationdefaults\": {\"arrowcolor\": \"#2a3f5f\", \"arrowhead\": 0, \"arrowwidth\": 1}, \"colorscale\": {\"diverging\": [[0, \"#8e0152\"], [0.1, \"#c51b7d\"], [0.2, \"#de77ae\"], [0.3, \"#f1b6da\"], [0.4, \"#fde0ef\"], [0.5, \"#f7f7f7\"], [0.6, \"#e6f5d0\"], [0.7, \"#b8e186\"], [0.8, \"#7fbc41\"], [0.9, \"#4d9221\"], [1, \"#276419\"]], \"sequential\": [[0.0, \"#0d0887\"], [0.1111111111111111, \"#46039f\"], [0.2222222222222222, \"#7201a8\"], [0.3333333333333333, \"#9c179e\"], [0.4444444444444444, \"#bd3786\"], [0.5555555555555556, \"#d8576b\"], [0.6666666666666666, \"#ed7953\"], [0.7777777777777778, \"#fb9f3a\"], [0.8888888888888888, \"#fdca26\"], [1.0, \"#f0f921\"]], \"sequentialminus\": [[0.0, \"#0d0887\"], [0.1111111111111111, \"#46039f\"], [0.2222222222222222, \"#7201a8\"], [0.3333333333333333, \"#9c179e\"], [0.4444444444444444, \"#bd3786\"], [0.5555555555555556, \"#d8576b\"], [0.6666666666666666, \"#ed7953\"], [0.7777777777777778, \"#fb9f3a\"], [0.8888888888888888, \"#fdca26\"], [1.0, \"#f0f921\"]]}, \"colorway\": [\"#636efa\", \"#EF553B\", \"#00cc96\", \"#ab63fa\", \"#FFA15A\", \"#19d3f3\", \"#FF6692\", \"#B6E880\", \"#FF97FF\", \"#FECB52\"], \"font\": {\"color\": \"#2a3f5f\"}, \"geo\": {\"bgcolor\": \"white\", \"lakecolor\": \"white\", \"landcolor\": \"#E5ECF6\", \"showlakes\": true, \"showland\": true, \"subunitcolor\": \"white\"}, \"hoverlabel\": {\"align\": \"left\"}, \"hovermode\": \"closest\", \"mapbox\": {\"style\": \"light\"}, \"paper_bgcolor\": \"white\", \"plot_bgcolor\": \"#E5ECF6\", \"polar\": {\"angularaxis\": {\"gridcolor\": \"white\", \"linecolor\": \"white\", \"ticks\": \"\"}, \"bgcolor\": \"#E5ECF6\", \"radialaxis\": {\"gridcolor\": \"white\", \"linecolor\": \"white\", \"ticks\": \"\"}}, \"scene\": {\"xaxis\": {\"backgroundcolor\": \"#E5ECF6\", \"gridcolor\": \"white\", \"gridwidth\": 2, \"linecolor\": \"white\", \"showbackground\": true, \"ticks\": \"\", \"zerolinecolor\": \"white\"}, \"yaxis\": {\"backgroundcolor\": \"#E5ECF6\", \"gridcolor\": \"white\", \"gridwidth\": 2, \"linecolor\": \"white\", \"showbackground\": true, \"ticks\": \"\", \"zerolinecolor\": \"white\"}, \"zaxis\": {\"backgroundcolor\": \"#E5ECF6\", \"gridcolor\": \"white\", \"gridwidth\": 2, \"linecolor\": \"white\", \"showbackground\": true, \"ticks\": \"\", \"zerolinecolor\": \"white\"}}, \"shapedefaults\": {\"line\": {\"color\": \"#2a3f5f\"}}, \"ternary\": {\"aaxis\": {\"gridcolor\": \"white\", \"linecolor\": \"white\", \"ticks\": \"\"}, \"baxis\": {\"gridcolor\": \"white\", \"linecolor\": \"white\", \"ticks\": \"\"}, \"bgcolor\": \"#E5ECF6\", \"caxis\": {\"gridcolor\": \"white\", \"linecolor\": \"white\", \"ticks\": \"\"}}, \"title\": {\"x\": 0.05}, \"xaxis\": {\"automargin\": true, \"gridcolor\": \"white\", \"linecolor\": \"white\", \"ticks\": \"\", \"zerolinecolor\": \"white\", \"zerolinewidth\": 2}, \"yaxis\": {\"automargin\": true, \"gridcolor\": \"white\", \"linecolor\": \"white\", \"ticks\": \"\", \"zerolinecolor\": \"white\", \"zerolinewidth\": 2}}}},\n",
       "                        {\"responsive\": true}\n",
       "                    ).then(function(){\n",
       "                            \n",
       "var gd = document.getElementById('2915fb75-7cb4-4a98-9997-dee6ca8a3489');\n",
       "var x = new MutationObserver(function (mutations, observer) {{\n",
       "        var display = window.getComputedStyle(gd).display;\n",
       "        if (!display || display === 'none') {{\n",
       "            console.log([gd, 'removed!']);\n",
       "            Plotly.purge(gd);\n",
       "            observer.disconnect();\n",
       "        }}\n",
       "}});\n",
       "\n",
       "// Listen for the removal of the full notebook cells\n",
       "var notebookContainer = gd.closest('#notebook-container');\n",
       "if (notebookContainer) {{\n",
       "    x.observe(notebookContainer, {childList: true});\n",
       "}}\n",
       "\n",
       "// Listen for the clearing of the current output cell\n",
       "var outputEl = gd.closest('.output');\n",
       "if (outputEl) {{\n",
       "    x.observe(outputEl, {childList: true});\n",
       "}}\n",
       "\n",
       "                        })\n",
       "                };\n",
       "                });\n",
       "            </script>\n",
       "        </div>"
      ]
     },
     "metadata": {},
     "output_type": "display_data"
    }
   ],
   "source": [
    "ui = np.random.rand(n_bases)\n",
    "\n",
    "x, u = interpolate(ui)\n",
    "\n",
    "\n",
    "fig = go.Figure(data=[\n",
    "    go.Scatter(x=x, y=u, mode='lines'),\n",
    "    go.Scatter(x=nodes, y=ui, mode='markers'),\n",
    "])\n",
    "plotly.iplot(fig)"
   ]
  },
  {
   "cell_type": "markdown",
   "metadata": {
    "slideshow": {
     "slide_type": "slide"
    }
   },
   "source": [
    "# Assembly"
   ]
  },
  {
   "cell_type": "markdown",
   "metadata": {},
   "source": [
    "We are now ready the assemble the global stiffness matrix, which is exacly as before."
   ]
  },
  {
   "cell_type": "code",
   "execution_count": 11,
   "metadata": {
    "slideshow": {
     "slide_type": "fragment"
    }
   },
   "outputs": [],
   "source": [
    "import quadpy\n",
    "scheme = quadpy.line_segment.gauss_patterson(5)\n",
    "\n",
    "rows = []\n",
    "cols = []\n",
    "vals = []\n",
    "\n",
    "for e in range(n_elements):\n",
    "    el = elements[e]\n",
    "\n",
    "    for i in range(el[\"n_bases\"]):\n",
    "        for j in range(el[\"n_bases\"]):\n",
    "            val = scheme.integrate(\n",
    "                lambda x:\n",
    "                el[\"grad_phi\"][i](x) * el[\"grad_phi\"][j](x) / el[\"grad_gmapping\"](x),\n",
    "                [0.0, 1.0])\n",
    "            \n",
    "            rows.append(el[\"loc_2_glob\"][i])\n",
    "            cols.append(el[\"loc_2_glob\"][j])\n",
    "            vals.append(val)\n",
    "\n",
    "            \n",
    "rows = np.array(rows)\n",
    "cols = np.array(cols)\n",
    "vals = np.array(vals)\n",
    "\n",
    "L = spr.coo_matrix((vals, (rows, cols)))\n",
    "L = spr.csr_matrix(L)"
   ]
  },
  {
   "cell_type": "markdown",
   "metadata": {
    "slideshow": {
     "slide_type": "slide"
    }
   },
   "source": [
    "We set the rows `0` and `n_elements` to identity for the boundary conditions."
   ]
  },
  {
   "cell_type": "code",
   "execution_count": 12,
   "metadata": {
    "slideshow": {
     "slide_type": "fragment"
    }
   },
   "outputs": [],
   "source": [
    "for bc in [0, n_elements]:\n",
    "    _, nnz = L[bc,:].nonzero()\n",
    "    for j in nnz:\n",
    "        if j != bc:\n",
    "            L[bc, j] = 0.0\n",
    "    L[bc, bc] = 1.0"
   ]
  },
  {
   "cell_type": "markdown",
   "metadata": {
    "slideshow": {
     "slide_type": "fragment"
    }
   },
   "source": [
    "We set the right-hand side to zero, and set the two boundary conditions to 1 and 4."
   ]
  },
  {
   "cell_type": "code",
   "execution_count": 13,
   "metadata": {
    "slideshow": {
     "slide_type": "fragment"
    }
   },
   "outputs": [],
   "source": [
    "f = np.zeros((n_bases, 1))\n",
    "f[0] = 1\n",
    "f[n_elements] = 4"
   ]
  },
  {
   "cell_type": "markdown",
   "metadata": {
    "slideshow": {
     "slide_type": "fragment"
    }
   },
   "source": [
    "We now solve $L\\boldsymbol{ui}=f$ for $\\boldsymbol{ui}$."
   ]
  },
  {
   "cell_type": "code",
   "execution_count": 14,
   "metadata": {
    "slideshow": {
     "slide_type": "fragment"
    }
   },
   "outputs": [],
   "source": [
    "ui = spsolve(L, f)"
   ]
  },
  {
   "cell_type": "markdown",
   "metadata": {
    "slideshow": {
     "slide_type": "slide"
    }
   },
   "source": [
    "We now plot the solution. We expect a line, independently of `order`!"
   ]
  },
  {
   "cell_type": "code",
   "execution_count": 15,
   "metadata": {},
   "outputs": [
    {
     "data": {
      "application/vnd.plotly.v1+json": {
       "config": {
        "linkText": "Export to plot.ly",
        "plotlyServerURL": "https://plot.ly",
        "showLink": false
       },
       "data": [
        {
         "mode": "lines",
         "name": "solution",
         "type": "scatter",
         "x": [
          0,
          0.002040816326530612,
          0.004081632653061224,
          0.006122448979591837,
          0.008163265306122448,
          0.01020408163265306,
          0.012244897959183675,
          0.014285714285714285,
          0.016326530612244896,
          0.01836734693877551,
          0.02040816326530612,
          0.022448979591836733,
          0.02448979591836735,
          0.026530612244897958,
          0.02857142857142857,
          0.03061224489795918,
          0.03265306122448979,
          0.03469387755102041,
          0.03673469387755102,
          0.03877551020408163,
          0.04081632653061224,
          0.04285714285714286,
          0.044897959183673466,
          0.04693877551020408,
          0.0489795918367347,
          0.05102040816326531,
          0.053061224489795916,
          0.055102040816326525,
          0.05714285714285714,
          0.05918367346938776,
          0.06122448979591836,
          0.06326530612244897,
          0.06530612244897958,
          0.0673469387755102,
          0.06938775510204082,
          0.07142857142857142,
          0.07346938775510203,
          0.07551020408163266,
          0.07755102040816327,
          0.07959183673469387,
          0.08163265306122448,
          0.0836734693877551,
          0.08571428571428572,
          0.08775510204081632,
          0.08979591836734693,
          0.09183673469387754,
          0.09387755102040816,
          0.09591836734693877,
          0.0979591836734694,
          0.1,
          0.1,
          0.10204081632653061,
          0.10408163265306122,
          0.10612244897959185,
          0.10816326530612246,
          0.11020408163265306,
          0.11224489795918369,
          0.1142857142857143,
          0.1163265306122449,
          0.11836734693877551,
          0.12040816326530612,
          0.12244897959183673,
          0.12448979591836735,
          0.12653061224489798,
          0.1285714285714286,
          0.1306122448979592,
          0.1326530612244898,
          0.1346938775510204,
          0.13673469387755102,
          0.13877551020408163,
          0.14081632653061224,
          0.14285714285714285,
          0.14489795918367349,
          0.1469387755102041,
          0.1489795918367347,
          0.1510204081632653,
          0.15306122448979592,
          0.15510204081632653,
          0.15714285714285714,
          0.15918367346938778,
          0.16122448979591836,
          0.163265306122449,
          0.16530612244897958,
          0.1673469387755102,
          0.16938775510204082,
          0.17142857142857143,
          0.17346938775510204,
          0.17551020408163265,
          0.17755102040816328,
          0.17959183673469387,
          0.1816326530612245,
          0.1836734693877551,
          0.18571428571428572,
          0.18775510204081633,
          0.18979591836734694,
          0.19183673469387755,
          0.19387755102040816,
          0.1959183673469388,
          0.1979591836734694,
          0.2,
          0.2,
          0.20204081632653062,
          0.20408163265306123,
          0.20612244897959184,
          0.20816326530612247,
          0.21020408163265308,
          0.2122448979591837,
          0.2142857142857143,
          0.2163265306122449,
          0.21836734693877552,
          0.22040816326530613,
          0.22244897959183674,
          0.22448979591836737,
          0.22653061224489798,
          0.2285714285714286,
          0.2306122448979592,
          0.2326530612244898,
          0.23469387755102045,
          0.23673469387755103,
          0.23877551020408166,
          0.24081632653061227,
          0.24285714285714288,
          0.2448979591836735,
          0.2469387755102041,
          0.24897959183673474,
          0.2510204081632653,
          0.25306122448979596,
          0.25510204081632654,
          0.2571428571428572,
          0.25918367346938775,
          0.2612244897959184,
          0.263265306122449,
          0.2653061224489796,
          0.26734693877551025,
          0.2693877551020408,
          0.27142857142857146,
          0.2734693877551021,
          0.2755102040816327,
          0.2775510204081633,
          0.2795918367346939,
          0.28163265306122454,
          0.2836734693877551,
          0.28571428571428575,
          0.28775510204081634,
          0.28979591836734697,
          0.2918367346938776,
          0.2938775510204082,
          0.2959183673469388,
          0.2979591836734694,
          0.30000000000000004,
          0.30000000000000004,
          0.3020408163265307,
          0.30408163265306126,
          0.3061224489795919,
          0.3081632653061225,
          0.3102040816326531,
          0.3122448979591837,
          0.31428571428571433,
          0.3163265306122449,
          0.31836734693877555,
          0.32040816326530613,
          0.32244897959183677,
          0.3244897959183674,
          0.326530612244898,
          0.3285714285714286,
          0.3306122448979592,
          0.33265306122448984,
          0.3346938775510204,
          0.33673469387755106,
          0.3387755102040817,
          0.3408163265306123,
          0.34285714285714286,
          0.3448979591836735,
          0.34693877551020413,
          0.3489795918367347,
          0.35102040816326535,
          0.35306122448979593,
          0.35510204081632657,
          0.35714285714285715,
          0.3591836734693878,
          0.36122448979591837,
          0.363265306122449,
          0.36530612244897964,
          0.3673469387755102,
          0.36938775510204086,
          0.37142857142857144,
          0.3734693877551021,
          0.37551020408163266,
          0.3775510204081633,
          0.3795918367346939,
          0.3816326530612245,
          0.38367346938775515,
          0.38571428571428573,
          0.38775510204081637,
          0.38979591836734695,
          0.3918367346938776,
          0.39387755102040817,
          0.3959183673469388,
          0.3979591836734694,
          0.4,
          0.4,
          0.40204081632653066,
          0.40408163265306124,
          0.4061224489795919,
          0.40816326530612246,
          0.4102040816326531,
          0.4122448979591837,
          0.4142857142857143,
          0.4163265306122449,
          0.41836734693877553,
          0.4204081632653061,
          0.42244897959183675,
          0.4244897959183674,
          0.42653061224489797,
          0.4285714285714286,
          0.4306122448979592,
          0.4326530612244898,
          0.4346938775510204,
          0.43673469387755104,
          0.4387755102040817,
          0.44081632653061226,
          0.44285714285714284,
          0.4448979591836735,
          0.4469387755102041,
          0.4489795918367347,
          0.45102040816326533,
          0.4530612244897959,
          0.45510204081632655,
          0.45714285714285713,
          0.45918367346938777,
          0.46122448979591835,
          0.463265306122449,
          0.4653061224489796,
          0.4673469387755102,
          0.46938775510204084,
          0.4714285714285714,
          0.47346938775510206,
          0.47551020408163264,
          0.4775510204081633,
          0.47959183673469385,
          0.4816326530612245,
          0.48367346938775513,
          0.4857142857142857,
          0.48775510204081635,
          0.4897959183673469,
          0.49183673469387756,
          0.49387755102040815,
          0.4959183673469388,
          0.49795918367346936,
          0.5,
          0.5,
          0.5020408163265306,
          0.5040816326530613,
          0.5061224489795918,
          0.5081632653061224,
          0.5102040816326531,
          0.5122448979591837,
          0.5142857142857143,
          0.5163265306122449,
          0.5183673469387755,
          0.5204081632653061,
          0.5224489795918368,
          0.5244897959183674,
          0.5265306122448979,
          0.5285714285714286,
          0.5306122448979592,
          0.5326530612244899,
          0.5346938775510204,
          0.536734693877551,
          0.5387755102040817,
          0.5408163265306123,
          0.5428571428571429,
          0.5448979591836735,
          0.5469387755102041,
          0.5489795918367347,
          0.5510204081632654,
          0.553061224489796,
          0.5551020408163265,
          0.5571428571428572,
          0.5591836734693878,
          0.5612244897959184,
          0.5632653061224491,
          0.5653061224489796,
          0.5673469387755102,
          0.5693877551020409,
          0.5714285714285715,
          0.5734693877551021,
          0.5755102040816327,
          0.5775510204081633,
          0.5795918367346939,
          0.5816326530612246,
          0.5836734693877552,
          0.5857142857142857,
          0.5877551020408164,
          0.589795918367347,
          0.5918367346938777,
          0.5938775510204082,
          0.5959183673469388,
          0.5979591836734695,
          0.6000000000000001,
          0.6000000000000001,
          0.6020408163265307,
          0.6040816326530614,
          0.6061224489795919,
          0.6081632653061225,
          0.6102040816326532,
          0.6122448979591838,
          0.6142857142857143,
          0.616326530612245,
          0.6183673469387756,
          0.6204081632653062,
          0.6224489795918369,
          0.6244897959183674,
          0.626530612244898,
          0.6285714285714287,
          0.6306122448979593,
          0.6326530612244898,
          0.6346938775510205,
          0.6367346938775511,
          0.6387755102040817,
          0.6408163265306123,
          0.6428571428571429,
          0.6448979591836735,
          0.6469387755102042,
          0.6489795918367348,
          0.6510204081632653,
          0.653061224489796,
          0.6551020408163266,
          0.6571428571428573,
          0.6591836734693879,
          0.6612244897959184,
          0.663265306122449,
          0.6653061224489797,
          0.6673469387755103,
          0.6693877551020408,
          0.6714285714285715,
          0.6734693877551021,
          0.6755102040816328,
          0.6775510204081634,
          0.6795918367346939,
          0.6816326530612246,
          0.6836734693877552,
          0.6857142857142857,
          0.6877551020408164,
          0.689795918367347,
          0.6918367346938776,
          0.6938775510204083,
          0.6959183673469388,
          0.6979591836734694,
          0.7000000000000001,
          0.7000000000000001,
          0.7020408163265307,
          0.7040816326530613,
          0.7061224489795919,
          0.7081632653061225,
          0.7102040816326531,
          0.7122448979591838,
          0.7142857142857143,
          0.7163265306122449,
          0.7183673469387756,
          0.7204081632653062,
          0.7224489795918367,
          0.7244897959183674,
          0.726530612244898,
          0.7285714285714286,
          0.7306122448979593,
          0.7326530612244898,
          0.7346938775510204,
          0.7367346938775511,
          0.7387755102040817,
          0.7408163265306122,
          0.7428571428571429,
          0.7448979591836735,
          0.7469387755102042,
          0.7489795918367348,
          0.7510204081632653,
          0.753061224489796,
          0.7551020408163266,
          0.7571428571428572,
          0.7591836734693878,
          0.7612244897959184,
          0.763265306122449,
          0.7653061224489797,
          0.7673469387755103,
          0.7693877551020408,
          0.7714285714285715,
          0.7734693877551021,
          0.7755102040816327,
          0.7775510204081633,
          0.7795918367346939,
          0.7816326530612245,
          0.7836734693877552,
          0.7857142857142858,
          0.7877551020408163,
          0.789795918367347,
          0.7918367346938776,
          0.7938775510204082,
          0.7959183673469388,
          0.7979591836734694,
          0.8,
          0.8,
          0.8020408163265307,
          0.8040816326530613,
          0.8061224489795918,
          0.8081632653061225,
          0.8102040816326531,
          0.8122448979591838,
          0.8142857142857143,
          0.8163265306122449,
          0.8183673469387756,
          0.8204081632653062,
          0.8224489795918368,
          0.8244897959183674,
          0.826530612244898,
          0.8285714285714286,
          0.8306122448979593,
          0.8326530612244898,
          0.8346938775510204,
          0.8367346938775511,
          0.8387755102040817,
          0.8408163265306122,
          0.8428571428571429,
          0.8448979591836735,
          0.8469387755102041,
          0.8489795918367348,
          0.8510204081632653,
          0.8530612244897959,
          0.8551020408163266,
          0.8571428571428572,
          0.8591836734693878,
          0.8612244897959184,
          0.863265306122449,
          0.8653061224489796,
          0.8673469387755103,
          0.8693877551020408,
          0.8714285714285714,
          0.8734693877551021,
          0.8755102040816327,
          0.8775510204081634,
          0.8795918367346939,
          0.8816326530612245,
          0.8836734693877552,
          0.8857142857142857,
          0.8877551020408163,
          0.889795918367347,
          0.8918367346938776,
          0.8938775510204082,
          0.8959183673469387,
          0.8979591836734694,
          0.9,
          0.9,
          0.9020408163265307,
          0.9040816326530613,
          0.9061224489795918,
          0.9081632653061225,
          0.9102040816326531,
          0.9122448979591837,
          0.9142857142857143,
          0.9163265306122449,
          0.9183673469387755,
          0.9204081632653062,
          0.9224489795918367,
          0.9244897959183673,
          0.926530612244898,
          0.9285714285714286,
          0.9306122448979592,
          0.9326530612244898,
          0.9346938775510204,
          0.936734693877551,
          0.9387755102040817,
          0.9408163265306122,
          0.9428571428571428,
          0.9448979591836735,
          0.9469387755102041,
          0.9489795918367347,
          0.9510204081632653,
          0.9530612244897959,
          0.9551020408163265,
          0.9571428571428572,
          0.9591836734693877,
          0.9612244897959183,
          0.963265306122449,
          0.9653061224489796,
          0.9673469387755103,
          0.9693877551020408,
          0.9714285714285714,
          0.9734693877551021,
          0.9755102040816327,
          0.9775510204081632,
          0.9795918367346939,
          0.9816326530612245,
          0.9836734693877551,
          0.9857142857142858,
          0.9877551020408163,
          0.9897959183673469,
          0.9918367346938776,
          0.9938775510204082,
          0.9959183673469387,
          0.9979591836734694,
          1
         ],
         "y": [
          1,
          1.0061224489795861,
          1.012244897959173,
          1.0183673469387609,
          1.0244897959183485,
          1.0306122448979371,
          1.0367346938775264,
          1.0428571428571156,
          1.048979591836706,
          1.0551020408162963,
          1.061224489795887,
          1.0673469387754786,
          1.07346938775507,
          1.079591836734662,
          1.085714285714254,
          1.0918367346938465,
          1.0979591836734397,
          1.1040816326530327,
          1.110204081632626,
          1.116326530612219,
          1.1224489795918127,
          1.1285714285714064,
          1.1346938775510003,
          1.1408163265305942,
          1.1469387755101883,
          1.1530612244897822,
          1.1591836734693763,
          1.1653061224489702,
          1.1714285714285642,
          1.177551020408158,
          1.1836734693877518,
          1.1897959183673457,
          1.1959183673469391,
          1.2020408163265326,
          1.208163265306126,
          1.2142857142857189,
          1.2204081632653117,
          1.2265306122449042,
          1.2326530612244966,
          1.2387755102040883,
          1.24489795918368,
          1.2510204081632712,
          1.2571428571428618,
          1.2632653061224526,
          1.2693877551020432,
          1.2755102040816326,
          1.2816326530612216,
          1.2877551020408102,
          1.2938775510203981,
          1.2999999999999858,
          1.2999999999999856,
          1.3061224489795715,
          1.3122448979591586,
          1.3183673469387458,
          1.324489795918334,
          1.3306122448979223,
          1.3367346938775113,
          1.3428571428571006,
          1.3489795918366907,
          1.3551020408162808,
          1.3612244897958714,
          1.3673469387754629,
          1.3734693877550546,
          1.3795918367346462,
          1.3857142857142382,
          1.3918367346938307,
          1.3979591836734235,
          1.4040816326530163,
          1.4102040816326096,
          1.4163265306122028,
          1.4224489795917958,
          1.4285714285713897,
          1.4346938775509834,
          1.4408163265305776,
          1.4469387755101715,
          1.4530612244897652,
          1.459183673469359,
          1.4653061224489528,
          1.4714285714285469,
          1.4775510204081406,
          1.4836734693877343,
          1.4897959183673282,
          1.4959183673469214,
          1.5020408163265149,
          1.5081632653061081,
          1.5142857142857011,
          1.5204081632652935,
          1.5265306122448863,
          1.5326530612244786,
          1.53877551020407,
          1.5448979591836618,
          1.5510204081632528,
          1.5571428571428436,
          1.5632653061224344,
          1.5693877551020248,
          1.5755102040816142,
          1.5816326530612033,
          1.5877551020407916,
          1.5938775510203798,
          1.5999999999999674,
          1.599999999999967,
          1.6061224489795525,
          1.6122448979591395,
          1.6183673469387272,
          1.6244897959183149,
          1.630612244897903,
          1.6367346938774918,
          1.6428571428570815,
          1.6489795918366716,
          1.6551020408162616,
          1.6612244897958517,
          1.6673469387754434,
          1.6734693877550348,
          1.6795918367346265,
          1.6857142857142184,
          1.6918367346938106,
          1.6979591836734034,
          1.7040816326529966,
          1.7102040816325892,
          1.7163265306121822,
          1.7224489795917757,
          1.7285714285713696,
          1.734693877550963,
          1.7408163265305572,
          1.7469387755101509,
          1.7530612244897446,
          1.7591836734693382,
          1.7653061224489321,
          1.7714285714285258,
          1.7775510204081195,
          1.783673469387713,
          1.7897959183673067,
          1.7959183673468997,
          1.8020408163264934,
          1.8081632653060866,
          1.8142857142856794,
          1.8204081632652718,
          1.8265306122448641,
          1.8326530612244565,
          1.8387755102040477,
          1.8448979591836392,
          1.8510204081632302,
          1.8571428571428206,
          1.8632653061224111,
          1.8693877551020017,
          1.8755102040815905,
          1.8816326530611795,
          1.8877551020407681,
          1.8938775510203558,
          1.899999999999943,
          1.8999999999999426,
          1.9061224489795277,
          1.9122448979591147,
          1.9183673469387017,
          1.924489795918289,
          1.930612244897877,
          1.9367346938774659,
          1.9428571428570547,
          1.9489795918366446,
          1.9551020408162343,
          1.961224489795824,
          1.9673469387754157,
          1.973469387755007,
          1.9795918367345986,
          1.9857142857141898,
          1.9918367346937822,
          1.9979591836733746,
          2.0040816326529676,
          2.01020408163256,
          2.016326530612153,
          2.022448979591746,
          2.0285714285713397,
          2.034693877550933,
          2.040816326530527,
          2.0469387755101205,
          2.053061224489714,
          2.059183673469308,
          2.0653061224489013,
          2.071428571428495,
          2.0775510204080887,
          2.083673469387682,
          2.0897959183672756,
          2.0959183673468686,
          2.102040816326462,
          2.108163265306055,
          2.1142857142856486,
          2.1204081632652407,
          2.1265306122448333,
          2.1326530612244254,
          2.138775510204017,
          2.1448979591836084,
          2.1510204081631996,
          2.15714285714279,
          2.163265306122381,
          2.1693877551019716,
          2.175510204081561,
          2.1816326530611496,
          2.1877551020407386,
          2.1938775510203268,
          2.1999999999999145,
          2.199999999999914,
          2.206122448979499,
          2.2122448979590867,
          2.218367346938674,
          2.2244897959182612,
          2.230612244897849,
          2.236734693877438,
          2.2428571428570274,
          2.2489795918366173,
          2.2551020408162072,
          2.261224489795797,
          2.267346938775389,
          2.2734693877549805,
          2.279591836734572,
          2.285714285714164,
          2.291836734693756,
          2.297959183673349,
          2.304081632652942,
          2.310204081632535,
          2.316326530612128,
          2.322448979591721,
          2.3285714285713146,
          2.3346938775509085,
          2.340816326530503,
          2.3469387755100968,
          2.3530612244896902,
          2.3591836734692846,
          2.365306122448878,
          2.3714285714284724,
          2.3775510204080663,
          2.38367346938766,
          2.3897959183672537,
          2.395918367346847,
          2.402040816326441,
          2.4081632653060345,
          2.4142857142856275,
          2.42040816326522,
          2.4265306122448127,
          2.4326530612244057,
          2.4387755102039974,
          2.4448979591835895,
          2.451020408163181,
          2.4571428571427716,
          2.463265306122363,
          2.4693877551019536,
          2.4755102040815435,
          2.481632653061133,
          2.4877551020407225,
          2.49387755102031,
          2.4999999999998983,
          2.499999999999898,
          2.506122448979483,
          2.5122448979590706,
          2.5183673469386587,
          2.5244897959182464,
          2.5306122448978345,
          2.536734693877424,
          2.542857142857012,
          2.5489795918366034,
          2.5551020408161933,
          2.561224489795783,
          2.567346938775376,
          2.573469387754968,
          2.579591836734559,
          2.585714285714151,
          2.5918367346937434,
          2.597959183673337,
          2.60408163265293,
          2.610204081632523,
          2.6163265306121164,
          2.6224489795917094,
          2.6285714285713038,
          2.6346938775508977,
          2.640816326530492,
          2.6469387755100864,
          2.6530612244896803,
          2.6591836734692746,
          2.665306122448868,
          2.6714285714284625,
          2.6775510204080564,
          2.6836734693876503,
          2.6897959183672446,
          2.6959183673468377,
          2.702040816326432,
          2.7081632653060255,
          2.714285714285619,
          2.7204081632652115,
          2.7265306122448045,
          2.7326530612243976,
          2.7387755102039892,
          2.7448979591835814,
          2.751020408163172,
          2.757142857142763,
          2.7632653061223547,
          2.769387755101946,
          2.775510204081536,
          2.7816326530611253,
          2.7877551020407143,
          2.7938775510203024,
          2.7999999999998906,
          2.79999999999989,
          2.806122448979475,
          2.812244897959063,
          2.8183673469386505,
          2.8244897959182387,
          2.830612244897827,
          2.836734693877416,
          2.842857142857005,
          2.8489795918365957,
          2.8551020408161856,
          2.8612244897957764,
          2.8673469387753685,
          2.87346938775496,
          2.8795918367345523,
          2.885714285714144,
          2.891836734693737,
          2.8979591836733305,
          2.904081632652924,
          2.910204081632517,
          2.9163265306121104,
          2.922448979591704,
          2.9285714285712983,
          2.934693877550892,
          2.940816326530487,
          2.9469387755100813,
          2.9530612244896757,
          2.9591836734692696,
          2.965306122448864,
          2.9714285714284587,
          2.977551020408053,
          2.9836734693876465,
          2.9897959183672413,
          2.995918367346835,
          3.002040816326429,
          3.008163265306023,
          3.0142857142856165,
          3.02040816326521,
          3.0265306122448026,
          3.032653061224396,
          3.038775510203988,
          3.0448979591835807,
          3.0510204081631724,
          3.0571428571427637,
          3.0632653061223554,
          3.069387755101947,
          3.075510204081537,
          3.081632653061127,
          3.087755102040716,
          3.093877551020305,
          3.0999999999998935,
          3.0999999999998926,
          3.106122448979478,
          3.1122448979590662,
          3.1183673469386544,
          3.124489795918242,
          3.130612244897831,
          3.1367346938774205,
          3.14285714285701,
          3.148979591836601,
          3.1551020408161907,
          3.161224489795782,
          3.1673469387753745,
          3.1734693877549662,
          3.179591836734559,
          3.1857142857141514,
          3.1918367346937435,
          3.197959183673338,
          3.2040816326529313,
          3.210204081632525,
          3.2163265306121183,
          3.222448979591712,
          3.2285714285713065,
          3.234693877550901,
          3.2408163265304966,
          3.246938775510091,
          3.2530612244896853,
          3.2591836734692796,
          3.265306122448874,
          3.271428571428469,
          3.2775510204080636,
          3.2836734693876575,
          3.2897959183672527,
          3.295918367346846,
          3.302040816326441,
          3.3081632653060353,
          3.3142857142856292,
          3.3204081632652223,
          3.326530612244816,
          3.3326530612244096,
          3.338775510204002,
          3.3448979591835952,
          3.351020408163187,
          3.3571428571427786,
          3.363265306122371,
          3.369387755101963,
          3.3755102040815537,
          3.3816326530611436,
          3.3877551020407335,
          3.3938775510203225,
          3.399999999999912,
          3.399999999999911,
          3.406122448979497,
          3.412244897959085,
          3.4183673469386733,
          3.4244897959182614,
          3.430612244897851,
          3.4367346938774412,
          3.442857142857031,
          3.4489795918366215,
          3.4551020408162123,
          3.4612244897958035,
          3.467346938775396,
          3.4734693877549887,
          3.479591836734581,
          3.485714285714174,
          3.491836734693767,
          3.4979591836733612,
          3.5040816326529547,
          3.510204081632549,
          3.5163265306121425,
          3.522448979591737,
          3.5285714285713317,
          3.534693877550926,
          3.5408163265305213,
          3.5469387755101165,
          3.5530612244897113,
          3.5591836734693065,
          3.5653061224489013,
          3.571428571428496,
          3.577551020408091,
          3.583673469387686,
          3.589795918367281,
          3.5959183673468753,
          3.6020408163264706,
          3.608163265306065,
          3.6142857142856593,
          3.6204081632652527,
          3.626530612244847,
          3.632653061224441,
          3.6387755102040336,
          3.644897959183627,
          3.651020408163219,
          3.6571428571428113,
          3.663265306122404,
          3.6693877551019964,
          3.6755102040815877,
          3.681632653061178,
          3.687755102040769,
          3.693877551020358,
          3.6999999999999473,
          3.6999999999999464,
          3.706122448979532,
          3.7122448979591214,
          3.71836734693871,
          3.7244897959182985,
          3.7306122448978867,
          3.7367346938774775,
          3.7428571428570674,
          3.7489795918366595,
          3.7551020408162508,
          3.7612244897958416,
          3.767346938775435,
          3.773469387755027,
          3.77959183673462,
          3.785714285714213,
          3.7918367346938067,
          3.797959183673402,
          3.804081632652996,
          3.81020408163259,
          3.8163265306121845,
          3.822448979591779,
          3.828571428571374,
          3.8346938775509694,
          3.840816326530565,
          3.8469387755101603,
          3.8530612244897555,
          3.8591836734693508,
          3.865306122448946,
          3.8714285714285417,
          3.877551020408137,
          3.883673469387732,
          3.889795918367328,
          3.895918367346922,
          3.902040816326518,
          3.908163265306113,
          3.9142857142857084,
          3.920408163265302,
          3.926530612244896,
          3.93265306122449,
          3.938775510204084,
          3.9448979591836775,
          3.9510204081632696,
          3.9571428571428617,
          3.963265306122455,
          3.9693877551020487,
          3.9755102040816395,
          3.9816326530612303,
          3.9877551020408215,
          3.993877551020411,
          4.000000000000001
         ]
        },
        {
         "mode": "markers",
         "name": "$ui$",
         "type": "scatter",
         "x": [
          0,
          0.1,
          0.2,
          0.30000000000000004,
          0.4,
          0.5,
          0.6000000000000001,
          0.7000000000000001,
          0.8,
          0.9,
          1,
          0.03333333333333333,
          0.06666666666666667,
          0.13333333333333333,
          0.16666666666666669,
          0.23333333333333336,
          0.2666666666666667,
          0.33333333333333337,
          0.3666666666666667,
          0.43333333333333335,
          0.4666666666666667,
          0.5333333333333333,
          0.5666666666666668,
          0.6333333333333334,
          0.6666666666666667,
          0.7333333333333334,
          0.7666666666666667,
          0.8333333333333334,
          0.8666666666666667,
          0.9333333333333333,
          0.9666666666666667
         ],
         "y": [
          1,
          1.2999999999999856,
          1.599999999999967,
          1.8999999999999426,
          2.199999999999914,
          2.499999999999898,
          2.79999999999989,
          3.0999999999998926,
          3.399999999999911,
          3.6999999999999464,
          4,
          1.0999999999999706,
          1.2000000000000015,
          1.3999999999999544,
          1.4999999999999838,
          1.6999999999999345,
          1.7999999999999623,
          1.9999999999999056,
          2.0999999999999313,
          2.29999999999988,
          2.3999999999999098,
          2.5999999999998678,
          2.6999999999999007,
          2.8999999999998614,
          2.999999999999898,
          3.1999999999998687,
          3.2999999999999097,
          3.499999999999892,
          3.599999999999939,
          3.7999999999999328,
          3.899999999999986
         ]
        }
       ],
       "layout": {
        "template": {
         "data": {
          "bar": [
           {
            "error_x": {
             "color": "#2a3f5f"
            },
            "error_y": {
             "color": "#2a3f5f"
            },
            "marker": {
             "line": {
              "color": "#E5ECF6",
              "width": 0.5
             }
            },
            "type": "bar"
           }
          ],
          "barpolar": [
           {
            "marker": {
             "line": {
              "color": "#E5ECF6",
              "width": 0.5
             }
            },
            "type": "barpolar"
           }
          ],
          "carpet": [
           {
            "aaxis": {
             "endlinecolor": "#2a3f5f",
             "gridcolor": "white",
             "linecolor": "white",
             "minorgridcolor": "white",
             "startlinecolor": "#2a3f5f"
            },
            "baxis": {
             "endlinecolor": "#2a3f5f",
             "gridcolor": "white",
             "linecolor": "white",
             "minorgridcolor": "white",
             "startlinecolor": "#2a3f5f"
            },
            "type": "carpet"
           }
          ],
          "choropleth": [
           {
            "colorbar": {
             "outlinewidth": 0,
             "ticks": ""
            },
            "type": "choropleth"
           }
          ],
          "contour": [
           {
            "colorbar": {
             "outlinewidth": 0,
             "ticks": ""
            },
            "colorscale": [
             [
              0,
              "#0d0887"
             ],
             [
              0.1111111111111111,
              "#46039f"
             ],
             [
              0.2222222222222222,
              "#7201a8"
             ],
             [
              0.3333333333333333,
              "#9c179e"
             ],
             [
              0.4444444444444444,
              "#bd3786"
             ],
             [
              0.5555555555555556,
              "#d8576b"
             ],
             [
              0.6666666666666666,
              "#ed7953"
             ],
             [
              0.7777777777777778,
              "#fb9f3a"
             ],
             [
              0.8888888888888888,
              "#fdca26"
             ],
             [
              1,
              "#f0f921"
             ]
            ],
            "type": "contour"
           }
          ],
          "contourcarpet": [
           {
            "colorbar": {
             "outlinewidth": 0,
             "ticks": ""
            },
            "type": "contourcarpet"
           }
          ],
          "heatmap": [
           {
            "colorbar": {
             "outlinewidth": 0,
             "ticks": ""
            },
            "colorscale": [
             [
              0,
              "#0d0887"
             ],
             [
              0.1111111111111111,
              "#46039f"
             ],
             [
              0.2222222222222222,
              "#7201a8"
             ],
             [
              0.3333333333333333,
              "#9c179e"
             ],
             [
              0.4444444444444444,
              "#bd3786"
             ],
             [
              0.5555555555555556,
              "#d8576b"
             ],
             [
              0.6666666666666666,
              "#ed7953"
             ],
             [
              0.7777777777777778,
              "#fb9f3a"
             ],
             [
              0.8888888888888888,
              "#fdca26"
             ],
             [
              1,
              "#f0f921"
             ]
            ],
            "type": "heatmap"
           }
          ],
          "heatmapgl": [
           {
            "colorbar": {
             "outlinewidth": 0,
             "ticks": ""
            },
            "colorscale": [
             [
              0,
              "#0d0887"
             ],
             [
              0.1111111111111111,
              "#46039f"
             ],
             [
              0.2222222222222222,
              "#7201a8"
             ],
             [
              0.3333333333333333,
              "#9c179e"
             ],
             [
              0.4444444444444444,
              "#bd3786"
             ],
             [
              0.5555555555555556,
              "#d8576b"
             ],
             [
              0.6666666666666666,
              "#ed7953"
             ],
             [
              0.7777777777777778,
              "#fb9f3a"
             ],
             [
              0.8888888888888888,
              "#fdca26"
             ],
             [
              1,
              "#f0f921"
             ]
            ],
            "type": "heatmapgl"
           }
          ],
          "histogram": [
           {
            "marker": {
             "colorbar": {
              "outlinewidth": 0,
              "ticks": ""
             }
            },
            "type": "histogram"
           }
          ],
          "histogram2d": [
           {
            "colorbar": {
             "outlinewidth": 0,
             "ticks": ""
            },
            "colorscale": [
             [
              0,
              "#0d0887"
             ],
             [
              0.1111111111111111,
              "#46039f"
             ],
             [
              0.2222222222222222,
              "#7201a8"
             ],
             [
              0.3333333333333333,
              "#9c179e"
             ],
             [
              0.4444444444444444,
              "#bd3786"
             ],
             [
              0.5555555555555556,
              "#d8576b"
             ],
             [
              0.6666666666666666,
              "#ed7953"
             ],
             [
              0.7777777777777778,
              "#fb9f3a"
             ],
             [
              0.8888888888888888,
              "#fdca26"
             ],
             [
              1,
              "#f0f921"
             ]
            ],
            "type": "histogram2d"
           }
          ],
          "histogram2dcontour": [
           {
            "colorbar": {
             "outlinewidth": 0,
             "ticks": ""
            },
            "colorscale": [
             [
              0,
              "#0d0887"
             ],
             [
              0.1111111111111111,
              "#46039f"
             ],
             [
              0.2222222222222222,
              "#7201a8"
             ],
             [
              0.3333333333333333,
              "#9c179e"
             ],
             [
              0.4444444444444444,
              "#bd3786"
             ],
             [
              0.5555555555555556,
              "#d8576b"
             ],
             [
              0.6666666666666666,
              "#ed7953"
             ],
             [
              0.7777777777777778,
              "#fb9f3a"
             ],
             [
              0.8888888888888888,
              "#fdca26"
             ],
             [
              1,
              "#f0f921"
             ]
            ],
            "type": "histogram2dcontour"
           }
          ],
          "mesh3d": [
           {
            "colorbar": {
             "outlinewidth": 0,
             "ticks": ""
            },
            "type": "mesh3d"
           }
          ],
          "parcoords": [
           {
            "line": {
             "colorbar": {
              "outlinewidth": 0,
              "ticks": ""
             }
            },
            "type": "parcoords"
           }
          ],
          "scatter": [
           {
            "marker": {
             "colorbar": {
              "outlinewidth": 0,
              "ticks": ""
             }
            },
            "type": "scatter"
           }
          ],
          "scatter3d": [
           {
            "line": {
             "colorbar": {
              "outlinewidth": 0,
              "ticks": ""
             }
            },
            "marker": {
             "colorbar": {
              "outlinewidth": 0,
              "ticks": ""
             }
            },
            "type": "scatter3d"
           }
          ],
          "scattercarpet": [
           {
            "marker": {
             "colorbar": {
              "outlinewidth": 0,
              "ticks": ""
             }
            },
            "type": "scattercarpet"
           }
          ],
          "scattergeo": [
           {
            "marker": {
             "colorbar": {
              "outlinewidth": 0,
              "ticks": ""
             }
            },
            "type": "scattergeo"
           }
          ],
          "scattergl": [
           {
            "marker": {
             "colorbar": {
              "outlinewidth": 0,
              "ticks": ""
             }
            },
            "type": "scattergl"
           }
          ],
          "scattermapbox": [
           {
            "marker": {
             "colorbar": {
              "outlinewidth": 0,
              "ticks": ""
             }
            },
            "type": "scattermapbox"
           }
          ],
          "scatterpolar": [
           {
            "marker": {
             "colorbar": {
              "outlinewidth": 0,
              "ticks": ""
             }
            },
            "type": "scatterpolar"
           }
          ],
          "scatterpolargl": [
           {
            "marker": {
             "colorbar": {
              "outlinewidth": 0,
              "ticks": ""
             }
            },
            "type": "scatterpolargl"
           }
          ],
          "scatterternary": [
           {
            "marker": {
             "colorbar": {
              "outlinewidth": 0,
              "ticks": ""
             }
            },
            "type": "scatterternary"
           }
          ],
          "surface": [
           {
            "colorbar": {
             "outlinewidth": 0,
             "ticks": ""
            },
            "colorscale": [
             [
              0,
              "#0d0887"
             ],
             [
              0.1111111111111111,
              "#46039f"
             ],
             [
              0.2222222222222222,
              "#7201a8"
             ],
             [
              0.3333333333333333,
              "#9c179e"
             ],
             [
              0.4444444444444444,
              "#bd3786"
             ],
             [
              0.5555555555555556,
              "#d8576b"
             ],
             [
              0.6666666666666666,
              "#ed7953"
             ],
             [
              0.7777777777777778,
              "#fb9f3a"
             ],
             [
              0.8888888888888888,
              "#fdca26"
             ],
             [
              1,
              "#f0f921"
             ]
            ],
            "type": "surface"
           }
          ],
          "table": [
           {
            "cells": {
             "fill": {
              "color": "#EBF0F8"
             },
             "line": {
              "color": "white"
             }
            },
            "header": {
             "fill": {
              "color": "#C8D4E3"
             },
             "line": {
              "color": "white"
             }
            },
            "type": "table"
           }
          ]
         },
         "layout": {
          "annotationdefaults": {
           "arrowcolor": "#2a3f5f",
           "arrowhead": 0,
           "arrowwidth": 1
          },
          "colorscale": {
           "diverging": [
            [
             0,
             "#8e0152"
            ],
            [
             0.1,
             "#c51b7d"
            ],
            [
             0.2,
             "#de77ae"
            ],
            [
             0.3,
             "#f1b6da"
            ],
            [
             0.4,
             "#fde0ef"
            ],
            [
             0.5,
             "#f7f7f7"
            ],
            [
             0.6,
             "#e6f5d0"
            ],
            [
             0.7,
             "#b8e186"
            ],
            [
             0.8,
             "#7fbc41"
            ],
            [
             0.9,
             "#4d9221"
            ],
            [
             1,
             "#276419"
            ]
           ],
           "sequential": [
            [
             0,
             "#0d0887"
            ],
            [
             0.1111111111111111,
             "#46039f"
            ],
            [
             0.2222222222222222,
             "#7201a8"
            ],
            [
             0.3333333333333333,
             "#9c179e"
            ],
            [
             0.4444444444444444,
             "#bd3786"
            ],
            [
             0.5555555555555556,
             "#d8576b"
            ],
            [
             0.6666666666666666,
             "#ed7953"
            ],
            [
             0.7777777777777778,
             "#fb9f3a"
            ],
            [
             0.8888888888888888,
             "#fdca26"
            ],
            [
             1,
             "#f0f921"
            ]
           ],
           "sequentialminus": [
            [
             0,
             "#0d0887"
            ],
            [
             0.1111111111111111,
             "#46039f"
            ],
            [
             0.2222222222222222,
             "#7201a8"
            ],
            [
             0.3333333333333333,
             "#9c179e"
            ],
            [
             0.4444444444444444,
             "#bd3786"
            ],
            [
             0.5555555555555556,
             "#d8576b"
            ],
            [
             0.6666666666666666,
             "#ed7953"
            ],
            [
             0.7777777777777778,
             "#fb9f3a"
            ],
            [
             0.8888888888888888,
             "#fdca26"
            ],
            [
             1,
             "#f0f921"
            ]
           ]
          },
          "colorway": [
           "#636efa",
           "#EF553B",
           "#00cc96",
           "#ab63fa",
           "#FFA15A",
           "#19d3f3",
           "#FF6692",
           "#B6E880",
           "#FF97FF",
           "#FECB52"
          ],
          "font": {
           "color": "#2a3f5f"
          },
          "geo": {
           "bgcolor": "white",
           "lakecolor": "white",
           "landcolor": "#E5ECF6",
           "showlakes": true,
           "showland": true,
           "subunitcolor": "white"
          },
          "hoverlabel": {
           "align": "left"
          },
          "hovermode": "closest",
          "mapbox": {
           "style": "light"
          },
          "paper_bgcolor": "white",
          "plot_bgcolor": "#E5ECF6",
          "polar": {
           "angularaxis": {
            "gridcolor": "white",
            "linecolor": "white",
            "ticks": ""
           },
           "bgcolor": "#E5ECF6",
           "radialaxis": {
            "gridcolor": "white",
            "linecolor": "white",
            "ticks": ""
           }
          },
          "scene": {
           "xaxis": {
            "backgroundcolor": "#E5ECF6",
            "gridcolor": "white",
            "gridwidth": 2,
            "linecolor": "white",
            "showbackground": true,
            "ticks": "",
            "zerolinecolor": "white"
           },
           "yaxis": {
            "backgroundcolor": "#E5ECF6",
            "gridcolor": "white",
            "gridwidth": 2,
            "linecolor": "white",
            "showbackground": true,
            "ticks": "",
            "zerolinecolor": "white"
           },
           "zaxis": {
            "backgroundcolor": "#E5ECF6",
            "gridcolor": "white",
            "gridwidth": 2,
            "linecolor": "white",
            "showbackground": true,
            "ticks": "",
            "zerolinecolor": "white"
           }
          },
          "shapedefaults": {
           "line": {
            "color": "#2a3f5f"
           }
          },
          "ternary": {
           "aaxis": {
            "gridcolor": "white",
            "linecolor": "white",
            "ticks": ""
           },
           "baxis": {
            "gridcolor": "white",
            "linecolor": "white",
            "ticks": ""
           },
           "bgcolor": "#E5ECF6",
           "caxis": {
            "gridcolor": "white",
            "linecolor": "white",
            "ticks": ""
           }
          },
          "title": {
           "x": 0.05
          },
          "xaxis": {
           "automargin": true,
           "gridcolor": "white",
           "linecolor": "white",
           "ticks": "",
           "zerolinecolor": "white",
           "zerolinewidth": 2
          },
          "yaxis": {
           "automargin": true,
           "gridcolor": "white",
           "linecolor": "white",
           "ticks": "",
           "zerolinecolor": "white",
           "zerolinewidth": 2
          }
         }
        }
       }
      },
      "text/html": [
       "<div>\n",
       "        \n",
       "        \n",
       "            <div id=\"df3d6ca1-74c2-4a6d-8959-d9473af58cc1\" class=\"plotly-graph-div\" style=\"height:525px; width:100%;\"></div>\n",
       "            <script type=\"text/javascript\">\n",
       "                require([\"plotly\"], function(Plotly) {\n",
       "                    window.PLOTLYENV=window.PLOTLYENV || {};\n",
       "                    \n",
       "                if (document.getElementById(\"df3d6ca1-74c2-4a6d-8959-d9473af58cc1\")) {\n",
       "                    Plotly.newPlot(\n",
       "                        'df3d6ca1-74c2-4a6d-8959-d9473af58cc1',\n",
       "                        [{\"mode\": \"lines\", \"name\": \"solution\", \"type\": \"scatter\", \"x\": [0.0, 0.002040816326530612, 0.004081632653061224, 0.006122448979591837, 0.008163265306122448, 0.01020408163265306, 0.012244897959183675, 0.014285714285714285, 0.016326530612244896, 0.01836734693877551, 0.02040816326530612, 0.022448979591836733, 0.02448979591836735, 0.026530612244897958, 0.02857142857142857, 0.03061224489795918, 0.03265306122448979, 0.03469387755102041, 0.03673469387755102, 0.03877551020408163, 0.04081632653061224, 0.04285714285714286, 0.044897959183673466, 0.04693877551020408, 0.0489795918367347, 0.05102040816326531, 0.053061224489795916, 0.055102040816326525, 0.05714285714285714, 0.05918367346938776, 0.06122448979591836, 0.06326530612244897, 0.06530612244897958, 0.0673469387755102, 0.06938775510204082, 0.07142857142857142, 0.07346938775510203, 0.07551020408163266, 0.07755102040816327, 0.07959183673469387, 0.08163265306122448, 0.0836734693877551, 0.08571428571428572, 0.08775510204081632, 0.08979591836734693, 0.09183673469387754, 0.09387755102040816, 0.09591836734693877, 0.0979591836734694, 0.1, 0.1, 0.10204081632653061, 0.10408163265306122, 0.10612244897959185, 0.10816326530612246, 0.11020408163265306, 0.11224489795918369, 0.1142857142857143, 0.1163265306122449, 0.11836734693877551, 0.12040816326530612, 0.12244897959183673, 0.12448979591836735, 0.12653061224489798, 0.1285714285714286, 0.1306122448979592, 0.1326530612244898, 0.1346938775510204, 0.13673469387755102, 0.13877551020408163, 0.14081632653061224, 0.14285714285714285, 0.14489795918367349, 0.1469387755102041, 0.1489795918367347, 0.1510204081632653, 0.15306122448979592, 0.15510204081632653, 0.15714285714285714, 0.15918367346938778, 0.16122448979591836, 0.163265306122449, 0.16530612244897958, 0.1673469387755102, 0.16938775510204082, 0.17142857142857143, 0.17346938775510204, 0.17551020408163265, 0.17755102040816328, 0.17959183673469387, 0.1816326530612245, 0.1836734693877551, 0.18571428571428572, 0.18775510204081633, 0.18979591836734694, 0.19183673469387755, 0.19387755102040816, 0.1959183673469388, 0.1979591836734694, 0.2, 0.2, 0.20204081632653062, 0.20408163265306123, 0.20612244897959184, 0.20816326530612247, 0.21020408163265308, 0.2122448979591837, 0.2142857142857143, 0.2163265306122449, 0.21836734693877552, 0.22040816326530613, 0.22244897959183674, 0.22448979591836737, 0.22653061224489798, 0.2285714285714286, 0.2306122448979592, 0.2326530612244898, 0.23469387755102045, 0.23673469387755103, 0.23877551020408166, 0.24081632653061227, 0.24285714285714288, 0.2448979591836735, 0.2469387755102041, 0.24897959183673474, 0.2510204081632653, 0.25306122448979596, 0.25510204081632654, 0.2571428571428572, 0.25918367346938775, 0.2612244897959184, 0.263265306122449, 0.2653061224489796, 0.26734693877551025, 0.2693877551020408, 0.27142857142857146, 0.2734693877551021, 0.2755102040816327, 0.2775510204081633, 0.2795918367346939, 0.28163265306122454, 0.2836734693877551, 0.28571428571428575, 0.28775510204081634, 0.28979591836734697, 0.2918367346938776, 0.2938775510204082, 0.2959183673469388, 0.2979591836734694, 0.30000000000000004, 0.30000000000000004, 0.3020408163265307, 0.30408163265306126, 0.3061224489795919, 0.3081632653061225, 0.3102040816326531, 0.3122448979591837, 0.31428571428571433, 0.3163265306122449, 0.31836734693877555, 0.32040816326530613, 0.32244897959183677, 0.3244897959183674, 0.326530612244898, 0.3285714285714286, 0.3306122448979592, 0.33265306122448984, 0.3346938775510204, 0.33673469387755106, 0.3387755102040817, 0.3408163265306123, 0.34285714285714286, 0.3448979591836735, 0.34693877551020413, 0.3489795918367347, 0.35102040816326535, 0.35306122448979593, 0.35510204081632657, 0.35714285714285715, 0.3591836734693878, 0.36122448979591837, 0.363265306122449, 0.36530612244897964, 0.3673469387755102, 0.36938775510204086, 0.37142857142857144, 0.3734693877551021, 0.37551020408163266, 0.3775510204081633, 0.3795918367346939, 0.3816326530612245, 0.38367346938775515, 0.38571428571428573, 0.38775510204081637, 0.38979591836734695, 0.3918367346938776, 0.39387755102040817, 0.3959183673469388, 0.3979591836734694, 0.4, 0.4, 0.40204081632653066, 0.40408163265306124, 0.4061224489795919, 0.40816326530612246, 0.4102040816326531, 0.4122448979591837, 0.4142857142857143, 0.4163265306122449, 0.41836734693877553, 0.4204081632653061, 0.42244897959183675, 0.4244897959183674, 0.42653061224489797, 0.4285714285714286, 0.4306122448979592, 0.4326530612244898, 0.4346938775510204, 0.43673469387755104, 0.4387755102040817, 0.44081632653061226, 0.44285714285714284, 0.4448979591836735, 0.4469387755102041, 0.4489795918367347, 0.45102040816326533, 0.4530612244897959, 0.45510204081632655, 0.45714285714285713, 0.45918367346938777, 0.46122448979591835, 0.463265306122449, 0.4653061224489796, 0.4673469387755102, 0.46938775510204084, 0.4714285714285714, 0.47346938775510206, 0.47551020408163264, 0.4775510204081633, 0.47959183673469385, 0.4816326530612245, 0.48367346938775513, 0.4857142857142857, 0.48775510204081635, 0.4897959183673469, 0.49183673469387756, 0.49387755102040815, 0.4959183673469388, 0.49795918367346936, 0.5, 0.5, 0.5020408163265306, 0.5040816326530613, 0.5061224489795918, 0.5081632653061224, 0.5102040816326531, 0.5122448979591837, 0.5142857142857143, 0.5163265306122449, 0.5183673469387755, 0.5204081632653061, 0.5224489795918368, 0.5244897959183674, 0.5265306122448979, 0.5285714285714286, 0.5306122448979592, 0.5326530612244899, 0.5346938775510204, 0.536734693877551, 0.5387755102040817, 0.5408163265306123, 0.5428571428571429, 0.5448979591836735, 0.5469387755102041, 0.5489795918367347, 0.5510204081632654, 0.553061224489796, 0.5551020408163265, 0.5571428571428572, 0.5591836734693878, 0.5612244897959184, 0.5632653061224491, 0.5653061224489796, 0.5673469387755102, 0.5693877551020409, 0.5714285714285715, 0.5734693877551021, 0.5755102040816327, 0.5775510204081633, 0.5795918367346939, 0.5816326530612246, 0.5836734693877552, 0.5857142857142857, 0.5877551020408164, 0.589795918367347, 0.5918367346938777, 0.5938775510204082, 0.5959183673469388, 0.5979591836734695, 0.6000000000000001, 0.6000000000000001, 0.6020408163265307, 0.6040816326530614, 0.6061224489795919, 0.6081632653061225, 0.6102040816326532, 0.6122448979591838, 0.6142857142857143, 0.616326530612245, 0.6183673469387756, 0.6204081632653062, 0.6224489795918369, 0.6244897959183674, 0.626530612244898, 0.6285714285714287, 0.6306122448979593, 0.6326530612244898, 0.6346938775510205, 0.6367346938775511, 0.6387755102040817, 0.6408163265306123, 0.6428571428571429, 0.6448979591836735, 0.6469387755102042, 0.6489795918367348, 0.6510204081632653, 0.653061224489796, 0.6551020408163266, 0.6571428571428573, 0.6591836734693879, 0.6612244897959184, 0.663265306122449, 0.6653061224489797, 0.6673469387755103, 0.6693877551020408, 0.6714285714285715, 0.6734693877551021, 0.6755102040816328, 0.6775510204081634, 0.6795918367346939, 0.6816326530612246, 0.6836734693877552, 0.6857142857142857, 0.6877551020408164, 0.689795918367347, 0.6918367346938776, 0.6938775510204083, 0.6959183673469388, 0.6979591836734694, 0.7000000000000001, 0.7000000000000001, 0.7020408163265307, 0.7040816326530613, 0.7061224489795919, 0.7081632653061225, 0.7102040816326531, 0.7122448979591838, 0.7142857142857143, 0.7163265306122449, 0.7183673469387756, 0.7204081632653062, 0.7224489795918367, 0.7244897959183674, 0.726530612244898, 0.7285714285714286, 0.7306122448979593, 0.7326530612244898, 0.7346938775510204, 0.7367346938775511, 0.7387755102040817, 0.7408163265306122, 0.7428571428571429, 0.7448979591836735, 0.7469387755102042, 0.7489795918367348, 0.7510204081632653, 0.753061224489796, 0.7551020408163266, 0.7571428571428572, 0.7591836734693878, 0.7612244897959184, 0.763265306122449, 0.7653061224489797, 0.7673469387755103, 0.7693877551020408, 0.7714285714285715, 0.7734693877551021, 0.7755102040816327, 0.7775510204081633, 0.7795918367346939, 0.7816326530612245, 0.7836734693877552, 0.7857142857142858, 0.7877551020408163, 0.789795918367347, 0.7918367346938776, 0.7938775510204082, 0.7959183673469388, 0.7979591836734694, 0.8, 0.8, 0.8020408163265307, 0.8040816326530613, 0.8061224489795918, 0.8081632653061225, 0.8102040816326531, 0.8122448979591838, 0.8142857142857143, 0.8163265306122449, 0.8183673469387756, 0.8204081632653062, 0.8224489795918368, 0.8244897959183674, 0.826530612244898, 0.8285714285714286, 0.8306122448979593, 0.8326530612244898, 0.8346938775510204, 0.8367346938775511, 0.8387755102040817, 0.8408163265306122, 0.8428571428571429, 0.8448979591836735, 0.8469387755102041, 0.8489795918367348, 0.8510204081632653, 0.8530612244897959, 0.8551020408163266, 0.8571428571428572, 0.8591836734693878, 0.8612244897959184, 0.863265306122449, 0.8653061224489796, 0.8673469387755103, 0.8693877551020408, 0.8714285714285714, 0.8734693877551021, 0.8755102040816327, 0.8775510204081634, 0.8795918367346939, 0.8816326530612245, 0.8836734693877552, 0.8857142857142857, 0.8877551020408163, 0.889795918367347, 0.8918367346938776, 0.8938775510204082, 0.8959183673469387, 0.8979591836734694, 0.9, 0.9, 0.9020408163265307, 0.9040816326530613, 0.9061224489795918, 0.9081632653061225, 0.9102040816326531, 0.9122448979591837, 0.9142857142857143, 0.9163265306122449, 0.9183673469387755, 0.9204081632653062, 0.9224489795918367, 0.9244897959183673, 0.926530612244898, 0.9285714285714286, 0.9306122448979592, 0.9326530612244898, 0.9346938775510204, 0.936734693877551, 0.9387755102040817, 0.9408163265306122, 0.9428571428571428, 0.9448979591836735, 0.9469387755102041, 0.9489795918367347, 0.9510204081632653, 0.9530612244897959, 0.9551020408163265, 0.9571428571428572, 0.9591836734693877, 0.9612244897959183, 0.963265306122449, 0.9653061224489796, 0.9673469387755103, 0.9693877551020408, 0.9714285714285714, 0.9734693877551021, 0.9755102040816327, 0.9775510204081632, 0.9795918367346939, 0.9816326530612245, 0.9836734693877551, 0.9857142857142858, 0.9877551020408163, 0.9897959183673469, 0.9918367346938776, 0.9938775510204082, 0.9959183673469387, 0.9979591836734694, 1.0], \"y\": [1.0, 1.0061224489795861, 1.012244897959173, 1.0183673469387609, 1.0244897959183485, 1.0306122448979371, 1.0367346938775264, 1.0428571428571156, 1.048979591836706, 1.0551020408162963, 1.061224489795887, 1.0673469387754786, 1.07346938775507, 1.079591836734662, 1.085714285714254, 1.0918367346938465, 1.0979591836734397, 1.1040816326530327, 1.110204081632626, 1.116326530612219, 1.1224489795918127, 1.1285714285714064, 1.1346938775510003, 1.1408163265305942, 1.1469387755101883, 1.1530612244897822, 1.1591836734693763, 1.1653061224489702, 1.1714285714285642, 1.177551020408158, 1.1836734693877518, 1.1897959183673457, 1.1959183673469391, 1.2020408163265326, 1.208163265306126, 1.2142857142857189, 1.2204081632653117, 1.2265306122449042, 1.2326530612244966, 1.2387755102040883, 1.24489795918368, 1.2510204081632712, 1.2571428571428618, 1.2632653061224526, 1.2693877551020432, 1.2755102040816326, 1.2816326530612216, 1.2877551020408102, 1.2938775510203981, 1.2999999999999858, 1.2999999999999856, 1.3061224489795715, 1.3122448979591586, 1.3183673469387458, 1.324489795918334, 1.3306122448979223, 1.3367346938775113, 1.3428571428571006, 1.3489795918366907, 1.3551020408162808, 1.3612244897958714, 1.3673469387754629, 1.3734693877550546, 1.3795918367346462, 1.3857142857142382, 1.3918367346938307, 1.3979591836734235, 1.4040816326530163, 1.4102040816326096, 1.4163265306122028, 1.4224489795917958, 1.4285714285713897, 1.4346938775509834, 1.4408163265305776, 1.4469387755101715, 1.4530612244897652, 1.459183673469359, 1.4653061224489528, 1.4714285714285469, 1.4775510204081406, 1.4836734693877343, 1.4897959183673282, 1.4959183673469214, 1.5020408163265149, 1.5081632653061081, 1.5142857142857011, 1.5204081632652935, 1.5265306122448863, 1.5326530612244786, 1.53877551020407, 1.5448979591836618, 1.5510204081632528, 1.5571428571428436, 1.5632653061224344, 1.5693877551020248, 1.5755102040816142, 1.5816326530612033, 1.5877551020407916, 1.5938775510203798, 1.5999999999999674, 1.599999999999967, 1.6061224489795525, 1.6122448979591395, 1.6183673469387272, 1.6244897959183149, 1.630612244897903, 1.6367346938774918, 1.6428571428570815, 1.6489795918366716, 1.6551020408162616, 1.6612244897958517, 1.6673469387754434, 1.6734693877550348, 1.6795918367346265, 1.6857142857142184, 1.6918367346938106, 1.6979591836734034, 1.7040816326529966, 1.7102040816325892, 1.7163265306121822, 1.7224489795917757, 1.7285714285713696, 1.734693877550963, 1.7408163265305572, 1.7469387755101509, 1.7530612244897446, 1.7591836734693382, 1.7653061224489321, 1.7714285714285258, 1.7775510204081195, 1.783673469387713, 1.7897959183673067, 1.7959183673468997, 1.8020408163264934, 1.8081632653060866, 1.8142857142856794, 1.8204081632652718, 1.8265306122448641, 1.8326530612244565, 1.8387755102040477, 1.8448979591836392, 1.8510204081632302, 1.8571428571428206, 1.8632653061224111, 1.8693877551020017, 1.8755102040815905, 1.8816326530611795, 1.8877551020407681, 1.8938775510203558, 1.899999999999943, 1.8999999999999426, 1.9061224489795277, 1.9122448979591147, 1.9183673469387017, 1.924489795918289, 1.930612244897877, 1.9367346938774659, 1.9428571428570547, 1.9489795918366446, 1.9551020408162343, 1.961224489795824, 1.9673469387754157, 1.973469387755007, 1.9795918367345986, 1.9857142857141898, 1.9918367346937822, 1.9979591836733746, 2.0040816326529676, 2.01020408163256, 2.016326530612153, 2.022448979591746, 2.0285714285713397, 2.034693877550933, 2.040816326530527, 2.0469387755101205, 2.053061224489714, 2.059183673469308, 2.0653061224489013, 2.071428571428495, 2.0775510204080887, 2.083673469387682, 2.0897959183672756, 2.0959183673468686, 2.102040816326462, 2.108163265306055, 2.1142857142856486, 2.1204081632652407, 2.1265306122448333, 2.1326530612244254, 2.138775510204017, 2.1448979591836084, 2.1510204081631996, 2.15714285714279, 2.163265306122381, 2.1693877551019716, 2.175510204081561, 2.1816326530611496, 2.1877551020407386, 2.1938775510203268, 2.1999999999999145, 2.199999999999914, 2.206122448979499, 2.2122448979590867, 2.218367346938674, 2.2244897959182612, 2.230612244897849, 2.236734693877438, 2.2428571428570274, 2.2489795918366173, 2.2551020408162072, 2.261224489795797, 2.267346938775389, 2.2734693877549805, 2.279591836734572, 2.285714285714164, 2.291836734693756, 2.297959183673349, 2.304081632652942, 2.310204081632535, 2.316326530612128, 2.322448979591721, 2.3285714285713146, 2.3346938775509085, 2.340816326530503, 2.3469387755100968, 2.3530612244896902, 2.3591836734692846, 2.365306122448878, 2.3714285714284724, 2.3775510204080663, 2.38367346938766, 2.3897959183672537, 2.395918367346847, 2.402040816326441, 2.4081632653060345, 2.4142857142856275, 2.42040816326522, 2.4265306122448127, 2.4326530612244057, 2.4387755102039974, 2.4448979591835895, 2.451020408163181, 2.4571428571427716, 2.463265306122363, 2.4693877551019536, 2.4755102040815435, 2.481632653061133, 2.4877551020407225, 2.49387755102031, 2.4999999999998983, 2.499999999999898, 2.506122448979483, 2.5122448979590706, 2.5183673469386587, 2.5244897959182464, 2.5306122448978345, 2.536734693877424, 2.542857142857012, 2.5489795918366034, 2.5551020408161933, 2.561224489795783, 2.567346938775376, 2.573469387754968, 2.579591836734559, 2.585714285714151, 2.5918367346937434, 2.597959183673337, 2.60408163265293, 2.610204081632523, 2.6163265306121164, 2.6224489795917094, 2.6285714285713038, 2.6346938775508977, 2.640816326530492, 2.6469387755100864, 2.6530612244896803, 2.6591836734692746, 2.665306122448868, 2.6714285714284625, 2.6775510204080564, 2.6836734693876503, 2.6897959183672446, 2.6959183673468377, 2.702040816326432, 2.7081632653060255, 2.714285714285619, 2.7204081632652115, 2.7265306122448045, 2.7326530612243976, 2.7387755102039892, 2.7448979591835814, 2.751020408163172, 2.757142857142763, 2.7632653061223547, 2.769387755101946, 2.775510204081536, 2.7816326530611253, 2.7877551020407143, 2.7938775510203024, 2.7999999999998906, 2.79999999999989, 2.806122448979475, 2.812244897959063, 2.8183673469386505, 2.8244897959182387, 2.830612244897827, 2.836734693877416, 2.842857142857005, 2.8489795918365957, 2.8551020408161856, 2.8612244897957764, 2.8673469387753685, 2.87346938775496, 2.8795918367345523, 2.885714285714144, 2.891836734693737, 2.8979591836733305, 2.904081632652924, 2.910204081632517, 2.9163265306121104, 2.922448979591704, 2.9285714285712983, 2.934693877550892, 2.940816326530487, 2.9469387755100813, 2.9530612244896757, 2.9591836734692696, 2.965306122448864, 2.9714285714284587, 2.977551020408053, 2.9836734693876465, 2.9897959183672413, 2.995918367346835, 3.002040816326429, 3.008163265306023, 3.0142857142856165, 3.02040816326521, 3.0265306122448026, 3.032653061224396, 3.038775510203988, 3.0448979591835807, 3.0510204081631724, 3.0571428571427637, 3.0632653061223554, 3.069387755101947, 3.075510204081537, 3.081632653061127, 3.087755102040716, 3.093877551020305, 3.0999999999998935, 3.0999999999998926, 3.106122448979478, 3.1122448979590662, 3.1183673469386544, 3.124489795918242, 3.130612244897831, 3.1367346938774205, 3.14285714285701, 3.148979591836601, 3.1551020408161907, 3.161224489795782, 3.1673469387753745, 3.1734693877549662, 3.179591836734559, 3.1857142857141514, 3.1918367346937435, 3.197959183673338, 3.2040816326529313, 3.210204081632525, 3.2163265306121183, 3.222448979591712, 3.2285714285713065, 3.234693877550901, 3.2408163265304966, 3.246938775510091, 3.2530612244896853, 3.2591836734692796, 3.265306122448874, 3.271428571428469, 3.2775510204080636, 3.2836734693876575, 3.2897959183672527, 3.295918367346846, 3.302040816326441, 3.3081632653060353, 3.3142857142856292, 3.3204081632652223, 3.326530612244816, 3.3326530612244096, 3.338775510204002, 3.3448979591835952, 3.351020408163187, 3.3571428571427786, 3.363265306122371, 3.369387755101963, 3.3755102040815537, 3.3816326530611436, 3.3877551020407335, 3.3938775510203225, 3.399999999999912, 3.399999999999911, 3.406122448979497, 3.412244897959085, 3.4183673469386733, 3.4244897959182614, 3.430612244897851, 3.4367346938774412, 3.442857142857031, 3.4489795918366215, 3.4551020408162123, 3.4612244897958035, 3.467346938775396, 3.4734693877549887, 3.479591836734581, 3.485714285714174, 3.491836734693767, 3.4979591836733612, 3.5040816326529547, 3.510204081632549, 3.5163265306121425, 3.522448979591737, 3.5285714285713317, 3.534693877550926, 3.5408163265305213, 3.5469387755101165, 3.5530612244897113, 3.5591836734693065, 3.5653061224489013, 3.571428571428496, 3.577551020408091, 3.583673469387686, 3.589795918367281, 3.5959183673468753, 3.6020408163264706, 3.608163265306065, 3.6142857142856593, 3.6204081632652527, 3.626530612244847, 3.632653061224441, 3.6387755102040336, 3.644897959183627, 3.651020408163219, 3.6571428571428113, 3.663265306122404, 3.6693877551019964, 3.6755102040815877, 3.681632653061178, 3.687755102040769, 3.693877551020358, 3.6999999999999473, 3.6999999999999464, 3.706122448979532, 3.7122448979591214, 3.71836734693871, 3.7244897959182985, 3.7306122448978867, 3.7367346938774775, 3.7428571428570674, 3.7489795918366595, 3.7551020408162508, 3.7612244897958416, 3.767346938775435, 3.773469387755027, 3.77959183673462, 3.785714285714213, 3.7918367346938067, 3.797959183673402, 3.804081632652996, 3.81020408163259, 3.8163265306121845, 3.822448979591779, 3.828571428571374, 3.8346938775509694, 3.840816326530565, 3.8469387755101603, 3.8530612244897555, 3.8591836734693508, 3.865306122448946, 3.8714285714285417, 3.877551020408137, 3.883673469387732, 3.889795918367328, 3.895918367346922, 3.902040816326518, 3.908163265306113, 3.9142857142857084, 3.920408163265302, 3.926530612244896, 3.93265306122449, 3.938775510204084, 3.9448979591836775, 3.9510204081632696, 3.9571428571428617, 3.963265306122455, 3.9693877551020487, 3.9755102040816395, 3.9816326530612303, 3.9877551020408215, 3.993877551020411, 4.000000000000001]}, {\"mode\": \"markers\", \"name\": \"$ui$\", \"type\": \"scatter\", \"x\": [0.0, 0.1, 0.2, 0.30000000000000004, 0.4, 0.5, 0.6000000000000001, 0.7000000000000001, 0.8, 0.9, 1.0, 0.03333333333333333, 0.06666666666666667, 0.13333333333333333, 0.16666666666666669, 0.23333333333333336, 0.2666666666666667, 0.33333333333333337, 0.3666666666666667, 0.43333333333333335, 0.4666666666666667, 0.5333333333333333, 0.5666666666666668, 0.6333333333333334, 0.6666666666666667, 0.7333333333333334, 0.7666666666666667, 0.8333333333333334, 0.8666666666666667, 0.9333333333333333, 0.9666666666666667], \"y\": [1.0, 1.2999999999999856, 1.599999999999967, 1.8999999999999426, 2.199999999999914, 2.499999999999898, 2.79999999999989, 3.0999999999998926, 3.399999999999911, 3.6999999999999464, 4.0, 1.0999999999999706, 1.2000000000000015, 1.3999999999999544, 1.4999999999999838, 1.6999999999999345, 1.7999999999999623, 1.9999999999999056, 2.0999999999999313, 2.29999999999988, 2.3999999999999098, 2.5999999999998678, 2.6999999999999007, 2.8999999999998614, 2.999999999999898, 3.1999999999998687, 3.2999999999999097, 3.499999999999892, 3.599999999999939, 3.7999999999999328, 3.899999999999986]}],\n",
       "                        {\"template\": {\"data\": {\"bar\": [{\"error_x\": {\"color\": \"#2a3f5f\"}, \"error_y\": {\"color\": \"#2a3f5f\"}, \"marker\": {\"line\": {\"color\": \"#E5ECF6\", \"width\": 0.5}}, \"type\": \"bar\"}], \"barpolar\": [{\"marker\": {\"line\": {\"color\": \"#E5ECF6\", \"width\": 0.5}}, \"type\": \"barpolar\"}], \"carpet\": [{\"aaxis\": {\"endlinecolor\": \"#2a3f5f\", \"gridcolor\": \"white\", \"linecolor\": \"white\", \"minorgridcolor\": \"white\", \"startlinecolor\": \"#2a3f5f\"}, \"baxis\": {\"endlinecolor\": \"#2a3f5f\", \"gridcolor\": \"white\", \"linecolor\": \"white\", \"minorgridcolor\": \"white\", \"startlinecolor\": \"#2a3f5f\"}, \"type\": \"carpet\"}], \"choropleth\": [{\"colorbar\": {\"outlinewidth\": 0, \"ticks\": \"\"}, \"type\": \"choropleth\"}], \"contour\": [{\"colorbar\": {\"outlinewidth\": 0, \"ticks\": \"\"}, \"colorscale\": [[0.0, \"#0d0887\"], [0.1111111111111111, \"#46039f\"], [0.2222222222222222, \"#7201a8\"], [0.3333333333333333, \"#9c179e\"], [0.4444444444444444, \"#bd3786\"], [0.5555555555555556, \"#d8576b\"], [0.6666666666666666, \"#ed7953\"], [0.7777777777777778, \"#fb9f3a\"], [0.8888888888888888, \"#fdca26\"], [1.0, \"#f0f921\"]], \"type\": \"contour\"}], \"contourcarpet\": [{\"colorbar\": {\"outlinewidth\": 0, \"ticks\": \"\"}, \"type\": \"contourcarpet\"}], \"heatmap\": [{\"colorbar\": {\"outlinewidth\": 0, \"ticks\": \"\"}, \"colorscale\": [[0.0, \"#0d0887\"], [0.1111111111111111, \"#46039f\"], [0.2222222222222222, \"#7201a8\"], [0.3333333333333333, \"#9c179e\"], [0.4444444444444444, \"#bd3786\"], [0.5555555555555556, \"#d8576b\"], [0.6666666666666666, \"#ed7953\"], [0.7777777777777778, \"#fb9f3a\"], [0.8888888888888888, \"#fdca26\"], [1.0, \"#f0f921\"]], \"type\": \"heatmap\"}], \"heatmapgl\": [{\"colorbar\": {\"outlinewidth\": 0, \"ticks\": \"\"}, \"colorscale\": [[0.0, \"#0d0887\"], [0.1111111111111111, \"#46039f\"], [0.2222222222222222, \"#7201a8\"], [0.3333333333333333, \"#9c179e\"], [0.4444444444444444, \"#bd3786\"], [0.5555555555555556, \"#d8576b\"], [0.6666666666666666, \"#ed7953\"], [0.7777777777777778, \"#fb9f3a\"], [0.8888888888888888, \"#fdca26\"], [1.0, \"#f0f921\"]], \"type\": \"heatmapgl\"}], \"histogram\": [{\"marker\": {\"colorbar\": {\"outlinewidth\": 0, \"ticks\": \"\"}}, \"type\": \"histogram\"}], \"histogram2d\": [{\"colorbar\": {\"outlinewidth\": 0, \"ticks\": \"\"}, \"colorscale\": [[0.0, \"#0d0887\"], [0.1111111111111111, \"#46039f\"], [0.2222222222222222, \"#7201a8\"], [0.3333333333333333, \"#9c179e\"], [0.4444444444444444, \"#bd3786\"], [0.5555555555555556, \"#d8576b\"], [0.6666666666666666, \"#ed7953\"], [0.7777777777777778, \"#fb9f3a\"], [0.8888888888888888, \"#fdca26\"], [1.0, \"#f0f921\"]], \"type\": \"histogram2d\"}], \"histogram2dcontour\": [{\"colorbar\": {\"outlinewidth\": 0, \"ticks\": \"\"}, \"colorscale\": [[0.0, \"#0d0887\"], [0.1111111111111111, \"#46039f\"], [0.2222222222222222, \"#7201a8\"], [0.3333333333333333, \"#9c179e\"], [0.4444444444444444, \"#bd3786\"], [0.5555555555555556, \"#d8576b\"], [0.6666666666666666, \"#ed7953\"], [0.7777777777777778, \"#fb9f3a\"], [0.8888888888888888, \"#fdca26\"], [1.0, \"#f0f921\"]], \"type\": \"histogram2dcontour\"}], \"mesh3d\": [{\"colorbar\": {\"outlinewidth\": 0, \"ticks\": \"\"}, \"type\": \"mesh3d\"}], \"parcoords\": [{\"line\": {\"colorbar\": {\"outlinewidth\": 0, \"ticks\": \"\"}}, \"type\": \"parcoords\"}], \"scatter\": [{\"marker\": {\"colorbar\": {\"outlinewidth\": 0, \"ticks\": \"\"}}, \"type\": \"scatter\"}], \"scatter3d\": [{\"line\": {\"colorbar\": {\"outlinewidth\": 0, \"ticks\": \"\"}}, \"marker\": {\"colorbar\": {\"outlinewidth\": 0, \"ticks\": \"\"}}, \"type\": \"scatter3d\"}], \"scattercarpet\": [{\"marker\": {\"colorbar\": {\"outlinewidth\": 0, \"ticks\": \"\"}}, \"type\": \"scattercarpet\"}], \"scattergeo\": [{\"marker\": {\"colorbar\": {\"outlinewidth\": 0, \"ticks\": \"\"}}, \"type\": \"scattergeo\"}], \"scattergl\": [{\"marker\": {\"colorbar\": {\"outlinewidth\": 0, \"ticks\": \"\"}}, \"type\": \"scattergl\"}], \"scattermapbox\": [{\"marker\": {\"colorbar\": {\"outlinewidth\": 0, \"ticks\": \"\"}}, \"type\": \"scattermapbox\"}], \"scatterpolar\": [{\"marker\": {\"colorbar\": {\"outlinewidth\": 0, \"ticks\": \"\"}}, \"type\": \"scatterpolar\"}], \"scatterpolargl\": [{\"marker\": {\"colorbar\": {\"outlinewidth\": 0, \"ticks\": \"\"}}, \"type\": \"scatterpolargl\"}], \"scatterternary\": [{\"marker\": {\"colorbar\": {\"outlinewidth\": 0, \"ticks\": \"\"}}, \"type\": \"scatterternary\"}], \"surface\": [{\"colorbar\": {\"outlinewidth\": 0, \"ticks\": \"\"}, \"colorscale\": [[0.0, \"#0d0887\"], [0.1111111111111111, \"#46039f\"], [0.2222222222222222, \"#7201a8\"], [0.3333333333333333, \"#9c179e\"], [0.4444444444444444, \"#bd3786\"], [0.5555555555555556, \"#d8576b\"], [0.6666666666666666, \"#ed7953\"], [0.7777777777777778, \"#fb9f3a\"], [0.8888888888888888, \"#fdca26\"], [1.0, \"#f0f921\"]], \"type\": \"surface\"}], \"table\": [{\"cells\": {\"fill\": {\"color\": \"#EBF0F8\"}, \"line\": {\"color\": \"white\"}}, \"header\": {\"fill\": {\"color\": \"#C8D4E3\"}, \"line\": {\"color\": \"white\"}}, \"type\": \"table\"}]}, \"layout\": {\"annotationdefaults\": {\"arrowcolor\": \"#2a3f5f\", \"arrowhead\": 0, \"arrowwidth\": 1}, \"colorscale\": {\"diverging\": [[0, \"#8e0152\"], [0.1, \"#c51b7d\"], [0.2, \"#de77ae\"], [0.3, \"#f1b6da\"], [0.4, \"#fde0ef\"], [0.5, \"#f7f7f7\"], [0.6, \"#e6f5d0\"], [0.7, \"#b8e186\"], [0.8, \"#7fbc41\"], [0.9, \"#4d9221\"], [1, \"#276419\"]], \"sequential\": [[0.0, \"#0d0887\"], [0.1111111111111111, \"#46039f\"], [0.2222222222222222, \"#7201a8\"], [0.3333333333333333, \"#9c179e\"], [0.4444444444444444, \"#bd3786\"], [0.5555555555555556, \"#d8576b\"], [0.6666666666666666, \"#ed7953\"], [0.7777777777777778, \"#fb9f3a\"], [0.8888888888888888, \"#fdca26\"], [1.0, \"#f0f921\"]], \"sequentialminus\": [[0.0, \"#0d0887\"], [0.1111111111111111, \"#46039f\"], [0.2222222222222222, \"#7201a8\"], [0.3333333333333333, \"#9c179e\"], [0.4444444444444444, \"#bd3786\"], [0.5555555555555556, \"#d8576b\"], [0.6666666666666666, \"#ed7953\"], [0.7777777777777778, \"#fb9f3a\"], [0.8888888888888888, \"#fdca26\"], [1.0, \"#f0f921\"]]}, \"colorway\": [\"#636efa\", \"#EF553B\", \"#00cc96\", \"#ab63fa\", \"#FFA15A\", \"#19d3f3\", \"#FF6692\", \"#B6E880\", \"#FF97FF\", \"#FECB52\"], \"font\": {\"color\": \"#2a3f5f\"}, \"geo\": {\"bgcolor\": \"white\", \"lakecolor\": \"white\", \"landcolor\": \"#E5ECF6\", \"showlakes\": true, \"showland\": true, \"subunitcolor\": \"white\"}, \"hoverlabel\": {\"align\": \"left\"}, \"hovermode\": \"closest\", \"mapbox\": {\"style\": \"light\"}, \"paper_bgcolor\": \"white\", \"plot_bgcolor\": \"#E5ECF6\", \"polar\": {\"angularaxis\": {\"gridcolor\": \"white\", \"linecolor\": \"white\", \"ticks\": \"\"}, \"bgcolor\": \"#E5ECF6\", \"radialaxis\": {\"gridcolor\": \"white\", \"linecolor\": \"white\", \"ticks\": \"\"}}, \"scene\": {\"xaxis\": {\"backgroundcolor\": \"#E5ECF6\", \"gridcolor\": \"white\", \"gridwidth\": 2, \"linecolor\": \"white\", \"showbackground\": true, \"ticks\": \"\", \"zerolinecolor\": \"white\"}, \"yaxis\": {\"backgroundcolor\": \"#E5ECF6\", \"gridcolor\": \"white\", \"gridwidth\": 2, \"linecolor\": \"white\", \"showbackground\": true, \"ticks\": \"\", \"zerolinecolor\": \"white\"}, \"zaxis\": {\"backgroundcolor\": \"#E5ECF6\", \"gridcolor\": \"white\", \"gridwidth\": 2, \"linecolor\": \"white\", \"showbackground\": true, \"ticks\": \"\", \"zerolinecolor\": \"white\"}}, \"shapedefaults\": {\"line\": {\"color\": \"#2a3f5f\"}}, \"ternary\": {\"aaxis\": {\"gridcolor\": \"white\", \"linecolor\": \"white\", \"ticks\": \"\"}, \"baxis\": {\"gridcolor\": \"white\", \"linecolor\": \"white\", \"ticks\": \"\"}, \"bgcolor\": \"#E5ECF6\", \"caxis\": {\"gridcolor\": \"white\", \"linecolor\": \"white\", \"ticks\": \"\"}}, \"title\": {\"x\": 0.05}, \"xaxis\": {\"automargin\": true, \"gridcolor\": \"white\", \"linecolor\": \"white\", \"ticks\": \"\", \"zerolinecolor\": \"white\", \"zerolinewidth\": 2}, \"yaxis\": {\"automargin\": true, \"gridcolor\": \"white\", \"linecolor\": \"white\", \"ticks\": \"\", \"zerolinecolor\": \"white\", \"zerolinewidth\": 2}}}},\n",
       "                        {\"responsive\": true}\n",
       "                    ).then(function(){\n",
       "                            \n",
       "var gd = document.getElementById('df3d6ca1-74c2-4a6d-8959-d9473af58cc1');\n",
       "var x = new MutationObserver(function (mutations, observer) {{\n",
       "        var display = window.getComputedStyle(gd).display;\n",
       "        if (!display || display === 'none') {{\n",
       "            console.log([gd, 'removed!']);\n",
       "            Plotly.purge(gd);\n",
       "            observer.disconnect();\n",
       "        }}\n",
       "}});\n",
       "\n",
       "// Listen for the removal of the full notebook cells\n",
       "var notebookContainer = gd.closest('#notebook-container');\n",
       "if (notebookContainer) {{\n",
       "    x.observe(notebookContainer, {childList: true});\n",
       "}}\n",
       "\n",
       "// Listen for the clearing of the current output cell\n",
       "var outputEl = gd.closest('.output');\n",
       "if (outputEl) {{\n",
       "    x.observe(outputEl, {childList: true});\n",
       "}}\n",
       "\n",
       "                        })\n",
       "                };\n",
       "                });\n",
       "            </script>\n",
       "        </div>"
      ]
     },
     "metadata": {},
     "output_type": "display_data"
    }
   ],
   "source": [
    "x, u = interpolate(ui)\n",
    "\n",
    "fig = go.Figure(data=[\n",
    "    go.Scatter(x=x, y=u, mode='lines', name=\"solution\"),\n",
    "    go.Scatter(x=nodes, y=ui, mode='markers', name=\"$ui$\"),\n",
    "])\n",
    "plotly.iplot(fig)"
   ]
  },
  {
   "cell_type": "markdown",
   "metadata": {
    "slideshow": {
     "slide_type": "slide"
    }
   },
   "source": [
    "# Mass Matrix"
   ]
  },
  {
   "cell_type": "markdown",
   "metadata": {
    "slideshow": {
     "slide_type": "-"
    }
   },
   "source": [
    "This is exactly as before!"
   ]
  },
  {
   "cell_type": "code",
   "execution_count": 16,
   "metadata": {
    "slideshow": {
     "slide_type": "fragment"
    }
   },
   "outputs": [],
   "source": [
    "rows = []\n",
    "cols = []\n",
    "vals = []\n",
    "\n",
    "for e in range(n_elements):\n",
    "    el = elements[e]\n",
    "\n",
    "    for i in range(el[\"n_bases\"]):\n",
    "        for j in range(el[\"n_bases\"]):\n",
    "            val = scheme.integrate(\n",
    "                lambda x:\n",
    "                el[\"phi\"][i](x) * el[\"phi\"][j](x) * el[\"grad_gmapping\"](x),\n",
    "                [0.0, 1.0])\n",
    "            \n",
    "            rows.append(el[\"loc_2_glob\"][i])\n",
    "            cols.append(el[\"loc_2_glob\"][j])\n",
    "            vals.append(val)\n",
    "\n",
    "            \n",
    "rows = np.array(rows)\n",
    "cols = np.array(cols)\n",
    "vals = np.array(vals)\n",
    "\n",
    "M = spr.coo_matrix((vals, (rows, cols)))\n",
    "M = spr.csr_matrix(M)"
   ]
  },
  {
   "cell_type": "markdown",
   "metadata": {
    "slideshow": {
     "slide_type": "slide"
    }
   },
   "source": [
    "Now we set $f=4$ and zero boundary conditions."
   ]
  },
  {
   "cell_type": "code",
   "execution_count": 17,
   "metadata": {
    "slideshow": {
     "slide_type": "fragment"
    }
   },
   "outputs": [],
   "source": [
    "f = 4*np.ones((n_bases, 1))\n",
    "f = M*f\n",
    "\n",
    "f[0] = 0\n",
    "f[n_elements] = 0"
   ]
  },
  {
   "cell_type": "markdown",
   "metadata": {
    "slideshow": {
     "slide_type": "fragment"
    }
   },
   "source": [
    "We now solve $L\\boldsymbol{ui}=M\\boldsymbol{f}$ for $\\boldsymbol{ui}$"
   ]
  },
  {
   "cell_type": "code",
   "execution_count": 18,
   "metadata": {
    "slideshow": {
     "slide_type": "fragment"
    }
   },
   "outputs": [],
   "source": [
    "ui = spsolve(L, f)"
   ]
  },
  {
   "cell_type": "code",
   "execution_count": 19,
   "metadata": {
    "slideshow": {
     "slide_type": "slide"
    }
   },
   "outputs": [
    {
     "data": {
      "application/vnd.plotly.v1+json": {
       "config": {
        "linkText": "Export to plot.ly",
        "plotlyServerURL": "https://plot.ly",
        "showLink": false
       },
       "data": [
        {
         "mode": "lines",
         "name": "solution",
         "type": "scatter",
         "x": [
          0,
          0.002040816326530612,
          0.004081632653061224,
          0.006122448979591837,
          0.008163265306122448,
          0.01020408163265306,
          0.012244897959183675,
          0.014285714285714285,
          0.016326530612244896,
          0.01836734693877551,
          0.02040816326530612,
          0.022448979591836733,
          0.02448979591836735,
          0.026530612244897958,
          0.02857142857142857,
          0.03061224489795918,
          0.03265306122448979,
          0.03469387755102041,
          0.03673469387755102,
          0.03877551020408163,
          0.04081632653061224,
          0.04285714285714286,
          0.044897959183673466,
          0.04693877551020408,
          0.0489795918367347,
          0.05102040816326531,
          0.053061224489795916,
          0.055102040816326525,
          0.05714285714285714,
          0.05918367346938776,
          0.06122448979591836,
          0.06326530612244897,
          0.06530612244897958,
          0.0673469387755102,
          0.06938775510204082,
          0.07142857142857142,
          0.07346938775510203,
          0.07551020408163266,
          0.07755102040816327,
          0.07959183673469387,
          0.08163265306122448,
          0.0836734693877551,
          0.08571428571428572,
          0.08775510204081632,
          0.08979591836734693,
          0.09183673469387754,
          0.09387755102040816,
          0.09591836734693877,
          0.0979591836734694,
          0.1,
          0.1,
          0.10204081632653061,
          0.10408163265306122,
          0.10612244897959185,
          0.10816326530612246,
          0.11020408163265306,
          0.11224489795918369,
          0.1142857142857143,
          0.1163265306122449,
          0.11836734693877551,
          0.12040816326530612,
          0.12244897959183673,
          0.12448979591836735,
          0.12653061224489798,
          0.1285714285714286,
          0.1306122448979592,
          0.1326530612244898,
          0.1346938775510204,
          0.13673469387755102,
          0.13877551020408163,
          0.14081632653061224,
          0.14285714285714285,
          0.14489795918367349,
          0.1469387755102041,
          0.1489795918367347,
          0.1510204081632653,
          0.15306122448979592,
          0.15510204081632653,
          0.15714285714285714,
          0.15918367346938778,
          0.16122448979591836,
          0.163265306122449,
          0.16530612244897958,
          0.1673469387755102,
          0.16938775510204082,
          0.17142857142857143,
          0.17346938775510204,
          0.17551020408163265,
          0.17755102040816328,
          0.17959183673469387,
          0.1816326530612245,
          0.1836734693877551,
          0.18571428571428572,
          0.18775510204081633,
          0.18979591836734694,
          0.19183673469387755,
          0.19387755102040816,
          0.1959183673469388,
          0.1979591836734694,
          0.2,
          0.2,
          0.20204081632653062,
          0.20408163265306123,
          0.20612244897959184,
          0.20816326530612247,
          0.21020408163265308,
          0.2122448979591837,
          0.2142857142857143,
          0.2163265306122449,
          0.21836734693877552,
          0.22040816326530613,
          0.22244897959183674,
          0.22448979591836737,
          0.22653061224489798,
          0.2285714285714286,
          0.2306122448979592,
          0.2326530612244898,
          0.23469387755102045,
          0.23673469387755103,
          0.23877551020408166,
          0.24081632653061227,
          0.24285714285714288,
          0.2448979591836735,
          0.2469387755102041,
          0.24897959183673474,
          0.2510204081632653,
          0.25306122448979596,
          0.25510204081632654,
          0.2571428571428572,
          0.25918367346938775,
          0.2612244897959184,
          0.263265306122449,
          0.2653061224489796,
          0.26734693877551025,
          0.2693877551020408,
          0.27142857142857146,
          0.2734693877551021,
          0.2755102040816327,
          0.2775510204081633,
          0.2795918367346939,
          0.28163265306122454,
          0.2836734693877551,
          0.28571428571428575,
          0.28775510204081634,
          0.28979591836734697,
          0.2918367346938776,
          0.2938775510204082,
          0.2959183673469388,
          0.2979591836734694,
          0.30000000000000004,
          0.30000000000000004,
          0.3020408163265307,
          0.30408163265306126,
          0.3061224489795919,
          0.3081632653061225,
          0.3102040816326531,
          0.3122448979591837,
          0.31428571428571433,
          0.3163265306122449,
          0.31836734693877555,
          0.32040816326530613,
          0.32244897959183677,
          0.3244897959183674,
          0.326530612244898,
          0.3285714285714286,
          0.3306122448979592,
          0.33265306122448984,
          0.3346938775510204,
          0.33673469387755106,
          0.3387755102040817,
          0.3408163265306123,
          0.34285714285714286,
          0.3448979591836735,
          0.34693877551020413,
          0.3489795918367347,
          0.35102040816326535,
          0.35306122448979593,
          0.35510204081632657,
          0.35714285714285715,
          0.3591836734693878,
          0.36122448979591837,
          0.363265306122449,
          0.36530612244897964,
          0.3673469387755102,
          0.36938775510204086,
          0.37142857142857144,
          0.3734693877551021,
          0.37551020408163266,
          0.3775510204081633,
          0.3795918367346939,
          0.3816326530612245,
          0.38367346938775515,
          0.38571428571428573,
          0.38775510204081637,
          0.38979591836734695,
          0.3918367346938776,
          0.39387755102040817,
          0.3959183673469388,
          0.3979591836734694,
          0.4,
          0.4,
          0.40204081632653066,
          0.40408163265306124,
          0.4061224489795919,
          0.40816326530612246,
          0.4102040816326531,
          0.4122448979591837,
          0.4142857142857143,
          0.4163265306122449,
          0.41836734693877553,
          0.4204081632653061,
          0.42244897959183675,
          0.4244897959183674,
          0.42653061224489797,
          0.4285714285714286,
          0.4306122448979592,
          0.4326530612244898,
          0.4346938775510204,
          0.43673469387755104,
          0.4387755102040817,
          0.44081632653061226,
          0.44285714285714284,
          0.4448979591836735,
          0.4469387755102041,
          0.4489795918367347,
          0.45102040816326533,
          0.4530612244897959,
          0.45510204081632655,
          0.45714285714285713,
          0.45918367346938777,
          0.46122448979591835,
          0.463265306122449,
          0.4653061224489796,
          0.4673469387755102,
          0.46938775510204084,
          0.4714285714285714,
          0.47346938775510206,
          0.47551020408163264,
          0.4775510204081633,
          0.47959183673469385,
          0.4816326530612245,
          0.48367346938775513,
          0.4857142857142857,
          0.48775510204081635,
          0.4897959183673469,
          0.49183673469387756,
          0.49387755102040815,
          0.4959183673469388,
          0.49795918367346936,
          0.5,
          0.5,
          0.5020408163265306,
          0.5040816326530613,
          0.5061224489795918,
          0.5081632653061224,
          0.5102040816326531,
          0.5122448979591837,
          0.5142857142857143,
          0.5163265306122449,
          0.5183673469387755,
          0.5204081632653061,
          0.5224489795918368,
          0.5244897959183674,
          0.5265306122448979,
          0.5285714285714286,
          0.5306122448979592,
          0.5326530612244899,
          0.5346938775510204,
          0.536734693877551,
          0.5387755102040817,
          0.5408163265306123,
          0.5428571428571429,
          0.5448979591836735,
          0.5469387755102041,
          0.5489795918367347,
          0.5510204081632654,
          0.553061224489796,
          0.5551020408163265,
          0.5571428571428572,
          0.5591836734693878,
          0.5612244897959184,
          0.5632653061224491,
          0.5653061224489796,
          0.5673469387755102,
          0.5693877551020409,
          0.5714285714285715,
          0.5734693877551021,
          0.5755102040816327,
          0.5775510204081633,
          0.5795918367346939,
          0.5816326530612246,
          0.5836734693877552,
          0.5857142857142857,
          0.5877551020408164,
          0.589795918367347,
          0.5918367346938777,
          0.5938775510204082,
          0.5959183673469388,
          0.5979591836734695,
          0.6000000000000001,
          0.6000000000000001,
          0.6020408163265307,
          0.6040816326530614,
          0.6061224489795919,
          0.6081632653061225,
          0.6102040816326532,
          0.6122448979591838,
          0.6142857142857143,
          0.616326530612245,
          0.6183673469387756,
          0.6204081632653062,
          0.6224489795918369,
          0.6244897959183674,
          0.626530612244898,
          0.6285714285714287,
          0.6306122448979593,
          0.6326530612244898,
          0.6346938775510205,
          0.6367346938775511,
          0.6387755102040817,
          0.6408163265306123,
          0.6428571428571429,
          0.6448979591836735,
          0.6469387755102042,
          0.6489795918367348,
          0.6510204081632653,
          0.653061224489796,
          0.6551020408163266,
          0.6571428571428573,
          0.6591836734693879,
          0.6612244897959184,
          0.663265306122449,
          0.6653061224489797,
          0.6673469387755103,
          0.6693877551020408,
          0.6714285714285715,
          0.6734693877551021,
          0.6755102040816328,
          0.6775510204081634,
          0.6795918367346939,
          0.6816326530612246,
          0.6836734693877552,
          0.6857142857142857,
          0.6877551020408164,
          0.689795918367347,
          0.6918367346938776,
          0.6938775510204083,
          0.6959183673469388,
          0.6979591836734694,
          0.7000000000000001,
          0.7000000000000001,
          0.7020408163265307,
          0.7040816326530613,
          0.7061224489795919,
          0.7081632653061225,
          0.7102040816326531,
          0.7122448979591838,
          0.7142857142857143,
          0.7163265306122449,
          0.7183673469387756,
          0.7204081632653062,
          0.7224489795918367,
          0.7244897959183674,
          0.726530612244898,
          0.7285714285714286,
          0.7306122448979593,
          0.7326530612244898,
          0.7346938775510204,
          0.7367346938775511,
          0.7387755102040817,
          0.7408163265306122,
          0.7428571428571429,
          0.7448979591836735,
          0.7469387755102042,
          0.7489795918367348,
          0.7510204081632653,
          0.753061224489796,
          0.7551020408163266,
          0.7571428571428572,
          0.7591836734693878,
          0.7612244897959184,
          0.763265306122449,
          0.7653061224489797,
          0.7673469387755103,
          0.7693877551020408,
          0.7714285714285715,
          0.7734693877551021,
          0.7755102040816327,
          0.7775510204081633,
          0.7795918367346939,
          0.7816326530612245,
          0.7836734693877552,
          0.7857142857142858,
          0.7877551020408163,
          0.789795918367347,
          0.7918367346938776,
          0.7938775510204082,
          0.7959183673469388,
          0.7979591836734694,
          0.8,
          0.8,
          0.8020408163265307,
          0.8040816326530613,
          0.8061224489795918,
          0.8081632653061225,
          0.8102040816326531,
          0.8122448979591838,
          0.8142857142857143,
          0.8163265306122449,
          0.8183673469387756,
          0.8204081632653062,
          0.8224489795918368,
          0.8244897959183674,
          0.826530612244898,
          0.8285714285714286,
          0.8306122448979593,
          0.8326530612244898,
          0.8346938775510204,
          0.8367346938775511,
          0.8387755102040817,
          0.8408163265306122,
          0.8428571428571429,
          0.8448979591836735,
          0.8469387755102041,
          0.8489795918367348,
          0.8510204081632653,
          0.8530612244897959,
          0.8551020408163266,
          0.8571428571428572,
          0.8591836734693878,
          0.8612244897959184,
          0.863265306122449,
          0.8653061224489796,
          0.8673469387755103,
          0.8693877551020408,
          0.8714285714285714,
          0.8734693877551021,
          0.8755102040816327,
          0.8775510204081634,
          0.8795918367346939,
          0.8816326530612245,
          0.8836734693877552,
          0.8857142857142857,
          0.8877551020408163,
          0.889795918367347,
          0.8918367346938776,
          0.8938775510204082,
          0.8959183673469387,
          0.8979591836734694,
          0.9,
          0.9,
          0.9020408163265307,
          0.9040816326530613,
          0.9061224489795918,
          0.9081632653061225,
          0.9102040816326531,
          0.9122448979591837,
          0.9142857142857143,
          0.9163265306122449,
          0.9183673469387755,
          0.9204081632653062,
          0.9224489795918367,
          0.9244897959183673,
          0.926530612244898,
          0.9285714285714286,
          0.9306122448979592,
          0.9326530612244898,
          0.9346938775510204,
          0.936734693877551,
          0.9387755102040817,
          0.9408163265306122,
          0.9428571428571428,
          0.9448979591836735,
          0.9469387755102041,
          0.9489795918367347,
          0.9510204081632653,
          0.9530612244897959,
          0.9551020408163265,
          0.9571428571428572,
          0.9591836734693877,
          0.9612244897959183,
          0.963265306122449,
          0.9653061224489796,
          0.9673469387755103,
          0.9693877551020408,
          0.9714285714285714,
          0.9734693877551021,
          0.9755102040816327,
          0.9775510204081632,
          0.9795918367346939,
          0.9816326530612245,
          0.9836734693877551,
          0.9857142857142858,
          0.9877551020408163,
          0.9897959183673469,
          0.9918367346938776,
          0.9938775510204082,
          0.9959183673469387,
          0.9979591836734694,
          1
         ],
         "y": [
          0,
          0.004073302790500602,
          0.008129945855887038,
          0.0121699291961593,
          0.01619325281131736,
          0.020199916701361224,
          0.02418992086629087,
          0.028163265306106265,
          0.032119950020807406,
          0.03605997501039428,
          0.03998334027486686,
          0.04389004581422518,
          0.04778009162846917,
          0.05165347771759881,
          0.055510204081614126,
          0.05935027072051506,
          0.06317367763430168,
          0.06698042482297387,
          0.07077051228653165,
          0.07454394002497503,
          0.07830070803830395,
          0.08204081632651844,
          0.08576426488961847,
          0.08947105372760404,
          0.0931611828404751,
          0.09683465222823165,
          0.10049146189087366,
          0.10413161182840117,
          0.10775510204081411,
          0.11136193252811247,
          0.11495210329029622,
          0.11852561432736544,
          0.12208246563931999,
          0.12562265722615995,
          0.12914618908788528,
          0.1326530612244959,
          0.13614327363599185,
          0.13961682632237316,
          0.14307371928363977,
          0.1465139525197916,
          0.14993752603082874,
          0.1533444398167511,
          0.15673469387755873,
          0.16010828821325163,
          0.1634652228238297,
          0.16680549770929293,
          0.17012911286964133,
          0.17343606830487493,
          0.17672636401499364,
          0.17999999999999752,
          0.1799999999999975,
          0.18325697625988646,
          0.1864972927946612,
          0.1897209496043218,
          0.192927946688868,
          0.1961182840482999,
          0.1992919616826176,
          0.20244897959182095,
          0.2055893377759101,
          0.2087130362348848,
          0.21182007496874516,
          0.21491045397749128,
          0.21798417326112302,
          0.22104123281964033,
          0.22408163265304326,
          0.22710537276133178,
          0.230112453144506,
          0.23310287380256575,
          0.23607663473551102,
          0.23903373594334187,
          0.24197417742605826,
          0.24489795918366025,
          0.2478050812161477,
          0.25069554352352075,
          0.2535693461057792,
          0.25642648896292314,
          0.25926697209495264,
          0.26209079550186754,
          0.2648979591836679,
          0.26768846314035366,
          0.2704623073719249,
          0.2732194918783816,
          0.2759600166597236,
          0.2786838817159511,
          0.28139108704706395,
          0.2840816326530622,
          0.2867555185339457,
          0.2894127446897146,
          0.2920533111203689,
          0.2946772178259085,
          0.29728446480633336,
          0.29987505206164355,
          0.302448979591839,
          0.3050062473969198,
          0.3075468554768859,
          0.31007080383173713,
          0.3125780924614736,
          0.31506872136609543,
          0.3175426905456024,
          0.31999999999999457,
          0.3199999999999945,
          0.3224406497292718,
          0.32486463973343493,
          0.32727197001248376,
          0.32966264056641814,
          0.3320366513952382,
          0.33439400249894397,
          0.3367346938775353,
          0.3390587255310124,
          0.3413660974593749,
          0.3436568096626231,
          0.34593086214075697,
          0.34818825489377647,
          0.3504289879216814,
          0.35265306122447193,
          0.3548604748021481,
          0.3570512286547099,
          0.3592253227821572,
          0.36138275718449,
          0.36352353186170827,
          0.3656476468138121,
          0.36775510204080153,
          0.3698458975426765,
          0.37192003331943696,
          0.3739775093710828,
          0.3760183256976142,
          0.37804248229903104,
          0.38004997917533334,
          0.38204081632652115,
          0.38401499375259435,
          0.38597251145355294,
          0.38791336942939714,
          0.38983756768012656,
          0.3917451062057416,
          0.393635985006242,
          0.39551020408162774,
          0.39736776343189883,
          0.3992086630570554,
          0.40103290295709737,
          0.40284048313202453,
          0.4046314035818372,
          0.40640566430653513,
          0.4081632653061184,
          0.4099042065805871,
          0.41162848812994124,
          0.41333610995418046,
          0.4150270720533049,
          0.4167013744273149,
          0.41835901707621004,
          0.41999999999999055,
          0.41999999999999044,
          0.42162432319865606,
          0.4232319866722075,
          0.4248229904206446,
          0.42639733444396716,
          0.42795501874217523,
          0.429496043315269,
          0.43102040816324827,
          0.43252811328611324,
          0.4340191586838636,
          0.43549354435649945,
          0.43695127030402114,
          0.4383923365264283,
          0.439816743023721,
          0.44122448979589907,
          0.44261557684296277,
          0.44399000416491213,
          0.4453477717617469,
          0.4466888796334672,
          0.44801332778007297,
          0.44932111620156423,
          0.45061224489794116,
          0.45188671386920337,
          0.4531445231153513,
          0.45438567263638463,
          0.4556101624323033,
          0.4568179925031076,
          0.45800916284879734,
          0.4591836734693725,
          0.4603415243648331,
          0.4614827155351793,
          0.4626072469804109,
          0.4637151187005278,
          0.4648063306955303,
          0.46588088296541824,
          0.4669387755101916,
          0.46798000832985026,
          0.4690045814243945,
          0.4700124947938241,
          0.4710037484381391,
          0.4719783423573395,
          0.4729362765514252,
          0.47387755102039636,
          0.47480216576425305,
          0.47571012078299524,
          0.47660141607662254,
          0.4774760516451353,
          0.4783340274885334,
          0.4791753436068168,
          0.47999999999998566,
          0.47999999999998555,
          0.48080799666803964,
          0.48159933361097956,
          0.48237401082880493,
          0.4831320283215157,
          0.48387338608911196,
          0.4845980841315938,
          0.48530612244896115,
          0.4859975010412141,
          0.4866722199083524,
          0.48733027905037624,
          0.4879716784672856,
          0.48859641815908067,
          0.48920449812576106,
          0.4897959183673269,
          0.4903706788837783,
          0.4909287796751152,
          0.4914702207413376,
          0.49199500208244545,
          0.49250312369843874,
          0.49299458558931764,
          0.493469387755082,
          0.4939275301957318,
          0.4943690129112672,
          0.49479383590168796,
          0.4952019991669942,
          0.49559350270718594,
          0.4959683465222632,
          0.49632653061222587,
          0.496668054977074,
          0.4969929196168076,
          0.4973011245314267,
          0.49759266972093125,
          0.49786755518532133,
          0.4981257809245968,
          0.49836734693875784,
          0.4985922532278042,
          0.49880049979173613,
          0.4989920866305534,
          0.49916701374425615,
          0.49932528113284447,
          0.49946688879631806,
          0.4995918367346771,
          0.4997001249479218,
          0.499791753436052,
          0.49986672219906736,
          0.4999250312369682,
          0.4999666805497547,
          0.49999167013742635,
          0.4999999999999836,
          0.4999999999999835,
          0.499991670137426,
          0.4999666805497544,
          0.4999250312369681,
          0.49986672219906714,
          0.49979175343605164,
          0.4997001249479217,
          0.499591836734677,
          0.49946688879631795,
          0.49932528113284425,
          0.49916701374425587,
          0.4989920866305533,
          0.4988004997917359,
          0.4985922532278041,
          0.49836734693875767,
          0.4981257809245967,
          0.4978675551853212,
          0.4975926697209313,
          0.49730112453142666,
          0.4969929196168076,
          0.49666805497707395,
          0.49632653061222576,
          0.49596834652226307,
          0.495593502707186,
          0.49520199916699426,
          0.49479383590168796,
          0.49436901291126717,
          0.4939275301957318,
          0.493469387755082,
          0.4929945855893176,
          0.4925031236984387,
          0.49199500208244534,
          0.4914702207413374,
          0.490928779675115,
          0.490370678883778,
          0.48979591836732667,
          0.4892044981257606,
          0.4885964181590801,
          0.4879716784672852,
          0.4873302790503756,
          0.4866722199083517,
          0.48599750104121314,
          0.48530612244896004,
          0.48459808413159267,
          0.48387338608911085,
          0.48313202832151425,
          0.4823740108288032,
          0.48159933361097773,
          0.48080799666803764,
          0.4799999999999832,
          0.4799999999999831,
          0.47917534360681413,
          0.47833402748853077,
          0.4774760516451328,
          0.47660141607662,
          0.47571012078299274,
          0.4748021657642508,
          0.47387755102039425,
          0.4729362765514231,
          0.4719783423573374,
          0.47100374843813675,
          0.47001249479382207,
          0.46900458142439244,
          0.4679800083298483,
          0.4669387755101896,
          0.46588088296541624,
          0.4648063306955285,
          0.46371511870052606,
          0.46260724698040906,
          0.46148271553517745,
          0.46034152436483133,
          0.4591836734693707,
          0.45800916284879545,
          0.45681799250310584,
          0.45561016243230157,
          0.4543856726363827,
          0.45314452311534936,
          0.45188671386920154,
          0.45061224489793916,
          0.4493211162015623,
          0.44801332778007086,
          0.44668887963346504,
          0.4453477717617446,
          0.44399000416490975,
          0.4426155768429604,
          0.4412244897958966,
          0.4398167430237182,
          0.43839233652642545,
          0.43695127030401826,
          0.43549354435649645,
          0.43401915868386026,
          0.4325281132861096,
          0.4310204081632444,
          0.429496043315265,
          0.4279550187421712,
          0.4263973344439627,
          0.42482299042063976,
          0.4232319866722025,
          0.42162432319865084,
          0.4199999999999847,
          0.4199999999999846,
          0.4183590170762042,
          0.4167013744273092,
          0.4150270720532996,
          0.41333610995417513,
          0.4116284881299358,
          0.40990420658058213,
          0.4081632653061136,
          0.4064056643065305,
          0.40463140358183264,
          0.40284048313202003,
          0.4010329029570931,
          0.3992086630570514,
          0.39736776343189495,
          0.39551020408162396,
          0.3936359850062383,
          0.39174510620573805,
          0.3898375676801233,
          0.3879133694293938,
          0.38597251145354977,
          0.3840149937525912,
          0.38204081632651804,
          0.38004997917533034,
          0.37804248229902815,
          0.3760183256976114,
          0.37397750937108,
          0.37192003331943413,
          0.3698458975426737,
          0.36775510204079886,
          0.36564764681380946,
          0.36352353186170555,
          0.36138275718448715,
          0.3592253227821543,
          0.35705122865470695,
          0.3548604748021452,
          0.352653061224469,
          0.35042898792167826,
          0.34818825489377314,
          0.34593086214075364,
          0.3436568096626196,
          0.34136609745937124,
          0.33905872553100835,
          0.3367346938775311,
          0.3343940024989396,
          0.33203665139523375,
          0.32966264056641337,
          0.3272719700124786,
          0.32486463973342955,
          0.3224406497292661,
          0.3199999999999883,
          0.31999999999998824,
          0.31754269054559636,
          0.31506872136608977,
          0.31257809246146845,
          0.31007080383173224,
          0.30754685547688126,
          0.3050062473969156,
          0.30244897959183514,
          0.29987505206164,
          0.29728446480633014,
          0.2946772178259055,
          0.2920533111203663,
          0.2894127446897123,
          0.2867555185339437,
          0.28408163265306036,
          0.28139108704706234,
          0.27868388171594977,
          0.2759600166597226,
          0.27321949187838074,
          0.2704623073719242,
          0.26768846314035316,
          0.26489795918366754,
          0.2620907955018673,
          0.2592669720949526,
          0.25642648896292325,
          0.25356934610577936,
          0.25069554352352097,
          0.24780508121614803,
          0.2448979591836606,
          0.2419741774260587,
          0.23903373594334232,
          0.23607663473551144,
          0.23310287380256606,
          0.23011245314450632,
          0.22710537276133208,
          0.22408163265304348,
          0.22104123281964033,
          0.21798417326112288,
          0.21491045397749103,
          0.21182007496874478,
          0.20871303623488413,
          0.20558933777590915,
          0.2024489795918198,
          0.19929196168261615,
          0.19611828404829823,
          0.19292794668886587,
          0.18972094960431923,
          0.18649729279465835,
          0.18325697625988313,
          0.17999999999999367,
          0.17999999999999364,
          0.17672636401499023,
          0.1734360683048721,
          0.17012911286963908,
          0.1668054977092911,
          0.16346522282382836,
          0.1601082882132508,
          0.15673469387755842,
          0.15334443981675125,
          0.1499375260308293,
          0.14651395251979255,
          0.14307371928364113,
          0.13961682632237493,
          0.13614327363599402,
          0.1326530612244984,
          0.12914618908788805,
          0.12562265722616314,
          0.12208246563932347,
          0.11852561432736916,
          0.11495210329030023,
          0.11136193252811667,
          0.10775510204081853,
          0.1041316118284058,
          0.10049146189087849,
          0.09683465222823662,
          0.09316118284048018,
          0.08947105372760925,
          0.08576426488962377,
          0.0820408163265238,
          0.07830070803830932,
          0.0745439400249804,
          0.07077051228653701,
          0.06698042482297917,
          0.0631736776343069,
          0.05935027072052021,
          0.055510204081619156,
          0.051653477717603674,
          0.04778009162847384,
          0.04389004581422964,
          0.039983340274871104,
          0.036059975010398225,
          0.03211995002081104,
          0.02816326530610954,
          0.024189920866293787,
          0.020199916701363774,
          0.01619325281131947,
          0.012169929196160927,
          0.008129945855888157,
          0.004073302790501181,
          0
         ]
        },
        {
         "mode": "markers",
         "name": "$ui$",
         "type": "scatter",
         "x": [
          0,
          0.1,
          0.2,
          0.30000000000000004,
          0.4,
          0.5,
          0.6000000000000001,
          0.7000000000000001,
          0.8,
          0.9,
          1,
          0.03333333333333333,
          0.06666666666666667,
          0.13333333333333333,
          0.16666666666666669,
          0.23333333333333336,
          0.2666666666666667,
          0.33333333333333337,
          0.3666666666666667,
          0.43333333333333335,
          0.4666666666666667,
          0.5333333333333333,
          0.5666666666666668,
          0.6333333333333334,
          0.6666666666666667,
          0.7333333333333334,
          0.7666666666666667,
          0.8333333333333334,
          0.8666666666666667,
          0.9333333333333333,
          0.9666666666666667
         ],
         "y": [
          0,
          0.1799999999999975,
          0.3199999999999945,
          0.41999999999999044,
          0.47999999999998555,
          0.4999999999999835,
          0.4799999999999831,
          0.4199999999999846,
          0.31999999999998824,
          0.17999999999999364,
          0,
          0.06444444444442733,
          0.12444444444444827,
          0.23111111111109417,
          0.2777777777777769,
          0.3577777777777606,
          0.3911111111111049,
          0.4444444444444253,
          0.4644444444444311,
          0.49111111111109096,
          0.4977777777777596,
          0.49777777777775956,
          0.49111111111109074,
          0.4644444444444293,
          0.444444444444423,
          0.3911111111111014,
          0.3577777777777577,
          0.2777777777777757,
          0.2311111111110945,
          0.12444444444445152,
          0.06444444444443259
         ]
        }
       ],
       "layout": {
        "template": {
         "data": {
          "bar": [
           {
            "error_x": {
             "color": "#2a3f5f"
            },
            "error_y": {
             "color": "#2a3f5f"
            },
            "marker": {
             "line": {
              "color": "#E5ECF6",
              "width": 0.5
             }
            },
            "type": "bar"
           }
          ],
          "barpolar": [
           {
            "marker": {
             "line": {
              "color": "#E5ECF6",
              "width": 0.5
             }
            },
            "type": "barpolar"
           }
          ],
          "carpet": [
           {
            "aaxis": {
             "endlinecolor": "#2a3f5f",
             "gridcolor": "white",
             "linecolor": "white",
             "minorgridcolor": "white",
             "startlinecolor": "#2a3f5f"
            },
            "baxis": {
             "endlinecolor": "#2a3f5f",
             "gridcolor": "white",
             "linecolor": "white",
             "minorgridcolor": "white",
             "startlinecolor": "#2a3f5f"
            },
            "type": "carpet"
           }
          ],
          "choropleth": [
           {
            "colorbar": {
             "outlinewidth": 0,
             "ticks": ""
            },
            "type": "choropleth"
           }
          ],
          "contour": [
           {
            "colorbar": {
             "outlinewidth": 0,
             "ticks": ""
            },
            "colorscale": [
             [
              0,
              "#0d0887"
             ],
             [
              0.1111111111111111,
              "#46039f"
             ],
             [
              0.2222222222222222,
              "#7201a8"
             ],
             [
              0.3333333333333333,
              "#9c179e"
             ],
             [
              0.4444444444444444,
              "#bd3786"
             ],
             [
              0.5555555555555556,
              "#d8576b"
             ],
             [
              0.6666666666666666,
              "#ed7953"
             ],
             [
              0.7777777777777778,
              "#fb9f3a"
             ],
             [
              0.8888888888888888,
              "#fdca26"
             ],
             [
              1,
              "#f0f921"
             ]
            ],
            "type": "contour"
           }
          ],
          "contourcarpet": [
           {
            "colorbar": {
             "outlinewidth": 0,
             "ticks": ""
            },
            "type": "contourcarpet"
           }
          ],
          "heatmap": [
           {
            "colorbar": {
             "outlinewidth": 0,
             "ticks": ""
            },
            "colorscale": [
             [
              0,
              "#0d0887"
             ],
             [
              0.1111111111111111,
              "#46039f"
             ],
             [
              0.2222222222222222,
              "#7201a8"
             ],
             [
              0.3333333333333333,
              "#9c179e"
             ],
             [
              0.4444444444444444,
              "#bd3786"
             ],
             [
              0.5555555555555556,
              "#d8576b"
             ],
             [
              0.6666666666666666,
              "#ed7953"
             ],
             [
              0.7777777777777778,
              "#fb9f3a"
             ],
             [
              0.8888888888888888,
              "#fdca26"
             ],
             [
              1,
              "#f0f921"
             ]
            ],
            "type": "heatmap"
           }
          ],
          "heatmapgl": [
           {
            "colorbar": {
             "outlinewidth": 0,
             "ticks": ""
            },
            "colorscale": [
             [
              0,
              "#0d0887"
             ],
             [
              0.1111111111111111,
              "#46039f"
             ],
             [
              0.2222222222222222,
              "#7201a8"
             ],
             [
              0.3333333333333333,
              "#9c179e"
             ],
             [
              0.4444444444444444,
              "#bd3786"
             ],
             [
              0.5555555555555556,
              "#d8576b"
             ],
             [
              0.6666666666666666,
              "#ed7953"
             ],
             [
              0.7777777777777778,
              "#fb9f3a"
             ],
             [
              0.8888888888888888,
              "#fdca26"
             ],
             [
              1,
              "#f0f921"
             ]
            ],
            "type": "heatmapgl"
           }
          ],
          "histogram": [
           {
            "marker": {
             "colorbar": {
              "outlinewidth": 0,
              "ticks": ""
             }
            },
            "type": "histogram"
           }
          ],
          "histogram2d": [
           {
            "colorbar": {
             "outlinewidth": 0,
             "ticks": ""
            },
            "colorscale": [
             [
              0,
              "#0d0887"
             ],
             [
              0.1111111111111111,
              "#46039f"
             ],
             [
              0.2222222222222222,
              "#7201a8"
             ],
             [
              0.3333333333333333,
              "#9c179e"
             ],
             [
              0.4444444444444444,
              "#bd3786"
             ],
             [
              0.5555555555555556,
              "#d8576b"
             ],
             [
              0.6666666666666666,
              "#ed7953"
             ],
             [
              0.7777777777777778,
              "#fb9f3a"
             ],
             [
              0.8888888888888888,
              "#fdca26"
             ],
             [
              1,
              "#f0f921"
             ]
            ],
            "type": "histogram2d"
           }
          ],
          "histogram2dcontour": [
           {
            "colorbar": {
             "outlinewidth": 0,
             "ticks": ""
            },
            "colorscale": [
             [
              0,
              "#0d0887"
             ],
             [
              0.1111111111111111,
              "#46039f"
             ],
             [
              0.2222222222222222,
              "#7201a8"
             ],
             [
              0.3333333333333333,
              "#9c179e"
             ],
             [
              0.4444444444444444,
              "#bd3786"
             ],
             [
              0.5555555555555556,
              "#d8576b"
             ],
             [
              0.6666666666666666,
              "#ed7953"
             ],
             [
              0.7777777777777778,
              "#fb9f3a"
             ],
             [
              0.8888888888888888,
              "#fdca26"
             ],
             [
              1,
              "#f0f921"
             ]
            ],
            "type": "histogram2dcontour"
           }
          ],
          "mesh3d": [
           {
            "colorbar": {
             "outlinewidth": 0,
             "ticks": ""
            },
            "type": "mesh3d"
           }
          ],
          "parcoords": [
           {
            "line": {
             "colorbar": {
              "outlinewidth": 0,
              "ticks": ""
             }
            },
            "type": "parcoords"
           }
          ],
          "scatter": [
           {
            "marker": {
             "colorbar": {
              "outlinewidth": 0,
              "ticks": ""
             }
            },
            "type": "scatter"
           }
          ],
          "scatter3d": [
           {
            "line": {
             "colorbar": {
              "outlinewidth": 0,
              "ticks": ""
             }
            },
            "marker": {
             "colorbar": {
              "outlinewidth": 0,
              "ticks": ""
             }
            },
            "type": "scatter3d"
           }
          ],
          "scattercarpet": [
           {
            "marker": {
             "colorbar": {
              "outlinewidth": 0,
              "ticks": ""
             }
            },
            "type": "scattercarpet"
           }
          ],
          "scattergeo": [
           {
            "marker": {
             "colorbar": {
              "outlinewidth": 0,
              "ticks": ""
             }
            },
            "type": "scattergeo"
           }
          ],
          "scattergl": [
           {
            "marker": {
             "colorbar": {
              "outlinewidth": 0,
              "ticks": ""
             }
            },
            "type": "scattergl"
           }
          ],
          "scattermapbox": [
           {
            "marker": {
             "colorbar": {
              "outlinewidth": 0,
              "ticks": ""
             }
            },
            "type": "scattermapbox"
           }
          ],
          "scatterpolar": [
           {
            "marker": {
             "colorbar": {
              "outlinewidth": 0,
              "ticks": ""
             }
            },
            "type": "scatterpolar"
           }
          ],
          "scatterpolargl": [
           {
            "marker": {
             "colorbar": {
              "outlinewidth": 0,
              "ticks": ""
             }
            },
            "type": "scatterpolargl"
           }
          ],
          "scatterternary": [
           {
            "marker": {
             "colorbar": {
              "outlinewidth": 0,
              "ticks": ""
             }
            },
            "type": "scatterternary"
           }
          ],
          "surface": [
           {
            "colorbar": {
             "outlinewidth": 0,
             "ticks": ""
            },
            "colorscale": [
             [
              0,
              "#0d0887"
             ],
             [
              0.1111111111111111,
              "#46039f"
             ],
             [
              0.2222222222222222,
              "#7201a8"
             ],
             [
              0.3333333333333333,
              "#9c179e"
             ],
             [
              0.4444444444444444,
              "#bd3786"
             ],
             [
              0.5555555555555556,
              "#d8576b"
             ],
             [
              0.6666666666666666,
              "#ed7953"
             ],
             [
              0.7777777777777778,
              "#fb9f3a"
             ],
             [
              0.8888888888888888,
              "#fdca26"
             ],
             [
              1,
              "#f0f921"
             ]
            ],
            "type": "surface"
           }
          ],
          "table": [
           {
            "cells": {
             "fill": {
              "color": "#EBF0F8"
             },
             "line": {
              "color": "white"
             }
            },
            "header": {
             "fill": {
              "color": "#C8D4E3"
             },
             "line": {
              "color": "white"
             }
            },
            "type": "table"
           }
          ]
         },
         "layout": {
          "annotationdefaults": {
           "arrowcolor": "#2a3f5f",
           "arrowhead": 0,
           "arrowwidth": 1
          },
          "colorscale": {
           "diverging": [
            [
             0,
             "#8e0152"
            ],
            [
             0.1,
             "#c51b7d"
            ],
            [
             0.2,
             "#de77ae"
            ],
            [
             0.3,
             "#f1b6da"
            ],
            [
             0.4,
             "#fde0ef"
            ],
            [
             0.5,
             "#f7f7f7"
            ],
            [
             0.6,
             "#e6f5d0"
            ],
            [
             0.7,
             "#b8e186"
            ],
            [
             0.8,
             "#7fbc41"
            ],
            [
             0.9,
             "#4d9221"
            ],
            [
             1,
             "#276419"
            ]
           ],
           "sequential": [
            [
             0,
             "#0d0887"
            ],
            [
             0.1111111111111111,
             "#46039f"
            ],
            [
             0.2222222222222222,
             "#7201a8"
            ],
            [
             0.3333333333333333,
             "#9c179e"
            ],
            [
             0.4444444444444444,
             "#bd3786"
            ],
            [
             0.5555555555555556,
             "#d8576b"
            ],
            [
             0.6666666666666666,
             "#ed7953"
            ],
            [
             0.7777777777777778,
             "#fb9f3a"
            ],
            [
             0.8888888888888888,
             "#fdca26"
            ],
            [
             1,
             "#f0f921"
            ]
           ],
           "sequentialminus": [
            [
             0,
             "#0d0887"
            ],
            [
             0.1111111111111111,
             "#46039f"
            ],
            [
             0.2222222222222222,
             "#7201a8"
            ],
            [
             0.3333333333333333,
             "#9c179e"
            ],
            [
             0.4444444444444444,
             "#bd3786"
            ],
            [
             0.5555555555555556,
             "#d8576b"
            ],
            [
             0.6666666666666666,
             "#ed7953"
            ],
            [
             0.7777777777777778,
             "#fb9f3a"
            ],
            [
             0.8888888888888888,
             "#fdca26"
            ],
            [
             1,
             "#f0f921"
            ]
           ]
          },
          "colorway": [
           "#636efa",
           "#EF553B",
           "#00cc96",
           "#ab63fa",
           "#FFA15A",
           "#19d3f3",
           "#FF6692",
           "#B6E880",
           "#FF97FF",
           "#FECB52"
          ],
          "font": {
           "color": "#2a3f5f"
          },
          "geo": {
           "bgcolor": "white",
           "lakecolor": "white",
           "landcolor": "#E5ECF6",
           "showlakes": true,
           "showland": true,
           "subunitcolor": "white"
          },
          "hoverlabel": {
           "align": "left"
          },
          "hovermode": "closest",
          "mapbox": {
           "style": "light"
          },
          "paper_bgcolor": "white",
          "plot_bgcolor": "#E5ECF6",
          "polar": {
           "angularaxis": {
            "gridcolor": "white",
            "linecolor": "white",
            "ticks": ""
           },
           "bgcolor": "#E5ECF6",
           "radialaxis": {
            "gridcolor": "white",
            "linecolor": "white",
            "ticks": ""
           }
          },
          "scene": {
           "xaxis": {
            "backgroundcolor": "#E5ECF6",
            "gridcolor": "white",
            "gridwidth": 2,
            "linecolor": "white",
            "showbackground": true,
            "ticks": "",
            "zerolinecolor": "white"
           },
           "yaxis": {
            "backgroundcolor": "#E5ECF6",
            "gridcolor": "white",
            "gridwidth": 2,
            "linecolor": "white",
            "showbackground": true,
            "ticks": "",
            "zerolinecolor": "white"
           },
           "zaxis": {
            "backgroundcolor": "#E5ECF6",
            "gridcolor": "white",
            "gridwidth": 2,
            "linecolor": "white",
            "showbackground": true,
            "ticks": "",
            "zerolinecolor": "white"
           }
          },
          "shapedefaults": {
           "line": {
            "color": "#2a3f5f"
           }
          },
          "ternary": {
           "aaxis": {
            "gridcolor": "white",
            "linecolor": "white",
            "ticks": ""
           },
           "baxis": {
            "gridcolor": "white",
            "linecolor": "white",
            "ticks": ""
           },
           "bgcolor": "#E5ECF6",
           "caxis": {
            "gridcolor": "white",
            "linecolor": "white",
            "ticks": ""
           }
          },
          "title": {
           "x": 0.05
          },
          "xaxis": {
           "automargin": true,
           "gridcolor": "white",
           "linecolor": "white",
           "ticks": "",
           "zerolinecolor": "white",
           "zerolinewidth": 2
          },
          "yaxis": {
           "automargin": true,
           "gridcolor": "white",
           "linecolor": "white",
           "ticks": "",
           "zerolinecolor": "white",
           "zerolinewidth": 2
          }
         }
        }
       }
      },
      "text/html": [
       "<div>\n",
       "        \n",
       "        \n",
       "            <div id=\"1725fecb-abba-43c0-a343-423a951b9f37\" class=\"plotly-graph-div\" style=\"height:525px; width:100%;\"></div>\n",
       "            <script type=\"text/javascript\">\n",
       "                require([\"plotly\"], function(Plotly) {\n",
       "                    window.PLOTLYENV=window.PLOTLYENV || {};\n",
       "                    \n",
       "                if (document.getElementById(\"1725fecb-abba-43c0-a343-423a951b9f37\")) {\n",
       "                    Plotly.newPlot(\n",
       "                        '1725fecb-abba-43c0-a343-423a951b9f37',\n",
       "                        [{\"mode\": \"lines\", \"name\": \"solution\", \"type\": \"scatter\", \"x\": [0.0, 0.002040816326530612, 0.004081632653061224, 0.006122448979591837, 0.008163265306122448, 0.01020408163265306, 0.012244897959183675, 0.014285714285714285, 0.016326530612244896, 0.01836734693877551, 0.02040816326530612, 0.022448979591836733, 0.02448979591836735, 0.026530612244897958, 0.02857142857142857, 0.03061224489795918, 0.03265306122448979, 0.03469387755102041, 0.03673469387755102, 0.03877551020408163, 0.04081632653061224, 0.04285714285714286, 0.044897959183673466, 0.04693877551020408, 0.0489795918367347, 0.05102040816326531, 0.053061224489795916, 0.055102040816326525, 0.05714285714285714, 0.05918367346938776, 0.06122448979591836, 0.06326530612244897, 0.06530612244897958, 0.0673469387755102, 0.06938775510204082, 0.07142857142857142, 0.07346938775510203, 0.07551020408163266, 0.07755102040816327, 0.07959183673469387, 0.08163265306122448, 0.0836734693877551, 0.08571428571428572, 0.08775510204081632, 0.08979591836734693, 0.09183673469387754, 0.09387755102040816, 0.09591836734693877, 0.0979591836734694, 0.1, 0.1, 0.10204081632653061, 0.10408163265306122, 0.10612244897959185, 0.10816326530612246, 0.11020408163265306, 0.11224489795918369, 0.1142857142857143, 0.1163265306122449, 0.11836734693877551, 0.12040816326530612, 0.12244897959183673, 0.12448979591836735, 0.12653061224489798, 0.1285714285714286, 0.1306122448979592, 0.1326530612244898, 0.1346938775510204, 0.13673469387755102, 0.13877551020408163, 0.14081632653061224, 0.14285714285714285, 0.14489795918367349, 0.1469387755102041, 0.1489795918367347, 0.1510204081632653, 0.15306122448979592, 0.15510204081632653, 0.15714285714285714, 0.15918367346938778, 0.16122448979591836, 0.163265306122449, 0.16530612244897958, 0.1673469387755102, 0.16938775510204082, 0.17142857142857143, 0.17346938775510204, 0.17551020408163265, 0.17755102040816328, 0.17959183673469387, 0.1816326530612245, 0.1836734693877551, 0.18571428571428572, 0.18775510204081633, 0.18979591836734694, 0.19183673469387755, 0.19387755102040816, 0.1959183673469388, 0.1979591836734694, 0.2, 0.2, 0.20204081632653062, 0.20408163265306123, 0.20612244897959184, 0.20816326530612247, 0.21020408163265308, 0.2122448979591837, 0.2142857142857143, 0.2163265306122449, 0.21836734693877552, 0.22040816326530613, 0.22244897959183674, 0.22448979591836737, 0.22653061224489798, 0.2285714285714286, 0.2306122448979592, 0.2326530612244898, 0.23469387755102045, 0.23673469387755103, 0.23877551020408166, 0.24081632653061227, 0.24285714285714288, 0.2448979591836735, 0.2469387755102041, 0.24897959183673474, 0.2510204081632653, 0.25306122448979596, 0.25510204081632654, 0.2571428571428572, 0.25918367346938775, 0.2612244897959184, 0.263265306122449, 0.2653061224489796, 0.26734693877551025, 0.2693877551020408, 0.27142857142857146, 0.2734693877551021, 0.2755102040816327, 0.2775510204081633, 0.2795918367346939, 0.28163265306122454, 0.2836734693877551, 0.28571428571428575, 0.28775510204081634, 0.28979591836734697, 0.2918367346938776, 0.2938775510204082, 0.2959183673469388, 0.2979591836734694, 0.30000000000000004, 0.30000000000000004, 0.3020408163265307, 0.30408163265306126, 0.3061224489795919, 0.3081632653061225, 0.3102040816326531, 0.3122448979591837, 0.31428571428571433, 0.3163265306122449, 0.31836734693877555, 0.32040816326530613, 0.32244897959183677, 0.3244897959183674, 0.326530612244898, 0.3285714285714286, 0.3306122448979592, 0.33265306122448984, 0.3346938775510204, 0.33673469387755106, 0.3387755102040817, 0.3408163265306123, 0.34285714285714286, 0.3448979591836735, 0.34693877551020413, 0.3489795918367347, 0.35102040816326535, 0.35306122448979593, 0.35510204081632657, 0.35714285714285715, 0.3591836734693878, 0.36122448979591837, 0.363265306122449, 0.36530612244897964, 0.3673469387755102, 0.36938775510204086, 0.37142857142857144, 0.3734693877551021, 0.37551020408163266, 0.3775510204081633, 0.3795918367346939, 0.3816326530612245, 0.38367346938775515, 0.38571428571428573, 0.38775510204081637, 0.38979591836734695, 0.3918367346938776, 0.39387755102040817, 0.3959183673469388, 0.3979591836734694, 0.4, 0.4, 0.40204081632653066, 0.40408163265306124, 0.4061224489795919, 0.40816326530612246, 0.4102040816326531, 0.4122448979591837, 0.4142857142857143, 0.4163265306122449, 0.41836734693877553, 0.4204081632653061, 0.42244897959183675, 0.4244897959183674, 0.42653061224489797, 0.4285714285714286, 0.4306122448979592, 0.4326530612244898, 0.4346938775510204, 0.43673469387755104, 0.4387755102040817, 0.44081632653061226, 0.44285714285714284, 0.4448979591836735, 0.4469387755102041, 0.4489795918367347, 0.45102040816326533, 0.4530612244897959, 0.45510204081632655, 0.45714285714285713, 0.45918367346938777, 0.46122448979591835, 0.463265306122449, 0.4653061224489796, 0.4673469387755102, 0.46938775510204084, 0.4714285714285714, 0.47346938775510206, 0.47551020408163264, 0.4775510204081633, 0.47959183673469385, 0.4816326530612245, 0.48367346938775513, 0.4857142857142857, 0.48775510204081635, 0.4897959183673469, 0.49183673469387756, 0.49387755102040815, 0.4959183673469388, 0.49795918367346936, 0.5, 0.5, 0.5020408163265306, 0.5040816326530613, 0.5061224489795918, 0.5081632653061224, 0.5102040816326531, 0.5122448979591837, 0.5142857142857143, 0.5163265306122449, 0.5183673469387755, 0.5204081632653061, 0.5224489795918368, 0.5244897959183674, 0.5265306122448979, 0.5285714285714286, 0.5306122448979592, 0.5326530612244899, 0.5346938775510204, 0.536734693877551, 0.5387755102040817, 0.5408163265306123, 0.5428571428571429, 0.5448979591836735, 0.5469387755102041, 0.5489795918367347, 0.5510204081632654, 0.553061224489796, 0.5551020408163265, 0.5571428571428572, 0.5591836734693878, 0.5612244897959184, 0.5632653061224491, 0.5653061224489796, 0.5673469387755102, 0.5693877551020409, 0.5714285714285715, 0.5734693877551021, 0.5755102040816327, 0.5775510204081633, 0.5795918367346939, 0.5816326530612246, 0.5836734693877552, 0.5857142857142857, 0.5877551020408164, 0.589795918367347, 0.5918367346938777, 0.5938775510204082, 0.5959183673469388, 0.5979591836734695, 0.6000000000000001, 0.6000000000000001, 0.6020408163265307, 0.6040816326530614, 0.6061224489795919, 0.6081632653061225, 0.6102040816326532, 0.6122448979591838, 0.6142857142857143, 0.616326530612245, 0.6183673469387756, 0.6204081632653062, 0.6224489795918369, 0.6244897959183674, 0.626530612244898, 0.6285714285714287, 0.6306122448979593, 0.6326530612244898, 0.6346938775510205, 0.6367346938775511, 0.6387755102040817, 0.6408163265306123, 0.6428571428571429, 0.6448979591836735, 0.6469387755102042, 0.6489795918367348, 0.6510204081632653, 0.653061224489796, 0.6551020408163266, 0.6571428571428573, 0.6591836734693879, 0.6612244897959184, 0.663265306122449, 0.6653061224489797, 0.6673469387755103, 0.6693877551020408, 0.6714285714285715, 0.6734693877551021, 0.6755102040816328, 0.6775510204081634, 0.6795918367346939, 0.6816326530612246, 0.6836734693877552, 0.6857142857142857, 0.6877551020408164, 0.689795918367347, 0.6918367346938776, 0.6938775510204083, 0.6959183673469388, 0.6979591836734694, 0.7000000000000001, 0.7000000000000001, 0.7020408163265307, 0.7040816326530613, 0.7061224489795919, 0.7081632653061225, 0.7102040816326531, 0.7122448979591838, 0.7142857142857143, 0.7163265306122449, 0.7183673469387756, 0.7204081632653062, 0.7224489795918367, 0.7244897959183674, 0.726530612244898, 0.7285714285714286, 0.7306122448979593, 0.7326530612244898, 0.7346938775510204, 0.7367346938775511, 0.7387755102040817, 0.7408163265306122, 0.7428571428571429, 0.7448979591836735, 0.7469387755102042, 0.7489795918367348, 0.7510204081632653, 0.753061224489796, 0.7551020408163266, 0.7571428571428572, 0.7591836734693878, 0.7612244897959184, 0.763265306122449, 0.7653061224489797, 0.7673469387755103, 0.7693877551020408, 0.7714285714285715, 0.7734693877551021, 0.7755102040816327, 0.7775510204081633, 0.7795918367346939, 0.7816326530612245, 0.7836734693877552, 0.7857142857142858, 0.7877551020408163, 0.789795918367347, 0.7918367346938776, 0.7938775510204082, 0.7959183673469388, 0.7979591836734694, 0.8, 0.8, 0.8020408163265307, 0.8040816326530613, 0.8061224489795918, 0.8081632653061225, 0.8102040816326531, 0.8122448979591838, 0.8142857142857143, 0.8163265306122449, 0.8183673469387756, 0.8204081632653062, 0.8224489795918368, 0.8244897959183674, 0.826530612244898, 0.8285714285714286, 0.8306122448979593, 0.8326530612244898, 0.8346938775510204, 0.8367346938775511, 0.8387755102040817, 0.8408163265306122, 0.8428571428571429, 0.8448979591836735, 0.8469387755102041, 0.8489795918367348, 0.8510204081632653, 0.8530612244897959, 0.8551020408163266, 0.8571428571428572, 0.8591836734693878, 0.8612244897959184, 0.863265306122449, 0.8653061224489796, 0.8673469387755103, 0.8693877551020408, 0.8714285714285714, 0.8734693877551021, 0.8755102040816327, 0.8775510204081634, 0.8795918367346939, 0.8816326530612245, 0.8836734693877552, 0.8857142857142857, 0.8877551020408163, 0.889795918367347, 0.8918367346938776, 0.8938775510204082, 0.8959183673469387, 0.8979591836734694, 0.9, 0.9, 0.9020408163265307, 0.9040816326530613, 0.9061224489795918, 0.9081632653061225, 0.9102040816326531, 0.9122448979591837, 0.9142857142857143, 0.9163265306122449, 0.9183673469387755, 0.9204081632653062, 0.9224489795918367, 0.9244897959183673, 0.926530612244898, 0.9285714285714286, 0.9306122448979592, 0.9326530612244898, 0.9346938775510204, 0.936734693877551, 0.9387755102040817, 0.9408163265306122, 0.9428571428571428, 0.9448979591836735, 0.9469387755102041, 0.9489795918367347, 0.9510204081632653, 0.9530612244897959, 0.9551020408163265, 0.9571428571428572, 0.9591836734693877, 0.9612244897959183, 0.963265306122449, 0.9653061224489796, 0.9673469387755103, 0.9693877551020408, 0.9714285714285714, 0.9734693877551021, 0.9755102040816327, 0.9775510204081632, 0.9795918367346939, 0.9816326530612245, 0.9836734693877551, 0.9857142857142858, 0.9877551020408163, 0.9897959183673469, 0.9918367346938776, 0.9938775510204082, 0.9959183673469387, 0.9979591836734694, 1.0], \"y\": [0.0, 0.004073302790500602, 0.008129945855887038, 0.0121699291961593, 0.01619325281131736, 0.020199916701361224, 0.02418992086629087, 0.028163265306106265, 0.032119950020807406, 0.03605997501039428, 0.03998334027486686, 0.04389004581422518, 0.04778009162846917, 0.05165347771759881, 0.055510204081614126, 0.05935027072051506, 0.06317367763430168, 0.06698042482297387, 0.07077051228653165, 0.07454394002497503, 0.07830070803830395, 0.08204081632651844, 0.08576426488961847, 0.08947105372760404, 0.0931611828404751, 0.09683465222823165, 0.10049146189087366, 0.10413161182840117, 0.10775510204081411, 0.11136193252811247, 0.11495210329029622, 0.11852561432736544, 0.12208246563931999, 0.12562265722615995, 0.12914618908788528, 0.1326530612244959, 0.13614327363599185, 0.13961682632237316, 0.14307371928363977, 0.1465139525197916, 0.14993752603082874, 0.1533444398167511, 0.15673469387755873, 0.16010828821325163, 0.1634652228238297, 0.16680549770929293, 0.17012911286964133, 0.17343606830487493, 0.17672636401499364, 0.17999999999999752, 0.1799999999999975, 0.18325697625988646, 0.1864972927946612, 0.1897209496043218, 0.192927946688868, 0.1961182840482999, 0.1992919616826176, 0.20244897959182095, 0.2055893377759101, 0.2087130362348848, 0.21182007496874516, 0.21491045397749128, 0.21798417326112302, 0.22104123281964033, 0.22408163265304326, 0.22710537276133178, 0.230112453144506, 0.23310287380256575, 0.23607663473551102, 0.23903373594334187, 0.24197417742605826, 0.24489795918366025, 0.2478050812161477, 0.25069554352352075, 0.2535693461057792, 0.25642648896292314, 0.25926697209495264, 0.26209079550186754, 0.2648979591836679, 0.26768846314035366, 0.2704623073719249, 0.2732194918783816, 0.2759600166597236, 0.2786838817159511, 0.28139108704706395, 0.2840816326530622, 0.2867555185339457, 0.2894127446897146, 0.2920533111203689, 0.2946772178259085, 0.29728446480633336, 0.29987505206164355, 0.302448979591839, 0.3050062473969198, 0.3075468554768859, 0.31007080383173713, 0.3125780924614736, 0.31506872136609543, 0.3175426905456024, 0.31999999999999457, 0.3199999999999945, 0.3224406497292718, 0.32486463973343493, 0.32727197001248376, 0.32966264056641814, 0.3320366513952382, 0.33439400249894397, 0.3367346938775353, 0.3390587255310124, 0.3413660974593749, 0.3436568096626231, 0.34593086214075697, 0.34818825489377647, 0.3504289879216814, 0.35265306122447193, 0.3548604748021481, 0.3570512286547099, 0.3592253227821572, 0.36138275718449, 0.36352353186170827, 0.3656476468138121, 0.36775510204080153, 0.3698458975426765, 0.37192003331943696, 0.3739775093710828, 0.3760183256976142, 0.37804248229903104, 0.38004997917533334, 0.38204081632652115, 0.38401499375259435, 0.38597251145355294, 0.38791336942939714, 0.38983756768012656, 0.3917451062057416, 0.393635985006242, 0.39551020408162774, 0.39736776343189883, 0.3992086630570554, 0.40103290295709737, 0.40284048313202453, 0.4046314035818372, 0.40640566430653513, 0.4081632653061184, 0.4099042065805871, 0.41162848812994124, 0.41333610995418046, 0.4150270720533049, 0.4167013744273149, 0.41835901707621004, 0.41999999999999055, 0.41999999999999044, 0.42162432319865606, 0.4232319866722075, 0.4248229904206446, 0.42639733444396716, 0.42795501874217523, 0.429496043315269, 0.43102040816324827, 0.43252811328611324, 0.4340191586838636, 0.43549354435649945, 0.43695127030402114, 0.4383923365264283, 0.439816743023721, 0.44122448979589907, 0.44261557684296277, 0.44399000416491213, 0.4453477717617469, 0.4466888796334672, 0.44801332778007297, 0.44932111620156423, 0.45061224489794116, 0.45188671386920337, 0.4531445231153513, 0.45438567263638463, 0.4556101624323033, 0.4568179925031076, 0.45800916284879734, 0.4591836734693725, 0.4603415243648331, 0.4614827155351793, 0.4626072469804109, 0.4637151187005278, 0.4648063306955303, 0.46588088296541824, 0.4669387755101916, 0.46798000832985026, 0.4690045814243945, 0.4700124947938241, 0.4710037484381391, 0.4719783423573395, 0.4729362765514252, 0.47387755102039636, 0.47480216576425305, 0.47571012078299524, 0.47660141607662254, 0.4774760516451353, 0.4783340274885334, 0.4791753436068168, 0.47999999999998566, 0.47999999999998555, 0.48080799666803964, 0.48159933361097956, 0.48237401082880493, 0.4831320283215157, 0.48387338608911196, 0.4845980841315938, 0.48530612244896115, 0.4859975010412141, 0.4866722199083524, 0.48733027905037624, 0.4879716784672856, 0.48859641815908067, 0.48920449812576106, 0.4897959183673269, 0.4903706788837783, 0.4909287796751152, 0.4914702207413376, 0.49199500208244545, 0.49250312369843874, 0.49299458558931764, 0.493469387755082, 0.4939275301957318, 0.4943690129112672, 0.49479383590168796, 0.4952019991669942, 0.49559350270718594, 0.4959683465222632, 0.49632653061222587, 0.496668054977074, 0.4969929196168076, 0.4973011245314267, 0.49759266972093125, 0.49786755518532133, 0.4981257809245968, 0.49836734693875784, 0.4985922532278042, 0.49880049979173613, 0.4989920866305534, 0.49916701374425615, 0.49932528113284447, 0.49946688879631806, 0.4995918367346771, 0.4997001249479218, 0.499791753436052, 0.49986672219906736, 0.4999250312369682, 0.4999666805497547, 0.49999167013742635, 0.4999999999999836, 0.4999999999999835, 0.499991670137426, 0.4999666805497544, 0.4999250312369681, 0.49986672219906714, 0.49979175343605164, 0.4997001249479217, 0.499591836734677, 0.49946688879631795, 0.49932528113284425, 0.49916701374425587, 0.4989920866305533, 0.4988004997917359, 0.4985922532278041, 0.49836734693875767, 0.4981257809245967, 0.4978675551853212, 0.4975926697209313, 0.49730112453142666, 0.4969929196168076, 0.49666805497707395, 0.49632653061222576, 0.49596834652226307, 0.495593502707186, 0.49520199916699426, 0.49479383590168796, 0.49436901291126717, 0.4939275301957318, 0.493469387755082, 0.4929945855893176, 0.4925031236984387, 0.49199500208244534, 0.4914702207413374, 0.490928779675115, 0.490370678883778, 0.48979591836732667, 0.4892044981257606, 0.4885964181590801, 0.4879716784672852, 0.4873302790503756, 0.4866722199083517, 0.48599750104121314, 0.48530612244896004, 0.48459808413159267, 0.48387338608911085, 0.48313202832151425, 0.4823740108288032, 0.48159933361097773, 0.48080799666803764, 0.4799999999999832, 0.4799999999999831, 0.47917534360681413, 0.47833402748853077, 0.4774760516451328, 0.47660141607662, 0.47571012078299274, 0.4748021657642508, 0.47387755102039425, 0.4729362765514231, 0.4719783423573374, 0.47100374843813675, 0.47001249479382207, 0.46900458142439244, 0.4679800083298483, 0.4669387755101896, 0.46588088296541624, 0.4648063306955285, 0.46371511870052606, 0.46260724698040906, 0.46148271553517745, 0.46034152436483133, 0.4591836734693707, 0.45800916284879545, 0.45681799250310584, 0.45561016243230157, 0.4543856726363827, 0.45314452311534936, 0.45188671386920154, 0.45061224489793916, 0.4493211162015623, 0.44801332778007086, 0.44668887963346504, 0.4453477717617446, 0.44399000416490975, 0.4426155768429604, 0.4412244897958966, 0.4398167430237182, 0.43839233652642545, 0.43695127030401826, 0.43549354435649645, 0.43401915868386026, 0.4325281132861096, 0.4310204081632444, 0.429496043315265, 0.4279550187421712, 0.4263973344439627, 0.42482299042063976, 0.4232319866722025, 0.42162432319865084, 0.4199999999999847, 0.4199999999999846, 0.4183590170762042, 0.4167013744273092, 0.4150270720532996, 0.41333610995417513, 0.4116284881299358, 0.40990420658058213, 0.4081632653061136, 0.4064056643065305, 0.40463140358183264, 0.40284048313202003, 0.4010329029570931, 0.3992086630570514, 0.39736776343189495, 0.39551020408162396, 0.3936359850062383, 0.39174510620573805, 0.3898375676801233, 0.3879133694293938, 0.38597251145354977, 0.3840149937525912, 0.38204081632651804, 0.38004997917533034, 0.37804248229902815, 0.3760183256976114, 0.37397750937108, 0.37192003331943413, 0.3698458975426737, 0.36775510204079886, 0.36564764681380946, 0.36352353186170555, 0.36138275718448715, 0.3592253227821543, 0.35705122865470695, 0.3548604748021452, 0.352653061224469, 0.35042898792167826, 0.34818825489377314, 0.34593086214075364, 0.3436568096626196, 0.34136609745937124, 0.33905872553100835, 0.3367346938775311, 0.3343940024989396, 0.33203665139523375, 0.32966264056641337, 0.3272719700124786, 0.32486463973342955, 0.3224406497292661, 0.3199999999999883, 0.31999999999998824, 0.31754269054559636, 0.31506872136608977, 0.31257809246146845, 0.31007080383173224, 0.30754685547688126, 0.3050062473969156, 0.30244897959183514, 0.29987505206164, 0.29728446480633014, 0.2946772178259055, 0.2920533111203663, 0.2894127446897123, 0.2867555185339437, 0.28408163265306036, 0.28139108704706234, 0.27868388171594977, 0.2759600166597226, 0.27321949187838074, 0.2704623073719242, 0.26768846314035316, 0.26489795918366754, 0.2620907955018673, 0.2592669720949526, 0.25642648896292325, 0.25356934610577936, 0.25069554352352097, 0.24780508121614803, 0.2448979591836606, 0.2419741774260587, 0.23903373594334232, 0.23607663473551144, 0.23310287380256606, 0.23011245314450632, 0.22710537276133208, 0.22408163265304348, 0.22104123281964033, 0.21798417326112288, 0.21491045397749103, 0.21182007496874478, 0.20871303623488413, 0.20558933777590915, 0.2024489795918198, 0.19929196168261615, 0.19611828404829823, 0.19292794668886587, 0.18972094960431923, 0.18649729279465835, 0.18325697625988313, 0.17999999999999367, 0.17999999999999364, 0.17672636401499023, 0.1734360683048721, 0.17012911286963908, 0.1668054977092911, 0.16346522282382836, 0.1601082882132508, 0.15673469387755842, 0.15334443981675125, 0.1499375260308293, 0.14651395251979255, 0.14307371928364113, 0.13961682632237493, 0.13614327363599402, 0.1326530612244984, 0.12914618908788805, 0.12562265722616314, 0.12208246563932347, 0.11852561432736916, 0.11495210329030023, 0.11136193252811667, 0.10775510204081853, 0.1041316118284058, 0.10049146189087849, 0.09683465222823662, 0.09316118284048018, 0.08947105372760925, 0.08576426488962377, 0.0820408163265238, 0.07830070803830932, 0.0745439400249804, 0.07077051228653701, 0.06698042482297917, 0.0631736776343069, 0.05935027072052021, 0.055510204081619156, 0.051653477717603674, 0.04778009162847384, 0.04389004581422964, 0.039983340274871104, 0.036059975010398225, 0.03211995002081104, 0.02816326530610954, 0.024189920866293787, 0.020199916701363774, 0.01619325281131947, 0.012169929196160927, 0.008129945855888157, 0.004073302790501181, 0.0]}, {\"mode\": \"markers\", \"name\": \"$ui$\", \"type\": \"scatter\", \"x\": [0.0, 0.1, 0.2, 0.30000000000000004, 0.4, 0.5, 0.6000000000000001, 0.7000000000000001, 0.8, 0.9, 1.0, 0.03333333333333333, 0.06666666666666667, 0.13333333333333333, 0.16666666666666669, 0.23333333333333336, 0.2666666666666667, 0.33333333333333337, 0.3666666666666667, 0.43333333333333335, 0.4666666666666667, 0.5333333333333333, 0.5666666666666668, 0.6333333333333334, 0.6666666666666667, 0.7333333333333334, 0.7666666666666667, 0.8333333333333334, 0.8666666666666667, 0.9333333333333333, 0.9666666666666667], \"y\": [0.0, 0.1799999999999975, 0.3199999999999945, 0.41999999999999044, 0.47999999999998555, 0.4999999999999835, 0.4799999999999831, 0.4199999999999846, 0.31999999999998824, 0.17999999999999364, 0.0, 0.06444444444442733, 0.12444444444444827, 0.23111111111109417, 0.2777777777777769, 0.3577777777777606, 0.3911111111111049, 0.4444444444444253, 0.4644444444444311, 0.49111111111109096, 0.4977777777777596, 0.49777777777775956, 0.49111111111109074, 0.4644444444444293, 0.444444444444423, 0.3911111111111014, 0.3577777777777577, 0.2777777777777757, 0.2311111111110945, 0.12444444444445152, 0.06444444444443259]}],\n",
       "                        {\"template\": {\"data\": {\"bar\": [{\"error_x\": {\"color\": \"#2a3f5f\"}, \"error_y\": {\"color\": \"#2a3f5f\"}, \"marker\": {\"line\": {\"color\": \"#E5ECF6\", \"width\": 0.5}}, \"type\": \"bar\"}], \"barpolar\": [{\"marker\": {\"line\": {\"color\": \"#E5ECF6\", \"width\": 0.5}}, \"type\": \"barpolar\"}], \"carpet\": [{\"aaxis\": {\"endlinecolor\": \"#2a3f5f\", \"gridcolor\": \"white\", \"linecolor\": \"white\", \"minorgridcolor\": \"white\", \"startlinecolor\": \"#2a3f5f\"}, \"baxis\": {\"endlinecolor\": \"#2a3f5f\", \"gridcolor\": \"white\", \"linecolor\": \"white\", \"minorgridcolor\": \"white\", \"startlinecolor\": \"#2a3f5f\"}, \"type\": \"carpet\"}], \"choropleth\": [{\"colorbar\": {\"outlinewidth\": 0, \"ticks\": \"\"}, \"type\": \"choropleth\"}], \"contour\": [{\"colorbar\": {\"outlinewidth\": 0, \"ticks\": \"\"}, \"colorscale\": [[0.0, \"#0d0887\"], [0.1111111111111111, \"#46039f\"], [0.2222222222222222, \"#7201a8\"], [0.3333333333333333, \"#9c179e\"], [0.4444444444444444, \"#bd3786\"], [0.5555555555555556, \"#d8576b\"], [0.6666666666666666, \"#ed7953\"], [0.7777777777777778, \"#fb9f3a\"], [0.8888888888888888, \"#fdca26\"], [1.0, \"#f0f921\"]], \"type\": \"contour\"}], \"contourcarpet\": [{\"colorbar\": {\"outlinewidth\": 0, \"ticks\": \"\"}, \"type\": \"contourcarpet\"}], \"heatmap\": [{\"colorbar\": {\"outlinewidth\": 0, \"ticks\": \"\"}, \"colorscale\": [[0.0, \"#0d0887\"], [0.1111111111111111, \"#46039f\"], [0.2222222222222222, \"#7201a8\"], [0.3333333333333333, \"#9c179e\"], [0.4444444444444444, \"#bd3786\"], [0.5555555555555556, \"#d8576b\"], [0.6666666666666666, \"#ed7953\"], [0.7777777777777778, \"#fb9f3a\"], [0.8888888888888888, \"#fdca26\"], [1.0, \"#f0f921\"]], \"type\": \"heatmap\"}], \"heatmapgl\": [{\"colorbar\": {\"outlinewidth\": 0, \"ticks\": \"\"}, \"colorscale\": [[0.0, \"#0d0887\"], [0.1111111111111111, \"#46039f\"], [0.2222222222222222, \"#7201a8\"], [0.3333333333333333, \"#9c179e\"], [0.4444444444444444, \"#bd3786\"], [0.5555555555555556, \"#d8576b\"], [0.6666666666666666, \"#ed7953\"], [0.7777777777777778, \"#fb9f3a\"], [0.8888888888888888, \"#fdca26\"], [1.0, \"#f0f921\"]], \"type\": \"heatmapgl\"}], \"histogram\": [{\"marker\": {\"colorbar\": {\"outlinewidth\": 0, \"ticks\": \"\"}}, \"type\": \"histogram\"}], \"histogram2d\": [{\"colorbar\": {\"outlinewidth\": 0, \"ticks\": \"\"}, \"colorscale\": [[0.0, \"#0d0887\"], [0.1111111111111111, \"#46039f\"], [0.2222222222222222, \"#7201a8\"], [0.3333333333333333, \"#9c179e\"], [0.4444444444444444, \"#bd3786\"], [0.5555555555555556, \"#d8576b\"], [0.6666666666666666, \"#ed7953\"], [0.7777777777777778, \"#fb9f3a\"], [0.8888888888888888, \"#fdca26\"], [1.0, \"#f0f921\"]], \"type\": \"histogram2d\"}], \"histogram2dcontour\": [{\"colorbar\": {\"outlinewidth\": 0, \"ticks\": \"\"}, \"colorscale\": [[0.0, \"#0d0887\"], [0.1111111111111111, \"#46039f\"], [0.2222222222222222, \"#7201a8\"], [0.3333333333333333, \"#9c179e\"], [0.4444444444444444, \"#bd3786\"], [0.5555555555555556, \"#d8576b\"], [0.6666666666666666, \"#ed7953\"], [0.7777777777777778, \"#fb9f3a\"], [0.8888888888888888, \"#fdca26\"], [1.0, \"#f0f921\"]], \"type\": \"histogram2dcontour\"}], \"mesh3d\": [{\"colorbar\": {\"outlinewidth\": 0, \"ticks\": \"\"}, \"type\": \"mesh3d\"}], \"parcoords\": [{\"line\": {\"colorbar\": {\"outlinewidth\": 0, \"ticks\": \"\"}}, \"type\": \"parcoords\"}], \"scatter\": [{\"marker\": {\"colorbar\": {\"outlinewidth\": 0, \"ticks\": \"\"}}, \"type\": \"scatter\"}], \"scatter3d\": [{\"line\": {\"colorbar\": {\"outlinewidth\": 0, \"ticks\": \"\"}}, \"marker\": {\"colorbar\": {\"outlinewidth\": 0, \"ticks\": \"\"}}, \"type\": \"scatter3d\"}], \"scattercarpet\": [{\"marker\": {\"colorbar\": {\"outlinewidth\": 0, \"ticks\": \"\"}}, \"type\": \"scattercarpet\"}], \"scattergeo\": [{\"marker\": {\"colorbar\": {\"outlinewidth\": 0, \"ticks\": \"\"}}, \"type\": \"scattergeo\"}], \"scattergl\": [{\"marker\": {\"colorbar\": {\"outlinewidth\": 0, \"ticks\": \"\"}}, \"type\": \"scattergl\"}], \"scattermapbox\": [{\"marker\": {\"colorbar\": {\"outlinewidth\": 0, \"ticks\": \"\"}}, \"type\": \"scattermapbox\"}], \"scatterpolar\": [{\"marker\": {\"colorbar\": {\"outlinewidth\": 0, \"ticks\": \"\"}}, \"type\": \"scatterpolar\"}], \"scatterpolargl\": [{\"marker\": {\"colorbar\": {\"outlinewidth\": 0, \"ticks\": \"\"}}, \"type\": \"scatterpolargl\"}], \"scatterternary\": [{\"marker\": {\"colorbar\": {\"outlinewidth\": 0, \"ticks\": \"\"}}, \"type\": \"scatterternary\"}], \"surface\": [{\"colorbar\": {\"outlinewidth\": 0, \"ticks\": \"\"}, \"colorscale\": [[0.0, \"#0d0887\"], [0.1111111111111111, \"#46039f\"], [0.2222222222222222, \"#7201a8\"], [0.3333333333333333, \"#9c179e\"], [0.4444444444444444, \"#bd3786\"], [0.5555555555555556, \"#d8576b\"], [0.6666666666666666, \"#ed7953\"], [0.7777777777777778, \"#fb9f3a\"], [0.8888888888888888, \"#fdca26\"], [1.0, \"#f0f921\"]], \"type\": \"surface\"}], \"table\": [{\"cells\": {\"fill\": {\"color\": \"#EBF0F8\"}, \"line\": {\"color\": \"white\"}}, \"header\": {\"fill\": {\"color\": \"#C8D4E3\"}, \"line\": {\"color\": \"white\"}}, \"type\": \"table\"}]}, \"layout\": {\"annotationdefaults\": {\"arrowcolor\": \"#2a3f5f\", \"arrowhead\": 0, \"arrowwidth\": 1}, \"colorscale\": {\"diverging\": [[0, \"#8e0152\"], [0.1, \"#c51b7d\"], [0.2, \"#de77ae\"], [0.3, \"#f1b6da\"], [0.4, \"#fde0ef\"], [0.5, \"#f7f7f7\"], [0.6, \"#e6f5d0\"], [0.7, \"#b8e186\"], [0.8, \"#7fbc41\"], [0.9, \"#4d9221\"], [1, \"#276419\"]], \"sequential\": [[0.0, \"#0d0887\"], [0.1111111111111111, \"#46039f\"], [0.2222222222222222, \"#7201a8\"], [0.3333333333333333, \"#9c179e\"], [0.4444444444444444, \"#bd3786\"], [0.5555555555555556, \"#d8576b\"], [0.6666666666666666, \"#ed7953\"], [0.7777777777777778, \"#fb9f3a\"], [0.8888888888888888, \"#fdca26\"], [1.0, \"#f0f921\"]], \"sequentialminus\": [[0.0, \"#0d0887\"], [0.1111111111111111, \"#46039f\"], [0.2222222222222222, \"#7201a8\"], [0.3333333333333333, \"#9c179e\"], [0.4444444444444444, \"#bd3786\"], [0.5555555555555556, \"#d8576b\"], [0.6666666666666666, \"#ed7953\"], [0.7777777777777778, \"#fb9f3a\"], [0.8888888888888888, \"#fdca26\"], [1.0, \"#f0f921\"]]}, \"colorway\": [\"#636efa\", \"#EF553B\", \"#00cc96\", \"#ab63fa\", \"#FFA15A\", \"#19d3f3\", \"#FF6692\", \"#B6E880\", \"#FF97FF\", \"#FECB52\"], \"font\": {\"color\": \"#2a3f5f\"}, \"geo\": {\"bgcolor\": \"white\", \"lakecolor\": \"white\", \"landcolor\": \"#E5ECF6\", \"showlakes\": true, \"showland\": true, \"subunitcolor\": \"white\"}, \"hoverlabel\": {\"align\": \"left\"}, \"hovermode\": \"closest\", \"mapbox\": {\"style\": \"light\"}, \"paper_bgcolor\": \"white\", \"plot_bgcolor\": \"#E5ECF6\", \"polar\": {\"angularaxis\": {\"gridcolor\": \"white\", \"linecolor\": \"white\", \"ticks\": \"\"}, \"bgcolor\": \"#E5ECF6\", \"radialaxis\": {\"gridcolor\": \"white\", \"linecolor\": \"white\", \"ticks\": \"\"}}, \"scene\": {\"xaxis\": {\"backgroundcolor\": \"#E5ECF6\", \"gridcolor\": \"white\", \"gridwidth\": 2, \"linecolor\": \"white\", \"showbackground\": true, \"ticks\": \"\", \"zerolinecolor\": \"white\"}, \"yaxis\": {\"backgroundcolor\": \"#E5ECF6\", \"gridcolor\": \"white\", \"gridwidth\": 2, \"linecolor\": \"white\", \"showbackground\": true, \"ticks\": \"\", \"zerolinecolor\": \"white\"}, \"zaxis\": {\"backgroundcolor\": \"#E5ECF6\", \"gridcolor\": \"white\", \"gridwidth\": 2, \"linecolor\": \"white\", \"showbackground\": true, \"ticks\": \"\", \"zerolinecolor\": \"white\"}}, \"shapedefaults\": {\"line\": {\"color\": \"#2a3f5f\"}}, \"ternary\": {\"aaxis\": {\"gridcolor\": \"white\", \"linecolor\": \"white\", \"ticks\": \"\"}, \"baxis\": {\"gridcolor\": \"white\", \"linecolor\": \"white\", \"ticks\": \"\"}, \"bgcolor\": \"#E5ECF6\", \"caxis\": {\"gridcolor\": \"white\", \"linecolor\": \"white\", \"ticks\": \"\"}}, \"title\": {\"x\": 0.05}, \"xaxis\": {\"automargin\": true, \"gridcolor\": \"white\", \"linecolor\": \"white\", \"ticks\": \"\", \"zerolinecolor\": \"white\", \"zerolinewidth\": 2}, \"yaxis\": {\"automargin\": true, \"gridcolor\": \"white\", \"linecolor\": \"white\", \"ticks\": \"\", \"zerolinecolor\": \"white\", \"zerolinewidth\": 2}}}},\n",
       "                        {\"responsive\": true}\n",
       "                    ).then(function(){\n",
       "                            \n",
       "var gd = document.getElementById('1725fecb-abba-43c0-a343-423a951b9f37');\n",
       "var x = new MutationObserver(function (mutations, observer) {{\n",
       "        var display = window.getComputedStyle(gd).display;\n",
       "        if (!display || display === 'none') {{\n",
       "            console.log([gd, 'removed!']);\n",
       "            Plotly.purge(gd);\n",
       "            observer.disconnect();\n",
       "        }}\n",
       "}});\n",
       "\n",
       "// Listen for the removal of the full notebook cells\n",
       "var notebookContainer = gd.closest('#notebook-container');\n",
       "if (notebookContainer) {{\n",
       "    x.observe(notebookContainer, {childList: true});\n",
       "}}\n",
       "\n",
       "// Listen for the clearing of the current output cell\n",
       "var outputEl = gd.closest('.output');\n",
       "if (outputEl) {{\n",
       "    x.observe(outputEl, {childList: true});\n",
       "}}\n",
       "\n",
       "                        })\n",
       "                };\n",
       "                });\n",
       "            </script>\n",
       "        </div>"
      ]
     },
     "metadata": {},
     "output_type": "display_data"
    }
   ],
   "source": [
    "x, u = interpolate(ui)\n",
    "\n",
    "\n",
    "fig = go.Figure(data=[\n",
    "    go.Scatter(x=x, y=u, mode='lines', name=\"solution\"),\n",
    "    go.Scatter(x=nodes, y=ui, mode='markers', name=\"$ui$\"),\n",
    "])\n",
    "plotly.iplot(fig)"
   ]
  },
  {
   "cell_type": "code",
   "execution_count": null,
   "metadata": {
    "slideshow": {
     "slide_type": "skip"
    }
   },
   "outputs": [],
   "source": []
  }
 ],
 "metadata": {
  "celltoolbar": "Slideshow",
  "kernelspec": {
   "display_name": "Python 3",
   "language": "python",
   "name": "python3"
  },
  "language_info": {
   "codemirror_mode": {
    "name": "ipython",
    "version": 3
   },
   "file_extension": ".py",
   "mimetype": "text/x-python",
   "name": "python",
   "nbconvert_exporter": "python",
   "pygments_lexer": "ipython3",
   "version": "3.7.3"
  }
 },
 "nbformat": 4,
 "nbformat_minor": 2
}
