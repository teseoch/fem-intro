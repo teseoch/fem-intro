{
 "cells": [
  {
   "cell_type": "markdown",
   "metadata": {
    "slideshow": {
     "slide_type": "slide"
    }
   },
   "source": [
    "# Introduction"
   ]
  },
  {
   "cell_type": "markdown",
   "metadata": {
    "slideshow": {
     "slide_type": "-"
    }
   },
   "source": [
    "[![Binder](https://mybinder.org/badge_logo.svg)](https://mybinder.org/v2/gh/teseoch/fem-intro/master?filepath=fem-intro.ipynb)\n",
    "![](QR.png)\n",
    "The notebook can be interactively run in binder!"
   ]
  },
  {
   "cell_type": "markdown",
   "metadata": {
    "slideshow": {
     "slide_type": "slide"
    }
   },
   "source": [
    "Let $\\Omega$ be the domain, we aim at solving the Laplace equation (in 1D):\n",
    "\n",
    "$$-\\Delta u(x) = -\\frac{\\partial^2}{\\partial x^2}u(x) =0 $$"
   ]
  },
  {
   "cell_type": "markdown",
   "metadata": {
    "slideshow": {
     "slide_type": "fragment"
    }
   },
   "source": [
    "Subject to boundary conditions $g$\n",
    "$$u|_{\\partial\\Omega} = g,$$\n",
    "\n",
    "where $u|_{\\partial\\Omega}$ is the boundary of $\\Omega$."
   ]
  },
  {
   "cell_type": "markdown",
   "metadata": {
    "slideshow": {
     "slide_type": "fragment"
    }
   },
   "source": [
    "In 1D, the boundaries are the 2 endpoints $\\Omega_0$ and $\\Omega_1$, so the boundary conditions are:\n",
    "\n",
    "$$\n",
    "u(\\Omega_0) = u_0\\qquad\\mathrm{and}\\qquad u(\\Omega_1) = u_1.\n",
    "$$"
   ]
  },
  {
   "cell_type": "markdown",
   "metadata": {
    "slideshow": {
     "slide_type": "slide"
    }
   },
   "source": [
    "# Weak Form"
   ]
  },
  {
   "cell_type": "markdown",
   "metadata": {
    "slideshow": {
     "slide_type": "-"
    }
   },
   "source": [
    "Instread of solving\n",
    "$$-\\Delta u =0$$"
   ]
  },
  {
   "cell_type": "markdown",
   "metadata": {
    "slideshow": {
     "slide_type": "fragment"
    }
   },
   "source": [
    "we multiply it by a **test function** $v$ and integrate over the domain\n",
    "\n",
    "$$-\\int_\\Omega\\Delta u v =0, \\qquad \\forall v.$$"
   ]
  },
  {
   "cell_type": "markdown",
   "metadata": {
    "slideshow": {
     "slide_type": "fragment"
    }
   },
   "source": [
    "This equation is called **weak form** of the original PDE."
   ]
  },
  {
   "cell_type": "markdown",
   "metadata": {
    "slideshow": {
     "slide_type": "fragment"
    }
   },
   "source": [
    "If it holds **for any** $v$, then $u$ is also a solution of the original PDE (**strong form**)."
   ]
  },
  {
   "cell_type": "markdown",
   "metadata": {
    "slideshow": {
     "slide_type": "slide"
    }
   },
   "source": [
    "We use [integration by parts](https://en.wikipedia.org/wiki/Integration_by_parts) to simplify the weak form\n",
    "\n",
    "$$-\\int_\\Omega\\Delta u v = $$"
   ]
  },
  {
   "cell_type": "markdown",
   "metadata": {
    "slideshow": {
     "slide_type": "fragment"
    }
   },
   "source": [
    "$$=-\\Bigg(\\bigg[\\nabla u\\, v \\bigg]_{\\Omega_0}^{\\Omega_1}-\\int_\\Omega\\nabla u \\cdot \\nabla v\\Bigg) = $$"
   ]
  },
  {
   "cell_type": "markdown",
   "metadata": {
    "slideshow": {
     "slide_type": "fragment"
    }
   },
   "source": [
    "$$=\\int_\\Omega\\nabla u \\cdot \\nabla v = 0, \\qquad \\forall v$$"
   ]
  },
  {
   "cell_type": "markdown",
   "metadata": {
    "slideshow": {
     "slide_type": "slide"
    }
   },
   "source": [
    "# Discretization"
   ]
  },
  {
   "cell_type": "markdown",
   "metadata": {
    "slideshow": {
     "slide_type": "-"
    }
   },
   "source": [
    "We express the unknown function $u$ in terms of a **dicrete** basis $\\phi_i$, $i=0,\\dots,n$.\n",
    "\n",
    "$$u(x)=\\sum_{i=0}^n u_i \\phi_i(x)$$"
   ]
  },
  {
   "cell_type": "markdown",
   "metadata": {
    "slideshow": {
     "slide_type": "slide"
    }
   },
   "source": [
    "We insert this definition in the weak form\n",
    "\n",
    "$$\n",
    " \\int_\\Omega\\nabla \\sum_{i=0}^n(u_i  \\phi_i) \\cdot \\nabla v =\n",
    "\\sum_{i=0}^n u_i \\int_\\Omega\\nabla   \\phi_i \\cdot \\nabla v\n",
    "= 0, \\qquad \\forall v$$"
   ]
  },
  {
   "cell_type": "markdown",
   "metadata": {
    "slideshow": {
     "slide_type": "fragment"
    }
   },
   "source": [
    "We use the same basis $\\phi_j$ for $v$ and plug it in the weak form\n",
    "\n",
    "$$\\sum_{i=0}^n u_i \\int_\\Omega\\nabla \\phi_i \\cdot \\nabla \\phi_j = 0, \\qquad \\forall j=0,\\dots,n$$"
   ]
  },
  {
   "cell_type": "markdown",
   "metadata": {
    "slideshow": {
     "slide_type": "fragment"
    }
   },
   "source": [
    "This expression can be rewritten in matrix form\n",
    "$$\n",
    "L \\boldsymbol{u}  =0,\\qquad\\mathrm{where}\\qquad\n",
    "L_{i,j} = \\int_\\Omega\\nabla \\phi_i \\cdot \\nabla \\phi_j\n",
    "$$\n",
    "and $\\boldsymbol{u}$ is the vector containing the $u_i$."
   ]
  },
  {
   "cell_type": "markdown",
   "metadata": {
    "slideshow": {
     "slide_type": "slide"
    }
   },
   "source": [
    "# Example"
   ]
  },
  {
   "cell_type": "code",
   "execution_count": 1,
   "metadata": {},
   "outputs": [
    {
     "data": {
      "text/html": [
       "        <script type=\"text/javascript\">\n",
       "        window.PlotlyConfig = {MathJaxConfig: 'local'};\n",
       "        if (window.MathJax) {MathJax.Hub.Config({SVG: {font: \"STIX-Web\"}});}\n",
       "        if (typeof require !== 'undefined') {\n",
       "        require.undef(\"plotly\");\n",
       "        requirejs.config({\n",
       "            paths: {\n",
       "                'plotly': ['https://cdn.plot.ly/plotly-latest.min']\n",
       "            }\n",
       "        });\n",
       "        require(['plotly'], function(Plotly) {\n",
       "            window._Plotly = Plotly;\n",
       "        });\n",
       "        }\n",
       "        </script>\n",
       "        "
      ]
     },
     "metadata": {},
     "output_type": "display_data"
    }
   ],
   "source": [
    "import numpy as np\n",
    "import scipy.sparse as spr\n",
    "from scipy.sparse.linalg import spsolve\n",
    "\n",
    "import plotly.offline as plotly\n",
    "import plotly.graph_objs as go\n",
    "import plotly.figure_factory as ff\n",
    "\n",
    "#Necessary for the notebook\n",
    "plotly.init_notebook_mode(connected=True)"
   ]
  },
  {
   "cell_type": "markdown",
   "metadata": {
    "slideshow": {
     "slide_type": "slide"
    }
   },
   "source": [
    "The domain $\\Omega = [0, 1]$, which we discretize with $n_{el}$ segments (or elements) $s_i$"
   ]
  },
  {
   "cell_type": "code",
   "execution_count": 2,
   "metadata": {
    "slideshow": {
     "slide_type": "fragment"
    }
   },
   "outputs": [
    {
     "data": {
      "application/vnd.plotly.v1+json": {
       "config": {
        "linkText": "Export to plot.ly",
        "plotlyServerURL": "https://plot.ly",
        "showLink": false
       },
       "data": [
        {
         "mode": "lines+markers",
         "type": "scatter",
         "x": [
          0,
          0.1,
          0.2,
          0.30000000000000004,
          0.4,
          0.5,
          0.6000000000000001,
          0.7000000000000001,
          0.8,
          0.9,
          1
         ],
         "y": [
          0,
          0,
          0,
          0,
          0,
          0,
          0,
          0,
          0,
          0,
          0
         ]
        }
       ],
       "layout": {
        "template": {
         "data": {
          "bar": [
           {
            "error_x": {
             "color": "#2a3f5f"
            },
            "error_y": {
             "color": "#2a3f5f"
            },
            "marker": {
             "line": {
              "color": "#E5ECF6",
              "width": 0.5
             }
            },
            "type": "bar"
           }
          ],
          "barpolar": [
           {
            "marker": {
             "line": {
              "color": "#E5ECF6",
              "width": 0.5
             }
            },
            "type": "barpolar"
           }
          ],
          "carpet": [
           {
            "aaxis": {
             "endlinecolor": "#2a3f5f",
             "gridcolor": "white",
             "linecolor": "white",
             "minorgridcolor": "white",
             "startlinecolor": "#2a3f5f"
            },
            "baxis": {
             "endlinecolor": "#2a3f5f",
             "gridcolor": "white",
             "linecolor": "white",
             "minorgridcolor": "white",
             "startlinecolor": "#2a3f5f"
            },
            "type": "carpet"
           }
          ],
          "choropleth": [
           {
            "colorbar": {
             "outlinewidth": 0,
             "ticks": ""
            },
            "type": "choropleth"
           }
          ],
          "contour": [
           {
            "colorbar": {
             "outlinewidth": 0,
             "ticks": ""
            },
            "colorscale": [
             [
              0,
              "#0d0887"
             ],
             [
              0.1111111111111111,
              "#46039f"
             ],
             [
              0.2222222222222222,
              "#7201a8"
             ],
             [
              0.3333333333333333,
              "#9c179e"
             ],
             [
              0.4444444444444444,
              "#bd3786"
             ],
             [
              0.5555555555555556,
              "#d8576b"
             ],
             [
              0.6666666666666666,
              "#ed7953"
             ],
             [
              0.7777777777777778,
              "#fb9f3a"
             ],
             [
              0.8888888888888888,
              "#fdca26"
             ],
             [
              1,
              "#f0f921"
             ]
            ],
            "type": "contour"
           }
          ],
          "contourcarpet": [
           {
            "colorbar": {
             "outlinewidth": 0,
             "ticks": ""
            },
            "type": "contourcarpet"
           }
          ],
          "heatmap": [
           {
            "colorbar": {
             "outlinewidth": 0,
             "ticks": ""
            },
            "colorscale": [
             [
              0,
              "#0d0887"
             ],
             [
              0.1111111111111111,
              "#46039f"
             ],
             [
              0.2222222222222222,
              "#7201a8"
             ],
             [
              0.3333333333333333,
              "#9c179e"
             ],
             [
              0.4444444444444444,
              "#bd3786"
             ],
             [
              0.5555555555555556,
              "#d8576b"
             ],
             [
              0.6666666666666666,
              "#ed7953"
             ],
             [
              0.7777777777777778,
              "#fb9f3a"
             ],
             [
              0.8888888888888888,
              "#fdca26"
             ],
             [
              1,
              "#f0f921"
             ]
            ],
            "type": "heatmap"
           }
          ],
          "heatmapgl": [
           {
            "colorbar": {
             "outlinewidth": 0,
             "ticks": ""
            },
            "colorscale": [
             [
              0,
              "#0d0887"
             ],
             [
              0.1111111111111111,
              "#46039f"
             ],
             [
              0.2222222222222222,
              "#7201a8"
             ],
             [
              0.3333333333333333,
              "#9c179e"
             ],
             [
              0.4444444444444444,
              "#bd3786"
             ],
             [
              0.5555555555555556,
              "#d8576b"
             ],
             [
              0.6666666666666666,
              "#ed7953"
             ],
             [
              0.7777777777777778,
              "#fb9f3a"
             ],
             [
              0.8888888888888888,
              "#fdca26"
             ],
             [
              1,
              "#f0f921"
             ]
            ],
            "type": "heatmapgl"
           }
          ],
          "histogram": [
           {
            "marker": {
             "colorbar": {
              "outlinewidth": 0,
              "ticks": ""
             }
            },
            "type": "histogram"
           }
          ],
          "histogram2d": [
           {
            "colorbar": {
             "outlinewidth": 0,
             "ticks": ""
            },
            "colorscale": [
             [
              0,
              "#0d0887"
             ],
             [
              0.1111111111111111,
              "#46039f"
             ],
             [
              0.2222222222222222,
              "#7201a8"
             ],
             [
              0.3333333333333333,
              "#9c179e"
             ],
             [
              0.4444444444444444,
              "#bd3786"
             ],
             [
              0.5555555555555556,
              "#d8576b"
             ],
             [
              0.6666666666666666,
              "#ed7953"
             ],
             [
              0.7777777777777778,
              "#fb9f3a"
             ],
             [
              0.8888888888888888,
              "#fdca26"
             ],
             [
              1,
              "#f0f921"
             ]
            ],
            "type": "histogram2d"
           }
          ],
          "histogram2dcontour": [
           {
            "colorbar": {
             "outlinewidth": 0,
             "ticks": ""
            },
            "colorscale": [
             [
              0,
              "#0d0887"
             ],
             [
              0.1111111111111111,
              "#46039f"
             ],
             [
              0.2222222222222222,
              "#7201a8"
             ],
             [
              0.3333333333333333,
              "#9c179e"
             ],
             [
              0.4444444444444444,
              "#bd3786"
             ],
             [
              0.5555555555555556,
              "#d8576b"
             ],
             [
              0.6666666666666666,
              "#ed7953"
             ],
             [
              0.7777777777777778,
              "#fb9f3a"
             ],
             [
              0.8888888888888888,
              "#fdca26"
             ],
             [
              1,
              "#f0f921"
             ]
            ],
            "type": "histogram2dcontour"
           }
          ],
          "mesh3d": [
           {
            "colorbar": {
             "outlinewidth": 0,
             "ticks": ""
            },
            "type": "mesh3d"
           }
          ],
          "parcoords": [
           {
            "line": {
             "colorbar": {
              "outlinewidth": 0,
              "ticks": ""
             }
            },
            "type": "parcoords"
           }
          ],
          "scatter": [
           {
            "marker": {
             "colorbar": {
              "outlinewidth": 0,
              "ticks": ""
             }
            },
            "type": "scatter"
           }
          ],
          "scatter3d": [
           {
            "line": {
             "colorbar": {
              "outlinewidth": 0,
              "ticks": ""
             }
            },
            "marker": {
             "colorbar": {
              "outlinewidth": 0,
              "ticks": ""
             }
            },
            "type": "scatter3d"
           }
          ],
          "scattercarpet": [
           {
            "marker": {
             "colorbar": {
              "outlinewidth": 0,
              "ticks": ""
             }
            },
            "type": "scattercarpet"
           }
          ],
          "scattergeo": [
           {
            "marker": {
             "colorbar": {
              "outlinewidth": 0,
              "ticks": ""
             }
            },
            "type": "scattergeo"
           }
          ],
          "scattergl": [
           {
            "marker": {
             "colorbar": {
              "outlinewidth": 0,
              "ticks": ""
             }
            },
            "type": "scattergl"
           }
          ],
          "scattermapbox": [
           {
            "marker": {
             "colorbar": {
              "outlinewidth": 0,
              "ticks": ""
             }
            },
            "type": "scattermapbox"
           }
          ],
          "scatterpolar": [
           {
            "marker": {
             "colorbar": {
              "outlinewidth": 0,
              "ticks": ""
             }
            },
            "type": "scatterpolar"
           }
          ],
          "scatterpolargl": [
           {
            "marker": {
             "colorbar": {
              "outlinewidth": 0,
              "ticks": ""
             }
            },
            "type": "scatterpolargl"
           }
          ],
          "scatterternary": [
           {
            "marker": {
             "colorbar": {
              "outlinewidth": 0,
              "ticks": ""
             }
            },
            "type": "scatterternary"
           }
          ],
          "surface": [
           {
            "colorbar": {
             "outlinewidth": 0,
             "ticks": ""
            },
            "colorscale": [
             [
              0,
              "#0d0887"
             ],
             [
              0.1111111111111111,
              "#46039f"
             ],
             [
              0.2222222222222222,
              "#7201a8"
             ],
             [
              0.3333333333333333,
              "#9c179e"
             ],
             [
              0.4444444444444444,
              "#bd3786"
             ],
             [
              0.5555555555555556,
              "#d8576b"
             ],
             [
              0.6666666666666666,
              "#ed7953"
             ],
             [
              0.7777777777777778,
              "#fb9f3a"
             ],
             [
              0.8888888888888888,
              "#fdca26"
             ],
             [
              1,
              "#f0f921"
             ]
            ],
            "type": "surface"
           }
          ],
          "table": [
           {
            "cells": {
             "fill": {
              "color": "#EBF0F8"
             },
             "line": {
              "color": "white"
             }
            },
            "header": {
             "fill": {
              "color": "#C8D4E3"
             },
             "line": {
              "color": "white"
             }
            },
            "type": "table"
           }
          ]
         },
         "layout": {
          "annotationdefaults": {
           "arrowcolor": "#2a3f5f",
           "arrowhead": 0,
           "arrowwidth": 1
          },
          "colorscale": {
           "diverging": [
            [
             0,
             "#8e0152"
            ],
            [
             0.1,
             "#c51b7d"
            ],
            [
             0.2,
             "#de77ae"
            ],
            [
             0.3,
             "#f1b6da"
            ],
            [
             0.4,
             "#fde0ef"
            ],
            [
             0.5,
             "#f7f7f7"
            ],
            [
             0.6,
             "#e6f5d0"
            ],
            [
             0.7,
             "#b8e186"
            ],
            [
             0.8,
             "#7fbc41"
            ],
            [
             0.9,
             "#4d9221"
            ],
            [
             1,
             "#276419"
            ]
           ],
           "sequential": [
            [
             0,
             "#0d0887"
            ],
            [
             0.1111111111111111,
             "#46039f"
            ],
            [
             0.2222222222222222,
             "#7201a8"
            ],
            [
             0.3333333333333333,
             "#9c179e"
            ],
            [
             0.4444444444444444,
             "#bd3786"
            ],
            [
             0.5555555555555556,
             "#d8576b"
            ],
            [
             0.6666666666666666,
             "#ed7953"
            ],
            [
             0.7777777777777778,
             "#fb9f3a"
            ],
            [
             0.8888888888888888,
             "#fdca26"
            ],
            [
             1,
             "#f0f921"
            ]
           ],
           "sequentialminus": [
            [
             0,
             "#0d0887"
            ],
            [
             0.1111111111111111,
             "#46039f"
            ],
            [
             0.2222222222222222,
             "#7201a8"
            ],
            [
             0.3333333333333333,
             "#9c179e"
            ],
            [
             0.4444444444444444,
             "#bd3786"
            ],
            [
             0.5555555555555556,
             "#d8576b"
            ],
            [
             0.6666666666666666,
             "#ed7953"
            ],
            [
             0.7777777777777778,
             "#fb9f3a"
            ],
            [
             0.8888888888888888,
             "#fdca26"
            ],
            [
             1,
             "#f0f921"
            ]
           ]
          },
          "colorway": [
           "#636efa",
           "#EF553B",
           "#00cc96",
           "#ab63fa",
           "#FFA15A",
           "#19d3f3",
           "#FF6692",
           "#B6E880",
           "#FF97FF",
           "#FECB52"
          ],
          "font": {
           "color": "#2a3f5f"
          },
          "geo": {
           "bgcolor": "white",
           "lakecolor": "white",
           "landcolor": "#E5ECF6",
           "showlakes": true,
           "showland": true,
           "subunitcolor": "white"
          },
          "hoverlabel": {
           "align": "left"
          },
          "hovermode": "closest",
          "mapbox": {
           "style": "light"
          },
          "paper_bgcolor": "white",
          "plot_bgcolor": "#E5ECF6",
          "polar": {
           "angularaxis": {
            "gridcolor": "white",
            "linecolor": "white",
            "ticks": ""
           },
           "bgcolor": "#E5ECF6",
           "radialaxis": {
            "gridcolor": "white",
            "linecolor": "white",
            "ticks": ""
           }
          },
          "scene": {
           "xaxis": {
            "backgroundcolor": "#E5ECF6",
            "gridcolor": "white",
            "gridwidth": 2,
            "linecolor": "white",
            "showbackground": true,
            "ticks": "",
            "zerolinecolor": "white"
           },
           "yaxis": {
            "backgroundcolor": "#E5ECF6",
            "gridcolor": "white",
            "gridwidth": 2,
            "linecolor": "white",
            "showbackground": true,
            "ticks": "",
            "zerolinecolor": "white"
           },
           "zaxis": {
            "backgroundcolor": "#E5ECF6",
            "gridcolor": "white",
            "gridwidth": 2,
            "linecolor": "white",
            "showbackground": true,
            "ticks": "",
            "zerolinecolor": "white"
           }
          },
          "shapedefaults": {
           "line": {
            "color": "#2a3f5f"
           }
          },
          "ternary": {
           "aaxis": {
            "gridcolor": "white",
            "linecolor": "white",
            "ticks": ""
           },
           "baxis": {
            "gridcolor": "white",
            "linecolor": "white",
            "ticks": ""
           },
           "bgcolor": "#E5ECF6",
           "caxis": {
            "gridcolor": "white",
            "linecolor": "white",
            "ticks": ""
           }
          },
          "title": {
           "x": 0.05
          },
          "xaxis": {
           "automargin": true,
           "gridcolor": "white",
           "linecolor": "white",
           "ticks": "",
           "zerolinecolor": "white",
           "zerolinewidth": 2
          },
          "yaxis": {
           "automargin": true,
           "gridcolor": "white",
           "linecolor": "white",
           "ticks": "",
           "zerolinecolor": "white",
           "zerolinewidth": 2
          }
         }
        }
       }
      },
      "text/html": [
       "<div>\n",
       "        \n",
       "        \n",
       "            <div id=\"f89fcdb8-6ef0-4870-b064-9c5d83d0cae3\" class=\"plotly-graph-div\" style=\"height:525px; width:100%;\"></div>\n",
       "            <script type=\"text/javascript\">\n",
       "                require([\"plotly\"], function(Plotly) {\n",
       "                    window.PLOTLYENV=window.PLOTLYENV || {};\n",
       "                    \n",
       "                if (document.getElementById(\"f89fcdb8-6ef0-4870-b064-9c5d83d0cae3\")) {\n",
       "                    Plotly.newPlot(\n",
       "                        'f89fcdb8-6ef0-4870-b064-9c5d83d0cae3',\n",
       "                        [{\"mode\": \"lines+markers\", \"type\": \"scatter\", \"x\": [0.0, 0.1, 0.2, 0.30000000000000004, 0.4, 0.5, 0.6000000000000001, 0.7000000000000001, 0.8, 0.9, 1.0], \"y\": [0.0, 0.0, 0.0, 0.0, 0.0, 0.0, 0.0, 0.0, 0.0, 0.0, 0.0]}],\n",
       "                        {\"template\": {\"data\": {\"bar\": [{\"error_x\": {\"color\": \"#2a3f5f\"}, \"error_y\": {\"color\": \"#2a3f5f\"}, \"marker\": {\"line\": {\"color\": \"#E5ECF6\", \"width\": 0.5}}, \"type\": \"bar\"}], \"barpolar\": [{\"marker\": {\"line\": {\"color\": \"#E5ECF6\", \"width\": 0.5}}, \"type\": \"barpolar\"}], \"carpet\": [{\"aaxis\": {\"endlinecolor\": \"#2a3f5f\", \"gridcolor\": \"white\", \"linecolor\": \"white\", \"minorgridcolor\": \"white\", \"startlinecolor\": \"#2a3f5f\"}, \"baxis\": {\"endlinecolor\": \"#2a3f5f\", \"gridcolor\": \"white\", \"linecolor\": \"white\", \"minorgridcolor\": \"white\", \"startlinecolor\": \"#2a3f5f\"}, \"type\": \"carpet\"}], \"choropleth\": [{\"colorbar\": {\"outlinewidth\": 0, \"ticks\": \"\"}, \"type\": \"choropleth\"}], \"contour\": [{\"colorbar\": {\"outlinewidth\": 0, \"ticks\": \"\"}, \"colorscale\": [[0.0, \"#0d0887\"], [0.1111111111111111, \"#46039f\"], [0.2222222222222222, \"#7201a8\"], [0.3333333333333333, \"#9c179e\"], [0.4444444444444444, \"#bd3786\"], [0.5555555555555556, \"#d8576b\"], [0.6666666666666666, \"#ed7953\"], [0.7777777777777778, \"#fb9f3a\"], [0.8888888888888888, \"#fdca26\"], [1.0, \"#f0f921\"]], \"type\": \"contour\"}], \"contourcarpet\": [{\"colorbar\": {\"outlinewidth\": 0, \"ticks\": \"\"}, \"type\": \"contourcarpet\"}], \"heatmap\": [{\"colorbar\": {\"outlinewidth\": 0, \"ticks\": \"\"}, \"colorscale\": [[0.0, \"#0d0887\"], [0.1111111111111111, \"#46039f\"], [0.2222222222222222, \"#7201a8\"], [0.3333333333333333, \"#9c179e\"], [0.4444444444444444, \"#bd3786\"], [0.5555555555555556, \"#d8576b\"], [0.6666666666666666, \"#ed7953\"], [0.7777777777777778, \"#fb9f3a\"], [0.8888888888888888, \"#fdca26\"], [1.0, \"#f0f921\"]], \"type\": \"heatmap\"}], \"heatmapgl\": [{\"colorbar\": {\"outlinewidth\": 0, \"ticks\": \"\"}, \"colorscale\": [[0.0, \"#0d0887\"], [0.1111111111111111, \"#46039f\"], [0.2222222222222222, \"#7201a8\"], [0.3333333333333333, \"#9c179e\"], [0.4444444444444444, \"#bd3786\"], [0.5555555555555556, \"#d8576b\"], [0.6666666666666666, \"#ed7953\"], [0.7777777777777778, \"#fb9f3a\"], [0.8888888888888888, \"#fdca26\"], [1.0, \"#f0f921\"]], \"type\": \"heatmapgl\"}], \"histogram\": [{\"marker\": {\"colorbar\": {\"outlinewidth\": 0, \"ticks\": \"\"}}, \"type\": \"histogram\"}], \"histogram2d\": [{\"colorbar\": {\"outlinewidth\": 0, \"ticks\": \"\"}, \"colorscale\": [[0.0, \"#0d0887\"], [0.1111111111111111, \"#46039f\"], [0.2222222222222222, \"#7201a8\"], [0.3333333333333333, \"#9c179e\"], [0.4444444444444444, \"#bd3786\"], [0.5555555555555556, \"#d8576b\"], [0.6666666666666666, \"#ed7953\"], [0.7777777777777778, \"#fb9f3a\"], [0.8888888888888888, \"#fdca26\"], [1.0, \"#f0f921\"]], \"type\": \"histogram2d\"}], \"histogram2dcontour\": [{\"colorbar\": {\"outlinewidth\": 0, \"ticks\": \"\"}, \"colorscale\": [[0.0, \"#0d0887\"], [0.1111111111111111, \"#46039f\"], [0.2222222222222222, \"#7201a8\"], [0.3333333333333333, \"#9c179e\"], [0.4444444444444444, \"#bd3786\"], [0.5555555555555556, \"#d8576b\"], [0.6666666666666666, \"#ed7953\"], [0.7777777777777778, \"#fb9f3a\"], [0.8888888888888888, \"#fdca26\"], [1.0, \"#f0f921\"]], \"type\": \"histogram2dcontour\"}], \"mesh3d\": [{\"colorbar\": {\"outlinewidth\": 0, \"ticks\": \"\"}, \"type\": \"mesh3d\"}], \"parcoords\": [{\"line\": {\"colorbar\": {\"outlinewidth\": 0, \"ticks\": \"\"}}, \"type\": \"parcoords\"}], \"scatter\": [{\"marker\": {\"colorbar\": {\"outlinewidth\": 0, \"ticks\": \"\"}}, \"type\": \"scatter\"}], \"scatter3d\": [{\"line\": {\"colorbar\": {\"outlinewidth\": 0, \"ticks\": \"\"}}, \"marker\": {\"colorbar\": {\"outlinewidth\": 0, \"ticks\": \"\"}}, \"type\": \"scatter3d\"}], \"scattercarpet\": [{\"marker\": {\"colorbar\": {\"outlinewidth\": 0, \"ticks\": \"\"}}, \"type\": \"scattercarpet\"}], \"scattergeo\": [{\"marker\": {\"colorbar\": {\"outlinewidth\": 0, \"ticks\": \"\"}}, \"type\": \"scattergeo\"}], \"scattergl\": [{\"marker\": {\"colorbar\": {\"outlinewidth\": 0, \"ticks\": \"\"}}, \"type\": \"scattergl\"}], \"scattermapbox\": [{\"marker\": {\"colorbar\": {\"outlinewidth\": 0, \"ticks\": \"\"}}, \"type\": \"scattermapbox\"}], \"scatterpolar\": [{\"marker\": {\"colorbar\": {\"outlinewidth\": 0, \"ticks\": \"\"}}, \"type\": \"scatterpolar\"}], \"scatterpolargl\": [{\"marker\": {\"colorbar\": {\"outlinewidth\": 0, \"ticks\": \"\"}}, \"type\": \"scatterpolargl\"}], \"scatterternary\": [{\"marker\": {\"colorbar\": {\"outlinewidth\": 0, \"ticks\": \"\"}}, \"type\": \"scatterternary\"}], \"surface\": [{\"colorbar\": {\"outlinewidth\": 0, \"ticks\": \"\"}, \"colorscale\": [[0.0, \"#0d0887\"], [0.1111111111111111, \"#46039f\"], [0.2222222222222222, \"#7201a8\"], [0.3333333333333333, \"#9c179e\"], [0.4444444444444444, \"#bd3786\"], [0.5555555555555556, \"#d8576b\"], [0.6666666666666666, \"#ed7953\"], [0.7777777777777778, \"#fb9f3a\"], [0.8888888888888888, \"#fdca26\"], [1.0, \"#f0f921\"]], \"type\": \"surface\"}], \"table\": [{\"cells\": {\"fill\": {\"color\": \"#EBF0F8\"}, \"line\": {\"color\": \"white\"}}, \"header\": {\"fill\": {\"color\": \"#C8D4E3\"}, \"line\": {\"color\": \"white\"}}, \"type\": \"table\"}]}, \"layout\": {\"annotationdefaults\": {\"arrowcolor\": \"#2a3f5f\", \"arrowhead\": 0, \"arrowwidth\": 1}, \"colorscale\": {\"diverging\": [[0, \"#8e0152\"], [0.1, \"#c51b7d\"], [0.2, \"#de77ae\"], [0.3, \"#f1b6da\"], [0.4, \"#fde0ef\"], [0.5, \"#f7f7f7\"], [0.6, \"#e6f5d0\"], [0.7, \"#b8e186\"], [0.8, \"#7fbc41\"], [0.9, \"#4d9221\"], [1, \"#276419\"]], \"sequential\": [[0.0, \"#0d0887\"], [0.1111111111111111, \"#46039f\"], [0.2222222222222222, \"#7201a8\"], [0.3333333333333333, \"#9c179e\"], [0.4444444444444444, \"#bd3786\"], [0.5555555555555556, \"#d8576b\"], [0.6666666666666666, \"#ed7953\"], [0.7777777777777778, \"#fb9f3a\"], [0.8888888888888888, \"#fdca26\"], [1.0, \"#f0f921\"]], \"sequentialminus\": [[0.0, \"#0d0887\"], [0.1111111111111111, \"#46039f\"], [0.2222222222222222, \"#7201a8\"], [0.3333333333333333, \"#9c179e\"], [0.4444444444444444, \"#bd3786\"], [0.5555555555555556, \"#d8576b\"], [0.6666666666666666, \"#ed7953\"], [0.7777777777777778, \"#fb9f3a\"], [0.8888888888888888, \"#fdca26\"], [1.0, \"#f0f921\"]]}, \"colorway\": [\"#636efa\", \"#EF553B\", \"#00cc96\", \"#ab63fa\", \"#FFA15A\", \"#19d3f3\", \"#FF6692\", \"#B6E880\", \"#FF97FF\", \"#FECB52\"], \"font\": {\"color\": \"#2a3f5f\"}, \"geo\": {\"bgcolor\": \"white\", \"lakecolor\": \"white\", \"landcolor\": \"#E5ECF6\", \"showlakes\": true, \"showland\": true, \"subunitcolor\": \"white\"}, \"hoverlabel\": {\"align\": \"left\"}, \"hovermode\": \"closest\", \"mapbox\": {\"style\": \"light\"}, \"paper_bgcolor\": \"white\", \"plot_bgcolor\": \"#E5ECF6\", \"polar\": {\"angularaxis\": {\"gridcolor\": \"white\", \"linecolor\": \"white\", \"ticks\": \"\"}, \"bgcolor\": \"#E5ECF6\", \"radialaxis\": {\"gridcolor\": \"white\", \"linecolor\": \"white\", \"ticks\": \"\"}}, \"scene\": {\"xaxis\": {\"backgroundcolor\": \"#E5ECF6\", \"gridcolor\": \"white\", \"gridwidth\": 2, \"linecolor\": \"white\", \"showbackground\": true, \"ticks\": \"\", \"zerolinecolor\": \"white\"}, \"yaxis\": {\"backgroundcolor\": \"#E5ECF6\", \"gridcolor\": \"white\", \"gridwidth\": 2, \"linecolor\": \"white\", \"showbackground\": true, \"ticks\": \"\", \"zerolinecolor\": \"white\"}, \"zaxis\": {\"backgroundcolor\": \"#E5ECF6\", \"gridcolor\": \"white\", \"gridwidth\": 2, \"linecolor\": \"white\", \"showbackground\": true, \"ticks\": \"\", \"zerolinecolor\": \"white\"}}, \"shapedefaults\": {\"line\": {\"color\": \"#2a3f5f\"}}, \"ternary\": {\"aaxis\": {\"gridcolor\": \"white\", \"linecolor\": \"white\", \"ticks\": \"\"}, \"baxis\": {\"gridcolor\": \"white\", \"linecolor\": \"white\", \"ticks\": \"\"}, \"bgcolor\": \"#E5ECF6\", \"caxis\": {\"gridcolor\": \"white\", \"linecolor\": \"white\", \"ticks\": \"\"}}, \"title\": {\"x\": 0.05}, \"xaxis\": {\"automargin\": true, \"gridcolor\": \"white\", \"linecolor\": \"white\", \"ticks\": \"\", \"zerolinecolor\": \"white\", \"zerolinewidth\": 2}, \"yaxis\": {\"automargin\": true, \"gridcolor\": \"white\", \"linecolor\": \"white\", \"ticks\": \"\", \"zerolinecolor\": \"white\", \"zerolinewidth\": 2}}}},\n",
       "                        {\"responsive\": true}\n",
       "                    ).then(function(){\n",
       "                            \n",
       "var gd = document.getElementById('f89fcdb8-6ef0-4870-b064-9c5d83d0cae3');\n",
       "var x = new MutationObserver(function (mutations, observer) {{\n",
       "        var display = window.getComputedStyle(gd).display;\n",
       "        if (!display || display === 'none') {{\n",
       "            console.log([gd, 'removed!']);\n",
       "            Plotly.purge(gd);\n",
       "            observer.disconnect();\n",
       "        }}\n",
       "}});\n",
       "\n",
       "// Listen for the removal of the full notebook cells\n",
       "var notebookContainer = gd.closest('#notebook-container');\n",
       "if (notebookContainer) {{\n",
       "    x.observe(notebookContainer, {childList: true});\n",
       "}}\n",
       "\n",
       "// Listen for the clearing of the current output cell\n",
       "var outputEl = gd.closest('.output');\n",
       "if (outputEl) {{\n",
       "    x.observe(outputEl, {childList: true});\n",
       "}}\n",
       "\n",
       "                        })\n",
       "                };\n",
       "                });\n",
       "            </script>\n",
       "        </div>"
      ]
     },
     "metadata": {},
     "output_type": "display_data"
    }
   ],
   "source": [
    "#domain\n",
    "omega = np.array([0, 1])\n",
    "\n",
    "#number of bases and elements\n",
    "n_elements = 10\n",
    "n_bases = n_elements + 1\n",
    "\n",
    "#segments\n",
    "s = np.linspace(omega[0], omega[1], num=n_elements+1)\n",
    "# s = np.cumsum(np.random.rand(n_elements+1))\n",
    "s = (s-s[0])/(s[-1]-s[0])\n",
    "\n",
    "#plot\n",
    "fig = go.Figure(data=[go.Scatter(x=s, y=np.zeros(s.shape), mode='lines+markers')])\n",
    "plotly.iplot(fig)"
   ]
  },
  {
   "cell_type": "markdown",
   "metadata": {
    "slideshow": {
     "slide_type": "slide"
    }
   },
   "source": [
    "We want to have interpolatory bases, so let's have value 1 over the node and 0 everywhere else"
   ]
  },
  {
   "cell_type": "code",
   "execution_count": 25,
   "metadata": {
    "slideshow": {
     "slide_type": "-"
    }
   },
   "outputs": [
    {
     "data": {
      "application/vnd.plotly.v1+json": {
       "config": {
        "linkText": "Export to plot.ly",
        "plotlyServerURL": "https://plot.ly",
        "showLink": false
       },
       "data": [
        {
         "mode": "lines+markers",
         "name": "$\\phi_{0}$",
         "type": "scatter",
         "x": [
          0,
          0.1,
          0.2,
          0.30000000000000004,
          0.4,
          0.5,
          0.6000000000000001,
          0.7000000000000001,
          0.8,
          0.9,
          1
         ],
         "y": [
          1,
          0,
          0,
          0,
          0,
          0,
          0,
          0,
          0,
          0,
          0
         ]
        },
        {
         "mode": "lines+markers",
         "name": "$\\phi_{1}$",
         "type": "scatter",
         "x": [
          0,
          0.1,
          0.2,
          0.30000000000000004,
          0.4,
          0.5,
          0.6000000000000001,
          0.7000000000000001,
          0.8,
          0.9,
          1
         ],
         "y": [
          0,
          1,
          0,
          0,
          0,
          0,
          0,
          0,
          0,
          0,
          0
         ]
        },
        {
         "mode": "lines+markers",
         "name": "$\\phi_{2}$",
         "type": "scatter",
         "x": [
          0,
          0.1,
          0.2,
          0.30000000000000004,
          0.4,
          0.5,
          0.6000000000000001,
          0.7000000000000001,
          0.8,
          0.9,
          1
         ],
         "y": [
          0,
          0,
          1,
          0,
          0,
          0,
          0,
          0,
          0,
          0,
          0
         ]
        },
        {
         "mode": "lines+markers",
         "name": "$\\phi_{3}$",
         "type": "scatter",
         "x": [
          0,
          0.1,
          0.2,
          0.30000000000000004,
          0.4,
          0.5,
          0.6000000000000001,
          0.7000000000000001,
          0.8,
          0.9,
          1
         ],
         "y": [
          0,
          0,
          0,
          1,
          0,
          0,
          0,
          0,
          0,
          0,
          0
         ]
        },
        {
         "mode": "lines+markers",
         "name": "$\\phi_{4}$",
         "type": "scatter",
         "x": [
          0,
          0.1,
          0.2,
          0.30000000000000004,
          0.4,
          0.5,
          0.6000000000000001,
          0.7000000000000001,
          0.8,
          0.9,
          1
         ],
         "y": [
          0,
          0,
          0,
          0,
          1,
          0,
          0,
          0,
          0,
          0,
          0
         ]
        },
        {
         "mode": "lines+markers",
         "name": "$\\phi_{5}$",
         "type": "scatter",
         "x": [
          0,
          0.1,
          0.2,
          0.30000000000000004,
          0.4,
          0.5,
          0.6000000000000001,
          0.7000000000000001,
          0.8,
          0.9,
          1
         ],
         "y": [
          0,
          0,
          0,
          0,
          0,
          1,
          0,
          0,
          0,
          0,
          0
         ]
        },
        {
         "mode": "lines+markers",
         "name": "$\\phi_{6}$",
         "type": "scatter",
         "x": [
          0,
          0.1,
          0.2,
          0.30000000000000004,
          0.4,
          0.5,
          0.6000000000000001,
          0.7000000000000001,
          0.8,
          0.9,
          1
         ],
         "y": [
          0,
          0,
          0,
          0,
          0,
          0,
          1,
          0,
          0,
          0,
          0
         ]
        },
        {
         "mode": "lines+markers",
         "name": "$\\phi_{7}$",
         "type": "scatter",
         "x": [
          0,
          0.1,
          0.2,
          0.30000000000000004,
          0.4,
          0.5,
          0.6000000000000001,
          0.7000000000000001,
          0.8,
          0.9,
          1
         ],
         "y": [
          0,
          0,
          0,
          0,
          0,
          0,
          0,
          1,
          0,
          0,
          0
         ]
        },
        {
         "mode": "lines+markers",
         "name": "$\\phi_{8}$",
         "type": "scatter",
         "x": [
          0,
          0.1,
          0.2,
          0.30000000000000004,
          0.4,
          0.5,
          0.6000000000000001,
          0.7000000000000001,
          0.8,
          0.9,
          1
         ],
         "y": [
          0,
          0,
          0,
          0,
          0,
          0,
          0,
          0,
          1,
          0,
          0
         ]
        },
        {
         "mode": "lines+markers",
         "name": "$\\phi_{9}$",
         "type": "scatter",
         "x": [
          0,
          0.1,
          0.2,
          0.30000000000000004,
          0.4,
          0.5,
          0.6000000000000001,
          0.7000000000000001,
          0.8,
          0.9,
          1
         ],
         "y": [
          0,
          0,
          0,
          0,
          0,
          0,
          0,
          0,
          0,
          1,
          0
         ]
        },
        {
         "mode": "lines+markers",
         "name": "$\\phi_{10}$",
         "type": "scatter",
         "x": [
          0,
          0.1,
          0.2,
          0.30000000000000004,
          0.4,
          0.5,
          0.6000000000000001,
          0.7000000000000001,
          0.8,
          0.9,
          1
         ],
         "y": [
          0,
          0,
          0,
          0,
          0,
          0,
          0,
          0,
          0,
          0,
          1
         ]
        }
       ],
       "layout": {
        "template": {
         "data": {
          "bar": [
           {
            "error_x": {
             "color": "#2a3f5f"
            },
            "error_y": {
             "color": "#2a3f5f"
            },
            "marker": {
             "line": {
              "color": "#E5ECF6",
              "width": 0.5
             }
            },
            "type": "bar"
           }
          ],
          "barpolar": [
           {
            "marker": {
             "line": {
              "color": "#E5ECF6",
              "width": 0.5
             }
            },
            "type": "barpolar"
           }
          ],
          "carpet": [
           {
            "aaxis": {
             "endlinecolor": "#2a3f5f",
             "gridcolor": "white",
             "linecolor": "white",
             "minorgridcolor": "white",
             "startlinecolor": "#2a3f5f"
            },
            "baxis": {
             "endlinecolor": "#2a3f5f",
             "gridcolor": "white",
             "linecolor": "white",
             "minorgridcolor": "white",
             "startlinecolor": "#2a3f5f"
            },
            "type": "carpet"
           }
          ],
          "choropleth": [
           {
            "colorbar": {
             "outlinewidth": 0,
             "ticks": ""
            },
            "type": "choropleth"
           }
          ],
          "contour": [
           {
            "colorbar": {
             "outlinewidth": 0,
             "ticks": ""
            },
            "colorscale": [
             [
              0,
              "#0d0887"
             ],
             [
              0.1111111111111111,
              "#46039f"
             ],
             [
              0.2222222222222222,
              "#7201a8"
             ],
             [
              0.3333333333333333,
              "#9c179e"
             ],
             [
              0.4444444444444444,
              "#bd3786"
             ],
             [
              0.5555555555555556,
              "#d8576b"
             ],
             [
              0.6666666666666666,
              "#ed7953"
             ],
             [
              0.7777777777777778,
              "#fb9f3a"
             ],
             [
              0.8888888888888888,
              "#fdca26"
             ],
             [
              1,
              "#f0f921"
             ]
            ],
            "type": "contour"
           }
          ],
          "contourcarpet": [
           {
            "colorbar": {
             "outlinewidth": 0,
             "ticks": ""
            },
            "type": "contourcarpet"
           }
          ],
          "heatmap": [
           {
            "colorbar": {
             "outlinewidth": 0,
             "ticks": ""
            },
            "colorscale": [
             [
              0,
              "#0d0887"
             ],
             [
              0.1111111111111111,
              "#46039f"
             ],
             [
              0.2222222222222222,
              "#7201a8"
             ],
             [
              0.3333333333333333,
              "#9c179e"
             ],
             [
              0.4444444444444444,
              "#bd3786"
             ],
             [
              0.5555555555555556,
              "#d8576b"
             ],
             [
              0.6666666666666666,
              "#ed7953"
             ],
             [
              0.7777777777777778,
              "#fb9f3a"
             ],
             [
              0.8888888888888888,
              "#fdca26"
             ],
             [
              1,
              "#f0f921"
             ]
            ],
            "type": "heatmap"
           }
          ],
          "heatmapgl": [
           {
            "colorbar": {
             "outlinewidth": 0,
             "ticks": ""
            },
            "colorscale": [
             [
              0,
              "#0d0887"
             ],
             [
              0.1111111111111111,
              "#46039f"
             ],
             [
              0.2222222222222222,
              "#7201a8"
             ],
             [
              0.3333333333333333,
              "#9c179e"
             ],
             [
              0.4444444444444444,
              "#bd3786"
             ],
             [
              0.5555555555555556,
              "#d8576b"
             ],
             [
              0.6666666666666666,
              "#ed7953"
             ],
             [
              0.7777777777777778,
              "#fb9f3a"
             ],
             [
              0.8888888888888888,
              "#fdca26"
             ],
             [
              1,
              "#f0f921"
             ]
            ],
            "type": "heatmapgl"
           }
          ],
          "histogram": [
           {
            "marker": {
             "colorbar": {
              "outlinewidth": 0,
              "ticks": ""
             }
            },
            "type": "histogram"
           }
          ],
          "histogram2d": [
           {
            "colorbar": {
             "outlinewidth": 0,
             "ticks": ""
            },
            "colorscale": [
             [
              0,
              "#0d0887"
             ],
             [
              0.1111111111111111,
              "#46039f"
             ],
             [
              0.2222222222222222,
              "#7201a8"
             ],
             [
              0.3333333333333333,
              "#9c179e"
             ],
             [
              0.4444444444444444,
              "#bd3786"
             ],
             [
              0.5555555555555556,
              "#d8576b"
             ],
             [
              0.6666666666666666,
              "#ed7953"
             ],
             [
              0.7777777777777778,
              "#fb9f3a"
             ],
             [
              0.8888888888888888,
              "#fdca26"
             ],
             [
              1,
              "#f0f921"
             ]
            ],
            "type": "histogram2d"
           }
          ],
          "histogram2dcontour": [
           {
            "colorbar": {
             "outlinewidth": 0,
             "ticks": ""
            },
            "colorscale": [
             [
              0,
              "#0d0887"
             ],
             [
              0.1111111111111111,
              "#46039f"
             ],
             [
              0.2222222222222222,
              "#7201a8"
             ],
             [
              0.3333333333333333,
              "#9c179e"
             ],
             [
              0.4444444444444444,
              "#bd3786"
             ],
             [
              0.5555555555555556,
              "#d8576b"
             ],
             [
              0.6666666666666666,
              "#ed7953"
             ],
             [
              0.7777777777777778,
              "#fb9f3a"
             ],
             [
              0.8888888888888888,
              "#fdca26"
             ],
             [
              1,
              "#f0f921"
             ]
            ],
            "type": "histogram2dcontour"
           }
          ],
          "mesh3d": [
           {
            "colorbar": {
             "outlinewidth": 0,
             "ticks": ""
            },
            "type": "mesh3d"
           }
          ],
          "parcoords": [
           {
            "line": {
             "colorbar": {
              "outlinewidth": 0,
              "ticks": ""
             }
            },
            "type": "parcoords"
           }
          ],
          "scatter": [
           {
            "marker": {
             "colorbar": {
              "outlinewidth": 0,
              "ticks": ""
             }
            },
            "type": "scatter"
           }
          ],
          "scatter3d": [
           {
            "line": {
             "colorbar": {
              "outlinewidth": 0,
              "ticks": ""
             }
            },
            "marker": {
             "colorbar": {
              "outlinewidth": 0,
              "ticks": ""
             }
            },
            "type": "scatter3d"
           }
          ],
          "scattercarpet": [
           {
            "marker": {
             "colorbar": {
              "outlinewidth": 0,
              "ticks": ""
             }
            },
            "type": "scattercarpet"
           }
          ],
          "scattergeo": [
           {
            "marker": {
             "colorbar": {
              "outlinewidth": 0,
              "ticks": ""
             }
            },
            "type": "scattergeo"
           }
          ],
          "scattergl": [
           {
            "marker": {
             "colorbar": {
              "outlinewidth": 0,
              "ticks": ""
             }
            },
            "type": "scattergl"
           }
          ],
          "scattermapbox": [
           {
            "marker": {
             "colorbar": {
              "outlinewidth": 0,
              "ticks": ""
             }
            },
            "type": "scattermapbox"
           }
          ],
          "scatterpolar": [
           {
            "marker": {
             "colorbar": {
              "outlinewidth": 0,
              "ticks": ""
             }
            },
            "type": "scatterpolar"
           }
          ],
          "scatterpolargl": [
           {
            "marker": {
             "colorbar": {
              "outlinewidth": 0,
              "ticks": ""
             }
            },
            "type": "scatterpolargl"
           }
          ],
          "scatterternary": [
           {
            "marker": {
             "colorbar": {
              "outlinewidth": 0,
              "ticks": ""
             }
            },
            "type": "scatterternary"
           }
          ],
          "surface": [
           {
            "colorbar": {
             "outlinewidth": 0,
             "ticks": ""
            },
            "colorscale": [
             [
              0,
              "#0d0887"
             ],
             [
              0.1111111111111111,
              "#46039f"
             ],
             [
              0.2222222222222222,
              "#7201a8"
             ],
             [
              0.3333333333333333,
              "#9c179e"
             ],
             [
              0.4444444444444444,
              "#bd3786"
             ],
             [
              0.5555555555555556,
              "#d8576b"
             ],
             [
              0.6666666666666666,
              "#ed7953"
             ],
             [
              0.7777777777777778,
              "#fb9f3a"
             ],
             [
              0.8888888888888888,
              "#fdca26"
             ],
             [
              1,
              "#f0f921"
             ]
            ],
            "type": "surface"
           }
          ],
          "table": [
           {
            "cells": {
             "fill": {
              "color": "#EBF0F8"
             },
             "line": {
              "color": "white"
             }
            },
            "header": {
             "fill": {
              "color": "#C8D4E3"
             },
             "line": {
              "color": "white"
             }
            },
            "type": "table"
           }
          ]
         },
         "layout": {
          "annotationdefaults": {
           "arrowcolor": "#2a3f5f",
           "arrowhead": 0,
           "arrowwidth": 1
          },
          "colorscale": {
           "diverging": [
            [
             0,
             "#8e0152"
            ],
            [
             0.1,
             "#c51b7d"
            ],
            [
             0.2,
             "#de77ae"
            ],
            [
             0.3,
             "#f1b6da"
            ],
            [
             0.4,
             "#fde0ef"
            ],
            [
             0.5,
             "#f7f7f7"
            ],
            [
             0.6,
             "#e6f5d0"
            ],
            [
             0.7,
             "#b8e186"
            ],
            [
             0.8,
             "#7fbc41"
            ],
            [
             0.9,
             "#4d9221"
            ],
            [
             1,
             "#276419"
            ]
           ],
           "sequential": [
            [
             0,
             "#0d0887"
            ],
            [
             0.1111111111111111,
             "#46039f"
            ],
            [
             0.2222222222222222,
             "#7201a8"
            ],
            [
             0.3333333333333333,
             "#9c179e"
            ],
            [
             0.4444444444444444,
             "#bd3786"
            ],
            [
             0.5555555555555556,
             "#d8576b"
            ],
            [
             0.6666666666666666,
             "#ed7953"
            ],
            [
             0.7777777777777778,
             "#fb9f3a"
            ],
            [
             0.8888888888888888,
             "#fdca26"
            ],
            [
             1,
             "#f0f921"
            ]
           ],
           "sequentialminus": [
            [
             0,
             "#0d0887"
            ],
            [
             0.1111111111111111,
             "#46039f"
            ],
            [
             0.2222222222222222,
             "#7201a8"
            ],
            [
             0.3333333333333333,
             "#9c179e"
            ],
            [
             0.4444444444444444,
             "#bd3786"
            ],
            [
             0.5555555555555556,
             "#d8576b"
            ],
            [
             0.6666666666666666,
             "#ed7953"
            ],
            [
             0.7777777777777778,
             "#fb9f3a"
            ],
            [
             0.8888888888888888,
             "#fdca26"
            ],
            [
             1,
             "#f0f921"
            ]
           ]
          },
          "colorway": [
           "#636efa",
           "#EF553B",
           "#00cc96",
           "#ab63fa",
           "#FFA15A",
           "#19d3f3",
           "#FF6692",
           "#B6E880",
           "#FF97FF",
           "#FECB52"
          ],
          "font": {
           "color": "#2a3f5f"
          },
          "geo": {
           "bgcolor": "white",
           "lakecolor": "white",
           "landcolor": "#E5ECF6",
           "showlakes": true,
           "showland": true,
           "subunitcolor": "white"
          },
          "hoverlabel": {
           "align": "left"
          },
          "hovermode": "closest",
          "mapbox": {
           "style": "light"
          },
          "paper_bgcolor": "white",
          "plot_bgcolor": "#E5ECF6",
          "polar": {
           "angularaxis": {
            "gridcolor": "white",
            "linecolor": "white",
            "ticks": ""
           },
           "bgcolor": "#E5ECF6",
           "radialaxis": {
            "gridcolor": "white",
            "linecolor": "white",
            "ticks": ""
           }
          },
          "scene": {
           "xaxis": {
            "backgroundcolor": "#E5ECF6",
            "gridcolor": "white",
            "gridwidth": 2,
            "linecolor": "white",
            "showbackground": true,
            "ticks": "",
            "zerolinecolor": "white"
           },
           "yaxis": {
            "backgroundcolor": "#E5ECF6",
            "gridcolor": "white",
            "gridwidth": 2,
            "linecolor": "white",
            "showbackground": true,
            "ticks": "",
            "zerolinecolor": "white"
           },
           "zaxis": {
            "backgroundcolor": "#E5ECF6",
            "gridcolor": "white",
            "gridwidth": 2,
            "linecolor": "white",
            "showbackground": true,
            "ticks": "",
            "zerolinecolor": "white"
           }
          },
          "shapedefaults": {
           "line": {
            "color": "#2a3f5f"
           }
          },
          "ternary": {
           "aaxis": {
            "gridcolor": "white",
            "linecolor": "white",
            "ticks": ""
           },
           "baxis": {
            "gridcolor": "white",
            "linecolor": "white",
            "ticks": ""
           },
           "bgcolor": "#E5ECF6",
           "caxis": {
            "gridcolor": "white",
            "linecolor": "white",
            "ticks": ""
           }
          },
          "title": {
           "x": 0.05
          },
          "xaxis": {
           "automargin": true,
           "gridcolor": "white",
           "linecolor": "white",
           "ticks": "",
           "zerolinecolor": "white",
           "zerolinewidth": 2
          },
          "yaxis": {
           "automargin": true,
           "gridcolor": "white",
           "linecolor": "white",
           "ticks": "",
           "zerolinecolor": "white",
           "zerolinewidth": 2
          }
         }
        }
       }
      },
      "text/html": [
       "<div>\n",
       "        \n",
       "        \n",
       "            <div id=\"d480dc43-f976-4ef7-a621-9e8d57b31870\" class=\"plotly-graph-div\" style=\"height:525px; width:100%;\"></div>\n",
       "            <script type=\"text/javascript\">\n",
       "                require([\"plotly\"], function(Plotly) {\n",
       "                    window.PLOTLYENV=window.PLOTLYENV || {};\n",
       "                    \n",
       "                if (document.getElementById(\"d480dc43-f976-4ef7-a621-9e8d57b31870\")) {\n",
       "                    Plotly.newPlot(\n",
       "                        'd480dc43-f976-4ef7-a621-9e8d57b31870',\n",
       "                        [{\"mode\": \"lines+markers\", \"name\": \"$\\\\phi_{0}$\", \"type\": \"scatter\", \"x\": [0.0, 0.1, 0.2, 0.30000000000000004, 0.4, 0.5, 0.6000000000000001, 0.7000000000000001, 0.8, 0.9, 1.0], \"y\": [1.0, 0.0, 0.0, 0.0, 0.0, 0.0, 0.0, 0.0, 0.0, 0.0, 0.0]}, {\"mode\": \"lines+markers\", \"name\": \"$\\\\phi_{1}$\", \"type\": \"scatter\", \"x\": [0.0, 0.1, 0.2, 0.30000000000000004, 0.4, 0.5, 0.6000000000000001, 0.7000000000000001, 0.8, 0.9, 1.0], \"y\": [0.0, 1.0, 0.0, 0.0, 0.0, 0.0, 0.0, 0.0, 0.0, 0.0, 0.0]}, {\"mode\": \"lines+markers\", \"name\": \"$\\\\phi_{2}$\", \"type\": \"scatter\", \"x\": [0.0, 0.1, 0.2, 0.30000000000000004, 0.4, 0.5, 0.6000000000000001, 0.7000000000000001, 0.8, 0.9, 1.0], \"y\": [0.0, 0.0, 1.0, 0.0, 0.0, 0.0, 0.0, 0.0, 0.0, 0.0, 0.0]}, {\"mode\": \"lines+markers\", \"name\": \"$\\\\phi_{3}$\", \"type\": \"scatter\", \"x\": [0.0, 0.1, 0.2, 0.30000000000000004, 0.4, 0.5, 0.6000000000000001, 0.7000000000000001, 0.8, 0.9, 1.0], \"y\": [0.0, 0.0, 0.0, 1.0, 0.0, 0.0, 0.0, 0.0, 0.0, 0.0, 0.0]}, {\"mode\": \"lines+markers\", \"name\": \"$\\\\phi_{4}$\", \"type\": \"scatter\", \"x\": [0.0, 0.1, 0.2, 0.30000000000000004, 0.4, 0.5, 0.6000000000000001, 0.7000000000000001, 0.8, 0.9, 1.0], \"y\": [0.0, 0.0, 0.0, 0.0, 1.0, 0.0, 0.0, 0.0, 0.0, 0.0, 0.0]}, {\"mode\": \"lines+markers\", \"name\": \"$\\\\phi_{5}$\", \"type\": \"scatter\", \"x\": [0.0, 0.1, 0.2, 0.30000000000000004, 0.4, 0.5, 0.6000000000000001, 0.7000000000000001, 0.8, 0.9, 1.0], \"y\": [0.0, 0.0, 0.0, 0.0, 0.0, 1.0, 0.0, 0.0, 0.0, 0.0, 0.0]}, {\"mode\": \"lines+markers\", \"name\": \"$\\\\phi_{6}$\", \"type\": \"scatter\", \"x\": [0.0, 0.1, 0.2, 0.30000000000000004, 0.4, 0.5, 0.6000000000000001, 0.7000000000000001, 0.8, 0.9, 1.0], \"y\": [0.0, 0.0, 0.0, 0.0, 0.0, 0.0, 1.0, 0.0, 0.0, 0.0, 0.0]}, {\"mode\": \"lines+markers\", \"name\": \"$\\\\phi_{7}$\", \"type\": \"scatter\", \"x\": [0.0, 0.1, 0.2, 0.30000000000000004, 0.4, 0.5, 0.6000000000000001, 0.7000000000000001, 0.8, 0.9, 1.0], \"y\": [0.0, 0.0, 0.0, 0.0, 0.0, 0.0, 0.0, 1.0, 0.0, 0.0, 0.0]}, {\"mode\": \"lines+markers\", \"name\": \"$\\\\phi_{8}$\", \"type\": \"scatter\", \"x\": [0.0, 0.1, 0.2, 0.30000000000000004, 0.4, 0.5, 0.6000000000000001, 0.7000000000000001, 0.8, 0.9, 1.0], \"y\": [0.0, 0.0, 0.0, 0.0, 0.0, 0.0, 0.0, 0.0, 1.0, 0.0, 0.0]}, {\"mode\": \"lines+markers\", \"name\": \"$\\\\phi_{9}$\", \"type\": \"scatter\", \"x\": [0.0, 0.1, 0.2, 0.30000000000000004, 0.4, 0.5, 0.6000000000000001, 0.7000000000000001, 0.8, 0.9, 1.0], \"y\": [0.0, 0.0, 0.0, 0.0, 0.0, 0.0, 0.0, 0.0, 0.0, 1.0, 0.0]}, {\"mode\": \"lines+markers\", \"name\": \"$\\\\phi_{10}$\", \"type\": \"scatter\", \"x\": [0.0, 0.1, 0.2, 0.30000000000000004, 0.4, 0.5, 0.6000000000000001, 0.7000000000000001, 0.8, 0.9, 1.0], \"y\": [0.0, 0.0, 0.0, 0.0, 0.0, 0.0, 0.0, 0.0, 0.0, 0.0, 1.0]}],\n",
       "                        {\"template\": {\"data\": {\"bar\": [{\"error_x\": {\"color\": \"#2a3f5f\"}, \"error_y\": {\"color\": \"#2a3f5f\"}, \"marker\": {\"line\": {\"color\": \"#E5ECF6\", \"width\": 0.5}}, \"type\": \"bar\"}], \"barpolar\": [{\"marker\": {\"line\": {\"color\": \"#E5ECF6\", \"width\": 0.5}}, \"type\": \"barpolar\"}], \"carpet\": [{\"aaxis\": {\"endlinecolor\": \"#2a3f5f\", \"gridcolor\": \"white\", \"linecolor\": \"white\", \"minorgridcolor\": \"white\", \"startlinecolor\": \"#2a3f5f\"}, \"baxis\": {\"endlinecolor\": \"#2a3f5f\", \"gridcolor\": \"white\", \"linecolor\": \"white\", \"minorgridcolor\": \"white\", \"startlinecolor\": \"#2a3f5f\"}, \"type\": \"carpet\"}], \"choropleth\": [{\"colorbar\": {\"outlinewidth\": 0, \"ticks\": \"\"}, \"type\": \"choropleth\"}], \"contour\": [{\"colorbar\": {\"outlinewidth\": 0, \"ticks\": \"\"}, \"colorscale\": [[0.0, \"#0d0887\"], [0.1111111111111111, \"#46039f\"], [0.2222222222222222, \"#7201a8\"], [0.3333333333333333, \"#9c179e\"], [0.4444444444444444, \"#bd3786\"], [0.5555555555555556, \"#d8576b\"], [0.6666666666666666, \"#ed7953\"], [0.7777777777777778, \"#fb9f3a\"], [0.8888888888888888, \"#fdca26\"], [1.0, \"#f0f921\"]], \"type\": \"contour\"}], \"contourcarpet\": [{\"colorbar\": {\"outlinewidth\": 0, \"ticks\": \"\"}, \"type\": \"contourcarpet\"}], \"heatmap\": [{\"colorbar\": {\"outlinewidth\": 0, \"ticks\": \"\"}, \"colorscale\": [[0.0, \"#0d0887\"], [0.1111111111111111, \"#46039f\"], [0.2222222222222222, \"#7201a8\"], [0.3333333333333333, \"#9c179e\"], [0.4444444444444444, \"#bd3786\"], [0.5555555555555556, \"#d8576b\"], [0.6666666666666666, \"#ed7953\"], [0.7777777777777778, \"#fb9f3a\"], [0.8888888888888888, \"#fdca26\"], [1.0, \"#f0f921\"]], \"type\": \"heatmap\"}], \"heatmapgl\": [{\"colorbar\": {\"outlinewidth\": 0, \"ticks\": \"\"}, \"colorscale\": [[0.0, \"#0d0887\"], [0.1111111111111111, \"#46039f\"], [0.2222222222222222, \"#7201a8\"], [0.3333333333333333, \"#9c179e\"], [0.4444444444444444, \"#bd3786\"], [0.5555555555555556, \"#d8576b\"], [0.6666666666666666, \"#ed7953\"], [0.7777777777777778, \"#fb9f3a\"], [0.8888888888888888, \"#fdca26\"], [1.0, \"#f0f921\"]], \"type\": \"heatmapgl\"}], \"histogram\": [{\"marker\": {\"colorbar\": {\"outlinewidth\": 0, \"ticks\": \"\"}}, \"type\": \"histogram\"}], \"histogram2d\": [{\"colorbar\": {\"outlinewidth\": 0, \"ticks\": \"\"}, \"colorscale\": [[0.0, \"#0d0887\"], [0.1111111111111111, \"#46039f\"], [0.2222222222222222, \"#7201a8\"], [0.3333333333333333, \"#9c179e\"], [0.4444444444444444, \"#bd3786\"], [0.5555555555555556, \"#d8576b\"], [0.6666666666666666, \"#ed7953\"], [0.7777777777777778, \"#fb9f3a\"], [0.8888888888888888, \"#fdca26\"], [1.0, \"#f0f921\"]], \"type\": \"histogram2d\"}], \"histogram2dcontour\": [{\"colorbar\": {\"outlinewidth\": 0, \"ticks\": \"\"}, \"colorscale\": [[0.0, \"#0d0887\"], [0.1111111111111111, \"#46039f\"], [0.2222222222222222, \"#7201a8\"], [0.3333333333333333, \"#9c179e\"], [0.4444444444444444, \"#bd3786\"], [0.5555555555555556, \"#d8576b\"], [0.6666666666666666, \"#ed7953\"], [0.7777777777777778, \"#fb9f3a\"], [0.8888888888888888, \"#fdca26\"], [1.0, \"#f0f921\"]], \"type\": \"histogram2dcontour\"}], \"mesh3d\": [{\"colorbar\": {\"outlinewidth\": 0, \"ticks\": \"\"}, \"type\": \"mesh3d\"}], \"parcoords\": [{\"line\": {\"colorbar\": {\"outlinewidth\": 0, \"ticks\": \"\"}}, \"type\": \"parcoords\"}], \"scatter\": [{\"marker\": {\"colorbar\": {\"outlinewidth\": 0, \"ticks\": \"\"}}, \"type\": \"scatter\"}], \"scatter3d\": [{\"line\": {\"colorbar\": {\"outlinewidth\": 0, \"ticks\": \"\"}}, \"marker\": {\"colorbar\": {\"outlinewidth\": 0, \"ticks\": \"\"}}, \"type\": \"scatter3d\"}], \"scattercarpet\": [{\"marker\": {\"colorbar\": {\"outlinewidth\": 0, \"ticks\": \"\"}}, \"type\": \"scattercarpet\"}], \"scattergeo\": [{\"marker\": {\"colorbar\": {\"outlinewidth\": 0, \"ticks\": \"\"}}, \"type\": \"scattergeo\"}], \"scattergl\": [{\"marker\": {\"colorbar\": {\"outlinewidth\": 0, \"ticks\": \"\"}}, \"type\": \"scattergl\"}], \"scattermapbox\": [{\"marker\": {\"colorbar\": {\"outlinewidth\": 0, \"ticks\": \"\"}}, \"type\": \"scattermapbox\"}], \"scatterpolar\": [{\"marker\": {\"colorbar\": {\"outlinewidth\": 0, \"ticks\": \"\"}}, \"type\": \"scatterpolar\"}], \"scatterpolargl\": [{\"marker\": {\"colorbar\": {\"outlinewidth\": 0, \"ticks\": \"\"}}, \"type\": \"scatterpolargl\"}], \"scatterternary\": [{\"marker\": {\"colorbar\": {\"outlinewidth\": 0, \"ticks\": \"\"}}, \"type\": \"scatterternary\"}], \"surface\": [{\"colorbar\": {\"outlinewidth\": 0, \"ticks\": \"\"}, \"colorscale\": [[0.0, \"#0d0887\"], [0.1111111111111111, \"#46039f\"], [0.2222222222222222, \"#7201a8\"], [0.3333333333333333, \"#9c179e\"], [0.4444444444444444, \"#bd3786\"], [0.5555555555555556, \"#d8576b\"], [0.6666666666666666, \"#ed7953\"], [0.7777777777777778, \"#fb9f3a\"], [0.8888888888888888, \"#fdca26\"], [1.0, \"#f0f921\"]], \"type\": \"surface\"}], \"table\": [{\"cells\": {\"fill\": {\"color\": \"#EBF0F8\"}, \"line\": {\"color\": \"white\"}}, \"header\": {\"fill\": {\"color\": \"#C8D4E3\"}, \"line\": {\"color\": \"white\"}}, \"type\": \"table\"}]}, \"layout\": {\"annotationdefaults\": {\"arrowcolor\": \"#2a3f5f\", \"arrowhead\": 0, \"arrowwidth\": 1}, \"colorscale\": {\"diverging\": [[0, \"#8e0152\"], [0.1, \"#c51b7d\"], [0.2, \"#de77ae\"], [0.3, \"#f1b6da\"], [0.4, \"#fde0ef\"], [0.5, \"#f7f7f7\"], [0.6, \"#e6f5d0\"], [0.7, \"#b8e186\"], [0.8, \"#7fbc41\"], [0.9, \"#4d9221\"], [1, \"#276419\"]], \"sequential\": [[0.0, \"#0d0887\"], [0.1111111111111111, \"#46039f\"], [0.2222222222222222, \"#7201a8\"], [0.3333333333333333, \"#9c179e\"], [0.4444444444444444, \"#bd3786\"], [0.5555555555555556, \"#d8576b\"], [0.6666666666666666, \"#ed7953\"], [0.7777777777777778, \"#fb9f3a\"], [0.8888888888888888, \"#fdca26\"], [1.0, \"#f0f921\"]], \"sequentialminus\": [[0.0, \"#0d0887\"], [0.1111111111111111, \"#46039f\"], [0.2222222222222222, \"#7201a8\"], [0.3333333333333333, \"#9c179e\"], [0.4444444444444444, \"#bd3786\"], [0.5555555555555556, \"#d8576b\"], [0.6666666666666666, \"#ed7953\"], [0.7777777777777778, \"#fb9f3a\"], [0.8888888888888888, \"#fdca26\"], [1.0, \"#f0f921\"]]}, \"colorway\": [\"#636efa\", \"#EF553B\", \"#00cc96\", \"#ab63fa\", \"#FFA15A\", \"#19d3f3\", \"#FF6692\", \"#B6E880\", \"#FF97FF\", \"#FECB52\"], \"font\": {\"color\": \"#2a3f5f\"}, \"geo\": {\"bgcolor\": \"white\", \"lakecolor\": \"white\", \"landcolor\": \"#E5ECF6\", \"showlakes\": true, \"showland\": true, \"subunitcolor\": \"white\"}, \"hoverlabel\": {\"align\": \"left\"}, \"hovermode\": \"closest\", \"mapbox\": {\"style\": \"light\"}, \"paper_bgcolor\": \"white\", \"plot_bgcolor\": \"#E5ECF6\", \"polar\": {\"angularaxis\": {\"gridcolor\": \"white\", \"linecolor\": \"white\", \"ticks\": \"\"}, \"bgcolor\": \"#E5ECF6\", \"radialaxis\": {\"gridcolor\": \"white\", \"linecolor\": \"white\", \"ticks\": \"\"}}, \"scene\": {\"xaxis\": {\"backgroundcolor\": \"#E5ECF6\", \"gridcolor\": \"white\", \"gridwidth\": 2, \"linecolor\": \"white\", \"showbackground\": true, \"ticks\": \"\", \"zerolinecolor\": \"white\"}, \"yaxis\": {\"backgroundcolor\": \"#E5ECF6\", \"gridcolor\": \"white\", \"gridwidth\": 2, \"linecolor\": \"white\", \"showbackground\": true, \"ticks\": \"\", \"zerolinecolor\": \"white\"}, \"zaxis\": {\"backgroundcolor\": \"#E5ECF6\", \"gridcolor\": \"white\", \"gridwidth\": 2, \"linecolor\": \"white\", \"showbackground\": true, \"ticks\": \"\", \"zerolinecolor\": \"white\"}}, \"shapedefaults\": {\"line\": {\"color\": \"#2a3f5f\"}}, \"ternary\": {\"aaxis\": {\"gridcolor\": \"white\", \"linecolor\": \"white\", \"ticks\": \"\"}, \"baxis\": {\"gridcolor\": \"white\", \"linecolor\": \"white\", \"ticks\": \"\"}, \"bgcolor\": \"#E5ECF6\", \"caxis\": {\"gridcolor\": \"white\", \"linecolor\": \"white\", \"ticks\": \"\"}}, \"title\": {\"x\": 0.05}, \"xaxis\": {\"automargin\": true, \"gridcolor\": \"white\", \"linecolor\": \"white\", \"ticks\": \"\", \"zerolinecolor\": \"white\", \"zerolinewidth\": 2}, \"yaxis\": {\"automargin\": true, \"gridcolor\": \"white\", \"linecolor\": \"white\", \"ticks\": \"\", \"zerolinecolor\": \"white\", \"zerolinewidth\": 2}}}},\n",
       "                        {\"responsive\": true}\n",
       "                    ).then(function(){\n",
       "                            \n",
       "var gd = document.getElementById('d480dc43-f976-4ef7-a621-9e8d57b31870');\n",
       "var x = new MutationObserver(function (mutations, observer) {{\n",
       "        var display = window.getComputedStyle(gd).display;\n",
       "        if (!display || display === 'none') {{\n",
       "            console.log([gd, 'removed!']);\n",
       "            Plotly.purge(gd);\n",
       "            observer.disconnect();\n",
       "        }}\n",
       "}});\n",
       "\n",
       "// Listen for the removal of the full notebook cells\n",
       "var notebookContainer = gd.closest('#notebook-container');\n",
       "if (notebookContainer) {{\n",
       "    x.observe(notebookContainer, {childList: true});\n",
       "}}\n",
       "\n",
       "// Listen for the clearing of the current output cell\n",
       "var outputEl = gd.closest('.output');\n",
       "if (outputEl) {{\n",
       "    x.observe(outputEl, {childList: true});\n",
       "}}\n",
       "\n",
       "                        })\n",
       "                };\n",
       "                });\n",
       "            </script>\n",
       "        </div>"
      ]
     },
     "metadata": {},
     "output_type": "display_data"
    }
   ],
   "source": [
    "phis = []\n",
    "\n",
    "for i in range(n_bases):\n",
    "    phi = np.zeros(s.shape)\n",
    "    phi[i] = 1\n",
    "    phis.append(go.Scatter(x=s, y=phi, mode='lines+markers', name=\"$\\phi_{{{}}}$\".format(i)))\n",
    "\n",
    "fig = go.Figure(data=phis)\n",
    "plotly.iplot(fig)"
   ]
  },
  {
   "cell_type": "markdown",
   "metadata": {
    "slideshow": {
     "slide_type": "slide"
    }
   },
   "source": [
    "# Local bases"
   ]
  },
  {
   "cell_type": "markdown",
   "metadata": {
    "slideshow": {
     "slide_type": "-"
    }
   },
   "source": [
    "We want to localize the bases, since every piece looks similar.\n",
    "\n",
    "For simplicity we define the **reference element** $\\hat s= [0, 1]$, a segment of unit length."
   ]
  },
  {
   "cell_type": "markdown",
   "metadata": {
    "slideshow": {
     "slide_type": "fragment"
    }
   },
   "source": [
    "On each element we have only 2 **non-zero** local bases. We define their \"pieces\" on $\\hat s$."
   ]
  },
  {
   "cell_type": "code",
   "execution_count": 4,
   "metadata": {
    "slideshow": {
     "slide_type": "fragment"
    }
   },
   "outputs": [],
   "source": [
    "#definition of bases\n",
    "def hat_phi0(x):\n",
    "    return 1-x\n",
    "def hat_phi1(x):\n",
    "    return x"
   ]
  },
  {
   "cell_type": "markdown",
   "metadata": {
    "slideshow": {
     "slide_type": "slide"
    }
   },
   "source": [
    "We can now plot the two bases"
   ]
  },
  {
   "cell_type": "code",
   "execution_count": 5,
   "metadata": {},
   "outputs": [
    {
     "data": {
      "application/vnd.plotly.v1+json": {
       "config": {
        "linkText": "Export to plot.ly",
        "plotlyServerURL": "https://plot.ly",
        "showLink": false
       },
       "data": [
        {
         "mode": "lines",
         "name": "$\\hat\\phi_0$",
         "type": "scatter",
         "x": [
          0,
          0.02040816326530612,
          0.04081632653061224,
          0.061224489795918366,
          0.08163265306122448,
          0.1020408163265306,
          0.12244897959183673,
          0.14285714285714285,
          0.16326530612244897,
          0.18367346938775508,
          0.2040816326530612,
          0.22448979591836732,
          0.24489795918367346,
          0.26530612244897955,
          0.2857142857142857,
          0.3061224489795918,
          0.32653061224489793,
          0.3469387755102041,
          0.36734693877551017,
          0.3877551020408163,
          0.4081632653061224,
          0.42857142857142855,
          0.44897959183673464,
          0.4693877551020408,
          0.4897959183673469,
          0.5102040816326531,
          0.5306122448979591,
          0.5510204081632653,
          0.5714285714285714,
          0.5918367346938775,
          0.6122448979591836,
          0.6326530612244897,
          0.6530612244897959,
          0.673469387755102,
          0.6938775510204082,
          0.7142857142857142,
          0.7346938775510203,
          0.7551020408163265,
          0.7755102040816326,
          0.7959183673469387,
          0.8163265306122448,
          0.836734693877551,
          0.8571428571428571,
          0.8775510204081632,
          0.8979591836734693,
          0.9183673469387754,
          0.9387755102040816,
          0.9591836734693877,
          0.9795918367346939,
          1
         ],
         "y": [
          1,
          0.9795918367346939,
          0.9591836734693877,
          0.9387755102040817,
          0.9183673469387755,
          0.8979591836734694,
          0.8775510204081632,
          0.8571428571428572,
          0.8367346938775511,
          0.8163265306122449,
          0.7959183673469388,
          0.7755102040816326,
          0.7551020408163265,
          0.7346938775510204,
          0.7142857142857143,
          0.6938775510204083,
          0.6734693877551021,
          0.653061224489796,
          0.6326530612244898,
          0.6122448979591837,
          0.5918367346938775,
          0.5714285714285714,
          0.5510204081632654,
          0.5306122448979592,
          0.5102040816326531,
          0.4897959183673469,
          0.4693877551020409,
          0.44897959183673475,
          0.4285714285714286,
          0.40816326530612246,
          0.3877551020408164,
          0.3673469387755103,
          0.34693877551020413,
          0.326530612244898,
          0.30612244897959184,
          0.2857142857142858,
          0.26530612244897966,
          0.24489795918367352,
          0.22448979591836737,
          0.20408163265306134,
          0.1836734693877552,
          0.16326530612244905,
          0.1428571428571429,
          0.12244897959183676,
          0.10204081632653073,
          0.08163265306122458,
          0.061224489795918435,
          0.04081632653061229,
          0.020408163265306145,
          0
         ]
        },
        {
         "mode": "lines",
         "name": "$\\hat\\phi_1$",
         "type": "scatter",
         "x": [
          0,
          0.02040816326530612,
          0.04081632653061224,
          0.061224489795918366,
          0.08163265306122448,
          0.1020408163265306,
          0.12244897959183673,
          0.14285714285714285,
          0.16326530612244897,
          0.18367346938775508,
          0.2040816326530612,
          0.22448979591836732,
          0.24489795918367346,
          0.26530612244897955,
          0.2857142857142857,
          0.3061224489795918,
          0.32653061224489793,
          0.3469387755102041,
          0.36734693877551017,
          0.3877551020408163,
          0.4081632653061224,
          0.42857142857142855,
          0.44897959183673464,
          0.4693877551020408,
          0.4897959183673469,
          0.5102040816326531,
          0.5306122448979591,
          0.5510204081632653,
          0.5714285714285714,
          0.5918367346938775,
          0.6122448979591836,
          0.6326530612244897,
          0.6530612244897959,
          0.673469387755102,
          0.6938775510204082,
          0.7142857142857142,
          0.7346938775510203,
          0.7551020408163265,
          0.7755102040816326,
          0.7959183673469387,
          0.8163265306122448,
          0.836734693877551,
          0.8571428571428571,
          0.8775510204081632,
          0.8979591836734693,
          0.9183673469387754,
          0.9387755102040816,
          0.9591836734693877,
          0.9795918367346939,
          1
         ],
         "y": [
          0,
          0.02040816326530612,
          0.04081632653061224,
          0.061224489795918366,
          0.08163265306122448,
          0.1020408163265306,
          0.12244897959183673,
          0.14285714285714285,
          0.16326530612244897,
          0.18367346938775508,
          0.2040816326530612,
          0.22448979591836732,
          0.24489795918367346,
          0.26530612244897955,
          0.2857142857142857,
          0.3061224489795918,
          0.32653061224489793,
          0.3469387755102041,
          0.36734693877551017,
          0.3877551020408163,
          0.4081632653061224,
          0.42857142857142855,
          0.44897959183673464,
          0.4693877551020408,
          0.4897959183673469,
          0.5102040816326531,
          0.5306122448979591,
          0.5510204081632653,
          0.5714285714285714,
          0.5918367346938775,
          0.6122448979591836,
          0.6326530612244897,
          0.6530612244897959,
          0.673469387755102,
          0.6938775510204082,
          0.7142857142857142,
          0.7346938775510203,
          0.7551020408163265,
          0.7755102040816326,
          0.7959183673469387,
          0.8163265306122448,
          0.836734693877551,
          0.8571428571428571,
          0.8775510204081632,
          0.8979591836734693,
          0.9183673469387754,
          0.9387755102040816,
          0.9591836734693877,
          0.9795918367346939,
          1
         ]
        }
       ],
       "layout": {
        "template": {
         "data": {
          "bar": [
           {
            "error_x": {
             "color": "#2a3f5f"
            },
            "error_y": {
             "color": "#2a3f5f"
            },
            "marker": {
             "line": {
              "color": "#E5ECF6",
              "width": 0.5
             }
            },
            "type": "bar"
           }
          ],
          "barpolar": [
           {
            "marker": {
             "line": {
              "color": "#E5ECF6",
              "width": 0.5
             }
            },
            "type": "barpolar"
           }
          ],
          "carpet": [
           {
            "aaxis": {
             "endlinecolor": "#2a3f5f",
             "gridcolor": "white",
             "linecolor": "white",
             "minorgridcolor": "white",
             "startlinecolor": "#2a3f5f"
            },
            "baxis": {
             "endlinecolor": "#2a3f5f",
             "gridcolor": "white",
             "linecolor": "white",
             "minorgridcolor": "white",
             "startlinecolor": "#2a3f5f"
            },
            "type": "carpet"
           }
          ],
          "choropleth": [
           {
            "colorbar": {
             "outlinewidth": 0,
             "ticks": ""
            },
            "type": "choropleth"
           }
          ],
          "contour": [
           {
            "colorbar": {
             "outlinewidth": 0,
             "ticks": ""
            },
            "colorscale": [
             [
              0,
              "#0d0887"
             ],
             [
              0.1111111111111111,
              "#46039f"
             ],
             [
              0.2222222222222222,
              "#7201a8"
             ],
             [
              0.3333333333333333,
              "#9c179e"
             ],
             [
              0.4444444444444444,
              "#bd3786"
             ],
             [
              0.5555555555555556,
              "#d8576b"
             ],
             [
              0.6666666666666666,
              "#ed7953"
             ],
             [
              0.7777777777777778,
              "#fb9f3a"
             ],
             [
              0.8888888888888888,
              "#fdca26"
             ],
             [
              1,
              "#f0f921"
             ]
            ],
            "type": "contour"
           }
          ],
          "contourcarpet": [
           {
            "colorbar": {
             "outlinewidth": 0,
             "ticks": ""
            },
            "type": "contourcarpet"
           }
          ],
          "heatmap": [
           {
            "colorbar": {
             "outlinewidth": 0,
             "ticks": ""
            },
            "colorscale": [
             [
              0,
              "#0d0887"
             ],
             [
              0.1111111111111111,
              "#46039f"
             ],
             [
              0.2222222222222222,
              "#7201a8"
             ],
             [
              0.3333333333333333,
              "#9c179e"
             ],
             [
              0.4444444444444444,
              "#bd3786"
             ],
             [
              0.5555555555555556,
              "#d8576b"
             ],
             [
              0.6666666666666666,
              "#ed7953"
             ],
             [
              0.7777777777777778,
              "#fb9f3a"
             ],
             [
              0.8888888888888888,
              "#fdca26"
             ],
             [
              1,
              "#f0f921"
             ]
            ],
            "type": "heatmap"
           }
          ],
          "heatmapgl": [
           {
            "colorbar": {
             "outlinewidth": 0,
             "ticks": ""
            },
            "colorscale": [
             [
              0,
              "#0d0887"
             ],
             [
              0.1111111111111111,
              "#46039f"
             ],
             [
              0.2222222222222222,
              "#7201a8"
             ],
             [
              0.3333333333333333,
              "#9c179e"
             ],
             [
              0.4444444444444444,
              "#bd3786"
             ],
             [
              0.5555555555555556,
              "#d8576b"
             ],
             [
              0.6666666666666666,
              "#ed7953"
             ],
             [
              0.7777777777777778,
              "#fb9f3a"
             ],
             [
              0.8888888888888888,
              "#fdca26"
             ],
             [
              1,
              "#f0f921"
             ]
            ],
            "type": "heatmapgl"
           }
          ],
          "histogram": [
           {
            "marker": {
             "colorbar": {
              "outlinewidth": 0,
              "ticks": ""
             }
            },
            "type": "histogram"
           }
          ],
          "histogram2d": [
           {
            "colorbar": {
             "outlinewidth": 0,
             "ticks": ""
            },
            "colorscale": [
             [
              0,
              "#0d0887"
             ],
             [
              0.1111111111111111,
              "#46039f"
             ],
             [
              0.2222222222222222,
              "#7201a8"
             ],
             [
              0.3333333333333333,
              "#9c179e"
             ],
             [
              0.4444444444444444,
              "#bd3786"
             ],
             [
              0.5555555555555556,
              "#d8576b"
             ],
             [
              0.6666666666666666,
              "#ed7953"
             ],
             [
              0.7777777777777778,
              "#fb9f3a"
             ],
             [
              0.8888888888888888,
              "#fdca26"
             ],
             [
              1,
              "#f0f921"
             ]
            ],
            "type": "histogram2d"
           }
          ],
          "histogram2dcontour": [
           {
            "colorbar": {
             "outlinewidth": 0,
             "ticks": ""
            },
            "colorscale": [
             [
              0,
              "#0d0887"
             ],
             [
              0.1111111111111111,
              "#46039f"
             ],
             [
              0.2222222222222222,
              "#7201a8"
             ],
             [
              0.3333333333333333,
              "#9c179e"
             ],
             [
              0.4444444444444444,
              "#bd3786"
             ],
             [
              0.5555555555555556,
              "#d8576b"
             ],
             [
              0.6666666666666666,
              "#ed7953"
             ],
             [
              0.7777777777777778,
              "#fb9f3a"
             ],
             [
              0.8888888888888888,
              "#fdca26"
             ],
             [
              1,
              "#f0f921"
             ]
            ],
            "type": "histogram2dcontour"
           }
          ],
          "mesh3d": [
           {
            "colorbar": {
             "outlinewidth": 0,
             "ticks": ""
            },
            "type": "mesh3d"
           }
          ],
          "parcoords": [
           {
            "line": {
             "colorbar": {
              "outlinewidth": 0,
              "ticks": ""
             }
            },
            "type": "parcoords"
           }
          ],
          "scatter": [
           {
            "marker": {
             "colorbar": {
              "outlinewidth": 0,
              "ticks": ""
             }
            },
            "type": "scatter"
           }
          ],
          "scatter3d": [
           {
            "line": {
             "colorbar": {
              "outlinewidth": 0,
              "ticks": ""
             }
            },
            "marker": {
             "colorbar": {
              "outlinewidth": 0,
              "ticks": ""
             }
            },
            "type": "scatter3d"
           }
          ],
          "scattercarpet": [
           {
            "marker": {
             "colorbar": {
              "outlinewidth": 0,
              "ticks": ""
             }
            },
            "type": "scattercarpet"
           }
          ],
          "scattergeo": [
           {
            "marker": {
             "colorbar": {
              "outlinewidth": 0,
              "ticks": ""
             }
            },
            "type": "scattergeo"
           }
          ],
          "scattergl": [
           {
            "marker": {
             "colorbar": {
              "outlinewidth": 0,
              "ticks": ""
             }
            },
            "type": "scattergl"
           }
          ],
          "scattermapbox": [
           {
            "marker": {
             "colorbar": {
              "outlinewidth": 0,
              "ticks": ""
             }
            },
            "type": "scattermapbox"
           }
          ],
          "scatterpolar": [
           {
            "marker": {
             "colorbar": {
              "outlinewidth": 0,
              "ticks": ""
             }
            },
            "type": "scatterpolar"
           }
          ],
          "scatterpolargl": [
           {
            "marker": {
             "colorbar": {
              "outlinewidth": 0,
              "ticks": ""
             }
            },
            "type": "scatterpolargl"
           }
          ],
          "scatterternary": [
           {
            "marker": {
             "colorbar": {
              "outlinewidth": 0,
              "ticks": ""
             }
            },
            "type": "scatterternary"
           }
          ],
          "surface": [
           {
            "colorbar": {
             "outlinewidth": 0,
             "ticks": ""
            },
            "colorscale": [
             [
              0,
              "#0d0887"
             ],
             [
              0.1111111111111111,
              "#46039f"
             ],
             [
              0.2222222222222222,
              "#7201a8"
             ],
             [
              0.3333333333333333,
              "#9c179e"
             ],
             [
              0.4444444444444444,
              "#bd3786"
             ],
             [
              0.5555555555555556,
              "#d8576b"
             ],
             [
              0.6666666666666666,
              "#ed7953"
             ],
             [
              0.7777777777777778,
              "#fb9f3a"
             ],
             [
              0.8888888888888888,
              "#fdca26"
             ],
             [
              1,
              "#f0f921"
             ]
            ],
            "type": "surface"
           }
          ],
          "table": [
           {
            "cells": {
             "fill": {
              "color": "#EBF0F8"
             },
             "line": {
              "color": "white"
             }
            },
            "header": {
             "fill": {
              "color": "#C8D4E3"
             },
             "line": {
              "color": "white"
             }
            },
            "type": "table"
           }
          ]
         },
         "layout": {
          "annotationdefaults": {
           "arrowcolor": "#2a3f5f",
           "arrowhead": 0,
           "arrowwidth": 1
          },
          "colorscale": {
           "diverging": [
            [
             0,
             "#8e0152"
            ],
            [
             0.1,
             "#c51b7d"
            ],
            [
             0.2,
             "#de77ae"
            ],
            [
             0.3,
             "#f1b6da"
            ],
            [
             0.4,
             "#fde0ef"
            ],
            [
             0.5,
             "#f7f7f7"
            ],
            [
             0.6,
             "#e6f5d0"
            ],
            [
             0.7,
             "#b8e186"
            ],
            [
             0.8,
             "#7fbc41"
            ],
            [
             0.9,
             "#4d9221"
            ],
            [
             1,
             "#276419"
            ]
           ],
           "sequential": [
            [
             0,
             "#0d0887"
            ],
            [
             0.1111111111111111,
             "#46039f"
            ],
            [
             0.2222222222222222,
             "#7201a8"
            ],
            [
             0.3333333333333333,
             "#9c179e"
            ],
            [
             0.4444444444444444,
             "#bd3786"
            ],
            [
             0.5555555555555556,
             "#d8576b"
            ],
            [
             0.6666666666666666,
             "#ed7953"
            ],
            [
             0.7777777777777778,
             "#fb9f3a"
            ],
            [
             0.8888888888888888,
             "#fdca26"
            ],
            [
             1,
             "#f0f921"
            ]
           ],
           "sequentialminus": [
            [
             0,
             "#0d0887"
            ],
            [
             0.1111111111111111,
             "#46039f"
            ],
            [
             0.2222222222222222,
             "#7201a8"
            ],
            [
             0.3333333333333333,
             "#9c179e"
            ],
            [
             0.4444444444444444,
             "#bd3786"
            ],
            [
             0.5555555555555556,
             "#d8576b"
            ],
            [
             0.6666666666666666,
             "#ed7953"
            ],
            [
             0.7777777777777778,
             "#fb9f3a"
            ],
            [
             0.8888888888888888,
             "#fdca26"
            ],
            [
             1,
             "#f0f921"
            ]
           ]
          },
          "colorway": [
           "#636efa",
           "#EF553B",
           "#00cc96",
           "#ab63fa",
           "#FFA15A",
           "#19d3f3",
           "#FF6692",
           "#B6E880",
           "#FF97FF",
           "#FECB52"
          ],
          "font": {
           "color": "#2a3f5f"
          },
          "geo": {
           "bgcolor": "white",
           "lakecolor": "white",
           "landcolor": "#E5ECF6",
           "showlakes": true,
           "showland": true,
           "subunitcolor": "white"
          },
          "hoverlabel": {
           "align": "left"
          },
          "hovermode": "closest",
          "mapbox": {
           "style": "light"
          },
          "paper_bgcolor": "white",
          "plot_bgcolor": "#E5ECF6",
          "polar": {
           "angularaxis": {
            "gridcolor": "white",
            "linecolor": "white",
            "ticks": ""
           },
           "bgcolor": "#E5ECF6",
           "radialaxis": {
            "gridcolor": "white",
            "linecolor": "white",
            "ticks": ""
           }
          },
          "scene": {
           "xaxis": {
            "backgroundcolor": "#E5ECF6",
            "gridcolor": "white",
            "gridwidth": 2,
            "linecolor": "white",
            "showbackground": true,
            "ticks": "",
            "zerolinecolor": "white"
           },
           "yaxis": {
            "backgroundcolor": "#E5ECF6",
            "gridcolor": "white",
            "gridwidth": 2,
            "linecolor": "white",
            "showbackground": true,
            "ticks": "",
            "zerolinecolor": "white"
           },
           "zaxis": {
            "backgroundcolor": "#E5ECF6",
            "gridcolor": "white",
            "gridwidth": 2,
            "linecolor": "white",
            "showbackground": true,
            "ticks": "",
            "zerolinecolor": "white"
           }
          },
          "shapedefaults": {
           "line": {
            "color": "#2a3f5f"
           }
          },
          "ternary": {
           "aaxis": {
            "gridcolor": "white",
            "linecolor": "white",
            "ticks": ""
           },
           "baxis": {
            "gridcolor": "white",
            "linecolor": "white",
            "ticks": ""
           },
           "bgcolor": "#E5ECF6",
           "caxis": {
            "gridcolor": "white",
            "linecolor": "white",
            "ticks": ""
           }
          },
          "title": {
           "x": 0.05
          },
          "xaxis": {
           "automargin": true,
           "gridcolor": "white",
           "linecolor": "white",
           "ticks": "",
           "zerolinecolor": "white",
           "zerolinewidth": 2
          },
          "yaxis": {
           "automargin": true,
           "gridcolor": "white",
           "linecolor": "white",
           "ticks": "",
           "zerolinecolor": "white",
           "zerolinewidth": 2
          }
         }
        }
       }
      },
      "text/html": [
       "<div>\n",
       "        \n",
       "        \n",
       "            <div id=\"f2276ac2-5d5f-47a4-b444-e92e2b134d30\" class=\"plotly-graph-div\" style=\"height:525px; width:100%;\"></div>\n",
       "            <script type=\"text/javascript\">\n",
       "                require([\"plotly\"], function(Plotly) {\n",
       "                    window.PLOTLYENV=window.PLOTLYENV || {};\n",
       "                    \n",
       "                if (document.getElementById(\"f2276ac2-5d5f-47a4-b444-e92e2b134d30\")) {\n",
       "                    Plotly.newPlot(\n",
       "                        'f2276ac2-5d5f-47a4-b444-e92e2b134d30',\n",
       "                        [{\"mode\": \"lines\", \"name\": \"$\\\\hat\\\\phi_0$\", \"type\": \"scatter\", \"x\": [0.0, 0.02040816326530612, 0.04081632653061224, 0.061224489795918366, 0.08163265306122448, 0.1020408163265306, 0.12244897959183673, 0.14285714285714285, 0.16326530612244897, 0.18367346938775508, 0.2040816326530612, 0.22448979591836732, 0.24489795918367346, 0.26530612244897955, 0.2857142857142857, 0.3061224489795918, 0.32653061224489793, 0.3469387755102041, 0.36734693877551017, 0.3877551020408163, 0.4081632653061224, 0.42857142857142855, 0.44897959183673464, 0.4693877551020408, 0.4897959183673469, 0.5102040816326531, 0.5306122448979591, 0.5510204081632653, 0.5714285714285714, 0.5918367346938775, 0.6122448979591836, 0.6326530612244897, 0.6530612244897959, 0.673469387755102, 0.6938775510204082, 0.7142857142857142, 0.7346938775510203, 0.7551020408163265, 0.7755102040816326, 0.7959183673469387, 0.8163265306122448, 0.836734693877551, 0.8571428571428571, 0.8775510204081632, 0.8979591836734693, 0.9183673469387754, 0.9387755102040816, 0.9591836734693877, 0.9795918367346939, 1.0], \"y\": [1.0, 0.9795918367346939, 0.9591836734693877, 0.9387755102040817, 0.9183673469387755, 0.8979591836734694, 0.8775510204081632, 0.8571428571428572, 0.8367346938775511, 0.8163265306122449, 0.7959183673469388, 0.7755102040816326, 0.7551020408163265, 0.7346938775510204, 0.7142857142857143, 0.6938775510204083, 0.6734693877551021, 0.653061224489796, 0.6326530612244898, 0.6122448979591837, 0.5918367346938775, 0.5714285714285714, 0.5510204081632654, 0.5306122448979592, 0.5102040816326531, 0.4897959183673469, 0.4693877551020409, 0.44897959183673475, 0.4285714285714286, 0.40816326530612246, 0.3877551020408164, 0.3673469387755103, 0.34693877551020413, 0.326530612244898, 0.30612244897959184, 0.2857142857142858, 0.26530612244897966, 0.24489795918367352, 0.22448979591836737, 0.20408163265306134, 0.1836734693877552, 0.16326530612244905, 0.1428571428571429, 0.12244897959183676, 0.10204081632653073, 0.08163265306122458, 0.061224489795918435, 0.04081632653061229, 0.020408163265306145, 0.0]}, {\"mode\": \"lines\", \"name\": \"$\\\\hat\\\\phi_1$\", \"type\": \"scatter\", \"x\": [0.0, 0.02040816326530612, 0.04081632653061224, 0.061224489795918366, 0.08163265306122448, 0.1020408163265306, 0.12244897959183673, 0.14285714285714285, 0.16326530612244897, 0.18367346938775508, 0.2040816326530612, 0.22448979591836732, 0.24489795918367346, 0.26530612244897955, 0.2857142857142857, 0.3061224489795918, 0.32653061224489793, 0.3469387755102041, 0.36734693877551017, 0.3877551020408163, 0.4081632653061224, 0.42857142857142855, 0.44897959183673464, 0.4693877551020408, 0.4897959183673469, 0.5102040816326531, 0.5306122448979591, 0.5510204081632653, 0.5714285714285714, 0.5918367346938775, 0.6122448979591836, 0.6326530612244897, 0.6530612244897959, 0.673469387755102, 0.6938775510204082, 0.7142857142857142, 0.7346938775510203, 0.7551020408163265, 0.7755102040816326, 0.7959183673469387, 0.8163265306122448, 0.836734693877551, 0.8571428571428571, 0.8775510204081632, 0.8979591836734693, 0.9183673469387754, 0.9387755102040816, 0.9591836734693877, 0.9795918367346939, 1.0], \"y\": [0.0, 0.02040816326530612, 0.04081632653061224, 0.061224489795918366, 0.08163265306122448, 0.1020408163265306, 0.12244897959183673, 0.14285714285714285, 0.16326530612244897, 0.18367346938775508, 0.2040816326530612, 0.22448979591836732, 0.24489795918367346, 0.26530612244897955, 0.2857142857142857, 0.3061224489795918, 0.32653061224489793, 0.3469387755102041, 0.36734693877551017, 0.3877551020408163, 0.4081632653061224, 0.42857142857142855, 0.44897959183673464, 0.4693877551020408, 0.4897959183673469, 0.5102040816326531, 0.5306122448979591, 0.5510204081632653, 0.5714285714285714, 0.5918367346938775, 0.6122448979591836, 0.6326530612244897, 0.6530612244897959, 0.673469387755102, 0.6938775510204082, 0.7142857142857142, 0.7346938775510203, 0.7551020408163265, 0.7755102040816326, 0.7959183673469387, 0.8163265306122448, 0.836734693877551, 0.8571428571428571, 0.8775510204081632, 0.8979591836734693, 0.9183673469387754, 0.9387755102040816, 0.9591836734693877, 0.9795918367346939, 1.0]}],\n",
       "                        {\"template\": {\"data\": {\"bar\": [{\"error_x\": {\"color\": \"#2a3f5f\"}, \"error_y\": {\"color\": \"#2a3f5f\"}, \"marker\": {\"line\": {\"color\": \"#E5ECF6\", \"width\": 0.5}}, \"type\": \"bar\"}], \"barpolar\": [{\"marker\": {\"line\": {\"color\": \"#E5ECF6\", \"width\": 0.5}}, \"type\": \"barpolar\"}], \"carpet\": [{\"aaxis\": {\"endlinecolor\": \"#2a3f5f\", \"gridcolor\": \"white\", \"linecolor\": \"white\", \"minorgridcolor\": \"white\", \"startlinecolor\": \"#2a3f5f\"}, \"baxis\": {\"endlinecolor\": \"#2a3f5f\", \"gridcolor\": \"white\", \"linecolor\": \"white\", \"minorgridcolor\": \"white\", \"startlinecolor\": \"#2a3f5f\"}, \"type\": \"carpet\"}], \"choropleth\": [{\"colorbar\": {\"outlinewidth\": 0, \"ticks\": \"\"}, \"type\": \"choropleth\"}], \"contour\": [{\"colorbar\": {\"outlinewidth\": 0, \"ticks\": \"\"}, \"colorscale\": [[0.0, \"#0d0887\"], [0.1111111111111111, \"#46039f\"], [0.2222222222222222, \"#7201a8\"], [0.3333333333333333, \"#9c179e\"], [0.4444444444444444, \"#bd3786\"], [0.5555555555555556, \"#d8576b\"], [0.6666666666666666, \"#ed7953\"], [0.7777777777777778, \"#fb9f3a\"], [0.8888888888888888, \"#fdca26\"], [1.0, \"#f0f921\"]], \"type\": \"contour\"}], \"contourcarpet\": [{\"colorbar\": {\"outlinewidth\": 0, \"ticks\": \"\"}, \"type\": \"contourcarpet\"}], \"heatmap\": [{\"colorbar\": {\"outlinewidth\": 0, \"ticks\": \"\"}, \"colorscale\": [[0.0, \"#0d0887\"], [0.1111111111111111, \"#46039f\"], [0.2222222222222222, \"#7201a8\"], [0.3333333333333333, \"#9c179e\"], [0.4444444444444444, \"#bd3786\"], [0.5555555555555556, \"#d8576b\"], [0.6666666666666666, \"#ed7953\"], [0.7777777777777778, \"#fb9f3a\"], [0.8888888888888888, \"#fdca26\"], [1.0, \"#f0f921\"]], \"type\": \"heatmap\"}], \"heatmapgl\": [{\"colorbar\": {\"outlinewidth\": 0, \"ticks\": \"\"}, \"colorscale\": [[0.0, \"#0d0887\"], [0.1111111111111111, \"#46039f\"], [0.2222222222222222, \"#7201a8\"], [0.3333333333333333, \"#9c179e\"], [0.4444444444444444, \"#bd3786\"], [0.5555555555555556, \"#d8576b\"], [0.6666666666666666, \"#ed7953\"], [0.7777777777777778, \"#fb9f3a\"], [0.8888888888888888, \"#fdca26\"], [1.0, \"#f0f921\"]], \"type\": \"heatmapgl\"}], \"histogram\": [{\"marker\": {\"colorbar\": {\"outlinewidth\": 0, \"ticks\": \"\"}}, \"type\": \"histogram\"}], \"histogram2d\": [{\"colorbar\": {\"outlinewidth\": 0, \"ticks\": \"\"}, \"colorscale\": [[0.0, \"#0d0887\"], [0.1111111111111111, \"#46039f\"], [0.2222222222222222, \"#7201a8\"], [0.3333333333333333, \"#9c179e\"], [0.4444444444444444, \"#bd3786\"], [0.5555555555555556, \"#d8576b\"], [0.6666666666666666, \"#ed7953\"], [0.7777777777777778, \"#fb9f3a\"], [0.8888888888888888, \"#fdca26\"], [1.0, \"#f0f921\"]], \"type\": \"histogram2d\"}], \"histogram2dcontour\": [{\"colorbar\": {\"outlinewidth\": 0, \"ticks\": \"\"}, \"colorscale\": [[0.0, \"#0d0887\"], [0.1111111111111111, \"#46039f\"], [0.2222222222222222, \"#7201a8\"], [0.3333333333333333, \"#9c179e\"], [0.4444444444444444, \"#bd3786\"], [0.5555555555555556, \"#d8576b\"], [0.6666666666666666, \"#ed7953\"], [0.7777777777777778, \"#fb9f3a\"], [0.8888888888888888, \"#fdca26\"], [1.0, \"#f0f921\"]], \"type\": \"histogram2dcontour\"}], \"mesh3d\": [{\"colorbar\": {\"outlinewidth\": 0, \"ticks\": \"\"}, \"type\": \"mesh3d\"}], \"parcoords\": [{\"line\": {\"colorbar\": {\"outlinewidth\": 0, \"ticks\": \"\"}}, \"type\": \"parcoords\"}], \"scatter\": [{\"marker\": {\"colorbar\": {\"outlinewidth\": 0, \"ticks\": \"\"}}, \"type\": \"scatter\"}], \"scatter3d\": [{\"line\": {\"colorbar\": {\"outlinewidth\": 0, \"ticks\": \"\"}}, \"marker\": {\"colorbar\": {\"outlinewidth\": 0, \"ticks\": \"\"}}, \"type\": \"scatter3d\"}], \"scattercarpet\": [{\"marker\": {\"colorbar\": {\"outlinewidth\": 0, \"ticks\": \"\"}}, \"type\": \"scattercarpet\"}], \"scattergeo\": [{\"marker\": {\"colorbar\": {\"outlinewidth\": 0, \"ticks\": \"\"}}, \"type\": \"scattergeo\"}], \"scattergl\": [{\"marker\": {\"colorbar\": {\"outlinewidth\": 0, \"ticks\": \"\"}}, \"type\": \"scattergl\"}], \"scattermapbox\": [{\"marker\": {\"colorbar\": {\"outlinewidth\": 0, \"ticks\": \"\"}}, \"type\": \"scattermapbox\"}], \"scatterpolar\": [{\"marker\": {\"colorbar\": {\"outlinewidth\": 0, \"ticks\": \"\"}}, \"type\": \"scatterpolar\"}], \"scatterpolargl\": [{\"marker\": {\"colorbar\": {\"outlinewidth\": 0, \"ticks\": \"\"}}, \"type\": \"scatterpolargl\"}], \"scatterternary\": [{\"marker\": {\"colorbar\": {\"outlinewidth\": 0, \"ticks\": \"\"}}, \"type\": \"scatterternary\"}], \"surface\": [{\"colorbar\": {\"outlinewidth\": 0, \"ticks\": \"\"}, \"colorscale\": [[0.0, \"#0d0887\"], [0.1111111111111111, \"#46039f\"], [0.2222222222222222, \"#7201a8\"], [0.3333333333333333, \"#9c179e\"], [0.4444444444444444, \"#bd3786\"], [0.5555555555555556, \"#d8576b\"], [0.6666666666666666, \"#ed7953\"], [0.7777777777777778, \"#fb9f3a\"], [0.8888888888888888, \"#fdca26\"], [1.0, \"#f0f921\"]], \"type\": \"surface\"}], \"table\": [{\"cells\": {\"fill\": {\"color\": \"#EBF0F8\"}, \"line\": {\"color\": \"white\"}}, \"header\": {\"fill\": {\"color\": \"#C8D4E3\"}, \"line\": {\"color\": \"white\"}}, \"type\": \"table\"}]}, \"layout\": {\"annotationdefaults\": {\"arrowcolor\": \"#2a3f5f\", \"arrowhead\": 0, \"arrowwidth\": 1}, \"colorscale\": {\"diverging\": [[0, \"#8e0152\"], [0.1, \"#c51b7d\"], [0.2, \"#de77ae\"], [0.3, \"#f1b6da\"], [0.4, \"#fde0ef\"], [0.5, \"#f7f7f7\"], [0.6, \"#e6f5d0\"], [0.7, \"#b8e186\"], [0.8, \"#7fbc41\"], [0.9, \"#4d9221\"], [1, \"#276419\"]], \"sequential\": [[0.0, \"#0d0887\"], [0.1111111111111111, \"#46039f\"], [0.2222222222222222, \"#7201a8\"], [0.3333333333333333, \"#9c179e\"], [0.4444444444444444, \"#bd3786\"], [0.5555555555555556, \"#d8576b\"], [0.6666666666666666, \"#ed7953\"], [0.7777777777777778, \"#fb9f3a\"], [0.8888888888888888, \"#fdca26\"], [1.0, \"#f0f921\"]], \"sequentialminus\": [[0.0, \"#0d0887\"], [0.1111111111111111, \"#46039f\"], [0.2222222222222222, \"#7201a8\"], [0.3333333333333333, \"#9c179e\"], [0.4444444444444444, \"#bd3786\"], [0.5555555555555556, \"#d8576b\"], [0.6666666666666666, \"#ed7953\"], [0.7777777777777778, \"#fb9f3a\"], [0.8888888888888888, \"#fdca26\"], [1.0, \"#f0f921\"]]}, \"colorway\": [\"#636efa\", \"#EF553B\", \"#00cc96\", \"#ab63fa\", \"#FFA15A\", \"#19d3f3\", \"#FF6692\", \"#B6E880\", \"#FF97FF\", \"#FECB52\"], \"font\": {\"color\": \"#2a3f5f\"}, \"geo\": {\"bgcolor\": \"white\", \"lakecolor\": \"white\", \"landcolor\": \"#E5ECF6\", \"showlakes\": true, \"showland\": true, \"subunitcolor\": \"white\"}, \"hoverlabel\": {\"align\": \"left\"}, \"hovermode\": \"closest\", \"mapbox\": {\"style\": \"light\"}, \"paper_bgcolor\": \"white\", \"plot_bgcolor\": \"#E5ECF6\", \"polar\": {\"angularaxis\": {\"gridcolor\": \"white\", \"linecolor\": \"white\", \"ticks\": \"\"}, \"bgcolor\": \"#E5ECF6\", \"radialaxis\": {\"gridcolor\": \"white\", \"linecolor\": \"white\", \"ticks\": \"\"}}, \"scene\": {\"xaxis\": {\"backgroundcolor\": \"#E5ECF6\", \"gridcolor\": \"white\", \"gridwidth\": 2, \"linecolor\": \"white\", \"showbackground\": true, \"ticks\": \"\", \"zerolinecolor\": \"white\"}, \"yaxis\": {\"backgroundcolor\": \"#E5ECF6\", \"gridcolor\": \"white\", \"gridwidth\": 2, \"linecolor\": \"white\", \"showbackground\": true, \"ticks\": \"\", \"zerolinecolor\": \"white\"}, \"zaxis\": {\"backgroundcolor\": \"#E5ECF6\", \"gridcolor\": \"white\", \"gridwidth\": 2, \"linecolor\": \"white\", \"showbackground\": true, \"ticks\": \"\", \"zerolinecolor\": \"white\"}}, \"shapedefaults\": {\"line\": {\"color\": \"#2a3f5f\"}}, \"ternary\": {\"aaxis\": {\"gridcolor\": \"white\", \"linecolor\": \"white\", \"ticks\": \"\"}, \"baxis\": {\"gridcolor\": \"white\", \"linecolor\": \"white\", \"ticks\": \"\"}, \"bgcolor\": \"#E5ECF6\", \"caxis\": {\"gridcolor\": \"white\", \"linecolor\": \"white\", \"ticks\": \"\"}}, \"title\": {\"x\": 0.05}, \"xaxis\": {\"automargin\": true, \"gridcolor\": \"white\", \"linecolor\": \"white\", \"ticks\": \"\", \"zerolinecolor\": \"white\", \"zerolinewidth\": 2}, \"yaxis\": {\"automargin\": true, \"gridcolor\": \"white\", \"linecolor\": \"white\", \"ticks\": \"\", \"zerolinecolor\": \"white\", \"zerolinewidth\": 2}}}},\n",
       "                        {\"responsive\": true}\n",
       "                    ).then(function(){\n",
       "                            \n",
       "var gd = document.getElementById('f2276ac2-5d5f-47a4-b444-e92e2b134d30');\n",
       "var x = new MutationObserver(function (mutations, observer) {{\n",
       "        var display = window.getComputedStyle(gd).display;\n",
       "        if (!display || display === 'none') {{\n",
       "            console.log([gd, 'removed!']);\n",
       "            Plotly.purge(gd);\n",
       "            observer.disconnect();\n",
       "        }}\n",
       "}});\n",
       "\n",
       "// Listen for the removal of the full notebook cells\n",
       "var notebookContainer = gd.closest('#notebook-container');\n",
       "if (notebookContainer) {{\n",
       "    x.observe(notebookContainer, {childList: true});\n",
       "}}\n",
       "\n",
       "// Listen for the clearing of the current output cell\n",
       "var outputEl = gd.closest('.output');\n",
       "if (outputEl) {{\n",
       "    x.observe(outputEl, {childList: true});\n",
       "}}\n",
       "\n",
       "                        })\n",
       "                };\n",
       "                });\n",
       "            </script>\n",
       "        </div>"
      ]
     },
     "metadata": {},
     "output_type": "display_data"
    }
   ],
   "source": [
    "x = np.linspace(0, 1)\n",
    "fig = go.Figure(data=[\n",
    "    go.Scatter(x=x, y=hat_phi0(x), mode='lines', name=\"$\\hat\\phi_0$\"),\n",
    "    go.Scatter(x=x, y=hat_phi1(x), mode='lines', name=\"$\\hat\\phi_1$\")\n",
    "])\n",
    "plotly.iplot(fig)"
   ]
  },
  {
   "cell_type": "markdown",
   "metadata": {
    "slideshow": {
     "slide_type": "slide"
    }
   },
   "source": [
    "We now need to map the reference element $\\hat s$ to each individual segment $s_i$."
   ]
  },
  {
   "cell_type": "markdown",
   "metadata": {
    "slideshow": {
     "slide_type": "fragment"
    }
   },
   "source": [
    "This is called **geometric mapping** and maps the local segment $\\hat s$ to each global segment $s_i$:\n",
    "\n",
    "$$g_i(\\hat x) = s_{i,0} + \\hat x (s_{i,1} - s_{i,0})$$\n",
    "\n",
    "where $s_{i,0}$ and $s_{i,1}$ are the start and end points of $s_i$."
   ]
  },
  {
   "cell_type": "markdown",
   "metadata": {
    "slideshow": {
     "slide_type": "fragment"
    }
   },
   "source": [
    "We can further split the integrals in the weak form from the whole domain $\\Omega$ to each individual element $s_e$.\n",
    "\n",
    "$$\n",
    "\\sum_{i=0}^n u_i \\int_\\Omega\\nabla \\phi_i \\cdot \\nabla \\phi_j =\n",
    "\\sum_{i=0}^n  u_i \\sum_{e=0}^{n_{el}} \\int_{s_e}\\nabla \\phi_i \\cdot \\nabla \\phi_j = 0, \\qquad \\forall j=0,\\dots,n$$"
   ]
  },
  {
   "cell_type": "markdown",
   "metadata": {
    "slideshow": {
     "slide_type": "slide"
    }
   },
   "source": [
    "The integrals are over the global elements $s_i$."
   ]
  },
  {
   "cell_type": "markdown",
   "metadata": {
    "slideshow": {
     "slide_type": "fragment"
    }
   },
   "source": [
    "We  perform a [change of variable](https://en.wikipedia.org/wiki/Integration_by_substitution) in the integral to integrate over the reference element $\\hat s$.\n",
    "\n",
    "$$\n",
    "\\sum_{i=0}^n  u_i \\sum_{e=0}^{n_{el}} \\int_{s_e}\\nabla \\phi_i(x) \\cdot \\nabla \\phi_j(x)\\, \\mathrm{d} x =\n",
    "$$\n",
    "$$\n",
    "\\sum_{i=0}^n  u_i \\sum_{e=0}^{n_{el}} \\int_{\\hat s}\\nabla \\phi_i(g_e(\\hat x)) \\cdot \\nabla \\phi_j(g_e(\\hat x))\\, g_e^{\\prime}(\\hat x)\\, \\mathrm{d}\\hat x =0\n",
    ", \\qquad \\forall j\n",
    "$$"
   ]
  },
  {
   "cell_type": "markdown",
   "metadata": {
    "slideshow": {
     "slide_type": "fragment"
    }
   },
   "source": [
    "Note that for 2D and 3D the **jacobian** of the geometric mapping appears, as explained [here](https://en.wikipedia.org/wiki/Integration_by_substitution#Substitution_for_multiple_variables)."
   ]
  },
  {
   "cell_type": "markdown",
   "metadata": {
    "slideshow": {
     "slide_type": "slide"
    }
   },
   "source": [
    "We can do more!\n",
    "\n",
    "We note:"
   ]
  },
  {
   "cell_type": "markdown",
   "metadata": {
    "slideshow": {
     "slide_type": "fragment"
    }
   },
   "source": [
    "$$\n",
    "\\phi_i(g_e(\\hat x)) = \\hat \\phi_i(\\hat x)\n",
    "$$"
   ]
  },
  {
   "cell_type": "markdown",
   "metadata": {
    "slideshow": {
     "slide_type": "fragment"
    }
   },
   "source": [
    "$$\n",
    "g_e^{\\prime}(x)=s_{e, 1} - s_{e, 0}\n",
    "$$"
   ]
  },
  {
   "cell_type": "markdown",
   "metadata": {
    "slideshow": {
     "slide_type": "fragment"
    }
   },
   "source": [
    "and\n",
    "$$\n",
    "\\nabla_x \\phi_i(g_e(\\hat x)) = \\frac{\\nabla_{\\hat x} \\hat \\phi_i(\\hat x)}{s_{e, 1} - s_{e, 0}}\n",
    "$$"
   ]
  },
  {
   "cell_type": "markdown",
   "metadata": {
    "slideshow": {
     "slide_type": "slide"
    }
   },
   "source": [
    "The weak form \n",
    "\n",
    "$$\n",
    "\\sum_{i=0}^n  u_i \\sum_{e=0}^{n_{el}} \\int_{\\hat s}\\nabla \\phi_i(g_e(\\hat x)) \\cdot \\nabla \\phi_j(g_e(\\hat x))\\, g_e^{\\prime}(\\hat x)\\, \\mathrm{d}\\hat x =0\n",
    ", \\qquad \\forall j\n",
    "$$"
   ]
  },
  {
   "cell_type": "markdown",
   "metadata": {
    "slideshow": {
     "slide_type": "fragment"
    }
   },
   "source": [
    "simplifies to\n",
    "\n",
    "$$\n",
    "\\sum_{i=0}^n  u_i \\sum_{e=0}^{n_{el}} \\int_{\\hat s}\\frac{\\nabla \\hat\\phi_i(\\hat x)}{s_{e, 1} - s_{e, 0}} \\cdot \\frac{\\nabla \\hat\\phi_j(\\hat x)}{s_{e, 1} - s_{e, 0}}\\,(s_{e, 1} - s_{e, 0}) \\, \\mathrm{d}\\hat x = \n",
    "$$"
   ]
  },
  {
   "cell_type": "markdown",
   "metadata": {
    "slideshow": {
     "slide_type": "fragment"
    }
   },
   "source": [
    "$$\n",
    "\\sum_{i=0}^n  u_i \\sum_{e=0}^{n_{el}} \\int_{\\hat s}\\frac{\\nabla \\hat\\phi_i(\\hat x) \\cdot \\nabla \\hat\\phi_j(\\hat x)}{s_{e, 1} - s_{e, 0}} \\, \\mathrm{d}\\hat x = 0\n",
    ", \\qquad \\forall j\n",
    "$$"
   ]
  },
  {
   "cell_type": "markdown",
   "metadata": {
    "slideshow": {
     "slide_type": "slide"
    }
   },
   "source": [
    "This localization forces us to keep track of the mapping between the 2 local nodes and their respective global indices.\n",
    "\n",
    "This mapping is called **local to global**."
   ]
  },
  {
   "cell_type": "markdown",
   "metadata": {
    "slideshow": {
     "slide_type": "fragment"
    }
   },
   "source": [
    "In other words, the local to global mapping $g_e^i$ maps the local indices $i=0,1$ of element $e$ to its corresponding global indices."
   ]
  },
  {
   "cell_type": "markdown",
   "metadata": {
    "slideshow": {
     "slide_type": "fragment"
    }
   },
   "source": [
    "Note that most of the terms are zero since only 2 bases are not zero."
   ]
  },
  {
   "cell_type": "markdown",
   "metadata": {
    "slideshow": {
     "slide_type": "fragment"
    }
   },
   "source": [
    "Using this note and the local to global mapping we can further simplify\n",
    "\n",
    "$$\n",
    "\\sum_{i=0}^n  u_i \\sum_{e=0}^{n_{el}} \\int_{\\hat s} \\frac{\\nabla \\hat\\phi_i \\cdot \\nabla \\hat\\phi_j}{s_{e, 1} - s_{e, 0}} =\n",
    "\\sum_{e=0}^{n_{el}}\\sum_{i=0}^1 u_{g_e^i} \\int_{\\hat s} \\frac{\\nabla \\hat\\phi_i \\cdot \\nabla \\hat\\phi_j}{s_{e, 1} - s_{e, 0}}\n",
    ", \\qquad \\forall j=0,1\n",
    "$$"
   ]
  },
  {
   "cell_type": "markdown",
   "metadata": {
    "slideshow": {
     "slide_type": "slide"
    }
   },
   "source": [
    "We need the gradients of the local bases\n",
    "\n",
    "$$\n",
    "\\hat \\phi_0 = 1-x\n",
    "$$\n",
    "\n",
    "and\n",
    "\n",
    "$$\n",
    "\\hat \\phi_1 = x\n",
    "$$\n"
   ]
  },
  {
   "cell_type": "code",
   "execution_count": 6,
   "metadata": {
    "slideshow": {
     "slide_type": "fragment"
    }
   },
   "outputs": [],
   "source": [
    "def grad_hat_phi0(x):\n",
    "    return -np.ones(x.shape)\n",
    "def grad_hat_phi1(x):\n",
    "    return np.ones(x.shape)"
   ]
  },
  {
   "cell_type": "markdown",
   "metadata": {
    "slideshow": {
     "slide_type": "slide"
    }
   },
   "source": [
    "# Basis construction"
   ]
  },
  {
   "cell_type": "markdown",
   "metadata": {},
   "source": [
    "We now construct an array of elements, one for each $s_e$.\n",
    "\n",
    "Each element $e$ contains:\n",
    " - the number of non-zero bases (always 2),\n",
    " - the 2 functions and their 2 gradients,\n",
    " - the local to global mapping $g_e^i$, \n",
    " - the geometric mapping and its gradient.\n",
    "\n",
    "Note that in this case the local to global mapping is trivial:\n",
    "\n",
    "$$g_e^i = e+i.$$"
   ]
  },
  {
   "cell_type": "code",
   "execution_count": 7,
   "metadata": {
    "slideshow": {
     "slide_type": "slide"
    }
   },
   "outputs": [],
   "source": [
    "elements = []\n",
    "for e in range(n_elements):\n",
    "    el = {}\n",
    "    \n",
    "    el[\"n_bases\"] = 2\n",
    "    \n",
    "    #2 bases\n",
    "    el[\"phi\"] = [hat_phi0, hat_phi1]\n",
    "    el[\"grad_phi\"] = [grad_hat_phi0, grad_hat_phi1]\n",
    "    \n",
    "    #local to global mapping\n",
    "    el[\"loc_2_glob\"] = [e, e+1]\n",
    "    \n",
    "    #geometric mapping\n",
    "    el[\"gmapping\"] = lambda x, e=e : s[e] + x*(s[e+1]-s[e])\n",
    "    el[\"grad_gmapping\"] = lambda x : (s[e+1]-s[e])\n",
    "    \n",
    "    elements.append(el)"
   ]
  },
  {
   "cell_type": "markdown",
   "metadata": {
    "slideshow": {
     "slide_type": "slide"
    }
   },
   "source": [
    "We define a function to interpolate the vector of $u_i$ using the local to global, geometric mapping, and local bases to interpolate the data."
   ]
  },
  {
   "cell_type": "markdown",
   "metadata": {
    "slideshow": {
     "slide_type": "fragment"
    }
   },
   "source": [
    "We first define a vector of $\\hat x$ values (`xhat = np.linspace(0, 1)`),"
   ]
  },
  {
   "cell_type": "markdown",
   "metadata": {
    "slideshow": {
     "slide_type": "fragment"
    }
   },
   "source": [
    "then we iterate over all elements and compute\n",
    "\n",
    "$$\n",
    "\\sum_{i=0}^1 u_{g_e^i} \\hat \\phi_i(\\hat x).\n",
    "$$"
   ]
  },
  {
   "cell_type": "markdown",
   "metadata": {
    "slideshow": {
     "slide_type": "fragment"
    }
   },
   "source": [
    "We also map $\\hat x$ to its global position with\n",
    "\n",
    "$$\n",
    "x = g_e(\\hat x).\n",
    "$$"
   ]
  },
  {
   "cell_type": "code",
   "execution_count": 9,
   "metadata": {
    "slideshow": {
     "slide_type": "slide"
    }
   },
   "outputs": [],
   "source": [
    "def interpolate(ui):\n",
    "    u = np.array([])\n",
    "    x = np.array([])\n",
    "\n",
    "    #create the reference evaluation points\n",
    "    xhat = np.linspace(0, 1)\n",
    "\n",
    "    #loop over bases\n",
    "    for e in range(n_elements):\n",
    "        # pick an element\n",
    "        el = elements[e]\n",
    "    \n",
    "        # we want to sum, we initialize to zero\n",
    "        uloc = np.zeros(xhat.shape)\n",
    "\n",
    "        # sum over the local non-zero bases (2)\n",
    "        for i in range(el[\"n_bases\"]):\n",
    "            # g_e^i\n",
    "            glob_node = el[\"loc_2_glob\"][i]\n",
    "            # \\phi_{g_e^i}\n",
    "            loc_base = el[\"phi\"][i]\n",
    "        \n",
    "            uloc += ui[glob_node] * loc_base(xhat)\n",
    "    \n",
    "        u = np.append(u, uloc)\n",
    "        # g_e(\\hat x)\n",
    "        x = np.append(x, el[\"gmapping\"](xhat))\n",
    "    \n",
    "    return x, u"
   ]
  },
  {
   "cell_type": "markdown",
   "metadata": {
    "slideshow": {
     "slide_type": "slide"
    }
   },
   "source": [
    "We can generate a random vector $\\boldsymbol{ui}$ and use the previous function."
   ]
  },
  {
   "cell_type": "code",
   "execution_count": 10,
   "metadata": {},
   "outputs": [
    {
     "data": {
      "application/vnd.plotly.v1+json": {
       "config": {
        "linkText": "Export to plot.ly",
        "plotlyServerURL": "https://plot.ly",
        "showLink": false
       },
       "data": [
        {
         "mode": "lines",
         "type": "scatter",
         "x": [
          0,
          0.002040816326530612,
          0.004081632653061224,
          0.006122448979591837,
          0.008163265306122448,
          0.01020408163265306,
          0.012244897959183675,
          0.014285714285714285,
          0.016326530612244896,
          0.01836734693877551,
          0.02040816326530612,
          0.022448979591836733,
          0.02448979591836735,
          0.026530612244897958,
          0.02857142857142857,
          0.03061224489795918,
          0.03265306122448979,
          0.03469387755102041,
          0.03673469387755102,
          0.03877551020408163,
          0.04081632653061224,
          0.04285714285714286,
          0.044897959183673466,
          0.04693877551020408,
          0.0489795918367347,
          0.05102040816326531,
          0.053061224489795916,
          0.055102040816326525,
          0.05714285714285714,
          0.05918367346938776,
          0.06122448979591836,
          0.06326530612244897,
          0.06530612244897958,
          0.0673469387755102,
          0.06938775510204082,
          0.07142857142857142,
          0.07346938775510203,
          0.07551020408163266,
          0.07755102040816327,
          0.07959183673469387,
          0.08163265306122448,
          0.0836734693877551,
          0.08571428571428572,
          0.08775510204081632,
          0.08979591836734693,
          0.09183673469387754,
          0.09387755102040816,
          0.09591836734693877,
          0.0979591836734694,
          0.1,
          0.1,
          0.10204081632653061,
          0.10408163265306122,
          0.10612244897959185,
          0.10816326530612246,
          0.11020408163265306,
          0.11224489795918369,
          0.1142857142857143,
          0.1163265306122449,
          0.11836734693877551,
          0.12040816326530612,
          0.12244897959183673,
          0.12448979591836735,
          0.12653061224489798,
          0.1285714285714286,
          0.1306122448979592,
          0.1326530612244898,
          0.1346938775510204,
          0.13673469387755102,
          0.13877551020408163,
          0.14081632653061224,
          0.14285714285714285,
          0.14489795918367349,
          0.1469387755102041,
          0.1489795918367347,
          0.1510204081632653,
          0.15306122448979592,
          0.15510204081632653,
          0.15714285714285714,
          0.15918367346938778,
          0.16122448979591836,
          0.163265306122449,
          0.16530612244897958,
          0.1673469387755102,
          0.16938775510204082,
          0.17142857142857143,
          0.17346938775510204,
          0.17551020408163265,
          0.17755102040816328,
          0.17959183673469387,
          0.1816326530612245,
          0.1836734693877551,
          0.18571428571428572,
          0.18775510204081633,
          0.18979591836734694,
          0.19183673469387755,
          0.19387755102040816,
          0.1959183673469388,
          0.1979591836734694,
          0.2,
          0.2,
          0.20204081632653062,
          0.20408163265306123,
          0.20612244897959184,
          0.20816326530612247,
          0.21020408163265308,
          0.2122448979591837,
          0.2142857142857143,
          0.2163265306122449,
          0.21836734693877552,
          0.22040816326530613,
          0.22244897959183674,
          0.22448979591836737,
          0.22653061224489798,
          0.2285714285714286,
          0.2306122448979592,
          0.2326530612244898,
          0.23469387755102045,
          0.23673469387755103,
          0.23877551020408166,
          0.24081632653061227,
          0.24285714285714288,
          0.2448979591836735,
          0.2469387755102041,
          0.24897959183673474,
          0.2510204081632653,
          0.25306122448979596,
          0.25510204081632654,
          0.2571428571428572,
          0.25918367346938775,
          0.2612244897959184,
          0.263265306122449,
          0.2653061224489796,
          0.26734693877551025,
          0.2693877551020408,
          0.27142857142857146,
          0.2734693877551021,
          0.2755102040816327,
          0.2775510204081633,
          0.2795918367346939,
          0.28163265306122454,
          0.2836734693877551,
          0.28571428571428575,
          0.28775510204081634,
          0.28979591836734697,
          0.2918367346938776,
          0.2938775510204082,
          0.2959183673469388,
          0.2979591836734694,
          0.30000000000000004,
          0.30000000000000004,
          0.3020408163265307,
          0.30408163265306126,
          0.3061224489795919,
          0.3081632653061225,
          0.3102040816326531,
          0.3122448979591837,
          0.31428571428571433,
          0.3163265306122449,
          0.31836734693877555,
          0.32040816326530613,
          0.32244897959183677,
          0.3244897959183674,
          0.326530612244898,
          0.3285714285714286,
          0.3306122448979592,
          0.33265306122448984,
          0.3346938775510204,
          0.33673469387755106,
          0.3387755102040817,
          0.3408163265306123,
          0.34285714285714286,
          0.3448979591836735,
          0.34693877551020413,
          0.3489795918367347,
          0.35102040816326535,
          0.35306122448979593,
          0.35510204081632657,
          0.35714285714285715,
          0.3591836734693878,
          0.36122448979591837,
          0.363265306122449,
          0.36530612244897964,
          0.3673469387755102,
          0.36938775510204086,
          0.37142857142857144,
          0.3734693877551021,
          0.37551020408163266,
          0.3775510204081633,
          0.3795918367346939,
          0.3816326530612245,
          0.38367346938775515,
          0.38571428571428573,
          0.38775510204081637,
          0.38979591836734695,
          0.3918367346938776,
          0.39387755102040817,
          0.3959183673469388,
          0.3979591836734694,
          0.4,
          0.4,
          0.40204081632653066,
          0.40408163265306124,
          0.4061224489795919,
          0.40816326530612246,
          0.4102040816326531,
          0.4122448979591837,
          0.4142857142857143,
          0.4163265306122449,
          0.41836734693877553,
          0.4204081632653061,
          0.42244897959183675,
          0.4244897959183674,
          0.42653061224489797,
          0.4285714285714286,
          0.4306122448979592,
          0.4326530612244898,
          0.4346938775510204,
          0.43673469387755104,
          0.4387755102040817,
          0.44081632653061226,
          0.44285714285714284,
          0.4448979591836735,
          0.4469387755102041,
          0.4489795918367347,
          0.45102040816326533,
          0.4530612244897959,
          0.45510204081632655,
          0.45714285714285713,
          0.45918367346938777,
          0.46122448979591835,
          0.463265306122449,
          0.4653061224489796,
          0.4673469387755102,
          0.46938775510204084,
          0.4714285714285714,
          0.47346938775510206,
          0.47551020408163264,
          0.4775510204081633,
          0.47959183673469385,
          0.4816326530612245,
          0.48367346938775513,
          0.4857142857142857,
          0.48775510204081635,
          0.4897959183673469,
          0.49183673469387756,
          0.49387755102040815,
          0.4959183673469388,
          0.49795918367346936,
          0.5,
          0.5,
          0.5020408163265306,
          0.5040816326530613,
          0.5061224489795918,
          0.5081632653061224,
          0.5102040816326531,
          0.5122448979591837,
          0.5142857142857143,
          0.5163265306122449,
          0.5183673469387755,
          0.5204081632653061,
          0.5224489795918368,
          0.5244897959183674,
          0.5265306122448979,
          0.5285714285714286,
          0.5306122448979592,
          0.5326530612244899,
          0.5346938775510204,
          0.536734693877551,
          0.5387755102040817,
          0.5408163265306123,
          0.5428571428571429,
          0.5448979591836735,
          0.5469387755102041,
          0.5489795918367347,
          0.5510204081632654,
          0.553061224489796,
          0.5551020408163265,
          0.5571428571428572,
          0.5591836734693878,
          0.5612244897959184,
          0.5632653061224491,
          0.5653061224489796,
          0.5673469387755102,
          0.5693877551020409,
          0.5714285714285715,
          0.5734693877551021,
          0.5755102040816327,
          0.5775510204081633,
          0.5795918367346939,
          0.5816326530612246,
          0.5836734693877552,
          0.5857142857142857,
          0.5877551020408164,
          0.589795918367347,
          0.5918367346938777,
          0.5938775510204082,
          0.5959183673469388,
          0.5979591836734695,
          0.6000000000000001,
          0.6000000000000001,
          0.6020408163265307,
          0.6040816326530614,
          0.6061224489795919,
          0.6081632653061225,
          0.6102040816326532,
          0.6122448979591838,
          0.6142857142857143,
          0.616326530612245,
          0.6183673469387756,
          0.6204081632653062,
          0.6224489795918369,
          0.6244897959183674,
          0.626530612244898,
          0.6285714285714287,
          0.6306122448979593,
          0.6326530612244898,
          0.6346938775510205,
          0.6367346938775511,
          0.6387755102040817,
          0.6408163265306123,
          0.6428571428571429,
          0.6448979591836735,
          0.6469387755102042,
          0.6489795918367348,
          0.6510204081632653,
          0.653061224489796,
          0.6551020408163266,
          0.6571428571428573,
          0.6591836734693879,
          0.6612244897959184,
          0.663265306122449,
          0.6653061224489797,
          0.6673469387755103,
          0.6693877551020408,
          0.6714285714285715,
          0.6734693877551021,
          0.6755102040816328,
          0.6775510204081634,
          0.6795918367346939,
          0.6816326530612246,
          0.6836734693877552,
          0.6857142857142857,
          0.6877551020408164,
          0.689795918367347,
          0.6918367346938776,
          0.6938775510204083,
          0.6959183673469388,
          0.6979591836734694,
          0.7000000000000001,
          0.7000000000000001,
          0.7020408163265307,
          0.7040816326530613,
          0.7061224489795919,
          0.7081632653061225,
          0.7102040816326531,
          0.7122448979591838,
          0.7142857142857143,
          0.7163265306122449,
          0.7183673469387756,
          0.7204081632653062,
          0.7224489795918367,
          0.7244897959183674,
          0.726530612244898,
          0.7285714285714286,
          0.7306122448979593,
          0.7326530612244898,
          0.7346938775510204,
          0.7367346938775511,
          0.7387755102040817,
          0.7408163265306122,
          0.7428571428571429,
          0.7448979591836735,
          0.7469387755102042,
          0.7489795918367348,
          0.7510204081632653,
          0.753061224489796,
          0.7551020408163266,
          0.7571428571428572,
          0.7591836734693878,
          0.7612244897959184,
          0.763265306122449,
          0.7653061224489797,
          0.7673469387755103,
          0.7693877551020408,
          0.7714285714285715,
          0.7734693877551021,
          0.7755102040816327,
          0.7775510204081633,
          0.7795918367346939,
          0.7816326530612245,
          0.7836734693877552,
          0.7857142857142858,
          0.7877551020408163,
          0.789795918367347,
          0.7918367346938776,
          0.7938775510204082,
          0.7959183673469388,
          0.7979591836734694,
          0.8,
          0.8,
          0.8020408163265307,
          0.8040816326530613,
          0.8061224489795918,
          0.8081632653061225,
          0.8102040816326531,
          0.8122448979591838,
          0.8142857142857143,
          0.8163265306122449,
          0.8183673469387756,
          0.8204081632653062,
          0.8224489795918368,
          0.8244897959183674,
          0.826530612244898,
          0.8285714285714286,
          0.8306122448979593,
          0.8326530612244898,
          0.8346938775510204,
          0.8367346938775511,
          0.8387755102040817,
          0.8408163265306122,
          0.8428571428571429,
          0.8448979591836735,
          0.8469387755102041,
          0.8489795918367348,
          0.8510204081632653,
          0.8530612244897959,
          0.8551020408163266,
          0.8571428571428572,
          0.8591836734693878,
          0.8612244897959184,
          0.863265306122449,
          0.8653061224489796,
          0.8673469387755103,
          0.8693877551020408,
          0.8714285714285714,
          0.8734693877551021,
          0.8755102040816327,
          0.8775510204081634,
          0.8795918367346939,
          0.8816326530612245,
          0.8836734693877552,
          0.8857142857142857,
          0.8877551020408163,
          0.889795918367347,
          0.8918367346938776,
          0.8938775510204082,
          0.8959183673469387,
          0.8979591836734694,
          0.9,
          0.9,
          0.9020408163265307,
          0.9040816326530613,
          0.9061224489795918,
          0.9081632653061225,
          0.9102040816326531,
          0.9122448979591837,
          0.9142857142857143,
          0.9163265306122449,
          0.9183673469387755,
          0.9204081632653062,
          0.9224489795918367,
          0.9244897959183673,
          0.926530612244898,
          0.9285714285714286,
          0.9306122448979592,
          0.9326530612244898,
          0.9346938775510204,
          0.936734693877551,
          0.9387755102040817,
          0.9408163265306122,
          0.9428571428571428,
          0.9448979591836735,
          0.9469387755102041,
          0.9489795918367347,
          0.9510204081632653,
          0.9530612244897959,
          0.9551020408163265,
          0.9571428571428572,
          0.9591836734693877,
          0.9612244897959183,
          0.963265306122449,
          0.9653061224489796,
          0.9673469387755103,
          0.9693877551020408,
          0.9714285714285714,
          0.9734693877551021,
          0.9755102040816327,
          0.9775510204081632,
          0.9795918367346939,
          0.9816326530612245,
          0.9836734693877551,
          0.9857142857142858,
          0.9877551020408163,
          0.9897959183673469,
          0.9918367346938776,
          0.9938775510204082,
          0.9959183673469387,
          0.9979591836734694,
          1
         ],
         "y": [
          0.8779853483676318,
          0.8748117564436796,
          0.8716381645197274,
          0.8684645725957754,
          0.8652909806718231,
          0.8621173887478708,
          0.8589437968239186,
          0.8557702048999666,
          0.8525966129760144,
          0.8494230210520622,
          0.8462494291281101,
          0.8430758372041579,
          0.8399022452802057,
          0.8367286533562536,
          0.8335550614323014,
          0.8303814695083493,
          0.8272078775843972,
          0.824034285660445,
          0.8208606937364928,
          0.8176871018125407,
          0.8145135098885884,
          0.8113399179646361,
          0.8081663260406841,
          0.8049927341167319,
          0.8018191421927797,
          0.7986455502688276,
          0.7954719583448754,
          0.7922983664209232,
          0.789124774496971,
          0.7859511825730189,
          0.7827775906490667,
          0.7796039987251145,
          0.7764304068011624,
          0.7732568148772102,
          0.770083222953258,
          0.766909631029306,
          0.7637360391053538,
          0.7605624471814016,
          0.7573888552574494,
          0.7542152633334972,
          0.751041671409545,
          0.7478680794855929,
          0.7446944875616407,
          0.7415208956376885,
          0.7383473037137365,
          0.7351737117897842,
          0.732000119865832,
          0.7288265279418799,
          0.7256529360179277,
          0.7224793440939755,
          0.7224793440939755,
          0.7135101223617283,
          0.704540900629481,
          0.695571678897234,
          0.6866024571649867,
          0.6776332354327395,
          0.6686640137004922,
          0.6596947919682451,
          0.650725570235998,
          0.6417563485037507,
          0.6327871267715035,
          0.6238179050392563,
          0.614848683307009,
          0.6058794615747618,
          0.5969102398425147,
          0.5879410181102676,
          0.5789717963780203,
          0.5700025746457731,
          0.5610333529135259,
          0.5520641311812786,
          0.5430949094490314,
          0.5341256877167843,
          0.525156465984537,
          0.5161872442522899,
          0.5072180225200427,
          0.49824880078779543,
          0.48927957905554825,
          0.4803103573233011,
          0.47134113559105384,
          0.46237191385880666,
          0.4534026921265595,
          0.44443347039431225,
          0.43546424866206507,
          0.4264950269298179,
          0.41752580519757065,
          0.4085565834653235,
          0.3995873617330763,
          0.39061814000082906,
          0.3816489182685818,
          0.3726796965363347,
          0.36371047480408747,
          0.35474125307184023,
          0.345772031339593,
          0.3368028096073458,
          0.32783358787509864,
          0.3188643661428514,
          0.3098951444106042,
          0.300925922678357,
          0.29195670094610976,
          0.2829874792138626,
          0.2829874792138626,
          0.29668559795054106,
          0.3103837166872196,
          0.3240818354238982,
          0.33777995416057666,
          0.3514780728972552,
          0.3651761916339337,
          0.37887431037061226,
          0.39257242910729073,
          0.40627054784396927,
          0.4199686665806478,
          0.4336667853173263,
          0.44736490405400486,
          0.46106302279068334,
          0.47476114152736193,
          0.4884592602640404,
          0.502157379000719,
          0.5158554977373975,
          0.529553616474076,
          0.5432517352107545,
          0.556949853947433,
          0.5706479726841115,
          0.5843460914207901,
          0.5980442101574686,
          0.6117423288941471,
          0.6254404476308256,
          0.6391385663675041,
          0.6528366851041827,
          0.6665348038408612,
          0.6802329225775398,
          0.6939310413142182,
          0.7076291600508967,
          0.7213272787875753,
          0.7350253975242538,
          0.7487235162609324,
          0.7624216349976108,
          0.7761197537342893,
          0.7898178724709679,
          0.8035159912076464,
          0.8172141099443249,
          0.8309122286810035,
          0.8446103474176819,
          0.8583084661543605,
          0.872006584891039,
          0.8857047036277175,
          0.8994028223643961,
          0.9131009411010746,
          0.9267990598377531,
          0.9404971785744316,
          0.9541952973111102,
          0.9541952973111102,
          0.9415269114359884,
          0.9288585255608668,
          0.9161901396857453,
          0.9035217538106236,
          0.8908533679355018,
          0.8781849820603801,
          0.8655165961852586,
          0.8528482103101368,
          0.8401798244350152,
          0.8275114385598935,
          0.8148430526847718,
          0.8021746668096501,
          0.7895062809345285,
          0.7768378950594068,
          0.7641695091842853,
          0.7515011233091635,
          0.7388327374340419,
          0.7261643515589201,
          0.7134959656837984,
          0.7008275798086767,
          0.6881591939335551,
          0.6754908080584334,
          0.6628224221833118,
          0.6501540363081901,
          0.6374856504330684,
          0.6248172645579467,
          0.6121488786828251,
          0.5994804928077034,
          0.5868121069325818,
          0.5741437210574601,
          0.5614753351823384,
          0.5488069493072167,
          0.5361385634320951,
          0.5234701775569733,
          0.5108017916818518,
          0.49813340580673005,
          0.4854650199316084,
          0.4727966340564867,
          0.4601282481813651,
          0.44745986230624335,
          0.4347914764311217,
          0.42212309055600006,
          0.40945470468087836,
          0.3967863188057567,
          0.384117932930635,
          0.37144954705551336,
          0.35878116118039166,
          0.34611277530527,
          0.3334443894301483,
          0.3334443894301483,
          0.3460232310458628,
          0.35860207266157734,
          0.3711809142772919,
          0.38375975589300637,
          0.3963385975087209,
          0.4089174391244354,
          0.42149628074014994,
          0.43407512235586443,
          0.44665396397157897,
          0.45923280558729346,
          0.47181164720300794,
          0.4843904888187225,
          0.49696933043443703,
          0.5095481720501516,
          0.522127013665866,
          0.5347058552815807,
          0.5472846968972951,
          0.5598635385130096,
          0.5724423801287242,
          0.5850212217444386,
          0.5976000633601531,
          0.6101789049758677,
          0.6227577465915822,
          0.6353365882072968,
          0.6479154298230112,
          0.6604942714387257,
          0.6730731130544403,
          0.6856519546701547,
          0.6982307962858694,
          0.7108096379015838,
          0.7233884795172982,
          0.7359673211330129,
          0.7485461627487273,
          0.7611250043644419,
          0.7737038459801564,
          0.7862826875958708,
          0.7988615292115855,
          0.8114403708272999,
          0.8240192124430143,
          0.836598054058729,
          0.8491768956744434,
          0.861755737290158,
          0.8743345789058725,
          0.886913420521587,
          0.8994922621373016,
          0.912071103753016,
          0.9246499453687306,
          0.9372287869844451,
          0.9498076286001597,
          0.9498076286001597,
          0.9406969237257246,
          0.9315862188512894,
          0.9224755139768545,
          0.9133648091024195,
          0.9042541042279842,
          0.8951433993535493,
          0.8860326944791141,
          0.8769219896046792,
          0.867811284730244,
          0.8587005798558089,
          0.8495898749813738,
          0.8404791701069388,
          0.8313684652325037,
          0.8222577603580687,
          0.8131470554836336,
          0.8040363506091985,
          0.7949256457347635,
          0.7858149408603283,
          0.7767042359858933,
          0.7675935311114582,
          0.7584828262370231,
          0.7493721213625881,
          0.7402614164881531,
          0.7311507116137179,
          0.7220400067392829,
          0.7129293018648479,
          0.7038185969904127,
          0.6947078921159777,
          0.6855971872415426,
          0.6764864823671075,
          0.6673757774926725,
          0.6582650726182374,
          0.6491543677438023,
          0.6400436628693673,
          0.6309329579949322,
          0.6218222531204971,
          0.6127115482460621,
          0.6036008433716269,
          0.5944901384971919,
          0.5853794336227569,
          0.5762687287483218,
          0.5671580238738867,
          0.5580473189994516,
          0.5489366141250166,
          0.5398259092505815,
          0.5307152043761465,
          0.5216044995017114,
          0.5124937946272763,
          0.5033830897528412,
          0.5033830897528412,
          0.4975069057936585,
          0.4916307218344758,
          0.4857545378752932,
          0.47987835391611044,
          0.4740021699569278,
          0.4681259859977451,
          0.4622498020385625,
          0.45637361807937976,
          0.4504974341201971,
          0.4446212501610144,
          0.4387450662018317,
          0.43286888224264897,
          0.42699269828346637,
          0.42111651432428365,
          0.41524033036510105,
          0.40936414640591834,
          0.4034879624467357,
          0.3976117784875529,
          0.39173559452837026,
          0.3858594105691876,
          0.3799832266100049,
          0.3741070426508223,
          0.3682308586916396,
          0.3623546747324569,
          0.3564784907732742,
          0.35060230681409155,
          0.34472612285490883,
          0.3388499388957262,
          0.33297375493654346,
          0.3270975709773608,
          0.32122138701817815,
          0.3153452030589955,
          0.3094690190998128,
          0.30359283514063007,
          0.2977166511814474,
          0.29184046722226475,
          0.28596428326308204,
          0.28008809930389933,
          0.2742119153447167,
          0.268335731385534,
          0.26245954742635136,
          0.25658336346716865,
          0.25070717950798593,
          0.24483099554880333,
          0.23895481158962062,
          0.23307862763043793,
          0.22720244367125528,
          0.22132625971207256,
          0.21545007575288988,
          0.21545007575288988,
          0.22222962276635227,
          0.22900916977981467,
          0.2357887167932771,
          0.2425682638067395,
          0.24934781082020188,
          0.25612735783366425,
          0.2629069048471267,
          0.2696864518605891,
          0.2764659988740515,
          0.2832455458875138,
          0.2900250929009762,
          0.2968046399144387,
          0.30358418692790107,
          0.31036373394136346,
          0.31714328095482586,
          0.3239228279682883,
          0.3307023749817507,
          0.33748192199521304,
          0.3442614690086755,
          0.3510410160221379,
          0.3578205630356002,
          0.3646001100490627,
          0.37137965706252507,
          0.37815920407598747,
          0.38493875108944986,
          0.39171829810291225,
          0.39849784511637465,
          0.40527739212983704,
          0.4120569391432995,
          0.41883648615676183,
          0.42561603317022423,
          0.4323955801836866,
          0.439175127197149,
          0.44595467421061147,
          0.4527342212240738,
          0.4595137682375362,
          0.4662933152509986,
          0.47307286226446105,
          0.47985240927792344,
          0.48663195629138584,
          0.4934115033048482,
          0.5001910503183106,
          0.5069705973317731,
          0.5137501443452355,
          0.5205296913586978,
          0.5273092383721603,
          0.5340887853856227,
          0.540868332399085,
          0.5476478794125474,
          0.5476478794125474,
          0.5535284992169761,
          0.5594091190214046,
          0.5652897388258332,
          0.5711703586302619,
          0.5770509784346904,
          0.582931598239119,
          0.5888122180435477,
          0.5946928378479762,
          0.6005734576524049,
          0.6064540774568334,
          0.612334697261262,
          0.6182153170656906,
          0.6240959368701191,
          0.6299765566745478,
          0.6358571764789764,
          0.641737796283405,
          0.6476184160878335,
          0.6534990358922621,
          0.6593796556966908,
          0.6652602755011193,
          0.671140895305548,
          0.6770215151099765,
          0.6829021349144051,
          0.6887827547188337,
          0.6946633745232624,
          0.700543994327691,
          0.7064246141321195,
          0.7123052339365481,
          0.7181858537409768,
          0.7240664735454052,
          0.7299470933498339,
          0.7358277131542625,
          0.7417083329586911,
          0.7475889527631198,
          0.7534695725675483,
          0.7593501923719769,
          0.7652308121764055,
          0.7711114319808341,
          0.7769920517852626,
          0.7828726715896912,
          0.7887532913941199,
          0.7946339111985484,
          0.8005145310029771,
          0.8063951508074056,
          0.8122757706118343,
          0.8181563904162628,
          0.8240370102206914,
          0.82991763002512,
          0.8357982498295486,
          0.8357982498295486,
          0.8292039506121825,
          0.8226096513948165,
          0.8160153521774505,
          0.8094210529600843,
          0.8028267537427183,
          0.7962324545253522,
          0.7896381553079862,
          0.7830438560906201,
          0.776449556873254,
          0.7698552576558879,
          0.7632609584385217,
          0.7566666592211557,
          0.7500723600037897,
          0.7434780607864236,
          0.7368837615690577,
          0.7302894623516916,
          0.7236951631343255,
          0.7171008639169594,
          0.7105065646995932,
          0.7039122654822272,
          0.6973179662648611,
          0.690723667047495,
          0.684129367830129,
          0.6775350686127629,
          0.6709407693953968,
          0.6643464701780308,
          0.6577521709606646,
          0.6511578717432986,
          0.6445635725259325,
          0.6379692733085665,
          0.6313749740912005,
          0.6247806748738344,
          0.6181863756564683,
          0.6115920764391022,
          0.6049977772217362,
          0.5984034780043701,
          0.5918091787870039,
          0.5852148795696379,
          0.5786205803522718,
          0.5720262811349057,
          0.5654319819175397,
          0.5588376827001736,
          0.5522433834828075,
          0.5456490842654415,
          0.5390547850480754,
          0.5324604858307094,
          0.5258661866133433,
          0.5192718873959772,
          0.5126775881786111
         ]
        },
        {
         "mode": "markers",
         "type": "scatter",
         "x": [
          0,
          0.1,
          0.2,
          0.30000000000000004,
          0.4,
          0.5,
          0.6000000000000001,
          0.7000000000000001,
          0.8,
          0.9,
          1
         ],
         "y": [
          0.8779853483676318,
          0.7224793440939755,
          0.2829874792138626,
          0.9541952973111102,
          0.3334443894301483,
          0.9498076286001597,
          0.5033830897528412,
          0.21545007575288988,
          0.5476478794125474,
          0.8357982498295486,
          0.5126775881786111
         ]
        }
       ],
       "layout": {
        "template": {
         "data": {
          "bar": [
           {
            "error_x": {
             "color": "#2a3f5f"
            },
            "error_y": {
             "color": "#2a3f5f"
            },
            "marker": {
             "line": {
              "color": "#E5ECF6",
              "width": 0.5
             }
            },
            "type": "bar"
           }
          ],
          "barpolar": [
           {
            "marker": {
             "line": {
              "color": "#E5ECF6",
              "width": 0.5
             }
            },
            "type": "barpolar"
           }
          ],
          "carpet": [
           {
            "aaxis": {
             "endlinecolor": "#2a3f5f",
             "gridcolor": "white",
             "linecolor": "white",
             "minorgridcolor": "white",
             "startlinecolor": "#2a3f5f"
            },
            "baxis": {
             "endlinecolor": "#2a3f5f",
             "gridcolor": "white",
             "linecolor": "white",
             "minorgridcolor": "white",
             "startlinecolor": "#2a3f5f"
            },
            "type": "carpet"
           }
          ],
          "choropleth": [
           {
            "colorbar": {
             "outlinewidth": 0,
             "ticks": ""
            },
            "type": "choropleth"
           }
          ],
          "contour": [
           {
            "colorbar": {
             "outlinewidth": 0,
             "ticks": ""
            },
            "colorscale": [
             [
              0,
              "#0d0887"
             ],
             [
              0.1111111111111111,
              "#46039f"
             ],
             [
              0.2222222222222222,
              "#7201a8"
             ],
             [
              0.3333333333333333,
              "#9c179e"
             ],
             [
              0.4444444444444444,
              "#bd3786"
             ],
             [
              0.5555555555555556,
              "#d8576b"
             ],
             [
              0.6666666666666666,
              "#ed7953"
             ],
             [
              0.7777777777777778,
              "#fb9f3a"
             ],
             [
              0.8888888888888888,
              "#fdca26"
             ],
             [
              1,
              "#f0f921"
             ]
            ],
            "type": "contour"
           }
          ],
          "contourcarpet": [
           {
            "colorbar": {
             "outlinewidth": 0,
             "ticks": ""
            },
            "type": "contourcarpet"
           }
          ],
          "heatmap": [
           {
            "colorbar": {
             "outlinewidth": 0,
             "ticks": ""
            },
            "colorscale": [
             [
              0,
              "#0d0887"
             ],
             [
              0.1111111111111111,
              "#46039f"
             ],
             [
              0.2222222222222222,
              "#7201a8"
             ],
             [
              0.3333333333333333,
              "#9c179e"
             ],
             [
              0.4444444444444444,
              "#bd3786"
             ],
             [
              0.5555555555555556,
              "#d8576b"
             ],
             [
              0.6666666666666666,
              "#ed7953"
             ],
             [
              0.7777777777777778,
              "#fb9f3a"
             ],
             [
              0.8888888888888888,
              "#fdca26"
             ],
             [
              1,
              "#f0f921"
             ]
            ],
            "type": "heatmap"
           }
          ],
          "heatmapgl": [
           {
            "colorbar": {
             "outlinewidth": 0,
             "ticks": ""
            },
            "colorscale": [
             [
              0,
              "#0d0887"
             ],
             [
              0.1111111111111111,
              "#46039f"
             ],
             [
              0.2222222222222222,
              "#7201a8"
             ],
             [
              0.3333333333333333,
              "#9c179e"
             ],
             [
              0.4444444444444444,
              "#bd3786"
             ],
             [
              0.5555555555555556,
              "#d8576b"
             ],
             [
              0.6666666666666666,
              "#ed7953"
             ],
             [
              0.7777777777777778,
              "#fb9f3a"
             ],
             [
              0.8888888888888888,
              "#fdca26"
             ],
             [
              1,
              "#f0f921"
             ]
            ],
            "type": "heatmapgl"
           }
          ],
          "histogram": [
           {
            "marker": {
             "colorbar": {
              "outlinewidth": 0,
              "ticks": ""
             }
            },
            "type": "histogram"
           }
          ],
          "histogram2d": [
           {
            "colorbar": {
             "outlinewidth": 0,
             "ticks": ""
            },
            "colorscale": [
             [
              0,
              "#0d0887"
             ],
             [
              0.1111111111111111,
              "#46039f"
             ],
             [
              0.2222222222222222,
              "#7201a8"
             ],
             [
              0.3333333333333333,
              "#9c179e"
             ],
             [
              0.4444444444444444,
              "#bd3786"
             ],
             [
              0.5555555555555556,
              "#d8576b"
             ],
             [
              0.6666666666666666,
              "#ed7953"
             ],
             [
              0.7777777777777778,
              "#fb9f3a"
             ],
             [
              0.8888888888888888,
              "#fdca26"
             ],
             [
              1,
              "#f0f921"
             ]
            ],
            "type": "histogram2d"
           }
          ],
          "histogram2dcontour": [
           {
            "colorbar": {
             "outlinewidth": 0,
             "ticks": ""
            },
            "colorscale": [
             [
              0,
              "#0d0887"
             ],
             [
              0.1111111111111111,
              "#46039f"
             ],
             [
              0.2222222222222222,
              "#7201a8"
             ],
             [
              0.3333333333333333,
              "#9c179e"
             ],
             [
              0.4444444444444444,
              "#bd3786"
             ],
             [
              0.5555555555555556,
              "#d8576b"
             ],
             [
              0.6666666666666666,
              "#ed7953"
             ],
             [
              0.7777777777777778,
              "#fb9f3a"
             ],
             [
              0.8888888888888888,
              "#fdca26"
             ],
             [
              1,
              "#f0f921"
             ]
            ],
            "type": "histogram2dcontour"
           }
          ],
          "mesh3d": [
           {
            "colorbar": {
             "outlinewidth": 0,
             "ticks": ""
            },
            "type": "mesh3d"
           }
          ],
          "parcoords": [
           {
            "line": {
             "colorbar": {
              "outlinewidth": 0,
              "ticks": ""
             }
            },
            "type": "parcoords"
           }
          ],
          "scatter": [
           {
            "marker": {
             "colorbar": {
              "outlinewidth": 0,
              "ticks": ""
             }
            },
            "type": "scatter"
           }
          ],
          "scatter3d": [
           {
            "line": {
             "colorbar": {
              "outlinewidth": 0,
              "ticks": ""
             }
            },
            "marker": {
             "colorbar": {
              "outlinewidth": 0,
              "ticks": ""
             }
            },
            "type": "scatter3d"
           }
          ],
          "scattercarpet": [
           {
            "marker": {
             "colorbar": {
              "outlinewidth": 0,
              "ticks": ""
             }
            },
            "type": "scattercarpet"
           }
          ],
          "scattergeo": [
           {
            "marker": {
             "colorbar": {
              "outlinewidth": 0,
              "ticks": ""
             }
            },
            "type": "scattergeo"
           }
          ],
          "scattergl": [
           {
            "marker": {
             "colorbar": {
              "outlinewidth": 0,
              "ticks": ""
             }
            },
            "type": "scattergl"
           }
          ],
          "scattermapbox": [
           {
            "marker": {
             "colorbar": {
              "outlinewidth": 0,
              "ticks": ""
             }
            },
            "type": "scattermapbox"
           }
          ],
          "scatterpolar": [
           {
            "marker": {
             "colorbar": {
              "outlinewidth": 0,
              "ticks": ""
             }
            },
            "type": "scatterpolar"
           }
          ],
          "scatterpolargl": [
           {
            "marker": {
             "colorbar": {
              "outlinewidth": 0,
              "ticks": ""
             }
            },
            "type": "scatterpolargl"
           }
          ],
          "scatterternary": [
           {
            "marker": {
             "colorbar": {
              "outlinewidth": 0,
              "ticks": ""
             }
            },
            "type": "scatterternary"
           }
          ],
          "surface": [
           {
            "colorbar": {
             "outlinewidth": 0,
             "ticks": ""
            },
            "colorscale": [
             [
              0,
              "#0d0887"
             ],
             [
              0.1111111111111111,
              "#46039f"
             ],
             [
              0.2222222222222222,
              "#7201a8"
             ],
             [
              0.3333333333333333,
              "#9c179e"
             ],
             [
              0.4444444444444444,
              "#bd3786"
             ],
             [
              0.5555555555555556,
              "#d8576b"
             ],
             [
              0.6666666666666666,
              "#ed7953"
             ],
             [
              0.7777777777777778,
              "#fb9f3a"
             ],
             [
              0.8888888888888888,
              "#fdca26"
             ],
             [
              1,
              "#f0f921"
             ]
            ],
            "type": "surface"
           }
          ],
          "table": [
           {
            "cells": {
             "fill": {
              "color": "#EBF0F8"
             },
             "line": {
              "color": "white"
             }
            },
            "header": {
             "fill": {
              "color": "#C8D4E3"
             },
             "line": {
              "color": "white"
             }
            },
            "type": "table"
           }
          ]
         },
         "layout": {
          "annotationdefaults": {
           "arrowcolor": "#2a3f5f",
           "arrowhead": 0,
           "arrowwidth": 1
          },
          "colorscale": {
           "diverging": [
            [
             0,
             "#8e0152"
            ],
            [
             0.1,
             "#c51b7d"
            ],
            [
             0.2,
             "#de77ae"
            ],
            [
             0.3,
             "#f1b6da"
            ],
            [
             0.4,
             "#fde0ef"
            ],
            [
             0.5,
             "#f7f7f7"
            ],
            [
             0.6,
             "#e6f5d0"
            ],
            [
             0.7,
             "#b8e186"
            ],
            [
             0.8,
             "#7fbc41"
            ],
            [
             0.9,
             "#4d9221"
            ],
            [
             1,
             "#276419"
            ]
           ],
           "sequential": [
            [
             0,
             "#0d0887"
            ],
            [
             0.1111111111111111,
             "#46039f"
            ],
            [
             0.2222222222222222,
             "#7201a8"
            ],
            [
             0.3333333333333333,
             "#9c179e"
            ],
            [
             0.4444444444444444,
             "#bd3786"
            ],
            [
             0.5555555555555556,
             "#d8576b"
            ],
            [
             0.6666666666666666,
             "#ed7953"
            ],
            [
             0.7777777777777778,
             "#fb9f3a"
            ],
            [
             0.8888888888888888,
             "#fdca26"
            ],
            [
             1,
             "#f0f921"
            ]
           ],
           "sequentialminus": [
            [
             0,
             "#0d0887"
            ],
            [
             0.1111111111111111,
             "#46039f"
            ],
            [
             0.2222222222222222,
             "#7201a8"
            ],
            [
             0.3333333333333333,
             "#9c179e"
            ],
            [
             0.4444444444444444,
             "#bd3786"
            ],
            [
             0.5555555555555556,
             "#d8576b"
            ],
            [
             0.6666666666666666,
             "#ed7953"
            ],
            [
             0.7777777777777778,
             "#fb9f3a"
            ],
            [
             0.8888888888888888,
             "#fdca26"
            ],
            [
             1,
             "#f0f921"
            ]
           ]
          },
          "colorway": [
           "#636efa",
           "#EF553B",
           "#00cc96",
           "#ab63fa",
           "#FFA15A",
           "#19d3f3",
           "#FF6692",
           "#B6E880",
           "#FF97FF",
           "#FECB52"
          ],
          "font": {
           "color": "#2a3f5f"
          },
          "geo": {
           "bgcolor": "white",
           "lakecolor": "white",
           "landcolor": "#E5ECF6",
           "showlakes": true,
           "showland": true,
           "subunitcolor": "white"
          },
          "hoverlabel": {
           "align": "left"
          },
          "hovermode": "closest",
          "mapbox": {
           "style": "light"
          },
          "paper_bgcolor": "white",
          "plot_bgcolor": "#E5ECF6",
          "polar": {
           "angularaxis": {
            "gridcolor": "white",
            "linecolor": "white",
            "ticks": ""
           },
           "bgcolor": "#E5ECF6",
           "radialaxis": {
            "gridcolor": "white",
            "linecolor": "white",
            "ticks": ""
           }
          },
          "scene": {
           "xaxis": {
            "backgroundcolor": "#E5ECF6",
            "gridcolor": "white",
            "gridwidth": 2,
            "linecolor": "white",
            "showbackground": true,
            "ticks": "",
            "zerolinecolor": "white"
           },
           "yaxis": {
            "backgroundcolor": "#E5ECF6",
            "gridcolor": "white",
            "gridwidth": 2,
            "linecolor": "white",
            "showbackground": true,
            "ticks": "",
            "zerolinecolor": "white"
           },
           "zaxis": {
            "backgroundcolor": "#E5ECF6",
            "gridcolor": "white",
            "gridwidth": 2,
            "linecolor": "white",
            "showbackground": true,
            "ticks": "",
            "zerolinecolor": "white"
           }
          },
          "shapedefaults": {
           "line": {
            "color": "#2a3f5f"
           }
          },
          "ternary": {
           "aaxis": {
            "gridcolor": "white",
            "linecolor": "white",
            "ticks": ""
           },
           "baxis": {
            "gridcolor": "white",
            "linecolor": "white",
            "ticks": ""
           },
           "bgcolor": "#E5ECF6",
           "caxis": {
            "gridcolor": "white",
            "linecolor": "white",
            "ticks": ""
           }
          },
          "title": {
           "x": 0.05
          },
          "xaxis": {
           "automargin": true,
           "gridcolor": "white",
           "linecolor": "white",
           "ticks": "",
           "zerolinecolor": "white",
           "zerolinewidth": 2
          },
          "yaxis": {
           "automargin": true,
           "gridcolor": "white",
           "linecolor": "white",
           "ticks": "",
           "zerolinecolor": "white",
           "zerolinewidth": 2
          }
         }
        }
       }
      },
      "text/html": [
       "<div>\n",
       "        \n",
       "        \n",
       "            <div id=\"1c969a35-86c1-4a4e-b07c-a20a32517d93\" class=\"plotly-graph-div\" style=\"height:525px; width:100%;\"></div>\n",
       "            <script type=\"text/javascript\">\n",
       "                require([\"plotly\"], function(Plotly) {\n",
       "                    window.PLOTLYENV=window.PLOTLYENV || {};\n",
       "                    \n",
       "                if (document.getElementById(\"1c969a35-86c1-4a4e-b07c-a20a32517d93\")) {\n",
       "                    Plotly.newPlot(\n",
       "                        '1c969a35-86c1-4a4e-b07c-a20a32517d93',\n",
       "                        [{\"mode\": \"lines\", \"type\": \"scatter\", \"x\": [0.0, 0.002040816326530612, 0.004081632653061224, 0.006122448979591837, 0.008163265306122448, 0.01020408163265306, 0.012244897959183675, 0.014285714285714285, 0.016326530612244896, 0.01836734693877551, 0.02040816326530612, 0.022448979591836733, 0.02448979591836735, 0.026530612244897958, 0.02857142857142857, 0.03061224489795918, 0.03265306122448979, 0.03469387755102041, 0.03673469387755102, 0.03877551020408163, 0.04081632653061224, 0.04285714285714286, 0.044897959183673466, 0.04693877551020408, 0.0489795918367347, 0.05102040816326531, 0.053061224489795916, 0.055102040816326525, 0.05714285714285714, 0.05918367346938776, 0.06122448979591836, 0.06326530612244897, 0.06530612244897958, 0.0673469387755102, 0.06938775510204082, 0.07142857142857142, 0.07346938775510203, 0.07551020408163266, 0.07755102040816327, 0.07959183673469387, 0.08163265306122448, 0.0836734693877551, 0.08571428571428572, 0.08775510204081632, 0.08979591836734693, 0.09183673469387754, 0.09387755102040816, 0.09591836734693877, 0.0979591836734694, 0.1, 0.1, 0.10204081632653061, 0.10408163265306122, 0.10612244897959185, 0.10816326530612246, 0.11020408163265306, 0.11224489795918369, 0.1142857142857143, 0.1163265306122449, 0.11836734693877551, 0.12040816326530612, 0.12244897959183673, 0.12448979591836735, 0.12653061224489798, 0.1285714285714286, 0.1306122448979592, 0.1326530612244898, 0.1346938775510204, 0.13673469387755102, 0.13877551020408163, 0.14081632653061224, 0.14285714285714285, 0.14489795918367349, 0.1469387755102041, 0.1489795918367347, 0.1510204081632653, 0.15306122448979592, 0.15510204081632653, 0.15714285714285714, 0.15918367346938778, 0.16122448979591836, 0.163265306122449, 0.16530612244897958, 0.1673469387755102, 0.16938775510204082, 0.17142857142857143, 0.17346938775510204, 0.17551020408163265, 0.17755102040816328, 0.17959183673469387, 0.1816326530612245, 0.1836734693877551, 0.18571428571428572, 0.18775510204081633, 0.18979591836734694, 0.19183673469387755, 0.19387755102040816, 0.1959183673469388, 0.1979591836734694, 0.2, 0.2, 0.20204081632653062, 0.20408163265306123, 0.20612244897959184, 0.20816326530612247, 0.21020408163265308, 0.2122448979591837, 0.2142857142857143, 0.2163265306122449, 0.21836734693877552, 0.22040816326530613, 0.22244897959183674, 0.22448979591836737, 0.22653061224489798, 0.2285714285714286, 0.2306122448979592, 0.2326530612244898, 0.23469387755102045, 0.23673469387755103, 0.23877551020408166, 0.24081632653061227, 0.24285714285714288, 0.2448979591836735, 0.2469387755102041, 0.24897959183673474, 0.2510204081632653, 0.25306122448979596, 0.25510204081632654, 0.2571428571428572, 0.25918367346938775, 0.2612244897959184, 0.263265306122449, 0.2653061224489796, 0.26734693877551025, 0.2693877551020408, 0.27142857142857146, 0.2734693877551021, 0.2755102040816327, 0.2775510204081633, 0.2795918367346939, 0.28163265306122454, 0.2836734693877551, 0.28571428571428575, 0.28775510204081634, 0.28979591836734697, 0.2918367346938776, 0.2938775510204082, 0.2959183673469388, 0.2979591836734694, 0.30000000000000004, 0.30000000000000004, 0.3020408163265307, 0.30408163265306126, 0.3061224489795919, 0.3081632653061225, 0.3102040816326531, 0.3122448979591837, 0.31428571428571433, 0.3163265306122449, 0.31836734693877555, 0.32040816326530613, 0.32244897959183677, 0.3244897959183674, 0.326530612244898, 0.3285714285714286, 0.3306122448979592, 0.33265306122448984, 0.3346938775510204, 0.33673469387755106, 0.3387755102040817, 0.3408163265306123, 0.34285714285714286, 0.3448979591836735, 0.34693877551020413, 0.3489795918367347, 0.35102040816326535, 0.35306122448979593, 0.35510204081632657, 0.35714285714285715, 0.3591836734693878, 0.36122448979591837, 0.363265306122449, 0.36530612244897964, 0.3673469387755102, 0.36938775510204086, 0.37142857142857144, 0.3734693877551021, 0.37551020408163266, 0.3775510204081633, 0.3795918367346939, 0.3816326530612245, 0.38367346938775515, 0.38571428571428573, 0.38775510204081637, 0.38979591836734695, 0.3918367346938776, 0.39387755102040817, 0.3959183673469388, 0.3979591836734694, 0.4, 0.4, 0.40204081632653066, 0.40408163265306124, 0.4061224489795919, 0.40816326530612246, 0.4102040816326531, 0.4122448979591837, 0.4142857142857143, 0.4163265306122449, 0.41836734693877553, 0.4204081632653061, 0.42244897959183675, 0.4244897959183674, 0.42653061224489797, 0.4285714285714286, 0.4306122448979592, 0.4326530612244898, 0.4346938775510204, 0.43673469387755104, 0.4387755102040817, 0.44081632653061226, 0.44285714285714284, 0.4448979591836735, 0.4469387755102041, 0.4489795918367347, 0.45102040816326533, 0.4530612244897959, 0.45510204081632655, 0.45714285714285713, 0.45918367346938777, 0.46122448979591835, 0.463265306122449, 0.4653061224489796, 0.4673469387755102, 0.46938775510204084, 0.4714285714285714, 0.47346938775510206, 0.47551020408163264, 0.4775510204081633, 0.47959183673469385, 0.4816326530612245, 0.48367346938775513, 0.4857142857142857, 0.48775510204081635, 0.4897959183673469, 0.49183673469387756, 0.49387755102040815, 0.4959183673469388, 0.49795918367346936, 0.5, 0.5, 0.5020408163265306, 0.5040816326530613, 0.5061224489795918, 0.5081632653061224, 0.5102040816326531, 0.5122448979591837, 0.5142857142857143, 0.5163265306122449, 0.5183673469387755, 0.5204081632653061, 0.5224489795918368, 0.5244897959183674, 0.5265306122448979, 0.5285714285714286, 0.5306122448979592, 0.5326530612244899, 0.5346938775510204, 0.536734693877551, 0.5387755102040817, 0.5408163265306123, 0.5428571428571429, 0.5448979591836735, 0.5469387755102041, 0.5489795918367347, 0.5510204081632654, 0.553061224489796, 0.5551020408163265, 0.5571428571428572, 0.5591836734693878, 0.5612244897959184, 0.5632653061224491, 0.5653061224489796, 0.5673469387755102, 0.5693877551020409, 0.5714285714285715, 0.5734693877551021, 0.5755102040816327, 0.5775510204081633, 0.5795918367346939, 0.5816326530612246, 0.5836734693877552, 0.5857142857142857, 0.5877551020408164, 0.589795918367347, 0.5918367346938777, 0.5938775510204082, 0.5959183673469388, 0.5979591836734695, 0.6000000000000001, 0.6000000000000001, 0.6020408163265307, 0.6040816326530614, 0.6061224489795919, 0.6081632653061225, 0.6102040816326532, 0.6122448979591838, 0.6142857142857143, 0.616326530612245, 0.6183673469387756, 0.6204081632653062, 0.6224489795918369, 0.6244897959183674, 0.626530612244898, 0.6285714285714287, 0.6306122448979593, 0.6326530612244898, 0.6346938775510205, 0.6367346938775511, 0.6387755102040817, 0.6408163265306123, 0.6428571428571429, 0.6448979591836735, 0.6469387755102042, 0.6489795918367348, 0.6510204081632653, 0.653061224489796, 0.6551020408163266, 0.6571428571428573, 0.6591836734693879, 0.6612244897959184, 0.663265306122449, 0.6653061224489797, 0.6673469387755103, 0.6693877551020408, 0.6714285714285715, 0.6734693877551021, 0.6755102040816328, 0.6775510204081634, 0.6795918367346939, 0.6816326530612246, 0.6836734693877552, 0.6857142857142857, 0.6877551020408164, 0.689795918367347, 0.6918367346938776, 0.6938775510204083, 0.6959183673469388, 0.6979591836734694, 0.7000000000000001, 0.7000000000000001, 0.7020408163265307, 0.7040816326530613, 0.7061224489795919, 0.7081632653061225, 0.7102040816326531, 0.7122448979591838, 0.7142857142857143, 0.7163265306122449, 0.7183673469387756, 0.7204081632653062, 0.7224489795918367, 0.7244897959183674, 0.726530612244898, 0.7285714285714286, 0.7306122448979593, 0.7326530612244898, 0.7346938775510204, 0.7367346938775511, 0.7387755102040817, 0.7408163265306122, 0.7428571428571429, 0.7448979591836735, 0.7469387755102042, 0.7489795918367348, 0.7510204081632653, 0.753061224489796, 0.7551020408163266, 0.7571428571428572, 0.7591836734693878, 0.7612244897959184, 0.763265306122449, 0.7653061224489797, 0.7673469387755103, 0.7693877551020408, 0.7714285714285715, 0.7734693877551021, 0.7755102040816327, 0.7775510204081633, 0.7795918367346939, 0.7816326530612245, 0.7836734693877552, 0.7857142857142858, 0.7877551020408163, 0.789795918367347, 0.7918367346938776, 0.7938775510204082, 0.7959183673469388, 0.7979591836734694, 0.8, 0.8, 0.8020408163265307, 0.8040816326530613, 0.8061224489795918, 0.8081632653061225, 0.8102040816326531, 0.8122448979591838, 0.8142857142857143, 0.8163265306122449, 0.8183673469387756, 0.8204081632653062, 0.8224489795918368, 0.8244897959183674, 0.826530612244898, 0.8285714285714286, 0.8306122448979593, 0.8326530612244898, 0.8346938775510204, 0.8367346938775511, 0.8387755102040817, 0.8408163265306122, 0.8428571428571429, 0.8448979591836735, 0.8469387755102041, 0.8489795918367348, 0.8510204081632653, 0.8530612244897959, 0.8551020408163266, 0.8571428571428572, 0.8591836734693878, 0.8612244897959184, 0.863265306122449, 0.8653061224489796, 0.8673469387755103, 0.8693877551020408, 0.8714285714285714, 0.8734693877551021, 0.8755102040816327, 0.8775510204081634, 0.8795918367346939, 0.8816326530612245, 0.8836734693877552, 0.8857142857142857, 0.8877551020408163, 0.889795918367347, 0.8918367346938776, 0.8938775510204082, 0.8959183673469387, 0.8979591836734694, 0.9, 0.9, 0.9020408163265307, 0.9040816326530613, 0.9061224489795918, 0.9081632653061225, 0.9102040816326531, 0.9122448979591837, 0.9142857142857143, 0.9163265306122449, 0.9183673469387755, 0.9204081632653062, 0.9224489795918367, 0.9244897959183673, 0.926530612244898, 0.9285714285714286, 0.9306122448979592, 0.9326530612244898, 0.9346938775510204, 0.936734693877551, 0.9387755102040817, 0.9408163265306122, 0.9428571428571428, 0.9448979591836735, 0.9469387755102041, 0.9489795918367347, 0.9510204081632653, 0.9530612244897959, 0.9551020408163265, 0.9571428571428572, 0.9591836734693877, 0.9612244897959183, 0.963265306122449, 0.9653061224489796, 0.9673469387755103, 0.9693877551020408, 0.9714285714285714, 0.9734693877551021, 0.9755102040816327, 0.9775510204081632, 0.9795918367346939, 0.9816326530612245, 0.9836734693877551, 0.9857142857142858, 0.9877551020408163, 0.9897959183673469, 0.9918367346938776, 0.9938775510204082, 0.9959183673469387, 0.9979591836734694, 1.0], \"y\": [0.8779853483676318, 0.8748117564436796, 0.8716381645197274, 0.8684645725957754, 0.8652909806718231, 0.8621173887478708, 0.8589437968239186, 0.8557702048999666, 0.8525966129760144, 0.8494230210520622, 0.8462494291281101, 0.8430758372041579, 0.8399022452802057, 0.8367286533562536, 0.8335550614323014, 0.8303814695083493, 0.8272078775843972, 0.824034285660445, 0.8208606937364928, 0.8176871018125407, 0.8145135098885884, 0.8113399179646361, 0.8081663260406841, 0.8049927341167319, 0.8018191421927797, 0.7986455502688276, 0.7954719583448754, 0.7922983664209232, 0.789124774496971, 0.7859511825730189, 0.7827775906490667, 0.7796039987251145, 0.7764304068011624, 0.7732568148772102, 0.770083222953258, 0.766909631029306, 0.7637360391053538, 0.7605624471814016, 0.7573888552574494, 0.7542152633334972, 0.751041671409545, 0.7478680794855929, 0.7446944875616407, 0.7415208956376885, 0.7383473037137365, 0.7351737117897842, 0.732000119865832, 0.7288265279418799, 0.7256529360179277, 0.7224793440939755, 0.7224793440939755, 0.7135101223617283, 0.704540900629481, 0.695571678897234, 0.6866024571649867, 0.6776332354327395, 0.6686640137004922, 0.6596947919682451, 0.650725570235998, 0.6417563485037507, 0.6327871267715035, 0.6238179050392563, 0.614848683307009, 0.6058794615747618, 0.5969102398425147, 0.5879410181102676, 0.5789717963780203, 0.5700025746457731, 0.5610333529135259, 0.5520641311812786, 0.5430949094490314, 0.5341256877167843, 0.525156465984537, 0.5161872442522899, 0.5072180225200427, 0.49824880078779543, 0.48927957905554825, 0.4803103573233011, 0.47134113559105384, 0.46237191385880666, 0.4534026921265595, 0.44443347039431225, 0.43546424866206507, 0.4264950269298179, 0.41752580519757065, 0.4085565834653235, 0.3995873617330763, 0.39061814000082906, 0.3816489182685818, 0.3726796965363347, 0.36371047480408747, 0.35474125307184023, 0.345772031339593, 0.3368028096073458, 0.32783358787509864, 0.3188643661428514, 0.3098951444106042, 0.300925922678357, 0.29195670094610976, 0.2829874792138626, 0.2829874792138626, 0.29668559795054106, 0.3103837166872196, 0.3240818354238982, 0.33777995416057666, 0.3514780728972552, 0.3651761916339337, 0.37887431037061226, 0.39257242910729073, 0.40627054784396927, 0.4199686665806478, 0.4336667853173263, 0.44736490405400486, 0.46106302279068334, 0.47476114152736193, 0.4884592602640404, 0.502157379000719, 0.5158554977373975, 0.529553616474076, 0.5432517352107545, 0.556949853947433, 0.5706479726841115, 0.5843460914207901, 0.5980442101574686, 0.6117423288941471, 0.6254404476308256, 0.6391385663675041, 0.6528366851041827, 0.6665348038408612, 0.6802329225775398, 0.6939310413142182, 0.7076291600508967, 0.7213272787875753, 0.7350253975242538, 0.7487235162609324, 0.7624216349976108, 0.7761197537342893, 0.7898178724709679, 0.8035159912076464, 0.8172141099443249, 0.8309122286810035, 0.8446103474176819, 0.8583084661543605, 0.872006584891039, 0.8857047036277175, 0.8994028223643961, 0.9131009411010746, 0.9267990598377531, 0.9404971785744316, 0.9541952973111102, 0.9541952973111102, 0.9415269114359884, 0.9288585255608668, 0.9161901396857453, 0.9035217538106236, 0.8908533679355018, 0.8781849820603801, 0.8655165961852586, 0.8528482103101368, 0.8401798244350152, 0.8275114385598935, 0.8148430526847718, 0.8021746668096501, 0.7895062809345285, 0.7768378950594068, 0.7641695091842853, 0.7515011233091635, 0.7388327374340419, 0.7261643515589201, 0.7134959656837984, 0.7008275798086767, 0.6881591939335551, 0.6754908080584334, 0.6628224221833118, 0.6501540363081901, 0.6374856504330684, 0.6248172645579467, 0.6121488786828251, 0.5994804928077034, 0.5868121069325818, 0.5741437210574601, 0.5614753351823384, 0.5488069493072167, 0.5361385634320951, 0.5234701775569733, 0.5108017916818518, 0.49813340580673005, 0.4854650199316084, 0.4727966340564867, 0.4601282481813651, 0.44745986230624335, 0.4347914764311217, 0.42212309055600006, 0.40945470468087836, 0.3967863188057567, 0.384117932930635, 0.37144954705551336, 0.35878116118039166, 0.34611277530527, 0.3334443894301483, 0.3334443894301483, 0.3460232310458628, 0.35860207266157734, 0.3711809142772919, 0.38375975589300637, 0.3963385975087209, 0.4089174391244354, 0.42149628074014994, 0.43407512235586443, 0.44665396397157897, 0.45923280558729346, 0.47181164720300794, 0.4843904888187225, 0.49696933043443703, 0.5095481720501516, 0.522127013665866, 0.5347058552815807, 0.5472846968972951, 0.5598635385130096, 0.5724423801287242, 0.5850212217444386, 0.5976000633601531, 0.6101789049758677, 0.6227577465915822, 0.6353365882072968, 0.6479154298230112, 0.6604942714387257, 0.6730731130544403, 0.6856519546701547, 0.6982307962858694, 0.7108096379015838, 0.7233884795172982, 0.7359673211330129, 0.7485461627487273, 0.7611250043644419, 0.7737038459801564, 0.7862826875958708, 0.7988615292115855, 0.8114403708272999, 0.8240192124430143, 0.836598054058729, 0.8491768956744434, 0.861755737290158, 0.8743345789058725, 0.886913420521587, 0.8994922621373016, 0.912071103753016, 0.9246499453687306, 0.9372287869844451, 0.9498076286001597, 0.9498076286001597, 0.9406969237257246, 0.9315862188512894, 0.9224755139768545, 0.9133648091024195, 0.9042541042279842, 0.8951433993535493, 0.8860326944791141, 0.8769219896046792, 0.867811284730244, 0.8587005798558089, 0.8495898749813738, 0.8404791701069388, 0.8313684652325037, 0.8222577603580687, 0.8131470554836336, 0.8040363506091985, 0.7949256457347635, 0.7858149408603283, 0.7767042359858933, 0.7675935311114582, 0.7584828262370231, 0.7493721213625881, 0.7402614164881531, 0.7311507116137179, 0.7220400067392829, 0.7129293018648479, 0.7038185969904127, 0.6947078921159777, 0.6855971872415426, 0.6764864823671075, 0.6673757774926725, 0.6582650726182374, 0.6491543677438023, 0.6400436628693673, 0.6309329579949322, 0.6218222531204971, 0.6127115482460621, 0.6036008433716269, 0.5944901384971919, 0.5853794336227569, 0.5762687287483218, 0.5671580238738867, 0.5580473189994516, 0.5489366141250166, 0.5398259092505815, 0.5307152043761465, 0.5216044995017114, 0.5124937946272763, 0.5033830897528412, 0.5033830897528412, 0.4975069057936585, 0.4916307218344758, 0.4857545378752932, 0.47987835391611044, 0.4740021699569278, 0.4681259859977451, 0.4622498020385625, 0.45637361807937976, 0.4504974341201971, 0.4446212501610144, 0.4387450662018317, 0.43286888224264897, 0.42699269828346637, 0.42111651432428365, 0.41524033036510105, 0.40936414640591834, 0.4034879624467357, 0.3976117784875529, 0.39173559452837026, 0.3858594105691876, 0.3799832266100049, 0.3741070426508223, 0.3682308586916396, 0.3623546747324569, 0.3564784907732742, 0.35060230681409155, 0.34472612285490883, 0.3388499388957262, 0.33297375493654346, 0.3270975709773608, 0.32122138701817815, 0.3153452030589955, 0.3094690190998128, 0.30359283514063007, 0.2977166511814474, 0.29184046722226475, 0.28596428326308204, 0.28008809930389933, 0.2742119153447167, 0.268335731385534, 0.26245954742635136, 0.25658336346716865, 0.25070717950798593, 0.24483099554880333, 0.23895481158962062, 0.23307862763043793, 0.22720244367125528, 0.22132625971207256, 0.21545007575288988, 0.21545007575288988, 0.22222962276635227, 0.22900916977981467, 0.2357887167932771, 0.2425682638067395, 0.24934781082020188, 0.25612735783366425, 0.2629069048471267, 0.2696864518605891, 0.2764659988740515, 0.2832455458875138, 0.2900250929009762, 0.2968046399144387, 0.30358418692790107, 0.31036373394136346, 0.31714328095482586, 0.3239228279682883, 0.3307023749817507, 0.33748192199521304, 0.3442614690086755, 0.3510410160221379, 0.3578205630356002, 0.3646001100490627, 0.37137965706252507, 0.37815920407598747, 0.38493875108944986, 0.39171829810291225, 0.39849784511637465, 0.40527739212983704, 0.4120569391432995, 0.41883648615676183, 0.42561603317022423, 0.4323955801836866, 0.439175127197149, 0.44595467421061147, 0.4527342212240738, 0.4595137682375362, 0.4662933152509986, 0.47307286226446105, 0.47985240927792344, 0.48663195629138584, 0.4934115033048482, 0.5001910503183106, 0.5069705973317731, 0.5137501443452355, 0.5205296913586978, 0.5273092383721603, 0.5340887853856227, 0.540868332399085, 0.5476478794125474, 0.5476478794125474, 0.5535284992169761, 0.5594091190214046, 0.5652897388258332, 0.5711703586302619, 0.5770509784346904, 0.582931598239119, 0.5888122180435477, 0.5946928378479762, 0.6005734576524049, 0.6064540774568334, 0.612334697261262, 0.6182153170656906, 0.6240959368701191, 0.6299765566745478, 0.6358571764789764, 0.641737796283405, 0.6476184160878335, 0.6534990358922621, 0.6593796556966908, 0.6652602755011193, 0.671140895305548, 0.6770215151099765, 0.6829021349144051, 0.6887827547188337, 0.6946633745232624, 0.700543994327691, 0.7064246141321195, 0.7123052339365481, 0.7181858537409768, 0.7240664735454052, 0.7299470933498339, 0.7358277131542625, 0.7417083329586911, 0.7475889527631198, 0.7534695725675483, 0.7593501923719769, 0.7652308121764055, 0.7711114319808341, 0.7769920517852626, 0.7828726715896912, 0.7887532913941199, 0.7946339111985484, 0.8005145310029771, 0.8063951508074056, 0.8122757706118343, 0.8181563904162628, 0.8240370102206914, 0.82991763002512, 0.8357982498295486, 0.8357982498295486, 0.8292039506121825, 0.8226096513948165, 0.8160153521774505, 0.8094210529600843, 0.8028267537427183, 0.7962324545253522, 0.7896381553079862, 0.7830438560906201, 0.776449556873254, 0.7698552576558879, 0.7632609584385217, 0.7566666592211557, 0.7500723600037897, 0.7434780607864236, 0.7368837615690577, 0.7302894623516916, 0.7236951631343255, 0.7171008639169594, 0.7105065646995932, 0.7039122654822272, 0.6973179662648611, 0.690723667047495, 0.684129367830129, 0.6775350686127629, 0.6709407693953968, 0.6643464701780308, 0.6577521709606646, 0.6511578717432986, 0.6445635725259325, 0.6379692733085665, 0.6313749740912005, 0.6247806748738344, 0.6181863756564683, 0.6115920764391022, 0.6049977772217362, 0.5984034780043701, 0.5918091787870039, 0.5852148795696379, 0.5786205803522718, 0.5720262811349057, 0.5654319819175397, 0.5588376827001736, 0.5522433834828075, 0.5456490842654415, 0.5390547850480754, 0.5324604858307094, 0.5258661866133433, 0.5192718873959772, 0.5126775881786111]}, {\"mode\": \"markers\", \"type\": \"scatter\", \"x\": [0.0, 0.1, 0.2, 0.30000000000000004, 0.4, 0.5, 0.6000000000000001, 0.7000000000000001, 0.8, 0.9, 1.0], \"y\": [0.8779853483676318, 0.7224793440939755, 0.2829874792138626, 0.9541952973111102, 0.3334443894301483, 0.9498076286001597, 0.5033830897528412, 0.21545007575288988, 0.5476478794125474, 0.8357982498295486, 0.5126775881786111]}],\n",
       "                        {\"template\": {\"data\": {\"bar\": [{\"error_x\": {\"color\": \"#2a3f5f\"}, \"error_y\": {\"color\": \"#2a3f5f\"}, \"marker\": {\"line\": {\"color\": \"#E5ECF6\", \"width\": 0.5}}, \"type\": \"bar\"}], \"barpolar\": [{\"marker\": {\"line\": {\"color\": \"#E5ECF6\", \"width\": 0.5}}, \"type\": \"barpolar\"}], \"carpet\": [{\"aaxis\": {\"endlinecolor\": \"#2a3f5f\", \"gridcolor\": \"white\", \"linecolor\": \"white\", \"minorgridcolor\": \"white\", \"startlinecolor\": \"#2a3f5f\"}, \"baxis\": {\"endlinecolor\": \"#2a3f5f\", \"gridcolor\": \"white\", \"linecolor\": \"white\", \"minorgridcolor\": \"white\", \"startlinecolor\": \"#2a3f5f\"}, \"type\": \"carpet\"}], \"choropleth\": [{\"colorbar\": {\"outlinewidth\": 0, \"ticks\": \"\"}, \"type\": \"choropleth\"}], \"contour\": [{\"colorbar\": {\"outlinewidth\": 0, \"ticks\": \"\"}, \"colorscale\": [[0.0, \"#0d0887\"], [0.1111111111111111, \"#46039f\"], [0.2222222222222222, \"#7201a8\"], [0.3333333333333333, \"#9c179e\"], [0.4444444444444444, \"#bd3786\"], [0.5555555555555556, \"#d8576b\"], [0.6666666666666666, \"#ed7953\"], [0.7777777777777778, \"#fb9f3a\"], [0.8888888888888888, \"#fdca26\"], [1.0, \"#f0f921\"]], \"type\": \"contour\"}], \"contourcarpet\": [{\"colorbar\": {\"outlinewidth\": 0, \"ticks\": \"\"}, \"type\": \"contourcarpet\"}], \"heatmap\": [{\"colorbar\": {\"outlinewidth\": 0, \"ticks\": \"\"}, \"colorscale\": [[0.0, \"#0d0887\"], [0.1111111111111111, \"#46039f\"], [0.2222222222222222, \"#7201a8\"], [0.3333333333333333, \"#9c179e\"], [0.4444444444444444, \"#bd3786\"], [0.5555555555555556, \"#d8576b\"], [0.6666666666666666, \"#ed7953\"], [0.7777777777777778, \"#fb9f3a\"], [0.8888888888888888, \"#fdca26\"], [1.0, \"#f0f921\"]], \"type\": \"heatmap\"}], \"heatmapgl\": [{\"colorbar\": {\"outlinewidth\": 0, \"ticks\": \"\"}, \"colorscale\": [[0.0, \"#0d0887\"], [0.1111111111111111, \"#46039f\"], [0.2222222222222222, \"#7201a8\"], [0.3333333333333333, \"#9c179e\"], [0.4444444444444444, \"#bd3786\"], [0.5555555555555556, \"#d8576b\"], [0.6666666666666666, \"#ed7953\"], [0.7777777777777778, \"#fb9f3a\"], [0.8888888888888888, \"#fdca26\"], [1.0, \"#f0f921\"]], \"type\": \"heatmapgl\"}], \"histogram\": [{\"marker\": {\"colorbar\": {\"outlinewidth\": 0, \"ticks\": \"\"}}, \"type\": \"histogram\"}], \"histogram2d\": [{\"colorbar\": {\"outlinewidth\": 0, \"ticks\": \"\"}, \"colorscale\": [[0.0, \"#0d0887\"], [0.1111111111111111, \"#46039f\"], [0.2222222222222222, \"#7201a8\"], [0.3333333333333333, \"#9c179e\"], [0.4444444444444444, \"#bd3786\"], [0.5555555555555556, \"#d8576b\"], [0.6666666666666666, \"#ed7953\"], [0.7777777777777778, \"#fb9f3a\"], [0.8888888888888888, \"#fdca26\"], [1.0, \"#f0f921\"]], \"type\": \"histogram2d\"}], \"histogram2dcontour\": [{\"colorbar\": {\"outlinewidth\": 0, \"ticks\": \"\"}, \"colorscale\": [[0.0, \"#0d0887\"], [0.1111111111111111, \"#46039f\"], [0.2222222222222222, \"#7201a8\"], [0.3333333333333333, \"#9c179e\"], [0.4444444444444444, \"#bd3786\"], [0.5555555555555556, \"#d8576b\"], [0.6666666666666666, \"#ed7953\"], [0.7777777777777778, \"#fb9f3a\"], [0.8888888888888888, \"#fdca26\"], [1.0, \"#f0f921\"]], \"type\": \"histogram2dcontour\"}], \"mesh3d\": [{\"colorbar\": {\"outlinewidth\": 0, \"ticks\": \"\"}, \"type\": \"mesh3d\"}], \"parcoords\": [{\"line\": {\"colorbar\": {\"outlinewidth\": 0, \"ticks\": \"\"}}, \"type\": \"parcoords\"}], \"scatter\": [{\"marker\": {\"colorbar\": {\"outlinewidth\": 0, \"ticks\": \"\"}}, \"type\": \"scatter\"}], \"scatter3d\": [{\"line\": {\"colorbar\": {\"outlinewidth\": 0, \"ticks\": \"\"}}, \"marker\": {\"colorbar\": {\"outlinewidth\": 0, \"ticks\": \"\"}}, \"type\": \"scatter3d\"}], \"scattercarpet\": [{\"marker\": {\"colorbar\": {\"outlinewidth\": 0, \"ticks\": \"\"}}, \"type\": \"scattercarpet\"}], \"scattergeo\": [{\"marker\": {\"colorbar\": {\"outlinewidth\": 0, \"ticks\": \"\"}}, \"type\": \"scattergeo\"}], \"scattergl\": [{\"marker\": {\"colorbar\": {\"outlinewidth\": 0, \"ticks\": \"\"}}, \"type\": \"scattergl\"}], \"scattermapbox\": [{\"marker\": {\"colorbar\": {\"outlinewidth\": 0, \"ticks\": \"\"}}, \"type\": \"scattermapbox\"}], \"scatterpolar\": [{\"marker\": {\"colorbar\": {\"outlinewidth\": 0, \"ticks\": \"\"}}, \"type\": \"scatterpolar\"}], \"scatterpolargl\": [{\"marker\": {\"colorbar\": {\"outlinewidth\": 0, \"ticks\": \"\"}}, \"type\": \"scatterpolargl\"}], \"scatterternary\": [{\"marker\": {\"colorbar\": {\"outlinewidth\": 0, \"ticks\": \"\"}}, \"type\": \"scatterternary\"}], \"surface\": [{\"colorbar\": {\"outlinewidth\": 0, \"ticks\": \"\"}, \"colorscale\": [[0.0, \"#0d0887\"], [0.1111111111111111, \"#46039f\"], [0.2222222222222222, \"#7201a8\"], [0.3333333333333333, \"#9c179e\"], [0.4444444444444444, \"#bd3786\"], [0.5555555555555556, \"#d8576b\"], [0.6666666666666666, \"#ed7953\"], [0.7777777777777778, \"#fb9f3a\"], [0.8888888888888888, \"#fdca26\"], [1.0, \"#f0f921\"]], \"type\": \"surface\"}], \"table\": [{\"cells\": {\"fill\": {\"color\": \"#EBF0F8\"}, \"line\": {\"color\": \"white\"}}, \"header\": {\"fill\": {\"color\": \"#C8D4E3\"}, \"line\": {\"color\": \"white\"}}, \"type\": \"table\"}]}, \"layout\": {\"annotationdefaults\": {\"arrowcolor\": \"#2a3f5f\", \"arrowhead\": 0, \"arrowwidth\": 1}, \"colorscale\": {\"diverging\": [[0, \"#8e0152\"], [0.1, \"#c51b7d\"], [0.2, \"#de77ae\"], [0.3, \"#f1b6da\"], [0.4, \"#fde0ef\"], [0.5, \"#f7f7f7\"], [0.6, \"#e6f5d0\"], [0.7, \"#b8e186\"], [0.8, \"#7fbc41\"], [0.9, \"#4d9221\"], [1, \"#276419\"]], \"sequential\": [[0.0, \"#0d0887\"], [0.1111111111111111, \"#46039f\"], [0.2222222222222222, \"#7201a8\"], [0.3333333333333333, \"#9c179e\"], [0.4444444444444444, \"#bd3786\"], [0.5555555555555556, \"#d8576b\"], [0.6666666666666666, \"#ed7953\"], [0.7777777777777778, \"#fb9f3a\"], [0.8888888888888888, \"#fdca26\"], [1.0, \"#f0f921\"]], \"sequentialminus\": [[0.0, \"#0d0887\"], [0.1111111111111111, \"#46039f\"], [0.2222222222222222, \"#7201a8\"], [0.3333333333333333, \"#9c179e\"], [0.4444444444444444, \"#bd3786\"], [0.5555555555555556, \"#d8576b\"], [0.6666666666666666, \"#ed7953\"], [0.7777777777777778, \"#fb9f3a\"], [0.8888888888888888, \"#fdca26\"], [1.0, \"#f0f921\"]]}, \"colorway\": [\"#636efa\", \"#EF553B\", \"#00cc96\", \"#ab63fa\", \"#FFA15A\", \"#19d3f3\", \"#FF6692\", \"#B6E880\", \"#FF97FF\", \"#FECB52\"], \"font\": {\"color\": \"#2a3f5f\"}, \"geo\": {\"bgcolor\": \"white\", \"lakecolor\": \"white\", \"landcolor\": \"#E5ECF6\", \"showlakes\": true, \"showland\": true, \"subunitcolor\": \"white\"}, \"hoverlabel\": {\"align\": \"left\"}, \"hovermode\": \"closest\", \"mapbox\": {\"style\": \"light\"}, \"paper_bgcolor\": \"white\", \"plot_bgcolor\": \"#E5ECF6\", \"polar\": {\"angularaxis\": {\"gridcolor\": \"white\", \"linecolor\": \"white\", \"ticks\": \"\"}, \"bgcolor\": \"#E5ECF6\", \"radialaxis\": {\"gridcolor\": \"white\", \"linecolor\": \"white\", \"ticks\": \"\"}}, \"scene\": {\"xaxis\": {\"backgroundcolor\": \"#E5ECF6\", \"gridcolor\": \"white\", \"gridwidth\": 2, \"linecolor\": \"white\", \"showbackground\": true, \"ticks\": \"\", \"zerolinecolor\": \"white\"}, \"yaxis\": {\"backgroundcolor\": \"#E5ECF6\", \"gridcolor\": \"white\", \"gridwidth\": 2, \"linecolor\": \"white\", \"showbackground\": true, \"ticks\": \"\", \"zerolinecolor\": \"white\"}, \"zaxis\": {\"backgroundcolor\": \"#E5ECF6\", \"gridcolor\": \"white\", \"gridwidth\": 2, \"linecolor\": \"white\", \"showbackground\": true, \"ticks\": \"\", \"zerolinecolor\": \"white\"}}, \"shapedefaults\": {\"line\": {\"color\": \"#2a3f5f\"}}, \"ternary\": {\"aaxis\": {\"gridcolor\": \"white\", \"linecolor\": \"white\", \"ticks\": \"\"}, \"baxis\": {\"gridcolor\": \"white\", \"linecolor\": \"white\", \"ticks\": \"\"}, \"bgcolor\": \"#E5ECF6\", \"caxis\": {\"gridcolor\": \"white\", \"linecolor\": \"white\", \"ticks\": \"\"}}, \"title\": {\"x\": 0.05}, \"xaxis\": {\"automargin\": true, \"gridcolor\": \"white\", \"linecolor\": \"white\", \"ticks\": \"\", \"zerolinecolor\": \"white\", \"zerolinewidth\": 2}, \"yaxis\": {\"automargin\": true, \"gridcolor\": \"white\", \"linecolor\": \"white\", \"ticks\": \"\", \"zerolinecolor\": \"white\", \"zerolinewidth\": 2}}}},\n",
       "                        {\"responsive\": true}\n",
       "                    ).then(function(){\n",
       "                            \n",
       "var gd = document.getElementById('1c969a35-86c1-4a4e-b07c-a20a32517d93');\n",
       "var x = new MutationObserver(function (mutations, observer) {{\n",
       "        var display = window.getComputedStyle(gd).display;\n",
       "        if (!display || display === 'none') {{\n",
       "            console.log([gd, 'removed!']);\n",
       "            Plotly.purge(gd);\n",
       "            observer.disconnect();\n",
       "        }}\n",
       "}});\n",
       "\n",
       "// Listen for the removal of the full notebook cells\n",
       "var notebookContainer = gd.closest('#notebook-container');\n",
       "if (notebookContainer) {{\n",
       "    x.observe(notebookContainer, {childList: true});\n",
       "}}\n",
       "\n",
       "// Listen for the clearing of the current output cell\n",
       "var outputEl = gd.closest('.output');\n",
       "if (outputEl) {{\n",
       "    x.observe(outputEl, {childList: true});\n",
       "}}\n",
       "\n",
       "                        })\n",
       "                };\n",
       "                });\n",
       "            </script>\n",
       "        </div>"
      ]
     },
     "metadata": {},
     "output_type": "display_data"
    }
   ],
   "source": [
    "ui = np.random.rand(n_bases)\n",
    "\n",
    "x, u = interpolate(ui)\n",
    "\n",
    "\n",
    "fig = go.Figure(data=[\n",
    "    go.Scatter(x=x, y=u, mode='lines'),\n",
    "    go.Scatter(x=s, y=ui, mode='markers'),\n",
    "])\n",
    "plotly.iplot(fig)"
   ]
  },
  {
   "cell_type": "markdown",
   "metadata": {
    "slideshow": {
     "slide_type": "slide"
    }
   },
   "source": [
    "# Assembly"
   ]
  },
  {
   "cell_type": "markdown",
   "metadata": {},
   "source": [
    "We are now ready the assemble the global stiffness matrix."
   ]
  },
  {
   "cell_type": "markdown",
   "metadata": {
    "slideshow": {
     "slide_type": "fragment"
    }
   },
   "source": [
    "The local entries are\n",
    "$$\n",
    "L^e_{i,j} = \n",
    "%\\int_\\Omega\\nabla \\phi_i \\cdot \\nabla \\phi_j =\n",
    "\\int_{\\hat s} \\frac{\\nabla \\hat\\phi_{i} \\cdot \\nabla \\hat\\phi_{j}}{s_{e, 1} - s_{e, 0}}\n",
    "$$\n",
    "\n",
    "which are then mapped to the global entries $g_e^i, g_e^j$."
   ]
  },
  {
   "cell_type": "markdown",
   "metadata": {
    "slideshow": {
     "slide_type": "fragment"
    }
   },
   "source": [
    "Note that the integrals are performed with `quadpy`."
   ]
  },
  {
   "cell_type": "code",
   "execution_count": 11,
   "metadata": {
    "slideshow": {
     "slide_type": "-"
    }
   },
   "outputs": [],
   "source": [
    "import quadpy\n",
    "# some quadrature rule\n",
    "scheme = quadpy.line_segment.gauss_patterson(5)"
   ]
  },
  {
   "cell_type": "code",
   "execution_count": 12,
   "metadata": {
    "slideshow": {
     "slide_type": "slide"
    }
   },
   "outputs": [],
   "source": [
    "#triplets for the matrix\n",
    "rows = []\n",
    "cols = []\n",
    "vals = []\n",
    "\n",
    "for e in range(n_elements):\n",
    "    el = elements[e]\n",
    "\n",
    "    for i in range(el[\"n_bases\"]):\n",
    "        for j in range(el[\"n_bases\"]):\n",
    "            # evaluation of the integral:\n",
    "            # \\int_{\\hat s} \\frac{\\nabla \\hat\\phi_{i} \\cdot \\nabla \\hat\\phi_{j}}{s_{e, 1} - s_{e, 0}}\n",
    "            val = scheme.integrate(\n",
    "                lambda x:\n",
    "                el[\"grad_phi\"][i](x) * el[\"grad_phi\"][j](x) / el[\"grad_gmapping\"](x),\n",
    "                [0.0, 1.0])\n",
    "            \n",
    "            # the local entry val at i, j goes to g_e^i, g_e^j\n",
    "            rows.append(el[\"loc_2_glob\"][i])\n",
    "            cols.append(el[\"loc_2_glob\"][j])\n",
    "            vals.append(val)\n",
    "\n",
    "            \n",
    "rows = np.array(rows)\n",
    "cols = np.array(cols)\n",
    "vals = np.array(vals)\n",
    "\n",
    "L = spr.coo_matrix((vals, (rows, cols)))\n",
    "L = spr.csr_matrix(L)"
   ]
  },
  {
   "cell_type": "code",
   "execution_count": 13,
   "metadata": {
    "slideshow": {
     "slide_type": "slide"
    }
   },
   "outputs": [
    {
     "data": {
      "text/plain": [
       "array([[ 10., -10.,   0.,   0.,   0.,   0.,   0.,   0.,   0.,   0.,   0.],\n",
       "       [-10.,  20., -10.,   0.,   0.,   0.,   0.,   0.,   0.,   0.,   0.],\n",
       "       [  0., -10.,  20., -10.,   0.,   0.,   0.,   0.,   0.,   0.,   0.],\n",
       "       [  0.,   0., -10.,  20., -10.,   0.,   0.,   0.,   0.,   0.,   0.],\n",
       "       [  0.,   0.,   0., -10.,  20., -10.,   0.,   0.,   0.,   0.,   0.],\n",
       "       [  0.,   0.,   0.,   0., -10.,  20., -10.,   0.,   0.,   0.,   0.],\n",
       "       [  0.,   0.,   0.,   0.,   0., -10.,  20., -10.,   0.,   0.,   0.],\n",
       "       [  0.,   0.,   0.,   0.,   0.,   0., -10.,  20., -10.,   0.,   0.],\n",
       "       [  0.,   0.,   0.,   0.,   0.,   0.,   0., -10.,  20., -10.,   0.],\n",
       "       [  0.,   0.,   0.,   0.,   0.,   0.,   0.,   0., -10.,  20., -10.],\n",
       "       [  0.,   0.,   0.,   0.,   0.,   0.,   0.,   0.,   0., -10.,  10.]])"
      ]
     },
     "execution_count": 13,
     "metadata": {},
     "output_type": "execute_result"
    }
   ],
   "source": [
    "L.toarray()\n",
    "#this looks exacly like FD!"
   ]
  },
  {
   "cell_type": "markdown",
   "metadata": {
    "slideshow": {
     "slide_type": "slide"
    }
   },
   "source": [
    "We set the row `0` and `n_elements` to identity for the boundary conditions"
   ]
  },
  {
   "cell_type": "code",
   "execution_count": 14,
   "metadata": {
    "slideshow": {
     "slide_type": "fragment"
    }
   },
   "outputs": [],
   "source": [
    "for bc in [0, n_elements]:\n",
    "    _, nnz = L[bc,:].nonzero()\n",
    "    for j in nnz:\n",
    "        if j != bc:\n",
    "            L[bc, j] = 0.0\n",
    "    L[bc, bc] = 1.0"
   ]
  },
  {
   "cell_type": "code",
   "execution_count": 15,
   "metadata": {
    "slideshow": {
     "slide_type": "slide"
    }
   },
   "outputs": [
    {
     "data": {
      "text/plain": [
       "array([[  1.,   0.,   0.,   0.,   0.,   0.,   0.,   0.,   0.,   0.,   0.],\n",
       "       [-10.,  20., -10.,   0.,   0.,   0.,   0.,   0.,   0.,   0.,   0.],\n",
       "       [  0., -10.,  20., -10.,   0.,   0.,   0.,   0.,   0.,   0.,   0.],\n",
       "       [  0.,   0., -10.,  20., -10.,   0.,   0.,   0.,   0.,   0.,   0.],\n",
       "       [  0.,   0.,   0., -10.,  20., -10.,   0.,   0.,   0.,   0.,   0.],\n",
       "       [  0.,   0.,   0.,   0., -10.,  20., -10.,   0.,   0.,   0.,   0.],\n",
       "       [  0.,   0.,   0.,   0.,   0., -10.,  20., -10.,   0.,   0.,   0.],\n",
       "       [  0.,   0.,   0.,   0.,   0.,   0., -10.,  20., -10.,   0.,   0.],\n",
       "       [  0.,   0.,   0.,   0.,   0.,   0.,   0., -10.,  20., -10.,   0.],\n",
       "       [  0.,   0.,   0.,   0.,   0.,   0.,   0.,   0., -10.,  20., -10.],\n",
       "       [  0.,   0.,   0.,   0.,   0.,   0.,   0.,   0.,   0.,   0.,   1.]])"
      ]
     },
     "execution_count": 15,
     "metadata": {},
     "output_type": "execute_result"
    }
   ],
   "source": [
    "L.A"
   ]
  },
  {
   "cell_type": "markdown",
   "metadata": {
    "slideshow": {
     "slide_type": "slide"
    }
   },
   "source": [
    "We set the right-hand side to zero, and set the two boundary conditions to 1 and 4."
   ]
  },
  {
   "cell_type": "code",
   "execution_count": 16,
   "metadata": {
    "slideshow": {
     "slide_type": "fragment"
    }
   },
   "outputs": [],
   "source": [
    "f = np.zeros((n_bases, 1))\n",
    "f[0] = 1\n",
    "f[-1] = 4"
   ]
  },
  {
   "cell_type": "markdown",
   "metadata": {
    "slideshow": {
     "slide_type": "slide"
    }
   },
   "source": [
    "We now solve $L\\boldsymbol{ui}=f$ for $\\boldsymbol{ui}$."
   ]
  },
  {
   "cell_type": "code",
   "execution_count": 17,
   "metadata": {
    "slideshow": {
     "slide_type": "fragment"
    }
   },
   "outputs": [],
   "source": [
    "ui = spsolve(L, f)"
   ]
  },
  {
   "cell_type": "markdown",
   "metadata": {
    "slideshow": {
     "slide_type": "slide"
    }
   },
   "source": [
    "We now plot the solution $\\boldsymbol{ui}$.\n",
    "Will we get a line?"
   ]
  },
  {
   "cell_type": "code",
   "execution_count": 18,
   "metadata": {},
   "outputs": [
    {
     "data": {
      "application/vnd.plotly.v1+json": {
       "config": {
        "linkText": "Export to plot.ly",
        "plotlyServerURL": "https://plot.ly",
        "showLink": false
       },
       "data": [
        {
         "mode": "lines",
         "name": "solution",
         "type": "scatter",
         "x": [
          0,
          0.002040816326530612,
          0.004081632653061224,
          0.006122448979591837,
          0.008163265306122448,
          0.01020408163265306,
          0.012244897959183675,
          0.014285714285714285,
          0.016326530612244896,
          0.01836734693877551,
          0.02040816326530612,
          0.022448979591836733,
          0.02448979591836735,
          0.026530612244897958,
          0.02857142857142857,
          0.03061224489795918,
          0.03265306122448979,
          0.03469387755102041,
          0.03673469387755102,
          0.03877551020408163,
          0.04081632653061224,
          0.04285714285714286,
          0.044897959183673466,
          0.04693877551020408,
          0.0489795918367347,
          0.05102040816326531,
          0.053061224489795916,
          0.055102040816326525,
          0.05714285714285714,
          0.05918367346938776,
          0.06122448979591836,
          0.06326530612244897,
          0.06530612244897958,
          0.0673469387755102,
          0.06938775510204082,
          0.07142857142857142,
          0.07346938775510203,
          0.07551020408163266,
          0.07755102040816327,
          0.07959183673469387,
          0.08163265306122448,
          0.0836734693877551,
          0.08571428571428572,
          0.08775510204081632,
          0.08979591836734693,
          0.09183673469387754,
          0.09387755102040816,
          0.09591836734693877,
          0.0979591836734694,
          0.1,
          0.1,
          0.10204081632653061,
          0.10408163265306122,
          0.10612244897959185,
          0.10816326530612246,
          0.11020408163265306,
          0.11224489795918369,
          0.1142857142857143,
          0.1163265306122449,
          0.11836734693877551,
          0.12040816326530612,
          0.12244897959183673,
          0.12448979591836735,
          0.12653061224489798,
          0.1285714285714286,
          0.1306122448979592,
          0.1326530612244898,
          0.1346938775510204,
          0.13673469387755102,
          0.13877551020408163,
          0.14081632653061224,
          0.14285714285714285,
          0.14489795918367349,
          0.1469387755102041,
          0.1489795918367347,
          0.1510204081632653,
          0.15306122448979592,
          0.15510204081632653,
          0.15714285714285714,
          0.15918367346938778,
          0.16122448979591836,
          0.163265306122449,
          0.16530612244897958,
          0.1673469387755102,
          0.16938775510204082,
          0.17142857142857143,
          0.17346938775510204,
          0.17551020408163265,
          0.17755102040816328,
          0.17959183673469387,
          0.1816326530612245,
          0.1836734693877551,
          0.18571428571428572,
          0.18775510204081633,
          0.18979591836734694,
          0.19183673469387755,
          0.19387755102040816,
          0.1959183673469388,
          0.1979591836734694,
          0.2,
          0.2,
          0.20204081632653062,
          0.20408163265306123,
          0.20612244897959184,
          0.20816326530612247,
          0.21020408163265308,
          0.2122448979591837,
          0.2142857142857143,
          0.2163265306122449,
          0.21836734693877552,
          0.22040816326530613,
          0.22244897959183674,
          0.22448979591836737,
          0.22653061224489798,
          0.2285714285714286,
          0.2306122448979592,
          0.2326530612244898,
          0.23469387755102045,
          0.23673469387755103,
          0.23877551020408166,
          0.24081632653061227,
          0.24285714285714288,
          0.2448979591836735,
          0.2469387755102041,
          0.24897959183673474,
          0.2510204081632653,
          0.25306122448979596,
          0.25510204081632654,
          0.2571428571428572,
          0.25918367346938775,
          0.2612244897959184,
          0.263265306122449,
          0.2653061224489796,
          0.26734693877551025,
          0.2693877551020408,
          0.27142857142857146,
          0.2734693877551021,
          0.2755102040816327,
          0.2775510204081633,
          0.2795918367346939,
          0.28163265306122454,
          0.2836734693877551,
          0.28571428571428575,
          0.28775510204081634,
          0.28979591836734697,
          0.2918367346938776,
          0.2938775510204082,
          0.2959183673469388,
          0.2979591836734694,
          0.30000000000000004,
          0.30000000000000004,
          0.3020408163265307,
          0.30408163265306126,
          0.3061224489795919,
          0.3081632653061225,
          0.3102040816326531,
          0.3122448979591837,
          0.31428571428571433,
          0.3163265306122449,
          0.31836734693877555,
          0.32040816326530613,
          0.32244897959183677,
          0.3244897959183674,
          0.326530612244898,
          0.3285714285714286,
          0.3306122448979592,
          0.33265306122448984,
          0.3346938775510204,
          0.33673469387755106,
          0.3387755102040817,
          0.3408163265306123,
          0.34285714285714286,
          0.3448979591836735,
          0.34693877551020413,
          0.3489795918367347,
          0.35102040816326535,
          0.35306122448979593,
          0.35510204081632657,
          0.35714285714285715,
          0.3591836734693878,
          0.36122448979591837,
          0.363265306122449,
          0.36530612244897964,
          0.3673469387755102,
          0.36938775510204086,
          0.37142857142857144,
          0.3734693877551021,
          0.37551020408163266,
          0.3775510204081633,
          0.3795918367346939,
          0.3816326530612245,
          0.38367346938775515,
          0.38571428571428573,
          0.38775510204081637,
          0.38979591836734695,
          0.3918367346938776,
          0.39387755102040817,
          0.3959183673469388,
          0.3979591836734694,
          0.4,
          0.4,
          0.40204081632653066,
          0.40408163265306124,
          0.4061224489795919,
          0.40816326530612246,
          0.4102040816326531,
          0.4122448979591837,
          0.4142857142857143,
          0.4163265306122449,
          0.41836734693877553,
          0.4204081632653061,
          0.42244897959183675,
          0.4244897959183674,
          0.42653061224489797,
          0.4285714285714286,
          0.4306122448979592,
          0.4326530612244898,
          0.4346938775510204,
          0.43673469387755104,
          0.4387755102040817,
          0.44081632653061226,
          0.44285714285714284,
          0.4448979591836735,
          0.4469387755102041,
          0.4489795918367347,
          0.45102040816326533,
          0.4530612244897959,
          0.45510204081632655,
          0.45714285714285713,
          0.45918367346938777,
          0.46122448979591835,
          0.463265306122449,
          0.4653061224489796,
          0.4673469387755102,
          0.46938775510204084,
          0.4714285714285714,
          0.47346938775510206,
          0.47551020408163264,
          0.4775510204081633,
          0.47959183673469385,
          0.4816326530612245,
          0.48367346938775513,
          0.4857142857142857,
          0.48775510204081635,
          0.4897959183673469,
          0.49183673469387756,
          0.49387755102040815,
          0.4959183673469388,
          0.49795918367346936,
          0.5,
          0.5,
          0.5020408163265306,
          0.5040816326530613,
          0.5061224489795918,
          0.5081632653061224,
          0.5102040816326531,
          0.5122448979591837,
          0.5142857142857143,
          0.5163265306122449,
          0.5183673469387755,
          0.5204081632653061,
          0.5224489795918368,
          0.5244897959183674,
          0.5265306122448979,
          0.5285714285714286,
          0.5306122448979592,
          0.5326530612244899,
          0.5346938775510204,
          0.536734693877551,
          0.5387755102040817,
          0.5408163265306123,
          0.5428571428571429,
          0.5448979591836735,
          0.5469387755102041,
          0.5489795918367347,
          0.5510204081632654,
          0.553061224489796,
          0.5551020408163265,
          0.5571428571428572,
          0.5591836734693878,
          0.5612244897959184,
          0.5632653061224491,
          0.5653061224489796,
          0.5673469387755102,
          0.5693877551020409,
          0.5714285714285715,
          0.5734693877551021,
          0.5755102040816327,
          0.5775510204081633,
          0.5795918367346939,
          0.5816326530612246,
          0.5836734693877552,
          0.5857142857142857,
          0.5877551020408164,
          0.589795918367347,
          0.5918367346938777,
          0.5938775510204082,
          0.5959183673469388,
          0.5979591836734695,
          0.6000000000000001,
          0.6000000000000001,
          0.6020408163265307,
          0.6040816326530614,
          0.6061224489795919,
          0.6081632653061225,
          0.6102040816326532,
          0.6122448979591838,
          0.6142857142857143,
          0.616326530612245,
          0.6183673469387756,
          0.6204081632653062,
          0.6224489795918369,
          0.6244897959183674,
          0.626530612244898,
          0.6285714285714287,
          0.6306122448979593,
          0.6326530612244898,
          0.6346938775510205,
          0.6367346938775511,
          0.6387755102040817,
          0.6408163265306123,
          0.6428571428571429,
          0.6448979591836735,
          0.6469387755102042,
          0.6489795918367348,
          0.6510204081632653,
          0.653061224489796,
          0.6551020408163266,
          0.6571428571428573,
          0.6591836734693879,
          0.6612244897959184,
          0.663265306122449,
          0.6653061224489797,
          0.6673469387755103,
          0.6693877551020408,
          0.6714285714285715,
          0.6734693877551021,
          0.6755102040816328,
          0.6775510204081634,
          0.6795918367346939,
          0.6816326530612246,
          0.6836734693877552,
          0.6857142857142857,
          0.6877551020408164,
          0.689795918367347,
          0.6918367346938776,
          0.6938775510204083,
          0.6959183673469388,
          0.6979591836734694,
          0.7000000000000001,
          0.7000000000000001,
          0.7020408163265307,
          0.7040816326530613,
          0.7061224489795919,
          0.7081632653061225,
          0.7102040816326531,
          0.7122448979591838,
          0.7142857142857143,
          0.7163265306122449,
          0.7183673469387756,
          0.7204081632653062,
          0.7224489795918367,
          0.7244897959183674,
          0.726530612244898,
          0.7285714285714286,
          0.7306122448979593,
          0.7326530612244898,
          0.7346938775510204,
          0.7367346938775511,
          0.7387755102040817,
          0.7408163265306122,
          0.7428571428571429,
          0.7448979591836735,
          0.7469387755102042,
          0.7489795918367348,
          0.7510204081632653,
          0.753061224489796,
          0.7551020408163266,
          0.7571428571428572,
          0.7591836734693878,
          0.7612244897959184,
          0.763265306122449,
          0.7653061224489797,
          0.7673469387755103,
          0.7693877551020408,
          0.7714285714285715,
          0.7734693877551021,
          0.7755102040816327,
          0.7775510204081633,
          0.7795918367346939,
          0.7816326530612245,
          0.7836734693877552,
          0.7857142857142858,
          0.7877551020408163,
          0.789795918367347,
          0.7918367346938776,
          0.7938775510204082,
          0.7959183673469388,
          0.7979591836734694,
          0.8,
          0.8,
          0.8020408163265307,
          0.8040816326530613,
          0.8061224489795918,
          0.8081632653061225,
          0.8102040816326531,
          0.8122448979591838,
          0.8142857142857143,
          0.8163265306122449,
          0.8183673469387756,
          0.8204081632653062,
          0.8224489795918368,
          0.8244897959183674,
          0.826530612244898,
          0.8285714285714286,
          0.8306122448979593,
          0.8326530612244898,
          0.8346938775510204,
          0.8367346938775511,
          0.8387755102040817,
          0.8408163265306122,
          0.8428571428571429,
          0.8448979591836735,
          0.8469387755102041,
          0.8489795918367348,
          0.8510204081632653,
          0.8530612244897959,
          0.8551020408163266,
          0.8571428571428572,
          0.8591836734693878,
          0.8612244897959184,
          0.863265306122449,
          0.8653061224489796,
          0.8673469387755103,
          0.8693877551020408,
          0.8714285714285714,
          0.8734693877551021,
          0.8755102040816327,
          0.8775510204081634,
          0.8795918367346939,
          0.8816326530612245,
          0.8836734693877552,
          0.8857142857142857,
          0.8877551020408163,
          0.889795918367347,
          0.8918367346938776,
          0.8938775510204082,
          0.8959183673469387,
          0.8979591836734694,
          0.9,
          0.9,
          0.9020408163265307,
          0.9040816326530613,
          0.9061224489795918,
          0.9081632653061225,
          0.9102040816326531,
          0.9122448979591837,
          0.9142857142857143,
          0.9163265306122449,
          0.9183673469387755,
          0.9204081632653062,
          0.9224489795918367,
          0.9244897959183673,
          0.926530612244898,
          0.9285714285714286,
          0.9306122448979592,
          0.9326530612244898,
          0.9346938775510204,
          0.936734693877551,
          0.9387755102040817,
          0.9408163265306122,
          0.9428571428571428,
          0.9448979591836735,
          0.9469387755102041,
          0.9489795918367347,
          0.9510204081632653,
          0.9530612244897959,
          0.9551020408163265,
          0.9571428571428572,
          0.9591836734693877,
          0.9612244897959183,
          0.963265306122449,
          0.9653061224489796,
          0.9673469387755103,
          0.9693877551020408,
          0.9714285714285714,
          0.9734693877551021,
          0.9755102040816327,
          0.9775510204081632,
          0.9795918367346939,
          0.9816326530612245,
          0.9836734693877551,
          0.9857142857142858,
          0.9877551020408163,
          0.9897959183673469,
          0.9918367346938776,
          0.9938775510204082,
          0.9959183673469387,
          0.9979591836734694,
          1
         ],
         "y": [
          1,
          1.006122448979592,
          1.0122448979591836,
          1.0183673469387755,
          1.0244897959183674,
          1.030612244897959,
          1.036734693877551,
          1.042857142857143,
          1.0489795918367348,
          1.0551020408163265,
          1.0612244897959184,
          1.0673469387755101,
          1.073469387755102,
          1.079591836734694,
          1.0857142857142859,
          1.0918367346938775,
          1.0979591836734695,
          1.1040816326530614,
          1.110204081632653,
          1.116326530612245,
          1.1224489795918369,
          1.1285714285714286,
          1.1346938775510205,
          1.1408163265306124,
          1.146938775510204,
          1.1530612244897962,
          1.1591836734693879,
          1.1653061224489796,
          1.1714285714285717,
          1.1775510204081634,
          1.183673469387755,
          1.1897959183673472,
          1.195918367346939,
          1.2020408163265308,
          1.2081632653061227,
          1.2142857142857144,
          1.2204081632653063,
          1.2265306122448982,
          1.23265306122449,
          1.2387755102040816,
          1.2448979591836737,
          1.2510204081632654,
          1.2571428571428576,
          1.2632653061224492,
          1.269387755102041,
          1.2755102040816328,
          1.2816326530612248,
          1.2877551020408167,
          1.2938775510204084,
          1.3000000000000003,
          1.3000000000000003,
          1.306122448979592,
          1.312244897959184,
          1.3183673469387758,
          1.3244897959183677,
          1.3306122448979596,
          1.3367346938775513,
          1.3428571428571432,
          1.348979591836735,
          1.3551020408163268,
          1.3612244897959187,
          1.3673469387755104,
          1.3734693877551023,
          1.3795918367346942,
          1.3857142857142861,
          1.391836734693878,
          1.39795918367347,
          1.4040816326530616,
          1.4102040816326533,
          1.4163265306122454,
          1.4224489795918371,
          1.428571428571429,
          1.434693877551021,
          1.4408163265306126,
          1.4469387755102048,
          1.4530612244897965,
          1.4591836734693882,
          1.4653061224489803,
          1.471428571428572,
          1.4775510204081639,
          1.4836734693877558,
          1.4897959183673475,
          1.4959183673469392,
          1.5020408163265313,
          1.508163265306123,
          1.514285714285715,
          1.5204081632653066,
          1.5265306122448985,
          1.5326530612244904,
          1.5387755102040823,
          1.5448979591836742,
          1.551020408163266,
          1.5571428571428578,
          1.5632653061224497,
          1.5693877551020416,
          1.5755102040816333,
          1.5816326530612252,
          1.587755102040817,
          1.593877551020409,
          1.6000000000000008,
          1.6000000000000008,
          1.6061224489795927,
          1.6122448979591844,
          1.6183673469387763,
          1.6244897959183682,
          1.6306122448979599,
          1.6367346938775518,
          1.6428571428571437,
          1.6489795918367356,
          1.6551020408163273,
          1.6612244897959192,
          1.6673469387755109,
          1.6734693877551028,
          1.6795918367346947,
          1.6857142857142866,
          1.6918367346938785,
          1.6979591836734704,
          1.7040816326530621,
          1.710204081632654,
          1.7163265306122457,
          1.7224489795918374,
          1.7285714285714295,
          1.7346938775510212,
          1.740816326530613,
          1.746938775510205,
          1.7530612244897967,
          1.7591836734693884,
          1.7653061224489806,
          1.7714285714285722,
          1.7775510204081642,
          1.783673469387756,
          1.7897959183673477,
          1.7959183673469399,
          1.8020408163265316,
          1.8081632653061235,
          1.8142857142857152,
          1.820408163265307,
          1.826530612244899,
          1.832653061224491,
          1.8387755102040826,
          1.8448979591836743,
          1.8510204081632662,
          1.857142857142858,
          1.86326530612245,
          1.8693877551020417,
          1.8755102040816336,
          1.8816326530612253,
          1.8877551020408174,
          1.8938775510204091,
          1.900000000000001,
          1.900000000000001,
          1.906122448979593,
          1.9122448979591846,
          1.9183673469387765,
          1.9244897959183684,
          1.9306122448979601,
          1.936734693877552,
          1.9428571428571442,
          1.9489795918367356,
          1.9551020408163275,
          1.9612244897959195,
          1.9673469387755111,
          1.973469387755103,
          1.979591836734695,
          1.9857142857142867,
          1.9918367346938788,
          1.9979591836734705,
          2.0040816326530626,
          2.0102040816326543,
          2.016326530612246,
          2.0224489795918377,
          2.0285714285714294,
          2.0346938775510215,
          2.040816326530613,
          2.0469387755102053,
          2.053061224489797,
          2.0591836734693887,
          2.065306122448981,
          2.0714285714285725,
          2.077551020408164,
          2.0836734693877563,
          2.089795918367348,
          2.0959183673469397,
          2.102040816326532,
          2.1081632653061235,
          2.1142857142857157,
          2.1204081632653073,
          2.126530612244899,
          2.1326530612244907,
          2.1387755102040824,
          2.1448979591836745,
          2.1510204081632662,
          2.1571428571428584,
          2.16326530612245,
          2.1693877551020417,
          2.1755102040816334,
          2.1816326530612256,
          2.1877551020408172,
          2.1938775510204094,
          2.200000000000001,
          2.200000000000001,
          2.2061224489795928,
          2.2122448979591844,
          2.218367346938777,
          2.2244897959183687,
          2.2306122448979604,
          2.236734693877552,
          2.242857142857144,
          2.248979591836736,
          2.2551020408163276,
          2.2612244897959193,
          2.267346938775511,
          2.273469387755103,
          2.279591836734695,
          2.285714285714287,
          2.2918367346938786,
          2.2979591836734707,
          2.3040816326530624,
          2.310204081632654,
          2.316326530612246,
          2.3224489795918375,
          2.3285714285714296,
          2.3346938775510218,
          2.3408163265306134,
          2.346938775510205,
          2.353061224489797,
          2.3591836734693885,
          2.3653061224489806,
          2.3714285714285723,
          2.377551020408164,
          2.383673469387756,
          2.389795918367348,
          2.3959183673469395,
          2.402040816326531,
          2.4081632653061233,
          2.414285714285715,
          2.420408163265307,
          2.426530612244899,
          2.4326530612244905,
          2.4387755102040822,
          2.4448979591836744,
          2.451020408163266,
          2.457142857142858,
          2.46326530612245,
          2.469387755102042,
          2.4755102040816337,
          2.4816326530612254,
          2.487755102040817,
          2.493877551020409,
          2.500000000000001,
          2.500000000000001,
          2.5061224489795926,
          2.5122448979591843,
          2.518367346938777,
          2.524489795918368,
          2.53061224489796,
          2.536734693877552,
          2.5428571428571436,
          2.5489795918367357,
          2.555102040816328,
          2.5612244897959195,
          2.5673469387755112,
          2.573469387755103,
          2.5795918367346946,
          2.5857142857142867,
          2.5918367346938784,
          2.5979591836734706,
          2.6040816326530623,
          2.610204081632654,
          2.6163265306122456,
          2.6224489795918373,
          2.6285714285714294,
          2.6346938775510216,
          2.6408163265306133,
          2.646938775510205,
          2.653061224489797,
          2.6591836734693888,
          2.665306122448981,
          2.6714285714285726,
          2.6775510204081643,
          2.683673469387756,
          2.689795918367348,
          2.69591836734694,
          2.7020408163265315,
          2.7081632653061236,
          2.7142857142857153,
          2.720408163265307,
          2.726530612244899,
          2.732653061224491,
          2.7387755102040825,
          2.7448979591836746,
          2.7510204081632663,
          2.757142857142858,
          2.76326530612245,
          2.7693877551020423,
          2.7755102040816335,
          2.7816326530612256,
          2.787755102040818,
          2.793877551020409,
          2.800000000000001,
          2.800000000000001,
          2.806122448979593,
          2.812244897959185,
          2.818367346938777,
          2.8244897959183684,
          2.83061224489796,
          2.836734693877552,
          2.8428571428571443,
          2.848979591836736,
          2.8551020408163277,
          2.8612244897959194,
          2.867346938775511,
          2.873469387755103,
          2.8795918367346953,
          2.885714285714287,
          2.8918367346938787,
          2.897959183673471,
          2.9040816326530625,
          2.910204081632654,
          2.9163265306122463,
          2.922448979591838,
          2.9285714285714297,
          2.9346938775510214,
          2.9408163265306135,
          2.9469387755102057,
          2.9530612244897974,
          2.959183673469389,
          2.9653061224489807,
          2.971428571428573,
          2.977551020408165,
          2.9836734693877567,
          2.9897959183673484,
          2.99591836734694,
          3.0020408163265317,
          3.008163265306124,
          3.0142857142857156,
          3.0204081632653073,
          3.0265306122448994,
          3.032653061224491,
          3.038775510204083,
          3.044897959183675,
          3.051020408163267,
          3.0571428571428587,
          3.0632653061224504,
          3.069387755102042,
          3.0755102040816342,
          3.081632653061226,
          3.0877551020408176,
          3.0938775510204097,
          3.1000000000000014,
          3.1000000000000014,
          3.106122448979593,
          3.112244897959185,
          3.1183673469387774,
          3.124489795918369,
          3.1306122448979607,
          3.1367346938775524,
          3.142857142857144,
          3.148979591836736,
          3.1551020408163275,
          3.1612244897959196,
          3.1673469387755113,
          3.173469387755103,
          3.179591836734695,
          3.185714285714287,
          3.1918367346938794,
          3.197959183673471,
          3.204081632653063,
          3.2102040816326545,
          3.216326530612246,
          3.222448979591838,
          3.2285714285714295,
          3.2346938775510217,
          3.240816326530614,
          3.2469387755102055,
          3.253061224489797,
          3.259183673469389,
          3.2653061224489806,
          3.2714285714285727,
          3.2775510204081644,
          3.2836734693877565,
          3.289795918367348,
          3.29591836734694,
          3.302040816326532,
          3.3081632653061237,
          3.314285714285716,
          3.3204081632653075,
          3.326530612244899,
          3.332653061224491,
          3.3387755102040826,
          3.3448979591836747,
          3.3510204081632664,
          3.357142857142858,
          3.3632653061224502,
          3.369387755102042,
          3.375510204081634,
          3.3816326530612257,
          3.3877551020408174,
          3.3938775510204096,
          3.4000000000000012,
          3.4000000000000012,
          3.406122448979593,
          3.4122448979591846,
          3.4183673469387768,
          3.4244897959183684,
          3.43061224489796,
          3.4367346938775523,
          3.442857142857144,
          3.448979591836736,
          3.4551020408163273,
          3.4612244897959195,
          3.467346938775511,
          3.473469387755103,
          3.479591836734695,
          3.4857142857142867,
          3.491836734693879,
          3.497959183673471,
          3.5040816326530626,
          3.5102040816326543,
          3.516326530612246,
          3.5224489795918377,
          3.5285714285714294,
          3.5346938775510215,
          3.540816326530613,
          3.546938775510205,
          3.553061224489797,
          3.5591836734693887,
          3.5653061224489804,
          3.571428571428572,
          3.5775510204081638,
          3.583673469387756,
          3.589795918367348,
          3.5959183673469397,
          3.6020408163265314,
          3.6081632653061235,
          3.6142857142857148,
          3.620408163265307,
          3.626530612244899,
          3.6326530612244903,
          3.6387755102040824,
          3.644897959183674,
          3.651020408163266,
          3.657142857142858,
          3.6632653061224496,
          3.6693877551020417,
          3.675510204081633,
          3.681632653061225,
          3.6877551020408172,
          3.6938775510204085,
          3.7000000000000006,
          3.7000000000000006,
          3.7061224489795923,
          3.7122448979591844,
          3.718367346938776,
          3.724489795918368,
          3.73061224489796,
          3.7367346938775516,
          3.7428571428571438,
          3.748979591836735,
          3.755102040816327,
          3.761224489795919,
          3.7673469387755105,
          3.773469387755102,
          3.7795918367346943,
          3.785714285714286,
          3.791836734693878,
          3.79795918367347,
          3.8040816326530615,
          3.8102040816326532,
          3.8163265306122454,
          3.8224489795918366,
          3.8285714285714283,
          3.834693877551021,
          3.8408163265306126,
          3.8469387755102042,
          3.853061224489796,
          3.859183673469388,
          3.8653061224489798,
          3.871428571428572,
          3.8775510204081636,
          3.8836734693877553,
          3.889795918367347,
          3.895918367346939,
          3.9020408163265308,
          3.908163265306123,
          3.9142857142857146,
          3.9204081632653063,
          3.926530612244898,
          3.9326530612244897,
          3.938775510204082,
          3.9448979591836735,
          3.9510204081632656,
          3.9571428571428573,
          3.963265306122449,
          3.9693877551020407,
          3.975510204081633,
          3.9816326530612245,
          3.987755102040816,
          3.9938775510204083,
          4
         ]
        },
        {
         "mode": "markers",
         "name": "$ui$",
         "type": "scatter",
         "x": [
          0,
          0.1,
          0.2,
          0.30000000000000004,
          0.4,
          0.5,
          0.6000000000000001,
          0.7000000000000001,
          0.8,
          0.9,
          1
         ],
         "y": [
          1,
          1.3000000000000003,
          1.6000000000000008,
          1.900000000000001,
          2.200000000000001,
          2.500000000000001,
          2.800000000000001,
          3.1000000000000014,
          3.4000000000000012,
          3.7000000000000006,
          4
         ]
        }
       ],
       "layout": {
        "template": {
         "data": {
          "bar": [
           {
            "error_x": {
             "color": "#2a3f5f"
            },
            "error_y": {
             "color": "#2a3f5f"
            },
            "marker": {
             "line": {
              "color": "#E5ECF6",
              "width": 0.5
             }
            },
            "type": "bar"
           }
          ],
          "barpolar": [
           {
            "marker": {
             "line": {
              "color": "#E5ECF6",
              "width": 0.5
             }
            },
            "type": "barpolar"
           }
          ],
          "carpet": [
           {
            "aaxis": {
             "endlinecolor": "#2a3f5f",
             "gridcolor": "white",
             "linecolor": "white",
             "minorgridcolor": "white",
             "startlinecolor": "#2a3f5f"
            },
            "baxis": {
             "endlinecolor": "#2a3f5f",
             "gridcolor": "white",
             "linecolor": "white",
             "minorgridcolor": "white",
             "startlinecolor": "#2a3f5f"
            },
            "type": "carpet"
           }
          ],
          "choropleth": [
           {
            "colorbar": {
             "outlinewidth": 0,
             "ticks": ""
            },
            "type": "choropleth"
           }
          ],
          "contour": [
           {
            "colorbar": {
             "outlinewidth": 0,
             "ticks": ""
            },
            "colorscale": [
             [
              0,
              "#0d0887"
             ],
             [
              0.1111111111111111,
              "#46039f"
             ],
             [
              0.2222222222222222,
              "#7201a8"
             ],
             [
              0.3333333333333333,
              "#9c179e"
             ],
             [
              0.4444444444444444,
              "#bd3786"
             ],
             [
              0.5555555555555556,
              "#d8576b"
             ],
             [
              0.6666666666666666,
              "#ed7953"
             ],
             [
              0.7777777777777778,
              "#fb9f3a"
             ],
             [
              0.8888888888888888,
              "#fdca26"
             ],
             [
              1,
              "#f0f921"
             ]
            ],
            "type": "contour"
           }
          ],
          "contourcarpet": [
           {
            "colorbar": {
             "outlinewidth": 0,
             "ticks": ""
            },
            "type": "contourcarpet"
           }
          ],
          "heatmap": [
           {
            "colorbar": {
             "outlinewidth": 0,
             "ticks": ""
            },
            "colorscale": [
             [
              0,
              "#0d0887"
             ],
             [
              0.1111111111111111,
              "#46039f"
             ],
             [
              0.2222222222222222,
              "#7201a8"
             ],
             [
              0.3333333333333333,
              "#9c179e"
             ],
             [
              0.4444444444444444,
              "#bd3786"
             ],
             [
              0.5555555555555556,
              "#d8576b"
             ],
             [
              0.6666666666666666,
              "#ed7953"
             ],
             [
              0.7777777777777778,
              "#fb9f3a"
             ],
             [
              0.8888888888888888,
              "#fdca26"
             ],
             [
              1,
              "#f0f921"
             ]
            ],
            "type": "heatmap"
           }
          ],
          "heatmapgl": [
           {
            "colorbar": {
             "outlinewidth": 0,
             "ticks": ""
            },
            "colorscale": [
             [
              0,
              "#0d0887"
             ],
             [
              0.1111111111111111,
              "#46039f"
             ],
             [
              0.2222222222222222,
              "#7201a8"
             ],
             [
              0.3333333333333333,
              "#9c179e"
             ],
             [
              0.4444444444444444,
              "#bd3786"
             ],
             [
              0.5555555555555556,
              "#d8576b"
             ],
             [
              0.6666666666666666,
              "#ed7953"
             ],
             [
              0.7777777777777778,
              "#fb9f3a"
             ],
             [
              0.8888888888888888,
              "#fdca26"
             ],
             [
              1,
              "#f0f921"
             ]
            ],
            "type": "heatmapgl"
           }
          ],
          "histogram": [
           {
            "marker": {
             "colorbar": {
              "outlinewidth": 0,
              "ticks": ""
             }
            },
            "type": "histogram"
           }
          ],
          "histogram2d": [
           {
            "colorbar": {
             "outlinewidth": 0,
             "ticks": ""
            },
            "colorscale": [
             [
              0,
              "#0d0887"
             ],
             [
              0.1111111111111111,
              "#46039f"
             ],
             [
              0.2222222222222222,
              "#7201a8"
             ],
             [
              0.3333333333333333,
              "#9c179e"
             ],
             [
              0.4444444444444444,
              "#bd3786"
             ],
             [
              0.5555555555555556,
              "#d8576b"
             ],
             [
              0.6666666666666666,
              "#ed7953"
             ],
             [
              0.7777777777777778,
              "#fb9f3a"
             ],
             [
              0.8888888888888888,
              "#fdca26"
             ],
             [
              1,
              "#f0f921"
             ]
            ],
            "type": "histogram2d"
           }
          ],
          "histogram2dcontour": [
           {
            "colorbar": {
             "outlinewidth": 0,
             "ticks": ""
            },
            "colorscale": [
             [
              0,
              "#0d0887"
             ],
             [
              0.1111111111111111,
              "#46039f"
             ],
             [
              0.2222222222222222,
              "#7201a8"
             ],
             [
              0.3333333333333333,
              "#9c179e"
             ],
             [
              0.4444444444444444,
              "#bd3786"
             ],
             [
              0.5555555555555556,
              "#d8576b"
             ],
             [
              0.6666666666666666,
              "#ed7953"
             ],
             [
              0.7777777777777778,
              "#fb9f3a"
             ],
             [
              0.8888888888888888,
              "#fdca26"
             ],
             [
              1,
              "#f0f921"
             ]
            ],
            "type": "histogram2dcontour"
           }
          ],
          "mesh3d": [
           {
            "colorbar": {
             "outlinewidth": 0,
             "ticks": ""
            },
            "type": "mesh3d"
           }
          ],
          "parcoords": [
           {
            "line": {
             "colorbar": {
              "outlinewidth": 0,
              "ticks": ""
             }
            },
            "type": "parcoords"
           }
          ],
          "scatter": [
           {
            "marker": {
             "colorbar": {
              "outlinewidth": 0,
              "ticks": ""
             }
            },
            "type": "scatter"
           }
          ],
          "scatter3d": [
           {
            "line": {
             "colorbar": {
              "outlinewidth": 0,
              "ticks": ""
             }
            },
            "marker": {
             "colorbar": {
              "outlinewidth": 0,
              "ticks": ""
             }
            },
            "type": "scatter3d"
           }
          ],
          "scattercarpet": [
           {
            "marker": {
             "colorbar": {
              "outlinewidth": 0,
              "ticks": ""
             }
            },
            "type": "scattercarpet"
           }
          ],
          "scattergeo": [
           {
            "marker": {
             "colorbar": {
              "outlinewidth": 0,
              "ticks": ""
             }
            },
            "type": "scattergeo"
           }
          ],
          "scattergl": [
           {
            "marker": {
             "colorbar": {
              "outlinewidth": 0,
              "ticks": ""
             }
            },
            "type": "scattergl"
           }
          ],
          "scattermapbox": [
           {
            "marker": {
             "colorbar": {
              "outlinewidth": 0,
              "ticks": ""
             }
            },
            "type": "scattermapbox"
           }
          ],
          "scatterpolar": [
           {
            "marker": {
             "colorbar": {
              "outlinewidth": 0,
              "ticks": ""
             }
            },
            "type": "scatterpolar"
           }
          ],
          "scatterpolargl": [
           {
            "marker": {
             "colorbar": {
              "outlinewidth": 0,
              "ticks": ""
             }
            },
            "type": "scatterpolargl"
           }
          ],
          "scatterternary": [
           {
            "marker": {
             "colorbar": {
              "outlinewidth": 0,
              "ticks": ""
             }
            },
            "type": "scatterternary"
           }
          ],
          "surface": [
           {
            "colorbar": {
             "outlinewidth": 0,
             "ticks": ""
            },
            "colorscale": [
             [
              0,
              "#0d0887"
             ],
             [
              0.1111111111111111,
              "#46039f"
             ],
             [
              0.2222222222222222,
              "#7201a8"
             ],
             [
              0.3333333333333333,
              "#9c179e"
             ],
             [
              0.4444444444444444,
              "#bd3786"
             ],
             [
              0.5555555555555556,
              "#d8576b"
             ],
             [
              0.6666666666666666,
              "#ed7953"
             ],
             [
              0.7777777777777778,
              "#fb9f3a"
             ],
             [
              0.8888888888888888,
              "#fdca26"
             ],
             [
              1,
              "#f0f921"
             ]
            ],
            "type": "surface"
           }
          ],
          "table": [
           {
            "cells": {
             "fill": {
              "color": "#EBF0F8"
             },
             "line": {
              "color": "white"
             }
            },
            "header": {
             "fill": {
              "color": "#C8D4E3"
             },
             "line": {
              "color": "white"
             }
            },
            "type": "table"
           }
          ]
         },
         "layout": {
          "annotationdefaults": {
           "arrowcolor": "#2a3f5f",
           "arrowhead": 0,
           "arrowwidth": 1
          },
          "colorscale": {
           "diverging": [
            [
             0,
             "#8e0152"
            ],
            [
             0.1,
             "#c51b7d"
            ],
            [
             0.2,
             "#de77ae"
            ],
            [
             0.3,
             "#f1b6da"
            ],
            [
             0.4,
             "#fde0ef"
            ],
            [
             0.5,
             "#f7f7f7"
            ],
            [
             0.6,
             "#e6f5d0"
            ],
            [
             0.7,
             "#b8e186"
            ],
            [
             0.8,
             "#7fbc41"
            ],
            [
             0.9,
             "#4d9221"
            ],
            [
             1,
             "#276419"
            ]
           ],
           "sequential": [
            [
             0,
             "#0d0887"
            ],
            [
             0.1111111111111111,
             "#46039f"
            ],
            [
             0.2222222222222222,
             "#7201a8"
            ],
            [
             0.3333333333333333,
             "#9c179e"
            ],
            [
             0.4444444444444444,
             "#bd3786"
            ],
            [
             0.5555555555555556,
             "#d8576b"
            ],
            [
             0.6666666666666666,
             "#ed7953"
            ],
            [
             0.7777777777777778,
             "#fb9f3a"
            ],
            [
             0.8888888888888888,
             "#fdca26"
            ],
            [
             1,
             "#f0f921"
            ]
           ],
           "sequentialminus": [
            [
             0,
             "#0d0887"
            ],
            [
             0.1111111111111111,
             "#46039f"
            ],
            [
             0.2222222222222222,
             "#7201a8"
            ],
            [
             0.3333333333333333,
             "#9c179e"
            ],
            [
             0.4444444444444444,
             "#bd3786"
            ],
            [
             0.5555555555555556,
             "#d8576b"
            ],
            [
             0.6666666666666666,
             "#ed7953"
            ],
            [
             0.7777777777777778,
             "#fb9f3a"
            ],
            [
             0.8888888888888888,
             "#fdca26"
            ],
            [
             1,
             "#f0f921"
            ]
           ]
          },
          "colorway": [
           "#636efa",
           "#EF553B",
           "#00cc96",
           "#ab63fa",
           "#FFA15A",
           "#19d3f3",
           "#FF6692",
           "#B6E880",
           "#FF97FF",
           "#FECB52"
          ],
          "font": {
           "color": "#2a3f5f"
          },
          "geo": {
           "bgcolor": "white",
           "lakecolor": "white",
           "landcolor": "#E5ECF6",
           "showlakes": true,
           "showland": true,
           "subunitcolor": "white"
          },
          "hoverlabel": {
           "align": "left"
          },
          "hovermode": "closest",
          "mapbox": {
           "style": "light"
          },
          "paper_bgcolor": "white",
          "plot_bgcolor": "#E5ECF6",
          "polar": {
           "angularaxis": {
            "gridcolor": "white",
            "linecolor": "white",
            "ticks": ""
           },
           "bgcolor": "#E5ECF6",
           "radialaxis": {
            "gridcolor": "white",
            "linecolor": "white",
            "ticks": ""
           }
          },
          "scene": {
           "xaxis": {
            "backgroundcolor": "#E5ECF6",
            "gridcolor": "white",
            "gridwidth": 2,
            "linecolor": "white",
            "showbackground": true,
            "ticks": "",
            "zerolinecolor": "white"
           },
           "yaxis": {
            "backgroundcolor": "#E5ECF6",
            "gridcolor": "white",
            "gridwidth": 2,
            "linecolor": "white",
            "showbackground": true,
            "ticks": "",
            "zerolinecolor": "white"
           },
           "zaxis": {
            "backgroundcolor": "#E5ECF6",
            "gridcolor": "white",
            "gridwidth": 2,
            "linecolor": "white",
            "showbackground": true,
            "ticks": "",
            "zerolinecolor": "white"
           }
          },
          "shapedefaults": {
           "line": {
            "color": "#2a3f5f"
           }
          },
          "ternary": {
           "aaxis": {
            "gridcolor": "white",
            "linecolor": "white",
            "ticks": ""
           },
           "baxis": {
            "gridcolor": "white",
            "linecolor": "white",
            "ticks": ""
           },
           "bgcolor": "#E5ECF6",
           "caxis": {
            "gridcolor": "white",
            "linecolor": "white",
            "ticks": ""
           }
          },
          "title": {
           "x": 0.05
          },
          "xaxis": {
           "automargin": true,
           "gridcolor": "white",
           "linecolor": "white",
           "ticks": "",
           "zerolinecolor": "white",
           "zerolinewidth": 2
          },
          "yaxis": {
           "automargin": true,
           "gridcolor": "white",
           "linecolor": "white",
           "ticks": "",
           "zerolinecolor": "white",
           "zerolinewidth": 2
          }
         }
        }
       }
      },
      "text/html": [
       "<div>\n",
       "        \n",
       "        \n",
       "            <div id=\"74dd5da3-0c3d-473e-b1a3-a77976c8b785\" class=\"plotly-graph-div\" style=\"height:525px; width:100%;\"></div>\n",
       "            <script type=\"text/javascript\">\n",
       "                require([\"plotly\"], function(Plotly) {\n",
       "                    window.PLOTLYENV=window.PLOTLYENV || {};\n",
       "                    \n",
       "                if (document.getElementById(\"74dd5da3-0c3d-473e-b1a3-a77976c8b785\")) {\n",
       "                    Plotly.newPlot(\n",
       "                        '74dd5da3-0c3d-473e-b1a3-a77976c8b785',\n",
       "                        [{\"mode\": \"lines\", \"name\": \"solution\", \"type\": \"scatter\", \"x\": [0.0, 0.002040816326530612, 0.004081632653061224, 0.006122448979591837, 0.008163265306122448, 0.01020408163265306, 0.012244897959183675, 0.014285714285714285, 0.016326530612244896, 0.01836734693877551, 0.02040816326530612, 0.022448979591836733, 0.02448979591836735, 0.026530612244897958, 0.02857142857142857, 0.03061224489795918, 0.03265306122448979, 0.03469387755102041, 0.03673469387755102, 0.03877551020408163, 0.04081632653061224, 0.04285714285714286, 0.044897959183673466, 0.04693877551020408, 0.0489795918367347, 0.05102040816326531, 0.053061224489795916, 0.055102040816326525, 0.05714285714285714, 0.05918367346938776, 0.06122448979591836, 0.06326530612244897, 0.06530612244897958, 0.0673469387755102, 0.06938775510204082, 0.07142857142857142, 0.07346938775510203, 0.07551020408163266, 0.07755102040816327, 0.07959183673469387, 0.08163265306122448, 0.0836734693877551, 0.08571428571428572, 0.08775510204081632, 0.08979591836734693, 0.09183673469387754, 0.09387755102040816, 0.09591836734693877, 0.0979591836734694, 0.1, 0.1, 0.10204081632653061, 0.10408163265306122, 0.10612244897959185, 0.10816326530612246, 0.11020408163265306, 0.11224489795918369, 0.1142857142857143, 0.1163265306122449, 0.11836734693877551, 0.12040816326530612, 0.12244897959183673, 0.12448979591836735, 0.12653061224489798, 0.1285714285714286, 0.1306122448979592, 0.1326530612244898, 0.1346938775510204, 0.13673469387755102, 0.13877551020408163, 0.14081632653061224, 0.14285714285714285, 0.14489795918367349, 0.1469387755102041, 0.1489795918367347, 0.1510204081632653, 0.15306122448979592, 0.15510204081632653, 0.15714285714285714, 0.15918367346938778, 0.16122448979591836, 0.163265306122449, 0.16530612244897958, 0.1673469387755102, 0.16938775510204082, 0.17142857142857143, 0.17346938775510204, 0.17551020408163265, 0.17755102040816328, 0.17959183673469387, 0.1816326530612245, 0.1836734693877551, 0.18571428571428572, 0.18775510204081633, 0.18979591836734694, 0.19183673469387755, 0.19387755102040816, 0.1959183673469388, 0.1979591836734694, 0.2, 0.2, 0.20204081632653062, 0.20408163265306123, 0.20612244897959184, 0.20816326530612247, 0.21020408163265308, 0.2122448979591837, 0.2142857142857143, 0.2163265306122449, 0.21836734693877552, 0.22040816326530613, 0.22244897959183674, 0.22448979591836737, 0.22653061224489798, 0.2285714285714286, 0.2306122448979592, 0.2326530612244898, 0.23469387755102045, 0.23673469387755103, 0.23877551020408166, 0.24081632653061227, 0.24285714285714288, 0.2448979591836735, 0.2469387755102041, 0.24897959183673474, 0.2510204081632653, 0.25306122448979596, 0.25510204081632654, 0.2571428571428572, 0.25918367346938775, 0.2612244897959184, 0.263265306122449, 0.2653061224489796, 0.26734693877551025, 0.2693877551020408, 0.27142857142857146, 0.2734693877551021, 0.2755102040816327, 0.2775510204081633, 0.2795918367346939, 0.28163265306122454, 0.2836734693877551, 0.28571428571428575, 0.28775510204081634, 0.28979591836734697, 0.2918367346938776, 0.2938775510204082, 0.2959183673469388, 0.2979591836734694, 0.30000000000000004, 0.30000000000000004, 0.3020408163265307, 0.30408163265306126, 0.3061224489795919, 0.3081632653061225, 0.3102040816326531, 0.3122448979591837, 0.31428571428571433, 0.3163265306122449, 0.31836734693877555, 0.32040816326530613, 0.32244897959183677, 0.3244897959183674, 0.326530612244898, 0.3285714285714286, 0.3306122448979592, 0.33265306122448984, 0.3346938775510204, 0.33673469387755106, 0.3387755102040817, 0.3408163265306123, 0.34285714285714286, 0.3448979591836735, 0.34693877551020413, 0.3489795918367347, 0.35102040816326535, 0.35306122448979593, 0.35510204081632657, 0.35714285714285715, 0.3591836734693878, 0.36122448979591837, 0.363265306122449, 0.36530612244897964, 0.3673469387755102, 0.36938775510204086, 0.37142857142857144, 0.3734693877551021, 0.37551020408163266, 0.3775510204081633, 0.3795918367346939, 0.3816326530612245, 0.38367346938775515, 0.38571428571428573, 0.38775510204081637, 0.38979591836734695, 0.3918367346938776, 0.39387755102040817, 0.3959183673469388, 0.3979591836734694, 0.4, 0.4, 0.40204081632653066, 0.40408163265306124, 0.4061224489795919, 0.40816326530612246, 0.4102040816326531, 0.4122448979591837, 0.4142857142857143, 0.4163265306122449, 0.41836734693877553, 0.4204081632653061, 0.42244897959183675, 0.4244897959183674, 0.42653061224489797, 0.4285714285714286, 0.4306122448979592, 0.4326530612244898, 0.4346938775510204, 0.43673469387755104, 0.4387755102040817, 0.44081632653061226, 0.44285714285714284, 0.4448979591836735, 0.4469387755102041, 0.4489795918367347, 0.45102040816326533, 0.4530612244897959, 0.45510204081632655, 0.45714285714285713, 0.45918367346938777, 0.46122448979591835, 0.463265306122449, 0.4653061224489796, 0.4673469387755102, 0.46938775510204084, 0.4714285714285714, 0.47346938775510206, 0.47551020408163264, 0.4775510204081633, 0.47959183673469385, 0.4816326530612245, 0.48367346938775513, 0.4857142857142857, 0.48775510204081635, 0.4897959183673469, 0.49183673469387756, 0.49387755102040815, 0.4959183673469388, 0.49795918367346936, 0.5, 0.5, 0.5020408163265306, 0.5040816326530613, 0.5061224489795918, 0.5081632653061224, 0.5102040816326531, 0.5122448979591837, 0.5142857142857143, 0.5163265306122449, 0.5183673469387755, 0.5204081632653061, 0.5224489795918368, 0.5244897959183674, 0.5265306122448979, 0.5285714285714286, 0.5306122448979592, 0.5326530612244899, 0.5346938775510204, 0.536734693877551, 0.5387755102040817, 0.5408163265306123, 0.5428571428571429, 0.5448979591836735, 0.5469387755102041, 0.5489795918367347, 0.5510204081632654, 0.553061224489796, 0.5551020408163265, 0.5571428571428572, 0.5591836734693878, 0.5612244897959184, 0.5632653061224491, 0.5653061224489796, 0.5673469387755102, 0.5693877551020409, 0.5714285714285715, 0.5734693877551021, 0.5755102040816327, 0.5775510204081633, 0.5795918367346939, 0.5816326530612246, 0.5836734693877552, 0.5857142857142857, 0.5877551020408164, 0.589795918367347, 0.5918367346938777, 0.5938775510204082, 0.5959183673469388, 0.5979591836734695, 0.6000000000000001, 0.6000000000000001, 0.6020408163265307, 0.6040816326530614, 0.6061224489795919, 0.6081632653061225, 0.6102040816326532, 0.6122448979591838, 0.6142857142857143, 0.616326530612245, 0.6183673469387756, 0.6204081632653062, 0.6224489795918369, 0.6244897959183674, 0.626530612244898, 0.6285714285714287, 0.6306122448979593, 0.6326530612244898, 0.6346938775510205, 0.6367346938775511, 0.6387755102040817, 0.6408163265306123, 0.6428571428571429, 0.6448979591836735, 0.6469387755102042, 0.6489795918367348, 0.6510204081632653, 0.653061224489796, 0.6551020408163266, 0.6571428571428573, 0.6591836734693879, 0.6612244897959184, 0.663265306122449, 0.6653061224489797, 0.6673469387755103, 0.6693877551020408, 0.6714285714285715, 0.6734693877551021, 0.6755102040816328, 0.6775510204081634, 0.6795918367346939, 0.6816326530612246, 0.6836734693877552, 0.6857142857142857, 0.6877551020408164, 0.689795918367347, 0.6918367346938776, 0.6938775510204083, 0.6959183673469388, 0.6979591836734694, 0.7000000000000001, 0.7000000000000001, 0.7020408163265307, 0.7040816326530613, 0.7061224489795919, 0.7081632653061225, 0.7102040816326531, 0.7122448979591838, 0.7142857142857143, 0.7163265306122449, 0.7183673469387756, 0.7204081632653062, 0.7224489795918367, 0.7244897959183674, 0.726530612244898, 0.7285714285714286, 0.7306122448979593, 0.7326530612244898, 0.7346938775510204, 0.7367346938775511, 0.7387755102040817, 0.7408163265306122, 0.7428571428571429, 0.7448979591836735, 0.7469387755102042, 0.7489795918367348, 0.7510204081632653, 0.753061224489796, 0.7551020408163266, 0.7571428571428572, 0.7591836734693878, 0.7612244897959184, 0.763265306122449, 0.7653061224489797, 0.7673469387755103, 0.7693877551020408, 0.7714285714285715, 0.7734693877551021, 0.7755102040816327, 0.7775510204081633, 0.7795918367346939, 0.7816326530612245, 0.7836734693877552, 0.7857142857142858, 0.7877551020408163, 0.789795918367347, 0.7918367346938776, 0.7938775510204082, 0.7959183673469388, 0.7979591836734694, 0.8, 0.8, 0.8020408163265307, 0.8040816326530613, 0.8061224489795918, 0.8081632653061225, 0.8102040816326531, 0.8122448979591838, 0.8142857142857143, 0.8163265306122449, 0.8183673469387756, 0.8204081632653062, 0.8224489795918368, 0.8244897959183674, 0.826530612244898, 0.8285714285714286, 0.8306122448979593, 0.8326530612244898, 0.8346938775510204, 0.8367346938775511, 0.8387755102040817, 0.8408163265306122, 0.8428571428571429, 0.8448979591836735, 0.8469387755102041, 0.8489795918367348, 0.8510204081632653, 0.8530612244897959, 0.8551020408163266, 0.8571428571428572, 0.8591836734693878, 0.8612244897959184, 0.863265306122449, 0.8653061224489796, 0.8673469387755103, 0.8693877551020408, 0.8714285714285714, 0.8734693877551021, 0.8755102040816327, 0.8775510204081634, 0.8795918367346939, 0.8816326530612245, 0.8836734693877552, 0.8857142857142857, 0.8877551020408163, 0.889795918367347, 0.8918367346938776, 0.8938775510204082, 0.8959183673469387, 0.8979591836734694, 0.9, 0.9, 0.9020408163265307, 0.9040816326530613, 0.9061224489795918, 0.9081632653061225, 0.9102040816326531, 0.9122448979591837, 0.9142857142857143, 0.9163265306122449, 0.9183673469387755, 0.9204081632653062, 0.9224489795918367, 0.9244897959183673, 0.926530612244898, 0.9285714285714286, 0.9306122448979592, 0.9326530612244898, 0.9346938775510204, 0.936734693877551, 0.9387755102040817, 0.9408163265306122, 0.9428571428571428, 0.9448979591836735, 0.9469387755102041, 0.9489795918367347, 0.9510204081632653, 0.9530612244897959, 0.9551020408163265, 0.9571428571428572, 0.9591836734693877, 0.9612244897959183, 0.963265306122449, 0.9653061224489796, 0.9673469387755103, 0.9693877551020408, 0.9714285714285714, 0.9734693877551021, 0.9755102040816327, 0.9775510204081632, 0.9795918367346939, 0.9816326530612245, 0.9836734693877551, 0.9857142857142858, 0.9877551020408163, 0.9897959183673469, 0.9918367346938776, 0.9938775510204082, 0.9959183673469387, 0.9979591836734694, 1.0], \"y\": [1.0, 1.006122448979592, 1.0122448979591836, 1.0183673469387755, 1.0244897959183674, 1.030612244897959, 1.036734693877551, 1.042857142857143, 1.0489795918367348, 1.0551020408163265, 1.0612244897959184, 1.0673469387755101, 1.073469387755102, 1.079591836734694, 1.0857142857142859, 1.0918367346938775, 1.0979591836734695, 1.1040816326530614, 1.110204081632653, 1.116326530612245, 1.1224489795918369, 1.1285714285714286, 1.1346938775510205, 1.1408163265306124, 1.146938775510204, 1.1530612244897962, 1.1591836734693879, 1.1653061224489796, 1.1714285714285717, 1.1775510204081634, 1.183673469387755, 1.1897959183673472, 1.195918367346939, 1.2020408163265308, 1.2081632653061227, 1.2142857142857144, 1.2204081632653063, 1.2265306122448982, 1.23265306122449, 1.2387755102040816, 1.2448979591836737, 1.2510204081632654, 1.2571428571428576, 1.2632653061224492, 1.269387755102041, 1.2755102040816328, 1.2816326530612248, 1.2877551020408167, 1.2938775510204084, 1.3000000000000003, 1.3000000000000003, 1.306122448979592, 1.312244897959184, 1.3183673469387758, 1.3244897959183677, 1.3306122448979596, 1.3367346938775513, 1.3428571428571432, 1.348979591836735, 1.3551020408163268, 1.3612244897959187, 1.3673469387755104, 1.3734693877551023, 1.3795918367346942, 1.3857142857142861, 1.391836734693878, 1.39795918367347, 1.4040816326530616, 1.4102040816326533, 1.4163265306122454, 1.4224489795918371, 1.428571428571429, 1.434693877551021, 1.4408163265306126, 1.4469387755102048, 1.4530612244897965, 1.4591836734693882, 1.4653061224489803, 1.471428571428572, 1.4775510204081639, 1.4836734693877558, 1.4897959183673475, 1.4959183673469392, 1.5020408163265313, 1.508163265306123, 1.514285714285715, 1.5204081632653066, 1.5265306122448985, 1.5326530612244904, 1.5387755102040823, 1.5448979591836742, 1.551020408163266, 1.5571428571428578, 1.5632653061224497, 1.5693877551020416, 1.5755102040816333, 1.5816326530612252, 1.587755102040817, 1.593877551020409, 1.6000000000000008, 1.6000000000000008, 1.6061224489795927, 1.6122448979591844, 1.6183673469387763, 1.6244897959183682, 1.6306122448979599, 1.6367346938775518, 1.6428571428571437, 1.6489795918367356, 1.6551020408163273, 1.6612244897959192, 1.6673469387755109, 1.6734693877551028, 1.6795918367346947, 1.6857142857142866, 1.6918367346938785, 1.6979591836734704, 1.7040816326530621, 1.710204081632654, 1.7163265306122457, 1.7224489795918374, 1.7285714285714295, 1.7346938775510212, 1.740816326530613, 1.746938775510205, 1.7530612244897967, 1.7591836734693884, 1.7653061224489806, 1.7714285714285722, 1.7775510204081642, 1.783673469387756, 1.7897959183673477, 1.7959183673469399, 1.8020408163265316, 1.8081632653061235, 1.8142857142857152, 1.820408163265307, 1.826530612244899, 1.832653061224491, 1.8387755102040826, 1.8448979591836743, 1.8510204081632662, 1.857142857142858, 1.86326530612245, 1.8693877551020417, 1.8755102040816336, 1.8816326530612253, 1.8877551020408174, 1.8938775510204091, 1.900000000000001, 1.900000000000001, 1.906122448979593, 1.9122448979591846, 1.9183673469387765, 1.9244897959183684, 1.9306122448979601, 1.936734693877552, 1.9428571428571442, 1.9489795918367356, 1.9551020408163275, 1.9612244897959195, 1.9673469387755111, 1.973469387755103, 1.979591836734695, 1.9857142857142867, 1.9918367346938788, 1.9979591836734705, 2.0040816326530626, 2.0102040816326543, 2.016326530612246, 2.0224489795918377, 2.0285714285714294, 2.0346938775510215, 2.040816326530613, 2.0469387755102053, 2.053061224489797, 2.0591836734693887, 2.065306122448981, 2.0714285714285725, 2.077551020408164, 2.0836734693877563, 2.089795918367348, 2.0959183673469397, 2.102040816326532, 2.1081632653061235, 2.1142857142857157, 2.1204081632653073, 2.126530612244899, 2.1326530612244907, 2.1387755102040824, 2.1448979591836745, 2.1510204081632662, 2.1571428571428584, 2.16326530612245, 2.1693877551020417, 2.1755102040816334, 2.1816326530612256, 2.1877551020408172, 2.1938775510204094, 2.200000000000001, 2.200000000000001, 2.2061224489795928, 2.2122448979591844, 2.218367346938777, 2.2244897959183687, 2.2306122448979604, 2.236734693877552, 2.242857142857144, 2.248979591836736, 2.2551020408163276, 2.2612244897959193, 2.267346938775511, 2.273469387755103, 2.279591836734695, 2.285714285714287, 2.2918367346938786, 2.2979591836734707, 2.3040816326530624, 2.310204081632654, 2.316326530612246, 2.3224489795918375, 2.3285714285714296, 2.3346938775510218, 2.3408163265306134, 2.346938775510205, 2.353061224489797, 2.3591836734693885, 2.3653061224489806, 2.3714285714285723, 2.377551020408164, 2.383673469387756, 2.389795918367348, 2.3959183673469395, 2.402040816326531, 2.4081632653061233, 2.414285714285715, 2.420408163265307, 2.426530612244899, 2.4326530612244905, 2.4387755102040822, 2.4448979591836744, 2.451020408163266, 2.457142857142858, 2.46326530612245, 2.469387755102042, 2.4755102040816337, 2.4816326530612254, 2.487755102040817, 2.493877551020409, 2.500000000000001, 2.500000000000001, 2.5061224489795926, 2.5122448979591843, 2.518367346938777, 2.524489795918368, 2.53061224489796, 2.536734693877552, 2.5428571428571436, 2.5489795918367357, 2.555102040816328, 2.5612244897959195, 2.5673469387755112, 2.573469387755103, 2.5795918367346946, 2.5857142857142867, 2.5918367346938784, 2.5979591836734706, 2.6040816326530623, 2.610204081632654, 2.6163265306122456, 2.6224489795918373, 2.6285714285714294, 2.6346938775510216, 2.6408163265306133, 2.646938775510205, 2.653061224489797, 2.6591836734693888, 2.665306122448981, 2.6714285714285726, 2.6775510204081643, 2.683673469387756, 2.689795918367348, 2.69591836734694, 2.7020408163265315, 2.7081632653061236, 2.7142857142857153, 2.720408163265307, 2.726530612244899, 2.732653061224491, 2.7387755102040825, 2.7448979591836746, 2.7510204081632663, 2.757142857142858, 2.76326530612245, 2.7693877551020423, 2.7755102040816335, 2.7816326530612256, 2.787755102040818, 2.793877551020409, 2.800000000000001, 2.800000000000001, 2.806122448979593, 2.812244897959185, 2.818367346938777, 2.8244897959183684, 2.83061224489796, 2.836734693877552, 2.8428571428571443, 2.848979591836736, 2.8551020408163277, 2.8612244897959194, 2.867346938775511, 2.873469387755103, 2.8795918367346953, 2.885714285714287, 2.8918367346938787, 2.897959183673471, 2.9040816326530625, 2.910204081632654, 2.9163265306122463, 2.922448979591838, 2.9285714285714297, 2.9346938775510214, 2.9408163265306135, 2.9469387755102057, 2.9530612244897974, 2.959183673469389, 2.9653061224489807, 2.971428571428573, 2.977551020408165, 2.9836734693877567, 2.9897959183673484, 2.99591836734694, 3.0020408163265317, 3.008163265306124, 3.0142857142857156, 3.0204081632653073, 3.0265306122448994, 3.032653061224491, 3.038775510204083, 3.044897959183675, 3.051020408163267, 3.0571428571428587, 3.0632653061224504, 3.069387755102042, 3.0755102040816342, 3.081632653061226, 3.0877551020408176, 3.0938775510204097, 3.1000000000000014, 3.1000000000000014, 3.106122448979593, 3.112244897959185, 3.1183673469387774, 3.124489795918369, 3.1306122448979607, 3.1367346938775524, 3.142857142857144, 3.148979591836736, 3.1551020408163275, 3.1612244897959196, 3.1673469387755113, 3.173469387755103, 3.179591836734695, 3.185714285714287, 3.1918367346938794, 3.197959183673471, 3.204081632653063, 3.2102040816326545, 3.216326530612246, 3.222448979591838, 3.2285714285714295, 3.2346938775510217, 3.240816326530614, 3.2469387755102055, 3.253061224489797, 3.259183673469389, 3.2653061224489806, 3.2714285714285727, 3.2775510204081644, 3.2836734693877565, 3.289795918367348, 3.29591836734694, 3.302040816326532, 3.3081632653061237, 3.314285714285716, 3.3204081632653075, 3.326530612244899, 3.332653061224491, 3.3387755102040826, 3.3448979591836747, 3.3510204081632664, 3.357142857142858, 3.3632653061224502, 3.369387755102042, 3.375510204081634, 3.3816326530612257, 3.3877551020408174, 3.3938775510204096, 3.4000000000000012, 3.4000000000000012, 3.406122448979593, 3.4122448979591846, 3.4183673469387768, 3.4244897959183684, 3.43061224489796, 3.4367346938775523, 3.442857142857144, 3.448979591836736, 3.4551020408163273, 3.4612244897959195, 3.467346938775511, 3.473469387755103, 3.479591836734695, 3.4857142857142867, 3.491836734693879, 3.497959183673471, 3.5040816326530626, 3.5102040816326543, 3.516326530612246, 3.5224489795918377, 3.5285714285714294, 3.5346938775510215, 3.540816326530613, 3.546938775510205, 3.553061224489797, 3.5591836734693887, 3.5653061224489804, 3.571428571428572, 3.5775510204081638, 3.583673469387756, 3.589795918367348, 3.5959183673469397, 3.6020408163265314, 3.6081632653061235, 3.6142857142857148, 3.620408163265307, 3.626530612244899, 3.6326530612244903, 3.6387755102040824, 3.644897959183674, 3.651020408163266, 3.657142857142858, 3.6632653061224496, 3.6693877551020417, 3.675510204081633, 3.681632653061225, 3.6877551020408172, 3.6938775510204085, 3.7000000000000006, 3.7000000000000006, 3.7061224489795923, 3.7122448979591844, 3.718367346938776, 3.724489795918368, 3.73061224489796, 3.7367346938775516, 3.7428571428571438, 3.748979591836735, 3.755102040816327, 3.761224489795919, 3.7673469387755105, 3.773469387755102, 3.7795918367346943, 3.785714285714286, 3.791836734693878, 3.79795918367347, 3.8040816326530615, 3.8102040816326532, 3.8163265306122454, 3.8224489795918366, 3.8285714285714283, 3.834693877551021, 3.8408163265306126, 3.8469387755102042, 3.853061224489796, 3.859183673469388, 3.8653061224489798, 3.871428571428572, 3.8775510204081636, 3.8836734693877553, 3.889795918367347, 3.895918367346939, 3.9020408163265308, 3.908163265306123, 3.9142857142857146, 3.9204081632653063, 3.926530612244898, 3.9326530612244897, 3.938775510204082, 3.9448979591836735, 3.9510204081632656, 3.9571428571428573, 3.963265306122449, 3.9693877551020407, 3.975510204081633, 3.9816326530612245, 3.987755102040816, 3.9938775510204083, 4.0]}, {\"mode\": \"markers\", \"name\": \"$ui$\", \"type\": \"scatter\", \"x\": [0.0, 0.1, 0.2, 0.30000000000000004, 0.4, 0.5, 0.6000000000000001, 0.7000000000000001, 0.8, 0.9, 1.0], \"y\": [1.0, 1.3000000000000003, 1.6000000000000008, 1.900000000000001, 2.200000000000001, 2.500000000000001, 2.800000000000001, 3.1000000000000014, 3.4000000000000012, 3.7000000000000006, 4.0]}],\n",
       "                        {\"template\": {\"data\": {\"bar\": [{\"error_x\": {\"color\": \"#2a3f5f\"}, \"error_y\": {\"color\": \"#2a3f5f\"}, \"marker\": {\"line\": {\"color\": \"#E5ECF6\", \"width\": 0.5}}, \"type\": \"bar\"}], \"barpolar\": [{\"marker\": {\"line\": {\"color\": \"#E5ECF6\", \"width\": 0.5}}, \"type\": \"barpolar\"}], \"carpet\": [{\"aaxis\": {\"endlinecolor\": \"#2a3f5f\", \"gridcolor\": \"white\", \"linecolor\": \"white\", \"minorgridcolor\": \"white\", \"startlinecolor\": \"#2a3f5f\"}, \"baxis\": {\"endlinecolor\": \"#2a3f5f\", \"gridcolor\": \"white\", \"linecolor\": \"white\", \"minorgridcolor\": \"white\", \"startlinecolor\": \"#2a3f5f\"}, \"type\": \"carpet\"}], \"choropleth\": [{\"colorbar\": {\"outlinewidth\": 0, \"ticks\": \"\"}, \"type\": \"choropleth\"}], \"contour\": [{\"colorbar\": {\"outlinewidth\": 0, \"ticks\": \"\"}, \"colorscale\": [[0.0, \"#0d0887\"], [0.1111111111111111, \"#46039f\"], [0.2222222222222222, \"#7201a8\"], [0.3333333333333333, \"#9c179e\"], [0.4444444444444444, \"#bd3786\"], [0.5555555555555556, \"#d8576b\"], [0.6666666666666666, \"#ed7953\"], [0.7777777777777778, \"#fb9f3a\"], [0.8888888888888888, \"#fdca26\"], [1.0, \"#f0f921\"]], \"type\": \"contour\"}], \"contourcarpet\": [{\"colorbar\": {\"outlinewidth\": 0, \"ticks\": \"\"}, \"type\": \"contourcarpet\"}], \"heatmap\": [{\"colorbar\": {\"outlinewidth\": 0, \"ticks\": \"\"}, \"colorscale\": [[0.0, \"#0d0887\"], [0.1111111111111111, \"#46039f\"], [0.2222222222222222, \"#7201a8\"], [0.3333333333333333, \"#9c179e\"], [0.4444444444444444, \"#bd3786\"], [0.5555555555555556, \"#d8576b\"], [0.6666666666666666, \"#ed7953\"], [0.7777777777777778, \"#fb9f3a\"], [0.8888888888888888, \"#fdca26\"], [1.0, \"#f0f921\"]], \"type\": \"heatmap\"}], \"heatmapgl\": [{\"colorbar\": {\"outlinewidth\": 0, \"ticks\": \"\"}, \"colorscale\": [[0.0, \"#0d0887\"], [0.1111111111111111, \"#46039f\"], [0.2222222222222222, \"#7201a8\"], [0.3333333333333333, \"#9c179e\"], [0.4444444444444444, \"#bd3786\"], [0.5555555555555556, \"#d8576b\"], [0.6666666666666666, \"#ed7953\"], [0.7777777777777778, \"#fb9f3a\"], [0.8888888888888888, \"#fdca26\"], [1.0, \"#f0f921\"]], \"type\": \"heatmapgl\"}], \"histogram\": [{\"marker\": {\"colorbar\": {\"outlinewidth\": 0, \"ticks\": \"\"}}, \"type\": \"histogram\"}], \"histogram2d\": [{\"colorbar\": {\"outlinewidth\": 0, \"ticks\": \"\"}, \"colorscale\": [[0.0, \"#0d0887\"], [0.1111111111111111, \"#46039f\"], [0.2222222222222222, \"#7201a8\"], [0.3333333333333333, \"#9c179e\"], [0.4444444444444444, \"#bd3786\"], [0.5555555555555556, \"#d8576b\"], [0.6666666666666666, \"#ed7953\"], [0.7777777777777778, \"#fb9f3a\"], [0.8888888888888888, \"#fdca26\"], [1.0, \"#f0f921\"]], \"type\": \"histogram2d\"}], \"histogram2dcontour\": [{\"colorbar\": {\"outlinewidth\": 0, \"ticks\": \"\"}, \"colorscale\": [[0.0, \"#0d0887\"], [0.1111111111111111, \"#46039f\"], [0.2222222222222222, \"#7201a8\"], [0.3333333333333333, \"#9c179e\"], [0.4444444444444444, \"#bd3786\"], [0.5555555555555556, \"#d8576b\"], [0.6666666666666666, \"#ed7953\"], [0.7777777777777778, \"#fb9f3a\"], [0.8888888888888888, \"#fdca26\"], [1.0, \"#f0f921\"]], \"type\": \"histogram2dcontour\"}], \"mesh3d\": [{\"colorbar\": {\"outlinewidth\": 0, \"ticks\": \"\"}, \"type\": \"mesh3d\"}], \"parcoords\": [{\"line\": {\"colorbar\": {\"outlinewidth\": 0, \"ticks\": \"\"}}, \"type\": \"parcoords\"}], \"scatter\": [{\"marker\": {\"colorbar\": {\"outlinewidth\": 0, \"ticks\": \"\"}}, \"type\": \"scatter\"}], \"scatter3d\": [{\"line\": {\"colorbar\": {\"outlinewidth\": 0, \"ticks\": \"\"}}, \"marker\": {\"colorbar\": {\"outlinewidth\": 0, \"ticks\": \"\"}}, \"type\": \"scatter3d\"}], \"scattercarpet\": [{\"marker\": {\"colorbar\": {\"outlinewidth\": 0, \"ticks\": \"\"}}, \"type\": \"scattercarpet\"}], \"scattergeo\": [{\"marker\": {\"colorbar\": {\"outlinewidth\": 0, \"ticks\": \"\"}}, \"type\": \"scattergeo\"}], \"scattergl\": [{\"marker\": {\"colorbar\": {\"outlinewidth\": 0, \"ticks\": \"\"}}, \"type\": \"scattergl\"}], \"scattermapbox\": [{\"marker\": {\"colorbar\": {\"outlinewidth\": 0, \"ticks\": \"\"}}, \"type\": \"scattermapbox\"}], \"scatterpolar\": [{\"marker\": {\"colorbar\": {\"outlinewidth\": 0, \"ticks\": \"\"}}, \"type\": \"scatterpolar\"}], \"scatterpolargl\": [{\"marker\": {\"colorbar\": {\"outlinewidth\": 0, \"ticks\": \"\"}}, \"type\": \"scatterpolargl\"}], \"scatterternary\": [{\"marker\": {\"colorbar\": {\"outlinewidth\": 0, \"ticks\": \"\"}}, \"type\": \"scatterternary\"}], \"surface\": [{\"colorbar\": {\"outlinewidth\": 0, \"ticks\": \"\"}, \"colorscale\": [[0.0, \"#0d0887\"], [0.1111111111111111, \"#46039f\"], [0.2222222222222222, \"#7201a8\"], [0.3333333333333333, \"#9c179e\"], [0.4444444444444444, \"#bd3786\"], [0.5555555555555556, \"#d8576b\"], [0.6666666666666666, \"#ed7953\"], [0.7777777777777778, \"#fb9f3a\"], [0.8888888888888888, \"#fdca26\"], [1.0, \"#f0f921\"]], \"type\": \"surface\"}], \"table\": [{\"cells\": {\"fill\": {\"color\": \"#EBF0F8\"}, \"line\": {\"color\": \"white\"}}, \"header\": {\"fill\": {\"color\": \"#C8D4E3\"}, \"line\": {\"color\": \"white\"}}, \"type\": \"table\"}]}, \"layout\": {\"annotationdefaults\": {\"arrowcolor\": \"#2a3f5f\", \"arrowhead\": 0, \"arrowwidth\": 1}, \"colorscale\": {\"diverging\": [[0, \"#8e0152\"], [0.1, \"#c51b7d\"], [0.2, \"#de77ae\"], [0.3, \"#f1b6da\"], [0.4, \"#fde0ef\"], [0.5, \"#f7f7f7\"], [0.6, \"#e6f5d0\"], [0.7, \"#b8e186\"], [0.8, \"#7fbc41\"], [0.9, \"#4d9221\"], [1, \"#276419\"]], \"sequential\": [[0.0, \"#0d0887\"], [0.1111111111111111, \"#46039f\"], [0.2222222222222222, \"#7201a8\"], [0.3333333333333333, \"#9c179e\"], [0.4444444444444444, \"#bd3786\"], [0.5555555555555556, \"#d8576b\"], [0.6666666666666666, \"#ed7953\"], [0.7777777777777778, \"#fb9f3a\"], [0.8888888888888888, \"#fdca26\"], [1.0, \"#f0f921\"]], \"sequentialminus\": [[0.0, \"#0d0887\"], [0.1111111111111111, \"#46039f\"], [0.2222222222222222, \"#7201a8\"], [0.3333333333333333, \"#9c179e\"], [0.4444444444444444, \"#bd3786\"], [0.5555555555555556, \"#d8576b\"], [0.6666666666666666, \"#ed7953\"], [0.7777777777777778, \"#fb9f3a\"], [0.8888888888888888, \"#fdca26\"], [1.0, \"#f0f921\"]]}, \"colorway\": [\"#636efa\", \"#EF553B\", \"#00cc96\", \"#ab63fa\", \"#FFA15A\", \"#19d3f3\", \"#FF6692\", \"#B6E880\", \"#FF97FF\", \"#FECB52\"], \"font\": {\"color\": \"#2a3f5f\"}, \"geo\": {\"bgcolor\": \"white\", \"lakecolor\": \"white\", \"landcolor\": \"#E5ECF6\", \"showlakes\": true, \"showland\": true, \"subunitcolor\": \"white\"}, \"hoverlabel\": {\"align\": \"left\"}, \"hovermode\": \"closest\", \"mapbox\": {\"style\": \"light\"}, \"paper_bgcolor\": \"white\", \"plot_bgcolor\": \"#E5ECF6\", \"polar\": {\"angularaxis\": {\"gridcolor\": \"white\", \"linecolor\": \"white\", \"ticks\": \"\"}, \"bgcolor\": \"#E5ECF6\", \"radialaxis\": {\"gridcolor\": \"white\", \"linecolor\": \"white\", \"ticks\": \"\"}}, \"scene\": {\"xaxis\": {\"backgroundcolor\": \"#E5ECF6\", \"gridcolor\": \"white\", \"gridwidth\": 2, \"linecolor\": \"white\", \"showbackground\": true, \"ticks\": \"\", \"zerolinecolor\": \"white\"}, \"yaxis\": {\"backgroundcolor\": \"#E5ECF6\", \"gridcolor\": \"white\", \"gridwidth\": 2, \"linecolor\": \"white\", \"showbackground\": true, \"ticks\": \"\", \"zerolinecolor\": \"white\"}, \"zaxis\": {\"backgroundcolor\": \"#E5ECF6\", \"gridcolor\": \"white\", \"gridwidth\": 2, \"linecolor\": \"white\", \"showbackground\": true, \"ticks\": \"\", \"zerolinecolor\": \"white\"}}, \"shapedefaults\": {\"line\": {\"color\": \"#2a3f5f\"}}, \"ternary\": {\"aaxis\": {\"gridcolor\": \"white\", \"linecolor\": \"white\", \"ticks\": \"\"}, \"baxis\": {\"gridcolor\": \"white\", \"linecolor\": \"white\", \"ticks\": \"\"}, \"bgcolor\": \"#E5ECF6\", \"caxis\": {\"gridcolor\": \"white\", \"linecolor\": \"white\", \"ticks\": \"\"}}, \"title\": {\"x\": 0.05}, \"xaxis\": {\"automargin\": true, \"gridcolor\": \"white\", \"linecolor\": \"white\", \"ticks\": \"\", \"zerolinecolor\": \"white\", \"zerolinewidth\": 2}, \"yaxis\": {\"automargin\": true, \"gridcolor\": \"white\", \"linecolor\": \"white\", \"ticks\": \"\", \"zerolinecolor\": \"white\", \"zerolinewidth\": 2}}}},\n",
       "                        {\"responsive\": true}\n",
       "                    ).then(function(){\n",
       "                            \n",
       "var gd = document.getElementById('74dd5da3-0c3d-473e-b1a3-a77976c8b785');\n",
       "var x = new MutationObserver(function (mutations, observer) {{\n",
       "        var display = window.getComputedStyle(gd).display;\n",
       "        if (!display || display === 'none') {{\n",
       "            console.log([gd, 'removed!']);\n",
       "            Plotly.purge(gd);\n",
       "            observer.disconnect();\n",
       "        }}\n",
       "}});\n",
       "\n",
       "// Listen for the removal of the full notebook cells\n",
       "var notebookContainer = gd.closest('#notebook-container');\n",
       "if (notebookContainer) {{\n",
       "    x.observe(notebookContainer, {childList: true});\n",
       "}}\n",
       "\n",
       "// Listen for the clearing of the current output cell\n",
       "var outputEl = gd.closest('.output');\n",
       "if (outputEl) {{\n",
       "    x.observe(outputEl, {childList: true});\n",
       "}}\n",
       "\n",
       "                        })\n",
       "                };\n",
       "                });\n",
       "            </script>\n",
       "        </div>"
      ]
     },
     "metadata": {},
     "output_type": "display_data"
    }
   ],
   "source": [
    "x, u = interpolate(ui)\n",
    "\n",
    "\n",
    "fig = go.Figure(data=[\n",
    "    go.Scatter(x=x, y=u, mode='lines', name=\"solution\"),\n",
    "    go.Scatter(x=s, y=ui, mode='markers', name=\"$ui$\"),\n",
    "])\n",
    "plotly.iplot(fig)"
   ]
  },
  {
   "cell_type": "markdown",
   "metadata": {
    "slideshow": {
     "slide_type": "slide"
    }
   },
   "source": [
    "# Mass Matrix"
   ]
  },
  {
   "cell_type": "markdown",
   "metadata": {},
   "source": [
    "We change the pde from Laplace to Poisson\n",
    "\n",
    "$$\n",
    "-\\Delta u = f\n",
    "$$"
   ]
  },
  {
   "cell_type": "markdown",
   "metadata": {
    "slideshow": {
     "slide_type": "fragment"
    }
   },
   "source": [
    "If we assume that $f$ is also expressed in terms of $\\phi_i$ we can rewrite the weak form as\n",
    "\n",
    "$$\\sum_{i=0}^n u_i \\int_\\Omega\\nabla \\phi_i \\cdot \\nabla \\phi_j = \\sum_{i=0}^n f_i \\int_\\Omega\\phi_i \\phi_j, \\qquad \\forall j=0,\\dots,n$$"
   ]
  },
  {
   "cell_type": "markdown",
   "metadata": {
    "slideshow": {
     "slide_type": "slide"
    }
   },
   "source": [
    "Which can be represented in matrix form\n",
    "\n",
    "$$\n",
    "L \\boldsymbol{u} = M \\boldsymbol{f},\n",
    "$$\n",
    "\n",
    "where $\\boldsymbol{f}$ is the vector of $f_i$ and\n",
    "\n",
    "$$\n",
    "M_{i,j} = \\int_\\Omega\\phi_i \\phi_j\n",
    "$$\n",
    "\n",
    "is the **mass matrix**."
   ]
  },
  {
   "cell_type": "markdown",
   "metadata": {
    "slideshow": {
     "slide_type": "slide"
    }
   },
   "source": [
    "As for the stiffness matrix, the mass matrix can be localized\n",
    "\n",
    "$$\n",
    "M^e_{i,j} = \\int_{\\hat s_j} \\hat\\phi_i \\cdot \\hat\\phi_j\\,(s_{j, 1} - s_{j, 0}).\n",
    "$$"
   ]
  },
  {
   "cell_type": "markdown",
   "metadata": {
    "slideshow": {
     "slide_type": "fragment"
    }
   },
   "source": [
    "Note that there is no division since there are no gradients!"
   ]
  },
  {
   "cell_type": "code",
   "execution_count": 19,
   "metadata": {
    "slideshow": {
     "slide_type": "slide"
    }
   },
   "outputs": [],
   "source": [
    "rows = []\n",
    "cols = []\n",
    "vals = []\n",
    "\n",
    "\n",
    "#same as above but now we use phi instead of grad_phi and no division\n",
    "for e in range(n_elements):\n",
    "    el = elements[e]\n",
    "\n",
    "    for i in range(el[\"n_bases\"]):\n",
    "        for j in range(el[\"n_bases\"]):\n",
    "            # \\int_{\\hat s_j} \\hat\\phi_i \\cdot \\hat\\phi_j\\,(s_{j, 1} - s_{j, 0})\n",
    "            val = scheme.integrate(\n",
    "                lambda x:\n",
    "                el[\"phi\"][i](x) * el[\"phi\"][j](x) * el[\"grad_gmapping\"](x),\n",
    "                [0.0, 1.0])\n",
    "            \n",
    "            rows.append(el[\"loc_2_glob\"][i])\n",
    "            cols.append(el[\"loc_2_glob\"][j])\n",
    "            vals.append(val)\n",
    "\n",
    "            \n",
    "rows = np.array(rows)\n",
    "cols = np.array(cols)\n",
    "vals = np.array(vals)\n",
    "\n",
    "M = spr.coo_matrix((vals, (rows, cols)))\n",
    "M = spr.csr_matrix(M)"
   ]
  },
  {
   "cell_type": "markdown",
   "metadata": {
    "slideshow": {
     "slide_type": "slide"
    }
   },
   "source": [
    "Now we set $\\boldsymbol{f}=4$ and zero boundary conditions."
   ]
  },
  {
   "cell_type": "code",
   "execution_count": 20,
   "metadata": {
    "slideshow": {
     "slide_type": "fragment"
    }
   },
   "outputs": [],
   "source": [
    "f = 4*np.ones((n_bases, 1))\n",
    "f = M*f\n",
    "\n",
    "f[0] = 0\n",
    "f[-1] = 0"
   ]
  },
  {
   "cell_type": "markdown",
   "metadata": {
    "slideshow": {
     "slide_type": "slide"
    }
   },
   "source": [
    "We now solve $L\\boldsymbol{ui}=M\\boldsymbol{f}$ for $\\boldsymbol{ui}$."
   ]
  },
  {
   "cell_type": "code",
   "execution_count": 21,
   "metadata": {
    "slideshow": {
     "slide_type": "fragment"
    }
   },
   "outputs": [],
   "source": [
    "ui = spsolve(L, f)"
   ]
  },
  {
   "cell_type": "code",
   "execution_count": 22,
   "metadata": {
    "slideshow": {
     "slide_type": "slide"
    }
   },
   "outputs": [
    {
     "data": {
      "application/vnd.plotly.v1+json": {
       "config": {
        "linkText": "Export to plot.ly",
        "plotlyServerURL": "https://plot.ly",
        "showLink": false
       },
       "data": [
        {
         "mode": "lines",
         "name": "solution",
         "type": "scatter",
         "x": [
          0,
          0.002040816326530612,
          0.004081632653061224,
          0.006122448979591837,
          0.008163265306122448,
          0.01020408163265306,
          0.012244897959183675,
          0.014285714285714285,
          0.016326530612244896,
          0.01836734693877551,
          0.02040816326530612,
          0.022448979591836733,
          0.02448979591836735,
          0.026530612244897958,
          0.02857142857142857,
          0.03061224489795918,
          0.03265306122448979,
          0.03469387755102041,
          0.03673469387755102,
          0.03877551020408163,
          0.04081632653061224,
          0.04285714285714286,
          0.044897959183673466,
          0.04693877551020408,
          0.0489795918367347,
          0.05102040816326531,
          0.053061224489795916,
          0.055102040816326525,
          0.05714285714285714,
          0.05918367346938776,
          0.06122448979591836,
          0.06326530612244897,
          0.06530612244897958,
          0.0673469387755102,
          0.06938775510204082,
          0.07142857142857142,
          0.07346938775510203,
          0.07551020408163266,
          0.07755102040816327,
          0.07959183673469387,
          0.08163265306122448,
          0.0836734693877551,
          0.08571428571428572,
          0.08775510204081632,
          0.08979591836734693,
          0.09183673469387754,
          0.09387755102040816,
          0.09591836734693877,
          0.0979591836734694,
          0.1,
          0.1,
          0.10204081632653061,
          0.10408163265306122,
          0.10612244897959185,
          0.10816326530612246,
          0.11020408163265306,
          0.11224489795918369,
          0.1142857142857143,
          0.1163265306122449,
          0.11836734693877551,
          0.12040816326530612,
          0.12244897959183673,
          0.12448979591836735,
          0.12653061224489798,
          0.1285714285714286,
          0.1306122448979592,
          0.1326530612244898,
          0.1346938775510204,
          0.13673469387755102,
          0.13877551020408163,
          0.14081632653061224,
          0.14285714285714285,
          0.14489795918367349,
          0.1469387755102041,
          0.1489795918367347,
          0.1510204081632653,
          0.15306122448979592,
          0.15510204081632653,
          0.15714285714285714,
          0.15918367346938778,
          0.16122448979591836,
          0.163265306122449,
          0.16530612244897958,
          0.1673469387755102,
          0.16938775510204082,
          0.17142857142857143,
          0.17346938775510204,
          0.17551020408163265,
          0.17755102040816328,
          0.17959183673469387,
          0.1816326530612245,
          0.1836734693877551,
          0.18571428571428572,
          0.18775510204081633,
          0.18979591836734694,
          0.19183673469387755,
          0.19387755102040816,
          0.1959183673469388,
          0.1979591836734694,
          0.2,
          0.2,
          0.20204081632653062,
          0.20408163265306123,
          0.20612244897959184,
          0.20816326530612247,
          0.21020408163265308,
          0.2122448979591837,
          0.2142857142857143,
          0.2163265306122449,
          0.21836734693877552,
          0.22040816326530613,
          0.22244897959183674,
          0.22448979591836737,
          0.22653061224489798,
          0.2285714285714286,
          0.2306122448979592,
          0.2326530612244898,
          0.23469387755102045,
          0.23673469387755103,
          0.23877551020408166,
          0.24081632653061227,
          0.24285714285714288,
          0.2448979591836735,
          0.2469387755102041,
          0.24897959183673474,
          0.2510204081632653,
          0.25306122448979596,
          0.25510204081632654,
          0.2571428571428572,
          0.25918367346938775,
          0.2612244897959184,
          0.263265306122449,
          0.2653061224489796,
          0.26734693877551025,
          0.2693877551020408,
          0.27142857142857146,
          0.2734693877551021,
          0.2755102040816327,
          0.2775510204081633,
          0.2795918367346939,
          0.28163265306122454,
          0.2836734693877551,
          0.28571428571428575,
          0.28775510204081634,
          0.28979591836734697,
          0.2918367346938776,
          0.2938775510204082,
          0.2959183673469388,
          0.2979591836734694,
          0.30000000000000004,
          0.30000000000000004,
          0.3020408163265307,
          0.30408163265306126,
          0.3061224489795919,
          0.3081632653061225,
          0.3102040816326531,
          0.3122448979591837,
          0.31428571428571433,
          0.3163265306122449,
          0.31836734693877555,
          0.32040816326530613,
          0.32244897959183677,
          0.3244897959183674,
          0.326530612244898,
          0.3285714285714286,
          0.3306122448979592,
          0.33265306122448984,
          0.3346938775510204,
          0.33673469387755106,
          0.3387755102040817,
          0.3408163265306123,
          0.34285714285714286,
          0.3448979591836735,
          0.34693877551020413,
          0.3489795918367347,
          0.35102040816326535,
          0.35306122448979593,
          0.35510204081632657,
          0.35714285714285715,
          0.3591836734693878,
          0.36122448979591837,
          0.363265306122449,
          0.36530612244897964,
          0.3673469387755102,
          0.36938775510204086,
          0.37142857142857144,
          0.3734693877551021,
          0.37551020408163266,
          0.3775510204081633,
          0.3795918367346939,
          0.3816326530612245,
          0.38367346938775515,
          0.38571428571428573,
          0.38775510204081637,
          0.38979591836734695,
          0.3918367346938776,
          0.39387755102040817,
          0.3959183673469388,
          0.3979591836734694,
          0.4,
          0.4,
          0.40204081632653066,
          0.40408163265306124,
          0.4061224489795919,
          0.40816326530612246,
          0.4102040816326531,
          0.4122448979591837,
          0.4142857142857143,
          0.4163265306122449,
          0.41836734693877553,
          0.4204081632653061,
          0.42244897959183675,
          0.4244897959183674,
          0.42653061224489797,
          0.4285714285714286,
          0.4306122448979592,
          0.4326530612244898,
          0.4346938775510204,
          0.43673469387755104,
          0.4387755102040817,
          0.44081632653061226,
          0.44285714285714284,
          0.4448979591836735,
          0.4469387755102041,
          0.4489795918367347,
          0.45102040816326533,
          0.4530612244897959,
          0.45510204081632655,
          0.45714285714285713,
          0.45918367346938777,
          0.46122448979591835,
          0.463265306122449,
          0.4653061224489796,
          0.4673469387755102,
          0.46938775510204084,
          0.4714285714285714,
          0.47346938775510206,
          0.47551020408163264,
          0.4775510204081633,
          0.47959183673469385,
          0.4816326530612245,
          0.48367346938775513,
          0.4857142857142857,
          0.48775510204081635,
          0.4897959183673469,
          0.49183673469387756,
          0.49387755102040815,
          0.4959183673469388,
          0.49795918367346936,
          0.5,
          0.5,
          0.5020408163265306,
          0.5040816326530613,
          0.5061224489795918,
          0.5081632653061224,
          0.5102040816326531,
          0.5122448979591837,
          0.5142857142857143,
          0.5163265306122449,
          0.5183673469387755,
          0.5204081632653061,
          0.5224489795918368,
          0.5244897959183674,
          0.5265306122448979,
          0.5285714285714286,
          0.5306122448979592,
          0.5326530612244899,
          0.5346938775510204,
          0.536734693877551,
          0.5387755102040817,
          0.5408163265306123,
          0.5428571428571429,
          0.5448979591836735,
          0.5469387755102041,
          0.5489795918367347,
          0.5510204081632654,
          0.553061224489796,
          0.5551020408163265,
          0.5571428571428572,
          0.5591836734693878,
          0.5612244897959184,
          0.5632653061224491,
          0.5653061224489796,
          0.5673469387755102,
          0.5693877551020409,
          0.5714285714285715,
          0.5734693877551021,
          0.5755102040816327,
          0.5775510204081633,
          0.5795918367346939,
          0.5816326530612246,
          0.5836734693877552,
          0.5857142857142857,
          0.5877551020408164,
          0.589795918367347,
          0.5918367346938777,
          0.5938775510204082,
          0.5959183673469388,
          0.5979591836734695,
          0.6000000000000001,
          0.6000000000000001,
          0.6020408163265307,
          0.6040816326530614,
          0.6061224489795919,
          0.6081632653061225,
          0.6102040816326532,
          0.6122448979591838,
          0.6142857142857143,
          0.616326530612245,
          0.6183673469387756,
          0.6204081632653062,
          0.6224489795918369,
          0.6244897959183674,
          0.626530612244898,
          0.6285714285714287,
          0.6306122448979593,
          0.6326530612244898,
          0.6346938775510205,
          0.6367346938775511,
          0.6387755102040817,
          0.6408163265306123,
          0.6428571428571429,
          0.6448979591836735,
          0.6469387755102042,
          0.6489795918367348,
          0.6510204081632653,
          0.653061224489796,
          0.6551020408163266,
          0.6571428571428573,
          0.6591836734693879,
          0.6612244897959184,
          0.663265306122449,
          0.6653061224489797,
          0.6673469387755103,
          0.6693877551020408,
          0.6714285714285715,
          0.6734693877551021,
          0.6755102040816328,
          0.6775510204081634,
          0.6795918367346939,
          0.6816326530612246,
          0.6836734693877552,
          0.6857142857142857,
          0.6877551020408164,
          0.689795918367347,
          0.6918367346938776,
          0.6938775510204083,
          0.6959183673469388,
          0.6979591836734694,
          0.7000000000000001,
          0.7000000000000001,
          0.7020408163265307,
          0.7040816326530613,
          0.7061224489795919,
          0.7081632653061225,
          0.7102040816326531,
          0.7122448979591838,
          0.7142857142857143,
          0.7163265306122449,
          0.7183673469387756,
          0.7204081632653062,
          0.7224489795918367,
          0.7244897959183674,
          0.726530612244898,
          0.7285714285714286,
          0.7306122448979593,
          0.7326530612244898,
          0.7346938775510204,
          0.7367346938775511,
          0.7387755102040817,
          0.7408163265306122,
          0.7428571428571429,
          0.7448979591836735,
          0.7469387755102042,
          0.7489795918367348,
          0.7510204081632653,
          0.753061224489796,
          0.7551020408163266,
          0.7571428571428572,
          0.7591836734693878,
          0.7612244897959184,
          0.763265306122449,
          0.7653061224489797,
          0.7673469387755103,
          0.7693877551020408,
          0.7714285714285715,
          0.7734693877551021,
          0.7755102040816327,
          0.7775510204081633,
          0.7795918367346939,
          0.7816326530612245,
          0.7836734693877552,
          0.7857142857142858,
          0.7877551020408163,
          0.789795918367347,
          0.7918367346938776,
          0.7938775510204082,
          0.7959183673469388,
          0.7979591836734694,
          0.8,
          0.8,
          0.8020408163265307,
          0.8040816326530613,
          0.8061224489795918,
          0.8081632653061225,
          0.8102040816326531,
          0.8122448979591838,
          0.8142857142857143,
          0.8163265306122449,
          0.8183673469387756,
          0.8204081632653062,
          0.8224489795918368,
          0.8244897959183674,
          0.826530612244898,
          0.8285714285714286,
          0.8306122448979593,
          0.8326530612244898,
          0.8346938775510204,
          0.8367346938775511,
          0.8387755102040817,
          0.8408163265306122,
          0.8428571428571429,
          0.8448979591836735,
          0.8469387755102041,
          0.8489795918367348,
          0.8510204081632653,
          0.8530612244897959,
          0.8551020408163266,
          0.8571428571428572,
          0.8591836734693878,
          0.8612244897959184,
          0.863265306122449,
          0.8653061224489796,
          0.8673469387755103,
          0.8693877551020408,
          0.8714285714285714,
          0.8734693877551021,
          0.8755102040816327,
          0.8775510204081634,
          0.8795918367346939,
          0.8816326530612245,
          0.8836734693877552,
          0.8857142857142857,
          0.8877551020408163,
          0.889795918367347,
          0.8918367346938776,
          0.8938775510204082,
          0.8959183673469387,
          0.8979591836734694,
          0.9,
          0.9,
          0.9020408163265307,
          0.9040816326530613,
          0.9061224489795918,
          0.9081632653061225,
          0.9102040816326531,
          0.9122448979591837,
          0.9142857142857143,
          0.9163265306122449,
          0.9183673469387755,
          0.9204081632653062,
          0.9224489795918367,
          0.9244897959183673,
          0.926530612244898,
          0.9285714285714286,
          0.9306122448979592,
          0.9326530612244898,
          0.9346938775510204,
          0.936734693877551,
          0.9387755102040817,
          0.9408163265306122,
          0.9428571428571428,
          0.9448979591836735,
          0.9469387755102041,
          0.9489795918367347,
          0.9510204081632653,
          0.9530612244897959,
          0.9551020408163265,
          0.9571428571428572,
          0.9591836734693877,
          0.9612244897959183,
          0.963265306122449,
          0.9653061224489796,
          0.9673469387755103,
          0.9693877551020408,
          0.9714285714285714,
          0.9734693877551021,
          0.9755102040816327,
          0.9775510204081632,
          0.9795918367346939,
          0.9816326530612245,
          0.9836734693877551,
          0.9857142857142858,
          0.9877551020408163,
          0.9897959183673469,
          0.9918367346938776,
          0.9938775510204082,
          0.9959183673469387,
          0.9979591836734694,
          1
         ],
         "y": [
          0,
          0.003673469387755103,
          0.007346938775510206,
          0.01102040816326531,
          0.014693877551020413,
          0.018367346938775515,
          0.02204081632653062,
          0.025714285714285724,
          0.029387755102040825,
          0.033061224489795926,
          0.03673469387755103,
          0.040408163265306135,
          0.04408163265306124,
          0.04775510204081634,
          0.05142857142857145,
          0.055102040816326546,
          0.05877551020408165,
          0.06244897959183676,
          0.06612244897959185,
          0.06979591836734697,
          0.07346938775510206,
          0.07714285714285717,
          0.08081632653061227,
          0.08448979591836737,
          0.08816326530612248,
          0.0918367346938776,
          0.09551020408163267,
          0.09918367346938779,
          0.1028571428571429,
          0.106530612244898,
          0.11020408163265309,
          0.1138775510204082,
          0.1175510204081633,
          0.12122448979591842,
          0.12489795918367352,
          0.12857142857142861,
          0.1322448979591837,
          0.13591836734693882,
          0.13959183673469394,
          0.14326530612244903,
          0.14693877551020412,
          0.15061224489795924,
          0.15428571428571433,
          0.15795918367346945,
          0.16163265306122454,
          0.16530612244897966,
          0.16897959183673475,
          0.17265306122448987,
          0.17632653061224496,
          0.18000000000000008,
          0.18000000000000008,
          0.1828571428571429,
          0.1857142857142858,
          0.18857142857142867,
          0.1914285714285715,
          0.1942857142857144,
          0.19714285714285723,
          0.2000000000000001,
          0.20285714285714296,
          0.2057142857142858,
          0.20857142857142866,
          0.21142857142857152,
          0.21428571428571436,
          0.21714285714285725,
          0.2200000000000001,
          0.22285714285714298,
          0.2257142857142858,
          0.2285714285714287,
          0.23142857142857154,
          0.23428571428571437,
          0.23714285714285727,
          0.2400000000000001,
          0.24285714285714297,
          0.24571428571428583,
          0.2485714285714287,
          0.25142857142857156,
          0.2542857142857144,
          0.2571428571428573,
          0.2600000000000001,
          0.262857142857143,
          0.26571428571428585,
          0.2685714285714287,
          0.2714285714285716,
          0.2742857142857144,
          0.27714285714285725,
          0.28000000000000014,
          0.282857142857143,
          0.28571428571428586,
          0.2885714285714287,
          0.2914285714285716,
          0.29428571428571443,
          0.29714285714285726,
          0.30000000000000016,
          0.30285714285714305,
          0.3057142857142859,
          0.3085714285714287,
          0.3114285714285716,
          0.31428571428571445,
          0.3171428571428573,
          0.3200000000000002,
          0.3200000000000002,
          0.32204081632653075,
          0.32408163265306134,
          0.32612244897959203,
          0.32816326530612266,
          0.33020408163265325,
          0.3322448979591839,
          0.3342857142857145,
          0.3363265306122451,
          0.3383673469387757,
          0.34040816326530626,
          0.3424489795918369,
          0.34448979591836754,
          0.3465306122448981,
          0.34857142857142875,
          0.3506122448979594,
          0.35265306122449,
          0.3546938775510206,
          0.3567346938775512,
          0.3587755102040818,
          0.36081632653061246,
          0.36285714285714304,
          0.3648979591836737,
          0.36693877551020426,
          0.3689795918367349,
          0.37102040816326554,
          0.3730612244897962,
          0.3751020408163267,
          0.37714285714285734,
          0.37918367346938797,
          0.3812244897959186,
          0.3832653061224492,
          0.38530612244897977,
          0.3873469387755104,
          0.38938775510204104,
          0.3914285714285717,
          0.39346938775510226,
          0.3955102040816329,
          0.3975510204081635,
          0.3995918367346941,
          0.4016326530612247,
          0.4036734693877554,
          0.40571428571428597,
          0.40775510204081655,
          0.4097959183673472,
          0.41183673469387777,
          0.4138775510204084,
          0.41591836734693904,
          0.4179591836734697,
          0.42000000000000026,
          0.42000000000000026,
          0.42122448979591864,
          0.42244897959183697,
          0.4236734693877554,
          0.42489795918367373,
          0.4261224489795921,
          0.42734693877551044,
          0.4285714285714289,
          0.4297959183673472,
          0.4310204081632656,
          0.43224489795918397,
          0.43346938775510224,
          0.4346938775510207,
          0.435918367346939,
          0.4371428571428574,
          0.43836734693877577,
          0.43959183673469415,
          0.44081632653061253,
          0.4420408163265309,
          0.4432653061224492,
          0.44448979591836757,
          0.44571428571428595,
          0.44693877551020433,
          0.4481632653061227,
          0.4493877551020411,
          0.4506122448979595,
          0.4518367346938778,
          0.4530612244897962,
          0.4542857142857145,
          0.4555102040816329,
          0.4567346938775513,
          0.45795918367346966,
          0.45918367346938804,
          0.46040816326530637,
          0.4616326530612247,
          0.4628571428571431,
          0.4640816326530615,
          0.46530612244897984,
          0.4665306122448982,
          0.46775510204081655,
          0.46897959183673493,
          0.47020408163265337,
          0.4714285714285717,
          0.4726530612244901,
          0.4738775510204084,
          0.4751020408163268,
          0.4763265306122451,
          0.47755102040816355,
          0.4787755102040819,
          0.48000000000000026,
          0.48000000000000026,
          0.4804081632653064,
          0.4808163265306125,
          0.48122448979591864,
          0.4816326530612247,
          0.48204081632653084,
          0.48244897959183697,
          0.48285714285714315,
          0.4832653061224493,
          0.48367346938775535,
          0.4840816326530615,
          0.4844897959183676,
          0.48489795918367373,
          0.48530612244897986,
          0.48571428571428593,
          0.4861224489795921,
          0.48653061224489824,
          0.48693877551020437,
          0.4873469387755105,
          0.4877551020408166,
          0.48816326530612264,
          0.48857142857142877,
          0.48897959183673495,
          0.4893877551020411,
          0.48979591836734715,
          0.4902040816326533,
          0.4906122448979594,
          0.49102040816326553,
          0.49142857142857166,
          0.4918367346938778,
          0.4922448979591839,
          0.49265306122449004,
          0.49306122448979617,
          0.4934693877551023,
          0.4938775510204084,
          0.49428571428571455,
          0.4946938775510207,
          0.49510204081632675,
          0.4955102040816329,
          0.495918367346939,
          0.4963265306122451,
          0.4967346938775512,
          0.49714285714285733,
          0.4975510204081635,
          0.49795918367346964,
          0.49836734693877577,
          0.49877551020408184,
          0.49918367346938797,
          0.4995918367346941,
          0.5000000000000002,
          0.5000000000000002,
          0.4995918367346941,
          0.49918367346938797,
          0.4987755102040819,
          0.49836734693877577,
          0.49795918367346964,
          0.4975510204081635,
          0.4971428571428574,
          0.4967346938775512,
          0.4963265306122451,
          0.49591836734693895,
          0.4955102040816328,
          0.4951020408163267,
          0.4946938775510206,
          0.49428571428571455,
          0.4938775510204084,
          0.4934693877551023,
          0.49306122448979617,
          0.49265306122449004,
          0.49224489795918386,
          0.49183673469387773,
          0.4914285714285716,
          0.49102040816326553,
          0.4906122448979594,
          0.4902040816326533,
          0.48979591836734715,
          0.489387755102041,
          0.4889795918367349,
          0.48857142857142877,
          0.48816326530612264,
          0.4877551020408165,
          0.4873469387755104,
          0.48693877551020426,
          0.48653061224489813,
          0.48612244897959206,
          0.48571428571428593,
          0.4853061224489798,
          0.4848979591836737,
          0.48448979591836755,
          0.4840816326530614,
          0.48367346938775535,
          0.4832653061224492,
          0.4828571428571431,
          0.48244897959183697,
          0.4820408163265308,
          0.48163265306122466,
          0.4812244897959186,
          0.48081632653061246,
          0.48040816326530633,
          0.4800000000000002,
          0.4800000000000002,
          0.4787755102040818,
          0.47755102040816344,
          0.4763265306122451,
          0.47510204081632673,
          0.47387755102040835,
          0.47265306122448997,
          0.47142857142857164,
          0.47020408163265326,
          0.46897959183673493,
          0.4677551020408165,
          0.4665306122448981,
          0.46530612244897973,
          0.4640816326530614,
          0.4628571428571431,
          0.4616326530612247,
          0.4604081632653063,
          0.45918367346938793,
          0.45795918367346955,
          0.4567346938775512,
          0.4555102040816328,
          0.45428571428571446,
          0.4530612244897961,
          0.45183673469387775,
          0.45061224489795937,
          0.449387755102041,
          0.4481632653061226,
          0.4469387755102042,
          0.4457142857142859,
          0.44448979591836757,
          0.44326530612244913,
          0.4420408163265308,
          0.4408163265306124,
          0.43959183673469404,
          0.43836734693877566,
          0.4371428571428573,
          0.43591836734693895,
          0.43469387755102057,
          0.43346938775510224,
          0.43224489795918386,
          0.4310204081632655,
          0.4297959183673471,
          0.4285714285714287,
          0.4273469387755104,
          0.426122448979592,
          0.4248979591836736,
          0.42367346938775524,
          0.42244897959183686,
          0.42122448979591853,
          0.42000000000000015,
          0.42000000000000015,
          0.41795918367346957,
          0.4159183673469389,
          0.41387755102040835,
          0.4118367346938777,
          0.4097959183673471,
          0.4077551020408165,
          0.40571428571428586,
          0.4036734693877553,
          0.40163265306122464,
          0.399591836734694,
          0.3975510204081634,
          0.39551020408163273,
          0.3934693877551022,
          0.39142857142857157,
          0.389387755102041,
          0.38734693877551035,
          0.38530612244897977,
          0.38326530612244913,
          0.3812244897959185,
          0.37918367346938786,
          0.3771428571428572,
          0.3751020408163267,
          0.37306122448979606,
          0.3710204081632654,
          0.36897959183673484,
          0.36693877551020426,
          0.3648979591836736,
          0.362857142857143,
          0.36081632653061235,
          0.35877551020408177,
          0.35673469387755113,
          0.35469387755102055,
          0.3526530612244899,
          0.3506122448979593,
          0.3485714285714287,
          0.3465306122448981,
          0.3444897959183675,
          0.34244897959183684,
          0.34040816326530626,
          0.3383673469387757,
          0.33632653061224504,
          0.3342857142857144,
          0.33224489795918377,
          0.3302040816326532,
          0.3281632653061226,
          0.326122448979592,
          0.32408163265306134,
          0.3220408163265307,
          0.3200000000000001,
          0.3200000000000001,
          0.3171428571428572,
          0.31428571428571433,
          0.31142857142857155,
          0.3085714285714287,
          0.3057142857142858,
          0.30285714285714294,
          0.30000000000000016,
          0.29714285714285726,
          0.2942857142857144,
          0.29142857142857154,
          0.28857142857142865,
          0.2857142857142858,
          0.282857142857143,
          0.2800000000000001,
          0.27714285714285725,
          0.2742857142857144,
          0.2714285714285715,
          0.2685714285714287,
          0.2657142857142858,
          0.26285714285714296,
          0.26000000000000006,
          0.25714285714285723,
          0.25428571428571434,
          0.2514285714285715,
          0.24857142857142867,
          0.2457142857142858,
          0.24285714285714294,
          0.2400000000000001,
          0.2371428571428572,
          0.23428571428571437,
          0.2314285714285715,
          0.22857142857142865,
          0.22571428571428578,
          0.22285714285714292,
          0.22000000000000008,
          0.21714285714285725,
          0.21428571428571436,
          0.2114285714285715,
          0.20857142857142866,
          0.2057142857142858,
          0.20285714285714293,
          0.20000000000000007,
          0.1971428571428572,
          0.19428571428571437,
          0.1914285714285715,
          0.18857142857142864,
          0.18571428571428578,
          0.1828571428571429,
          0.18000000000000005,
          0.18000000000000005,
          0.17632653061224493,
          0.17265306122448984,
          0.16897959183673475,
          0.16530612244897963,
          0.16163265306122454,
          0.15795918367346942,
          0.15428571428571433,
          0.15061224489795924,
          0.14693877551020412,
          0.143265306122449,
          0.1395918367346939,
          0.1359183673469388,
          0.1322448979591837,
          0.12857142857142861,
          0.12489795918367352,
          0.12122448979591842,
          0.1175510204081633,
          0.1138775510204082,
          0.11020408163265309,
          0.10653061224489799,
          0.10285714285714288,
          0.09918367346938779,
          0.09551020408163269,
          0.09183673469387758,
          0.08816326530612247,
          0.08448979591836739,
          0.08081632653061227,
          0.07714285714285717,
          0.07346938775510206,
          0.06979591836734697,
          0.06612244897959187,
          0.06244897959183676,
          0.05877551020408165,
          0.055102040816326546,
          0.05142857142857146,
          0.04775510204081635,
          0.044081632653061247,
          0.040408163265306135,
          0.03673469387755105,
          0.03306122448979595,
          0.029387755102040836,
          0.02571428571428573,
          0.022040816326530623,
          0.018367346938775536,
          0.014693877551020428,
          0.011020408163265322,
          0.007346938775510214,
          0.003673469387755107,
          0
         ]
        },
        {
         "mode": "markers",
         "name": "$ui$",
         "type": "scatter",
         "x": [
          0,
          0.1,
          0.2,
          0.30000000000000004,
          0.4,
          0.5,
          0.6000000000000001,
          0.7000000000000001,
          0.8,
          0.9,
          1
         ],
         "y": [
          0,
          0.18000000000000008,
          0.3200000000000002,
          0.42000000000000026,
          0.48000000000000026,
          0.5000000000000002,
          0.4800000000000002,
          0.42000000000000015,
          0.3200000000000001,
          0.18000000000000005,
          0
         ]
        }
       ],
       "layout": {
        "template": {
         "data": {
          "bar": [
           {
            "error_x": {
             "color": "#2a3f5f"
            },
            "error_y": {
             "color": "#2a3f5f"
            },
            "marker": {
             "line": {
              "color": "#E5ECF6",
              "width": 0.5
             }
            },
            "type": "bar"
           }
          ],
          "barpolar": [
           {
            "marker": {
             "line": {
              "color": "#E5ECF6",
              "width": 0.5
             }
            },
            "type": "barpolar"
           }
          ],
          "carpet": [
           {
            "aaxis": {
             "endlinecolor": "#2a3f5f",
             "gridcolor": "white",
             "linecolor": "white",
             "minorgridcolor": "white",
             "startlinecolor": "#2a3f5f"
            },
            "baxis": {
             "endlinecolor": "#2a3f5f",
             "gridcolor": "white",
             "linecolor": "white",
             "minorgridcolor": "white",
             "startlinecolor": "#2a3f5f"
            },
            "type": "carpet"
           }
          ],
          "choropleth": [
           {
            "colorbar": {
             "outlinewidth": 0,
             "ticks": ""
            },
            "type": "choropleth"
           }
          ],
          "contour": [
           {
            "colorbar": {
             "outlinewidth": 0,
             "ticks": ""
            },
            "colorscale": [
             [
              0,
              "#0d0887"
             ],
             [
              0.1111111111111111,
              "#46039f"
             ],
             [
              0.2222222222222222,
              "#7201a8"
             ],
             [
              0.3333333333333333,
              "#9c179e"
             ],
             [
              0.4444444444444444,
              "#bd3786"
             ],
             [
              0.5555555555555556,
              "#d8576b"
             ],
             [
              0.6666666666666666,
              "#ed7953"
             ],
             [
              0.7777777777777778,
              "#fb9f3a"
             ],
             [
              0.8888888888888888,
              "#fdca26"
             ],
             [
              1,
              "#f0f921"
             ]
            ],
            "type": "contour"
           }
          ],
          "contourcarpet": [
           {
            "colorbar": {
             "outlinewidth": 0,
             "ticks": ""
            },
            "type": "contourcarpet"
           }
          ],
          "heatmap": [
           {
            "colorbar": {
             "outlinewidth": 0,
             "ticks": ""
            },
            "colorscale": [
             [
              0,
              "#0d0887"
             ],
             [
              0.1111111111111111,
              "#46039f"
             ],
             [
              0.2222222222222222,
              "#7201a8"
             ],
             [
              0.3333333333333333,
              "#9c179e"
             ],
             [
              0.4444444444444444,
              "#bd3786"
             ],
             [
              0.5555555555555556,
              "#d8576b"
             ],
             [
              0.6666666666666666,
              "#ed7953"
             ],
             [
              0.7777777777777778,
              "#fb9f3a"
             ],
             [
              0.8888888888888888,
              "#fdca26"
             ],
             [
              1,
              "#f0f921"
             ]
            ],
            "type": "heatmap"
           }
          ],
          "heatmapgl": [
           {
            "colorbar": {
             "outlinewidth": 0,
             "ticks": ""
            },
            "colorscale": [
             [
              0,
              "#0d0887"
             ],
             [
              0.1111111111111111,
              "#46039f"
             ],
             [
              0.2222222222222222,
              "#7201a8"
             ],
             [
              0.3333333333333333,
              "#9c179e"
             ],
             [
              0.4444444444444444,
              "#bd3786"
             ],
             [
              0.5555555555555556,
              "#d8576b"
             ],
             [
              0.6666666666666666,
              "#ed7953"
             ],
             [
              0.7777777777777778,
              "#fb9f3a"
             ],
             [
              0.8888888888888888,
              "#fdca26"
             ],
             [
              1,
              "#f0f921"
             ]
            ],
            "type": "heatmapgl"
           }
          ],
          "histogram": [
           {
            "marker": {
             "colorbar": {
              "outlinewidth": 0,
              "ticks": ""
             }
            },
            "type": "histogram"
           }
          ],
          "histogram2d": [
           {
            "colorbar": {
             "outlinewidth": 0,
             "ticks": ""
            },
            "colorscale": [
             [
              0,
              "#0d0887"
             ],
             [
              0.1111111111111111,
              "#46039f"
             ],
             [
              0.2222222222222222,
              "#7201a8"
             ],
             [
              0.3333333333333333,
              "#9c179e"
             ],
             [
              0.4444444444444444,
              "#bd3786"
             ],
             [
              0.5555555555555556,
              "#d8576b"
             ],
             [
              0.6666666666666666,
              "#ed7953"
             ],
             [
              0.7777777777777778,
              "#fb9f3a"
             ],
             [
              0.8888888888888888,
              "#fdca26"
             ],
             [
              1,
              "#f0f921"
             ]
            ],
            "type": "histogram2d"
           }
          ],
          "histogram2dcontour": [
           {
            "colorbar": {
             "outlinewidth": 0,
             "ticks": ""
            },
            "colorscale": [
             [
              0,
              "#0d0887"
             ],
             [
              0.1111111111111111,
              "#46039f"
             ],
             [
              0.2222222222222222,
              "#7201a8"
             ],
             [
              0.3333333333333333,
              "#9c179e"
             ],
             [
              0.4444444444444444,
              "#bd3786"
             ],
             [
              0.5555555555555556,
              "#d8576b"
             ],
             [
              0.6666666666666666,
              "#ed7953"
             ],
             [
              0.7777777777777778,
              "#fb9f3a"
             ],
             [
              0.8888888888888888,
              "#fdca26"
             ],
             [
              1,
              "#f0f921"
             ]
            ],
            "type": "histogram2dcontour"
           }
          ],
          "mesh3d": [
           {
            "colorbar": {
             "outlinewidth": 0,
             "ticks": ""
            },
            "type": "mesh3d"
           }
          ],
          "parcoords": [
           {
            "line": {
             "colorbar": {
              "outlinewidth": 0,
              "ticks": ""
             }
            },
            "type": "parcoords"
           }
          ],
          "scatter": [
           {
            "marker": {
             "colorbar": {
              "outlinewidth": 0,
              "ticks": ""
             }
            },
            "type": "scatter"
           }
          ],
          "scatter3d": [
           {
            "line": {
             "colorbar": {
              "outlinewidth": 0,
              "ticks": ""
             }
            },
            "marker": {
             "colorbar": {
              "outlinewidth": 0,
              "ticks": ""
             }
            },
            "type": "scatter3d"
           }
          ],
          "scattercarpet": [
           {
            "marker": {
             "colorbar": {
              "outlinewidth": 0,
              "ticks": ""
             }
            },
            "type": "scattercarpet"
           }
          ],
          "scattergeo": [
           {
            "marker": {
             "colorbar": {
              "outlinewidth": 0,
              "ticks": ""
             }
            },
            "type": "scattergeo"
           }
          ],
          "scattergl": [
           {
            "marker": {
             "colorbar": {
              "outlinewidth": 0,
              "ticks": ""
             }
            },
            "type": "scattergl"
           }
          ],
          "scattermapbox": [
           {
            "marker": {
             "colorbar": {
              "outlinewidth": 0,
              "ticks": ""
             }
            },
            "type": "scattermapbox"
           }
          ],
          "scatterpolar": [
           {
            "marker": {
             "colorbar": {
              "outlinewidth": 0,
              "ticks": ""
             }
            },
            "type": "scatterpolar"
           }
          ],
          "scatterpolargl": [
           {
            "marker": {
             "colorbar": {
              "outlinewidth": 0,
              "ticks": ""
             }
            },
            "type": "scatterpolargl"
           }
          ],
          "scatterternary": [
           {
            "marker": {
             "colorbar": {
              "outlinewidth": 0,
              "ticks": ""
             }
            },
            "type": "scatterternary"
           }
          ],
          "surface": [
           {
            "colorbar": {
             "outlinewidth": 0,
             "ticks": ""
            },
            "colorscale": [
             [
              0,
              "#0d0887"
             ],
             [
              0.1111111111111111,
              "#46039f"
             ],
             [
              0.2222222222222222,
              "#7201a8"
             ],
             [
              0.3333333333333333,
              "#9c179e"
             ],
             [
              0.4444444444444444,
              "#bd3786"
             ],
             [
              0.5555555555555556,
              "#d8576b"
             ],
             [
              0.6666666666666666,
              "#ed7953"
             ],
             [
              0.7777777777777778,
              "#fb9f3a"
             ],
             [
              0.8888888888888888,
              "#fdca26"
             ],
             [
              1,
              "#f0f921"
             ]
            ],
            "type": "surface"
           }
          ],
          "table": [
           {
            "cells": {
             "fill": {
              "color": "#EBF0F8"
             },
             "line": {
              "color": "white"
             }
            },
            "header": {
             "fill": {
              "color": "#C8D4E3"
             },
             "line": {
              "color": "white"
             }
            },
            "type": "table"
           }
          ]
         },
         "layout": {
          "annotationdefaults": {
           "arrowcolor": "#2a3f5f",
           "arrowhead": 0,
           "arrowwidth": 1
          },
          "colorscale": {
           "diverging": [
            [
             0,
             "#8e0152"
            ],
            [
             0.1,
             "#c51b7d"
            ],
            [
             0.2,
             "#de77ae"
            ],
            [
             0.3,
             "#f1b6da"
            ],
            [
             0.4,
             "#fde0ef"
            ],
            [
             0.5,
             "#f7f7f7"
            ],
            [
             0.6,
             "#e6f5d0"
            ],
            [
             0.7,
             "#b8e186"
            ],
            [
             0.8,
             "#7fbc41"
            ],
            [
             0.9,
             "#4d9221"
            ],
            [
             1,
             "#276419"
            ]
           ],
           "sequential": [
            [
             0,
             "#0d0887"
            ],
            [
             0.1111111111111111,
             "#46039f"
            ],
            [
             0.2222222222222222,
             "#7201a8"
            ],
            [
             0.3333333333333333,
             "#9c179e"
            ],
            [
             0.4444444444444444,
             "#bd3786"
            ],
            [
             0.5555555555555556,
             "#d8576b"
            ],
            [
             0.6666666666666666,
             "#ed7953"
            ],
            [
             0.7777777777777778,
             "#fb9f3a"
            ],
            [
             0.8888888888888888,
             "#fdca26"
            ],
            [
             1,
             "#f0f921"
            ]
           ],
           "sequentialminus": [
            [
             0,
             "#0d0887"
            ],
            [
             0.1111111111111111,
             "#46039f"
            ],
            [
             0.2222222222222222,
             "#7201a8"
            ],
            [
             0.3333333333333333,
             "#9c179e"
            ],
            [
             0.4444444444444444,
             "#bd3786"
            ],
            [
             0.5555555555555556,
             "#d8576b"
            ],
            [
             0.6666666666666666,
             "#ed7953"
            ],
            [
             0.7777777777777778,
             "#fb9f3a"
            ],
            [
             0.8888888888888888,
             "#fdca26"
            ],
            [
             1,
             "#f0f921"
            ]
           ]
          },
          "colorway": [
           "#636efa",
           "#EF553B",
           "#00cc96",
           "#ab63fa",
           "#FFA15A",
           "#19d3f3",
           "#FF6692",
           "#B6E880",
           "#FF97FF",
           "#FECB52"
          ],
          "font": {
           "color": "#2a3f5f"
          },
          "geo": {
           "bgcolor": "white",
           "lakecolor": "white",
           "landcolor": "#E5ECF6",
           "showlakes": true,
           "showland": true,
           "subunitcolor": "white"
          },
          "hoverlabel": {
           "align": "left"
          },
          "hovermode": "closest",
          "mapbox": {
           "style": "light"
          },
          "paper_bgcolor": "white",
          "plot_bgcolor": "#E5ECF6",
          "polar": {
           "angularaxis": {
            "gridcolor": "white",
            "linecolor": "white",
            "ticks": ""
           },
           "bgcolor": "#E5ECF6",
           "radialaxis": {
            "gridcolor": "white",
            "linecolor": "white",
            "ticks": ""
           }
          },
          "scene": {
           "xaxis": {
            "backgroundcolor": "#E5ECF6",
            "gridcolor": "white",
            "gridwidth": 2,
            "linecolor": "white",
            "showbackground": true,
            "ticks": "",
            "zerolinecolor": "white"
           },
           "yaxis": {
            "backgroundcolor": "#E5ECF6",
            "gridcolor": "white",
            "gridwidth": 2,
            "linecolor": "white",
            "showbackground": true,
            "ticks": "",
            "zerolinecolor": "white"
           },
           "zaxis": {
            "backgroundcolor": "#E5ECF6",
            "gridcolor": "white",
            "gridwidth": 2,
            "linecolor": "white",
            "showbackground": true,
            "ticks": "",
            "zerolinecolor": "white"
           }
          },
          "shapedefaults": {
           "line": {
            "color": "#2a3f5f"
           }
          },
          "ternary": {
           "aaxis": {
            "gridcolor": "white",
            "linecolor": "white",
            "ticks": ""
           },
           "baxis": {
            "gridcolor": "white",
            "linecolor": "white",
            "ticks": ""
           },
           "bgcolor": "#E5ECF6",
           "caxis": {
            "gridcolor": "white",
            "linecolor": "white",
            "ticks": ""
           }
          },
          "title": {
           "x": 0.05
          },
          "xaxis": {
           "automargin": true,
           "gridcolor": "white",
           "linecolor": "white",
           "ticks": "",
           "zerolinecolor": "white",
           "zerolinewidth": 2
          },
          "yaxis": {
           "automargin": true,
           "gridcolor": "white",
           "linecolor": "white",
           "ticks": "",
           "zerolinecolor": "white",
           "zerolinewidth": 2
          }
         }
        }
       }
      },
      "text/html": [
       "<div>\n",
       "        \n",
       "        \n",
       "            <div id=\"f868dbf2-1eaa-48f5-874d-158187ae09cd\" class=\"plotly-graph-div\" style=\"height:525px; width:100%;\"></div>\n",
       "            <script type=\"text/javascript\">\n",
       "                require([\"plotly\"], function(Plotly) {\n",
       "                    window.PLOTLYENV=window.PLOTLYENV || {};\n",
       "                    \n",
       "                if (document.getElementById(\"f868dbf2-1eaa-48f5-874d-158187ae09cd\")) {\n",
       "                    Plotly.newPlot(\n",
       "                        'f868dbf2-1eaa-48f5-874d-158187ae09cd',\n",
       "                        [{\"mode\": \"lines\", \"name\": \"solution\", \"type\": \"scatter\", \"x\": [0.0, 0.002040816326530612, 0.004081632653061224, 0.006122448979591837, 0.008163265306122448, 0.01020408163265306, 0.012244897959183675, 0.014285714285714285, 0.016326530612244896, 0.01836734693877551, 0.02040816326530612, 0.022448979591836733, 0.02448979591836735, 0.026530612244897958, 0.02857142857142857, 0.03061224489795918, 0.03265306122448979, 0.03469387755102041, 0.03673469387755102, 0.03877551020408163, 0.04081632653061224, 0.04285714285714286, 0.044897959183673466, 0.04693877551020408, 0.0489795918367347, 0.05102040816326531, 0.053061224489795916, 0.055102040816326525, 0.05714285714285714, 0.05918367346938776, 0.06122448979591836, 0.06326530612244897, 0.06530612244897958, 0.0673469387755102, 0.06938775510204082, 0.07142857142857142, 0.07346938775510203, 0.07551020408163266, 0.07755102040816327, 0.07959183673469387, 0.08163265306122448, 0.0836734693877551, 0.08571428571428572, 0.08775510204081632, 0.08979591836734693, 0.09183673469387754, 0.09387755102040816, 0.09591836734693877, 0.0979591836734694, 0.1, 0.1, 0.10204081632653061, 0.10408163265306122, 0.10612244897959185, 0.10816326530612246, 0.11020408163265306, 0.11224489795918369, 0.1142857142857143, 0.1163265306122449, 0.11836734693877551, 0.12040816326530612, 0.12244897959183673, 0.12448979591836735, 0.12653061224489798, 0.1285714285714286, 0.1306122448979592, 0.1326530612244898, 0.1346938775510204, 0.13673469387755102, 0.13877551020408163, 0.14081632653061224, 0.14285714285714285, 0.14489795918367349, 0.1469387755102041, 0.1489795918367347, 0.1510204081632653, 0.15306122448979592, 0.15510204081632653, 0.15714285714285714, 0.15918367346938778, 0.16122448979591836, 0.163265306122449, 0.16530612244897958, 0.1673469387755102, 0.16938775510204082, 0.17142857142857143, 0.17346938775510204, 0.17551020408163265, 0.17755102040816328, 0.17959183673469387, 0.1816326530612245, 0.1836734693877551, 0.18571428571428572, 0.18775510204081633, 0.18979591836734694, 0.19183673469387755, 0.19387755102040816, 0.1959183673469388, 0.1979591836734694, 0.2, 0.2, 0.20204081632653062, 0.20408163265306123, 0.20612244897959184, 0.20816326530612247, 0.21020408163265308, 0.2122448979591837, 0.2142857142857143, 0.2163265306122449, 0.21836734693877552, 0.22040816326530613, 0.22244897959183674, 0.22448979591836737, 0.22653061224489798, 0.2285714285714286, 0.2306122448979592, 0.2326530612244898, 0.23469387755102045, 0.23673469387755103, 0.23877551020408166, 0.24081632653061227, 0.24285714285714288, 0.2448979591836735, 0.2469387755102041, 0.24897959183673474, 0.2510204081632653, 0.25306122448979596, 0.25510204081632654, 0.2571428571428572, 0.25918367346938775, 0.2612244897959184, 0.263265306122449, 0.2653061224489796, 0.26734693877551025, 0.2693877551020408, 0.27142857142857146, 0.2734693877551021, 0.2755102040816327, 0.2775510204081633, 0.2795918367346939, 0.28163265306122454, 0.2836734693877551, 0.28571428571428575, 0.28775510204081634, 0.28979591836734697, 0.2918367346938776, 0.2938775510204082, 0.2959183673469388, 0.2979591836734694, 0.30000000000000004, 0.30000000000000004, 0.3020408163265307, 0.30408163265306126, 0.3061224489795919, 0.3081632653061225, 0.3102040816326531, 0.3122448979591837, 0.31428571428571433, 0.3163265306122449, 0.31836734693877555, 0.32040816326530613, 0.32244897959183677, 0.3244897959183674, 0.326530612244898, 0.3285714285714286, 0.3306122448979592, 0.33265306122448984, 0.3346938775510204, 0.33673469387755106, 0.3387755102040817, 0.3408163265306123, 0.34285714285714286, 0.3448979591836735, 0.34693877551020413, 0.3489795918367347, 0.35102040816326535, 0.35306122448979593, 0.35510204081632657, 0.35714285714285715, 0.3591836734693878, 0.36122448979591837, 0.363265306122449, 0.36530612244897964, 0.3673469387755102, 0.36938775510204086, 0.37142857142857144, 0.3734693877551021, 0.37551020408163266, 0.3775510204081633, 0.3795918367346939, 0.3816326530612245, 0.38367346938775515, 0.38571428571428573, 0.38775510204081637, 0.38979591836734695, 0.3918367346938776, 0.39387755102040817, 0.3959183673469388, 0.3979591836734694, 0.4, 0.4, 0.40204081632653066, 0.40408163265306124, 0.4061224489795919, 0.40816326530612246, 0.4102040816326531, 0.4122448979591837, 0.4142857142857143, 0.4163265306122449, 0.41836734693877553, 0.4204081632653061, 0.42244897959183675, 0.4244897959183674, 0.42653061224489797, 0.4285714285714286, 0.4306122448979592, 0.4326530612244898, 0.4346938775510204, 0.43673469387755104, 0.4387755102040817, 0.44081632653061226, 0.44285714285714284, 0.4448979591836735, 0.4469387755102041, 0.4489795918367347, 0.45102040816326533, 0.4530612244897959, 0.45510204081632655, 0.45714285714285713, 0.45918367346938777, 0.46122448979591835, 0.463265306122449, 0.4653061224489796, 0.4673469387755102, 0.46938775510204084, 0.4714285714285714, 0.47346938775510206, 0.47551020408163264, 0.4775510204081633, 0.47959183673469385, 0.4816326530612245, 0.48367346938775513, 0.4857142857142857, 0.48775510204081635, 0.4897959183673469, 0.49183673469387756, 0.49387755102040815, 0.4959183673469388, 0.49795918367346936, 0.5, 0.5, 0.5020408163265306, 0.5040816326530613, 0.5061224489795918, 0.5081632653061224, 0.5102040816326531, 0.5122448979591837, 0.5142857142857143, 0.5163265306122449, 0.5183673469387755, 0.5204081632653061, 0.5224489795918368, 0.5244897959183674, 0.5265306122448979, 0.5285714285714286, 0.5306122448979592, 0.5326530612244899, 0.5346938775510204, 0.536734693877551, 0.5387755102040817, 0.5408163265306123, 0.5428571428571429, 0.5448979591836735, 0.5469387755102041, 0.5489795918367347, 0.5510204081632654, 0.553061224489796, 0.5551020408163265, 0.5571428571428572, 0.5591836734693878, 0.5612244897959184, 0.5632653061224491, 0.5653061224489796, 0.5673469387755102, 0.5693877551020409, 0.5714285714285715, 0.5734693877551021, 0.5755102040816327, 0.5775510204081633, 0.5795918367346939, 0.5816326530612246, 0.5836734693877552, 0.5857142857142857, 0.5877551020408164, 0.589795918367347, 0.5918367346938777, 0.5938775510204082, 0.5959183673469388, 0.5979591836734695, 0.6000000000000001, 0.6000000000000001, 0.6020408163265307, 0.6040816326530614, 0.6061224489795919, 0.6081632653061225, 0.6102040816326532, 0.6122448979591838, 0.6142857142857143, 0.616326530612245, 0.6183673469387756, 0.6204081632653062, 0.6224489795918369, 0.6244897959183674, 0.626530612244898, 0.6285714285714287, 0.6306122448979593, 0.6326530612244898, 0.6346938775510205, 0.6367346938775511, 0.6387755102040817, 0.6408163265306123, 0.6428571428571429, 0.6448979591836735, 0.6469387755102042, 0.6489795918367348, 0.6510204081632653, 0.653061224489796, 0.6551020408163266, 0.6571428571428573, 0.6591836734693879, 0.6612244897959184, 0.663265306122449, 0.6653061224489797, 0.6673469387755103, 0.6693877551020408, 0.6714285714285715, 0.6734693877551021, 0.6755102040816328, 0.6775510204081634, 0.6795918367346939, 0.6816326530612246, 0.6836734693877552, 0.6857142857142857, 0.6877551020408164, 0.689795918367347, 0.6918367346938776, 0.6938775510204083, 0.6959183673469388, 0.6979591836734694, 0.7000000000000001, 0.7000000000000001, 0.7020408163265307, 0.7040816326530613, 0.7061224489795919, 0.7081632653061225, 0.7102040816326531, 0.7122448979591838, 0.7142857142857143, 0.7163265306122449, 0.7183673469387756, 0.7204081632653062, 0.7224489795918367, 0.7244897959183674, 0.726530612244898, 0.7285714285714286, 0.7306122448979593, 0.7326530612244898, 0.7346938775510204, 0.7367346938775511, 0.7387755102040817, 0.7408163265306122, 0.7428571428571429, 0.7448979591836735, 0.7469387755102042, 0.7489795918367348, 0.7510204081632653, 0.753061224489796, 0.7551020408163266, 0.7571428571428572, 0.7591836734693878, 0.7612244897959184, 0.763265306122449, 0.7653061224489797, 0.7673469387755103, 0.7693877551020408, 0.7714285714285715, 0.7734693877551021, 0.7755102040816327, 0.7775510204081633, 0.7795918367346939, 0.7816326530612245, 0.7836734693877552, 0.7857142857142858, 0.7877551020408163, 0.789795918367347, 0.7918367346938776, 0.7938775510204082, 0.7959183673469388, 0.7979591836734694, 0.8, 0.8, 0.8020408163265307, 0.8040816326530613, 0.8061224489795918, 0.8081632653061225, 0.8102040816326531, 0.8122448979591838, 0.8142857142857143, 0.8163265306122449, 0.8183673469387756, 0.8204081632653062, 0.8224489795918368, 0.8244897959183674, 0.826530612244898, 0.8285714285714286, 0.8306122448979593, 0.8326530612244898, 0.8346938775510204, 0.8367346938775511, 0.8387755102040817, 0.8408163265306122, 0.8428571428571429, 0.8448979591836735, 0.8469387755102041, 0.8489795918367348, 0.8510204081632653, 0.8530612244897959, 0.8551020408163266, 0.8571428571428572, 0.8591836734693878, 0.8612244897959184, 0.863265306122449, 0.8653061224489796, 0.8673469387755103, 0.8693877551020408, 0.8714285714285714, 0.8734693877551021, 0.8755102040816327, 0.8775510204081634, 0.8795918367346939, 0.8816326530612245, 0.8836734693877552, 0.8857142857142857, 0.8877551020408163, 0.889795918367347, 0.8918367346938776, 0.8938775510204082, 0.8959183673469387, 0.8979591836734694, 0.9, 0.9, 0.9020408163265307, 0.9040816326530613, 0.9061224489795918, 0.9081632653061225, 0.9102040816326531, 0.9122448979591837, 0.9142857142857143, 0.9163265306122449, 0.9183673469387755, 0.9204081632653062, 0.9224489795918367, 0.9244897959183673, 0.926530612244898, 0.9285714285714286, 0.9306122448979592, 0.9326530612244898, 0.9346938775510204, 0.936734693877551, 0.9387755102040817, 0.9408163265306122, 0.9428571428571428, 0.9448979591836735, 0.9469387755102041, 0.9489795918367347, 0.9510204081632653, 0.9530612244897959, 0.9551020408163265, 0.9571428571428572, 0.9591836734693877, 0.9612244897959183, 0.963265306122449, 0.9653061224489796, 0.9673469387755103, 0.9693877551020408, 0.9714285714285714, 0.9734693877551021, 0.9755102040816327, 0.9775510204081632, 0.9795918367346939, 0.9816326530612245, 0.9836734693877551, 0.9857142857142858, 0.9877551020408163, 0.9897959183673469, 0.9918367346938776, 0.9938775510204082, 0.9959183673469387, 0.9979591836734694, 1.0], \"y\": [0.0, 0.003673469387755103, 0.007346938775510206, 0.01102040816326531, 0.014693877551020413, 0.018367346938775515, 0.02204081632653062, 0.025714285714285724, 0.029387755102040825, 0.033061224489795926, 0.03673469387755103, 0.040408163265306135, 0.04408163265306124, 0.04775510204081634, 0.05142857142857145, 0.055102040816326546, 0.05877551020408165, 0.06244897959183676, 0.06612244897959185, 0.06979591836734697, 0.07346938775510206, 0.07714285714285717, 0.08081632653061227, 0.08448979591836737, 0.08816326530612248, 0.0918367346938776, 0.09551020408163267, 0.09918367346938779, 0.1028571428571429, 0.106530612244898, 0.11020408163265309, 0.1138775510204082, 0.1175510204081633, 0.12122448979591842, 0.12489795918367352, 0.12857142857142861, 0.1322448979591837, 0.13591836734693882, 0.13959183673469394, 0.14326530612244903, 0.14693877551020412, 0.15061224489795924, 0.15428571428571433, 0.15795918367346945, 0.16163265306122454, 0.16530612244897966, 0.16897959183673475, 0.17265306122448987, 0.17632653061224496, 0.18000000000000008, 0.18000000000000008, 0.1828571428571429, 0.1857142857142858, 0.18857142857142867, 0.1914285714285715, 0.1942857142857144, 0.19714285714285723, 0.2000000000000001, 0.20285714285714296, 0.2057142857142858, 0.20857142857142866, 0.21142857142857152, 0.21428571428571436, 0.21714285714285725, 0.2200000000000001, 0.22285714285714298, 0.2257142857142858, 0.2285714285714287, 0.23142857142857154, 0.23428571428571437, 0.23714285714285727, 0.2400000000000001, 0.24285714285714297, 0.24571428571428583, 0.2485714285714287, 0.25142857142857156, 0.2542857142857144, 0.2571428571428573, 0.2600000000000001, 0.262857142857143, 0.26571428571428585, 0.2685714285714287, 0.2714285714285716, 0.2742857142857144, 0.27714285714285725, 0.28000000000000014, 0.282857142857143, 0.28571428571428586, 0.2885714285714287, 0.2914285714285716, 0.29428571428571443, 0.29714285714285726, 0.30000000000000016, 0.30285714285714305, 0.3057142857142859, 0.3085714285714287, 0.3114285714285716, 0.31428571428571445, 0.3171428571428573, 0.3200000000000002, 0.3200000000000002, 0.32204081632653075, 0.32408163265306134, 0.32612244897959203, 0.32816326530612266, 0.33020408163265325, 0.3322448979591839, 0.3342857142857145, 0.3363265306122451, 0.3383673469387757, 0.34040816326530626, 0.3424489795918369, 0.34448979591836754, 0.3465306122448981, 0.34857142857142875, 0.3506122448979594, 0.35265306122449, 0.3546938775510206, 0.3567346938775512, 0.3587755102040818, 0.36081632653061246, 0.36285714285714304, 0.3648979591836737, 0.36693877551020426, 0.3689795918367349, 0.37102040816326554, 0.3730612244897962, 0.3751020408163267, 0.37714285714285734, 0.37918367346938797, 0.3812244897959186, 0.3832653061224492, 0.38530612244897977, 0.3873469387755104, 0.38938775510204104, 0.3914285714285717, 0.39346938775510226, 0.3955102040816329, 0.3975510204081635, 0.3995918367346941, 0.4016326530612247, 0.4036734693877554, 0.40571428571428597, 0.40775510204081655, 0.4097959183673472, 0.41183673469387777, 0.4138775510204084, 0.41591836734693904, 0.4179591836734697, 0.42000000000000026, 0.42000000000000026, 0.42122448979591864, 0.42244897959183697, 0.4236734693877554, 0.42489795918367373, 0.4261224489795921, 0.42734693877551044, 0.4285714285714289, 0.4297959183673472, 0.4310204081632656, 0.43224489795918397, 0.43346938775510224, 0.4346938775510207, 0.435918367346939, 0.4371428571428574, 0.43836734693877577, 0.43959183673469415, 0.44081632653061253, 0.4420408163265309, 0.4432653061224492, 0.44448979591836757, 0.44571428571428595, 0.44693877551020433, 0.4481632653061227, 0.4493877551020411, 0.4506122448979595, 0.4518367346938778, 0.4530612244897962, 0.4542857142857145, 0.4555102040816329, 0.4567346938775513, 0.45795918367346966, 0.45918367346938804, 0.46040816326530637, 0.4616326530612247, 0.4628571428571431, 0.4640816326530615, 0.46530612244897984, 0.4665306122448982, 0.46775510204081655, 0.46897959183673493, 0.47020408163265337, 0.4714285714285717, 0.4726530612244901, 0.4738775510204084, 0.4751020408163268, 0.4763265306122451, 0.47755102040816355, 0.4787755102040819, 0.48000000000000026, 0.48000000000000026, 0.4804081632653064, 0.4808163265306125, 0.48122448979591864, 0.4816326530612247, 0.48204081632653084, 0.48244897959183697, 0.48285714285714315, 0.4832653061224493, 0.48367346938775535, 0.4840816326530615, 0.4844897959183676, 0.48489795918367373, 0.48530612244897986, 0.48571428571428593, 0.4861224489795921, 0.48653061224489824, 0.48693877551020437, 0.4873469387755105, 0.4877551020408166, 0.48816326530612264, 0.48857142857142877, 0.48897959183673495, 0.4893877551020411, 0.48979591836734715, 0.4902040816326533, 0.4906122448979594, 0.49102040816326553, 0.49142857142857166, 0.4918367346938778, 0.4922448979591839, 0.49265306122449004, 0.49306122448979617, 0.4934693877551023, 0.4938775510204084, 0.49428571428571455, 0.4946938775510207, 0.49510204081632675, 0.4955102040816329, 0.495918367346939, 0.4963265306122451, 0.4967346938775512, 0.49714285714285733, 0.4975510204081635, 0.49795918367346964, 0.49836734693877577, 0.49877551020408184, 0.49918367346938797, 0.4995918367346941, 0.5000000000000002, 0.5000000000000002, 0.4995918367346941, 0.49918367346938797, 0.4987755102040819, 0.49836734693877577, 0.49795918367346964, 0.4975510204081635, 0.4971428571428574, 0.4967346938775512, 0.4963265306122451, 0.49591836734693895, 0.4955102040816328, 0.4951020408163267, 0.4946938775510206, 0.49428571428571455, 0.4938775510204084, 0.4934693877551023, 0.49306122448979617, 0.49265306122449004, 0.49224489795918386, 0.49183673469387773, 0.4914285714285716, 0.49102040816326553, 0.4906122448979594, 0.4902040816326533, 0.48979591836734715, 0.489387755102041, 0.4889795918367349, 0.48857142857142877, 0.48816326530612264, 0.4877551020408165, 0.4873469387755104, 0.48693877551020426, 0.48653061224489813, 0.48612244897959206, 0.48571428571428593, 0.4853061224489798, 0.4848979591836737, 0.48448979591836755, 0.4840816326530614, 0.48367346938775535, 0.4832653061224492, 0.4828571428571431, 0.48244897959183697, 0.4820408163265308, 0.48163265306122466, 0.4812244897959186, 0.48081632653061246, 0.48040816326530633, 0.4800000000000002, 0.4800000000000002, 0.4787755102040818, 0.47755102040816344, 0.4763265306122451, 0.47510204081632673, 0.47387755102040835, 0.47265306122448997, 0.47142857142857164, 0.47020408163265326, 0.46897959183673493, 0.4677551020408165, 0.4665306122448981, 0.46530612244897973, 0.4640816326530614, 0.4628571428571431, 0.4616326530612247, 0.4604081632653063, 0.45918367346938793, 0.45795918367346955, 0.4567346938775512, 0.4555102040816328, 0.45428571428571446, 0.4530612244897961, 0.45183673469387775, 0.45061224489795937, 0.449387755102041, 0.4481632653061226, 0.4469387755102042, 0.4457142857142859, 0.44448979591836757, 0.44326530612244913, 0.4420408163265308, 0.4408163265306124, 0.43959183673469404, 0.43836734693877566, 0.4371428571428573, 0.43591836734693895, 0.43469387755102057, 0.43346938775510224, 0.43224489795918386, 0.4310204081632655, 0.4297959183673471, 0.4285714285714287, 0.4273469387755104, 0.426122448979592, 0.4248979591836736, 0.42367346938775524, 0.42244897959183686, 0.42122448979591853, 0.42000000000000015, 0.42000000000000015, 0.41795918367346957, 0.4159183673469389, 0.41387755102040835, 0.4118367346938777, 0.4097959183673471, 0.4077551020408165, 0.40571428571428586, 0.4036734693877553, 0.40163265306122464, 0.399591836734694, 0.3975510204081634, 0.39551020408163273, 0.3934693877551022, 0.39142857142857157, 0.389387755102041, 0.38734693877551035, 0.38530612244897977, 0.38326530612244913, 0.3812244897959185, 0.37918367346938786, 0.3771428571428572, 0.3751020408163267, 0.37306122448979606, 0.3710204081632654, 0.36897959183673484, 0.36693877551020426, 0.3648979591836736, 0.362857142857143, 0.36081632653061235, 0.35877551020408177, 0.35673469387755113, 0.35469387755102055, 0.3526530612244899, 0.3506122448979593, 0.3485714285714287, 0.3465306122448981, 0.3444897959183675, 0.34244897959183684, 0.34040816326530626, 0.3383673469387757, 0.33632653061224504, 0.3342857142857144, 0.33224489795918377, 0.3302040816326532, 0.3281632653061226, 0.326122448979592, 0.32408163265306134, 0.3220408163265307, 0.3200000000000001, 0.3200000000000001, 0.3171428571428572, 0.31428571428571433, 0.31142857142857155, 0.3085714285714287, 0.3057142857142858, 0.30285714285714294, 0.30000000000000016, 0.29714285714285726, 0.2942857142857144, 0.29142857142857154, 0.28857142857142865, 0.2857142857142858, 0.282857142857143, 0.2800000000000001, 0.27714285714285725, 0.2742857142857144, 0.2714285714285715, 0.2685714285714287, 0.2657142857142858, 0.26285714285714296, 0.26000000000000006, 0.25714285714285723, 0.25428571428571434, 0.2514285714285715, 0.24857142857142867, 0.2457142857142858, 0.24285714285714294, 0.2400000000000001, 0.2371428571428572, 0.23428571428571437, 0.2314285714285715, 0.22857142857142865, 0.22571428571428578, 0.22285714285714292, 0.22000000000000008, 0.21714285714285725, 0.21428571428571436, 0.2114285714285715, 0.20857142857142866, 0.2057142857142858, 0.20285714285714293, 0.20000000000000007, 0.1971428571428572, 0.19428571428571437, 0.1914285714285715, 0.18857142857142864, 0.18571428571428578, 0.1828571428571429, 0.18000000000000005, 0.18000000000000005, 0.17632653061224493, 0.17265306122448984, 0.16897959183673475, 0.16530612244897963, 0.16163265306122454, 0.15795918367346942, 0.15428571428571433, 0.15061224489795924, 0.14693877551020412, 0.143265306122449, 0.1395918367346939, 0.1359183673469388, 0.1322448979591837, 0.12857142857142861, 0.12489795918367352, 0.12122448979591842, 0.1175510204081633, 0.1138775510204082, 0.11020408163265309, 0.10653061224489799, 0.10285714285714288, 0.09918367346938779, 0.09551020408163269, 0.09183673469387758, 0.08816326530612247, 0.08448979591836739, 0.08081632653061227, 0.07714285714285717, 0.07346938775510206, 0.06979591836734697, 0.06612244897959187, 0.06244897959183676, 0.05877551020408165, 0.055102040816326546, 0.05142857142857146, 0.04775510204081635, 0.044081632653061247, 0.040408163265306135, 0.03673469387755105, 0.03306122448979595, 0.029387755102040836, 0.02571428571428573, 0.022040816326530623, 0.018367346938775536, 0.014693877551020428, 0.011020408163265322, 0.007346938775510214, 0.003673469387755107, 0.0]}, {\"mode\": \"markers\", \"name\": \"$ui$\", \"type\": \"scatter\", \"x\": [0.0, 0.1, 0.2, 0.30000000000000004, 0.4, 0.5, 0.6000000000000001, 0.7000000000000001, 0.8, 0.9, 1.0], \"y\": [0.0, 0.18000000000000008, 0.3200000000000002, 0.42000000000000026, 0.48000000000000026, 0.5000000000000002, 0.4800000000000002, 0.42000000000000015, 0.3200000000000001, 0.18000000000000005, 0.0]}],\n",
       "                        {\"template\": {\"data\": {\"bar\": [{\"error_x\": {\"color\": \"#2a3f5f\"}, \"error_y\": {\"color\": \"#2a3f5f\"}, \"marker\": {\"line\": {\"color\": \"#E5ECF6\", \"width\": 0.5}}, \"type\": \"bar\"}], \"barpolar\": [{\"marker\": {\"line\": {\"color\": \"#E5ECF6\", \"width\": 0.5}}, \"type\": \"barpolar\"}], \"carpet\": [{\"aaxis\": {\"endlinecolor\": \"#2a3f5f\", \"gridcolor\": \"white\", \"linecolor\": \"white\", \"minorgridcolor\": \"white\", \"startlinecolor\": \"#2a3f5f\"}, \"baxis\": {\"endlinecolor\": \"#2a3f5f\", \"gridcolor\": \"white\", \"linecolor\": \"white\", \"minorgridcolor\": \"white\", \"startlinecolor\": \"#2a3f5f\"}, \"type\": \"carpet\"}], \"choropleth\": [{\"colorbar\": {\"outlinewidth\": 0, \"ticks\": \"\"}, \"type\": \"choropleth\"}], \"contour\": [{\"colorbar\": {\"outlinewidth\": 0, \"ticks\": \"\"}, \"colorscale\": [[0.0, \"#0d0887\"], [0.1111111111111111, \"#46039f\"], [0.2222222222222222, \"#7201a8\"], [0.3333333333333333, \"#9c179e\"], [0.4444444444444444, \"#bd3786\"], [0.5555555555555556, \"#d8576b\"], [0.6666666666666666, \"#ed7953\"], [0.7777777777777778, \"#fb9f3a\"], [0.8888888888888888, \"#fdca26\"], [1.0, \"#f0f921\"]], \"type\": \"contour\"}], \"contourcarpet\": [{\"colorbar\": {\"outlinewidth\": 0, \"ticks\": \"\"}, \"type\": \"contourcarpet\"}], \"heatmap\": [{\"colorbar\": {\"outlinewidth\": 0, \"ticks\": \"\"}, \"colorscale\": [[0.0, \"#0d0887\"], [0.1111111111111111, \"#46039f\"], [0.2222222222222222, \"#7201a8\"], [0.3333333333333333, \"#9c179e\"], [0.4444444444444444, \"#bd3786\"], [0.5555555555555556, \"#d8576b\"], [0.6666666666666666, \"#ed7953\"], [0.7777777777777778, \"#fb9f3a\"], [0.8888888888888888, \"#fdca26\"], [1.0, \"#f0f921\"]], \"type\": \"heatmap\"}], \"heatmapgl\": [{\"colorbar\": {\"outlinewidth\": 0, \"ticks\": \"\"}, \"colorscale\": [[0.0, \"#0d0887\"], [0.1111111111111111, \"#46039f\"], [0.2222222222222222, \"#7201a8\"], [0.3333333333333333, \"#9c179e\"], [0.4444444444444444, \"#bd3786\"], [0.5555555555555556, \"#d8576b\"], [0.6666666666666666, \"#ed7953\"], [0.7777777777777778, \"#fb9f3a\"], [0.8888888888888888, \"#fdca26\"], [1.0, \"#f0f921\"]], \"type\": \"heatmapgl\"}], \"histogram\": [{\"marker\": {\"colorbar\": {\"outlinewidth\": 0, \"ticks\": \"\"}}, \"type\": \"histogram\"}], \"histogram2d\": [{\"colorbar\": {\"outlinewidth\": 0, \"ticks\": \"\"}, \"colorscale\": [[0.0, \"#0d0887\"], [0.1111111111111111, \"#46039f\"], [0.2222222222222222, \"#7201a8\"], [0.3333333333333333, \"#9c179e\"], [0.4444444444444444, \"#bd3786\"], [0.5555555555555556, \"#d8576b\"], [0.6666666666666666, \"#ed7953\"], [0.7777777777777778, \"#fb9f3a\"], [0.8888888888888888, \"#fdca26\"], [1.0, \"#f0f921\"]], \"type\": \"histogram2d\"}], \"histogram2dcontour\": [{\"colorbar\": {\"outlinewidth\": 0, \"ticks\": \"\"}, \"colorscale\": [[0.0, \"#0d0887\"], [0.1111111111111111, \"#46039f\"], [0.2222222222222222, \"#7201a8\"], [0.3333333333333333, \"#9c179e\"], [0.4444444444444444, \"#bd3786\"], [0.5555555555555556, \"#d8576b\"], [0.6666666666666666, \"#ed7953\"], [0.7777777777777778, \"#fb9f3a\"], [0.8888888888888888, \"#fdca26\"], [1.0, \"#f0f921\"]], \"type\": \"histogram2dcontour\"}], \"mesh3d\": [{\"colorbar\": {\"outlinewidth\": 0, \"ticks\": \"\"}, \"type\": \"mesh3d\"}], \"parcoords\": [{\"line\": {\"colorbar\": {\"outlinewidth\": 0, \"ticks\": \"\"}}, \"type\": \"parcoords\"}], \"scatter\": [{\"marker\": {\"colorbar\": {\"outlinewidth\": 0, \"ticks\": \"\"}}, \"type\": \"scatter\"}], \"scatter3d\": [{\"line\": {\"colorbar\": {\"outlinewidth\": 0, \"ticks\": \"\"}}, \"marker\": {\"colorbar\": {\"outlinewidth\": 0, \"ticks\": \"\"}}, \"type\": \"scatter3d\"}], \"scattercarpet\": [{\"marker\": {\"colorbar\": {\"outlinewidth\": 0, \"ticks\": \"\"}}, \"type\": \"scattercarpet\"}], \"scattergeo\": [{\"marker\": {\"colorbar\": {\"outlinewidth\": 0, \"ticks\": \"\"}}, \"type\": \"scattergeo\"}], \"scattergl\": [{\"marker\": {\"colorbar\": {\"outlinewidth\": 0, \"ticks\": \"\"}}, \"type\": \"scattergl\"}], \"scattermapbox\": [{\"marker\": {\"colorbar\": {\"outlinewidth\": 0, \"ticks\": \"\"}}, \"type\": \"scattermapbox\"}], \"scatterpolar\": [{\"marker\": {\"colorbar\": {\"outlinewidth\": 0, \"ticks\": \"\"}}, \"type\": \"scatterpolar\"}], \"scatterpolargl\": [{\"marker\": {\"colorbar\": {\"outlinewidth\": 0, \"ticks\": \"\"}}, \"type\": \"scatterpolargl\"}], \"scatterternary\": [{\"marker\": {\"colorbar\": {\"outlinewidth\": 0, \"ticks\": \"\"}}, \"type\": \"scatterternary\"}], \"surface\": [{\"colorbar\": {\"outlinewidth\": 0, \"ticks\": \"\"}, \"colorscale\": [[0.0, \"#0d0887\"], [0.1111111111111111, \"#46039f\"], [0.2222222222222222, \"#7201a8\"], [0.3333333333333333, \"#9c179e\"], [0.4444444444444444, \"#bd3786\"], [0.5555555555555556, \"#d8576b\"], [0.6666666666666666, \"#ed7953\"], [0.7777777777777778, \"#fb9f3a\"], [0.8888888888888888, \"#fdca26\"], [1.0, \"#f0f921\"]], \"type\": \"surface\"}], \"table\": [{\"cells\": {\"fill\": {\"color\": \"#EBF0F8\"}, \"line\": {\"color\": \"white\"}}, \"header\": {\"fill\": {\"color\": \"#C8D4E3\"}, \"line\": {\"color\": \"white\"}}, \"type\": \"table\"}]}, \"layout\": {\"annotationdefaults\": {\"arrowcolor\": \"#2a3f5f\", \"arrowhead\": 0, \"arrowwidth\": 1}, \"colorscale\": {\"diverging\": [[0, \"#8e0152\"], [0.1, \"#c51b7d\"], [0.2, \"#de77ae\"], [0.3, \"#f1b6da\"], [0.4, \"#fde0ef\"], [0.5, \"#f7f7f7\"], [0.6, \"#e6f5d0\"], [0.7, \"#b8e186\"], [0.8, \"#7fbc41\"], [0.9, \"#4d9221\"], [1, \"#276419\"]], \"sequential\": [[0.0, \"#0d0887\"], [0.1111111111111111, \"#46039f\"], [0.2222222222222222, \"#7201a8\"], [0.3333333333333333, \"#9c179e\"], [0.4444444444444444, \"#bd3786\"], [0.5555555555555556, \"#d8576b\"], [0.6666666666666666, \"#ed7953\"], [0.7777777777777778, \"#fb9f3a\"], [0.8888888888888888, \"#fdca26\"], [1.0, \"#f0f921\"]], \"sequentialminus\": [[0.0, \"#0d0887\"], [0.1111111111111111, \"#46039f\"], [0.2222222222222222, \"#7201a8\"], [0.3333333333333333, \"#9c179e\"], [0.4444444444444444, \"#bd3786\"], [0.5555555555555556, \"#d8576b\"], [0.6666666666666666, \"#ed7953\"], [0.7777777777777778, \"#fb9f3a\"], [0.8888888888888888, \"#fdca26\"], [1.0, \"#f0f921\"]]}, \"colorway\": [\"#636efa\", \"#EF553B\", \"#00cc96\", \"#ab63fa\", \"#FFA15A\", \"#19d3f3\", \"#FF6692\", \"#B6E880\", \"#FF97FF\", \"#FECB52\"], \"font\": {\"color\": \"#2a3f5f\"}, \"geo\": {\"bgcolor\": \"white\", \"lakecolor\": \"white\", \"landcolor\": \"#E5ECF6\", \"showlakes\": true, \"showland\": true, \"subunitcolor\": \"white\"}, \"hoverlabel\": {\"align\": \"left\"}, \"hovermode\": \"closest\", \"mapbox\": {\"style\": \"light\"}, \"paper_bgcolor\": \"white\", \"plot_bgcolor\": \"#E5ECF6\", \"polar\": {\"angularaxis\": {\"gridcolor\": \"white\", \"linecolor\": \"white\", \"ticks\": \"\"}, \"bgcolor\": \"#E5ECF6\", \"radialaxis\": {\"gridcolor\": \"white\", \"linecolor\": \"white\", \"ticks\": \"\"}}, \"scene\": {\"xaxis\": {\"backgroundcolor\": \"#E5ECF6\", \"gridcolor\": \"white\", \"gridwidth\": 2, \"linecolor\": \"white\", \"showbackground\": true, \"ticks\": \"\", \"zerolinecolor\": \"white\"}, \"yaxis\": {\"backgroundcolor\": \"#E5ECF6\", \"gridcolor\": \"white\", \"gridwidth\": 2, \"linecolor\": \"white\", \"showbackground\": true, \"ticks\": \"\", \"zerolinecolor\": \"white\"}, \"zaxis\": {\"backgroundcolor\": \"#E5ECF6\", \"gridcolor\": \"white\", \"gridwidth\": 2, \"linecolor\": \"white\", \"showbackground\": true, \"ticks\": \"\", \"zerolinecolor\": \"white\"}}, \"shapedefaults\": {\"line\": {\"color\": \"#2a3f5f\"}}, \"ternary\": {\"aaxis\": {\"gridcolor\": \"white\", \"linecolor\": \"white\", \"ticks\": \"\"}, \"baxis\": {\"gridcolor\": \"white\", \"linecolor\": \"white\", \"ticks\": \"\"}, \"bgcolor\": \"#E5ECF6\", \"caxis\": {\"gridcolor\": \"white\", \"linecolor\": \"white\", \"ticks\": \"\"}}, \"title\": {\"x\": 0.05}, \"xaxis\": {\"automargin\": true, \"gridcolor\": \"white\", \"linecolor\": \"white\", \"ticks\": \"\", \"zerolinecolor\": \"white\", \"zerolinewidth\": 2}, \"yaxis\": {\"automargin\": true, \"gridcolor\": \"white\", \"linecolor\": \"white\", \"ticks\": \"\", \"zerolinecolor\": \"white\", \"zerolinewidth\": 2}}}},\n",
       "                        {\"responsive\": true}\n",
       "                    ).then(function(){\n",
       "                            \n",
       "var gd = document.getElementById('f868dbf2-1eaa-48f5-874d-158187ae09cd');\n",
       "var x = new MutationObserver(function (mutations, observer) {{\n",
       "        var display = window.getComputedStyle(gd).display;\n",
       "        if (!display || display === 'none') {{\n",
       "            console.log([gd, 'removed!']);\n",
       "            Plotly.purge(gd);\n",
       "            observer.disconnect();\n",
       "        }}\n",
       "}});\n",
       "\n",
       "// Listen for the removal of the full notebook cells\n",
       "var notebookContainer = gd.closest('#notebook-container');\n",
       "if (notebookContainer) {{\n",
       "    x.observe(notebookContainer, {childList: true});\n",
       "}}\n",
       "\n",
       "// Listen for the clearing of the current output cell\n",
       "var outputEl = gd.closest('.output');\n",
       "if (outputEl) {{\n",
       "    x.observe(outputEl, {childList: true});\n",
       "}}\n",
       "\n",
       "                        })\n",
       "                };\n",
       "                });\n",
       "            </script>\n",
       "        </div>"
      ]
     },
     "metadata": {},
     "output_type": "display_data"
    }
   ],
   "source": [
    "x, u = interpolate(ui)\n",
    "\n",
    "fig = go.Figure(data=[\n",
    "    go.Scatter(x=x, y=u, mode='lines', name=\"solution\"),\n",
    "    go.Scatter(x=s, y=ui, mode='markers', name=\"$ui$\"),\n",
    "])\n",
    "plotly.iplot(fig)"
   ]
  },
  {
   "cell_type": "code",
   "execution_count": null,
   "metadata": {
    "slideshow": {
     "slide_type": "skip"
    }
   },
   "outputs": [],
   "source": []
  }
 ],
 "metadata": {
  "celltoolbar": "Slideshow",
  "kernelspec": {
   "display_name": "Python 3",
   "language": "python",
   "name": "python3"
  },
  "language_info": {
   "codemirror_mode": {
    "name": "ipython",
    "version": 3
   },
   "file_extension": ".py",
   "mimetype": "text/x-python",
   "name": "python",
   "nbconvert_exporter": "python",
   "pygments_lexer": "ipython3",
   "version": "3.7.3"
  }
 },
 "nbformat": 4,
 "nbformat_minor": 2
}
